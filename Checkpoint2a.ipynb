{
  "nbformat": 4,
  "nbformat_minor": 0,
  "metadata": {
    "colab": {
      "provenance": []
    },
    "kernelspec": {
      "name": "python3",
      "display_name": "Python 3"
    },
    "language_info": {
      "name": "python"
    }
  },
  "cells": [
    {
      "cell_type": "markdown",
      "source": [
        "## Checkpoint II\n"
      ],
      "metadata": {
        "id": "R6UraDvFo264"
      }
    },
    {
      "cell_type": "markdown",
      "source": [
        "Group members: Gregory Ho, Jonathan Juarez, Sarah Walker, Yueyue Wang\n",
        "\n",
        "(Alphabetic order of first name)"
      ],
      "metadata": {
        "id": "EzPkVa7jrkp0"
      }
    },
    {
      "cell_type": "markdown",
      "source": [
        "Our submission of for Checkpoint 2 consist of two notebooks. This is the first notebook.\n",
        "\n",
        "This notebook contains a summary of the steps we took in the data cleaning and feature engineering segment of our project"
      ],
      "metadata": {
        "id": "_t_PequMrmWk"
      }
    },
    {
      "cell_type": "code",
      "execution_count": null,
      "metadata": {
        "id": "MOHCIS--6GmC"
      },
      "outputs": [],
      "source": [
        "import numpy as np\n",
        "import pandas as pd\n",
        "import matplotlib.pyplot as plt\n",
        "import plotly.express as px\n",
        "import seaborn as sns\n"
      ]
    },
    {
      "cell_type": "code",
      "source": [
        "from google.colab import files\n",
        "uploaded = files.upload()"
      ],
      "metadata": {
        "colab": {
          "base_uri": "https://localhost:8080/",
          "height": 73
        },
        "id": "harIfcOYK1pa",
        "outputId": "99459245-8c9d-48a1-f4f7-681d9d5ab039"
      },
      "execution_count": null,
      "outputs": [
        {
          "output_type": "display_data",
          "data": {
            "text/plain": [
              "<IPython.core.display.HTML object>"
            ],
            "text/html": [
              "\n",
              "     <input type=\"file\" id=\"files-18f97769-8c41-4a66-8369-b2879a463297\" name=\"files[]\" multiple disabled\n",
              "        style=\"border:none\" />\n",
              "     <output id=\"result-18f97769-8c41-4a66-8369-b2879a463297\">\n",
              "      Upload widget is only available when the cell has been executed in the\n",
              "      current browser session. Please rerun this cell to enable.\n",
              "      </output>\n",
              "      <script>// Copyright 2017 Google LLC\n",
              "//\n",
              "// Licensed under the Apache License, Version 2.0 (the \"License\");\n",
              "// you may not use this file except in compliance with the License.\n",
              "// You may obtain a copy of the License at\n",
              "//\n",
              "//      http://www.apache.org/licenses/LICENSE-2.0\n",
              "//\n",
              "// Unless required by applicable law or agreed to in writing, software\n",
              "// distributed under the License is distributed on an \"AS IS\" BASIS,\n",
              "// WITHOUT WARRANTIES OR CONDITIONS OF ANY KIND, either express or implied.\n",
              "// See the License for the specific language governing permissions and\n",
              "// limitations under the License.\n",
              "\n",
              "/**\n",
              " * @fileoverview Helpers for google.colab Python module.\n",
              " */\n",
              "(function(scope) {\n",
              "function span(text, styleAttributes = {}) {\n",
              "  const element = document.createElement('span');\n",
              "  element.textContent = text;\n",
              "  for (const key of Object.keys(styleAttributes)) {\n",
              "    element.style[key] = styleAttributes[key];\n",
              "  }\n",
              "  return element;\n",
              "}\n",
              "\n",
              "// Max number of bytes which will be uploaded at a time.\n",
              "const MAX_PAYLOAD_SIZE = 100 * 1024;\n",
              "\n",
              "function _uploadFiles(inputId, outputId) {\n",
              "  const steps = uploadFilesStep(inputId, outputId);\n",
              "  const outputElement = document.getElementById(outputId);\n",
              "  // Cache steps on the outputElement to make it available for the next call\n",
              "  // to uploadFilesContinue from Python.\n",
              "  outputElement.steps = steps;\n",
              "\n",
              "  return _uploadFilesContinue(outputId);\n",
              "}\n",
              "\n",
              "// This is roughly an async generator (not supported in the browser yet),\n",
              "// where there are multiple asynchronous steps and the Python side is going\n",
              "// to poll for completion of each step.\n",
              "// This uses a Promise to block the python side on completion of each step,\n",
              "// then passes the result of the previous step as the input to the next step.\n",
              "function _uploadFilesContinue(outputId) {\n",
              "  const outputElement = document.getElementById(outputId);\n",
              "  const steps = outputElement.steps;\n",
              "\n",
              "  const next = steps.next(outputElement.lastPromiseValue);\n",
              "  return Promise.resolve(next.value.promise).then((value) => {\n",
              "    // Cache the last promise value to make it available to the next\n",
              "    // step of the generator.\n",
              "    outputElement.lastPromiseValue = value;\n",
              "    return next.value.response;\n",
              "  });\n",
              "}\n",
              "\n",
              "/**\n",
              " * Generator function which is called between each async step of the upload\n",
              " * process.\n",
              " * @param {string} inputId Element ID of the input file picker element.\n",
              " * @param {string} outputId Element ID of the output display.\n",
              " * @return {!Iterable<!Object>} Iterable of next steps.\n",
              " */\n",
              "function* uploadFilesStep(inputId, outputId) {\n",
              "  const inputElement = document.getElementById(inputId);\n",
              "  inputElement.disabled = false;\n",
              "\n",
              "  const outputElement = document.getElementById(outputId);\n",
              "  outputElement.innerHTML = '';\n",
              "\n",
              "  const pickedPromise = new Promise((resolve) => {\n",
              "    inputElement.addEventListener('change', (e) => {\n",
              "      resolve(e.target.files);\n",
              "    });\n",
              "  });\n",
              "\n",
              "  const cancel = document.createElement('button');\n",
              "  inputElement.parentElement.appendChild(cancel);\n",
              "  cancel.textContent = 'Cancel upload';\n",
              "  const cancelPromise = new Promise((resolve) => {\n",
              "    cancel.onclick = () => {\n",
              "      resolve(null);\n",
              "    };\n",
              "  });\n",
              "\n",
              "  // Wait for the user to pick the files.\n",
              "  const files = yield {\n",
              "    promise: Promise.race([pickedPromise, cancelPromise]),\n",
              "    response: {\n",
              "      action: 'starting',\n",
              "    }\n",
              "  };\n",
              "\n",
              "  cancel.remove();\n",
              "\n",
              "  // Disable the input element since further picks are not allowed.\n",
              "  inputElement.disabled = true;\n",
              "\n",
              "  if (!files) {\n",
              "    return {\n",
              "      response: {\n",
              "        action: 'complete',\n",
              "      }\n",
              "    };\n",
              "  }\n",
              "\n",
              "  for (const file of files) {\n",
              "    const li = document.createElement('li');\n",
              "    li.append(span(file.name, {fontWeight: 'bold'}));\n",
              "    li.append(span(\n",
              "        `(${file.type || 'n/a'}) - ${file.size} bytes, ` +\n",
              "        `last modified: ${\n",
              "            file.lastModifiedDate ? file.lastModifiedDate.toLocaleDateString() :\n",
              "                                    'n/a'} - `));\n",
              "    const percent = span('0% done');\n",
              "    li.appendChild(percent);\n",
              "\n",
              "    outputElement.appendChild(li);\n",
              "\n",
              "    const fileDataPromise = new Promise((resolve) => {\n",
              "      const reader = new FileReader();\n",
              "      reader.onload = (e) => {\n",
              "        resolve(e.target.result);\n",
              "      };\n",
              "      reader.readAsArrayBuffer(file);\n",
              "    });\n",
              "    // Wait for the data to be ready.\n",
              "    let fileData = yield {\n",
              "      promise: fileDataPromise,\n",
              "      response: {\n",
              "        action: 'continue',\n",
              "      }\n",
              "    };\n",
              "\n",
              "    // Use a chunked sending to avoid message size limits. See b/62115660.\n",
              "    let position = 0;\n",
              "    do {\n",
              "      const length = Math.min(fileData.byteLength - position, MAX_PAYLOAD_SIZE);\n",
              "      const chunk = new Uint8Array(fileData, position, length);\n",
              "      position += length;\n",
              "\n",
              "      const base64 = btoa(String.fromCharCode.apply(null, chunk));\n",
              "      yield {\n",
              "        response: {\n",
              "          action: 'append',\n",
              "          file: file.name,\n",
              "          data: base64,\n",
              "        },\n",
              "      };\n",
              "\n",
              "      let percentDone = fileData.byteLength === 0 ?\n",
              "          100 :\n",
              "          Math.round((position / fileData.byteLength) * 100);\n",
              "      percent.textContent = `${percentDone}% done`;\n",
              "\n",
              "    } while (position < fileData.byteLength);\n",
              "  }\n",
              "\n",
              "  // All done.\n",
              "  yield {\n",
              "    response: {\n",
              "      action: 'complete',\n",
              "    }\n",
              "  };\n",
              "}\n",
              "\n",
              "scope.google = scope.google || {};\n",
              "scope.google.colab = scope.google.colab || {};\n",
              "scope.google.colab._files = {\n",
              "  _uploadFiles,\n",
              "  _uploadFilesContinue,\n",
              "};\n",
              "})(self);\n",
              "</script> "
            ]
          },
          "metadata": {}
        },
        {
          "output_type": "stream",
          "name": "stdout",
          "text": [
            "Saving train.csv to train.csv\n"
          ]
        }
      ]
    },
    {
      "cell_type": "code",
      "source": [
        "#load the data\n",
        "df_train = pd.read_csv('train.csv')"
      ],
      "metadata": {
        "id": "-T2caZhCpJWA"
      },
      "execution_count": null,
      "outputs": []
    },
    {
      "cell_type": "markdown",
      "source": [
        "#**Data Cleaning Steps:**\n",
        "\n",
        "1.   Imputing NAN values in v2a1 - monthly rent payment\n",
        "2.   Cleaning Columns Dependency, Edjefe and Edjefa\n",
        "3.   Zerorize NAN values in v18q1 - Number of tablets household owns [HH Level var]\n",
        "4.   Drop 15 rows where family has no head of household\n",
        "5.   Assign class based on lowest target for the 85 households where members have different poverty class assignment\n"
      ],
      "metadata": {
        "id": "fYHiwHldoUwN"
      }
    },
    {
      "cell_type": "markdown",
      "source": [
        "## 1.) Imputing NAN values in v2a1\n",
        "\n",
        "In our first checkpoint, we identified 6860 null values associated with the variable v2a1 (monthly rent payment).\n",
        "\n",
        "As targets map to classes that represent different levels of household well-being, any consumption-based measure of welfare must include the value that households derive from their dwellings[1]. While the flow of services enjoyed by households living in a dwelling can be correctly approximated by the monthly rental payment to landlords among tenants, no such measure is readily available for home-owners. In most developing countries, housing expenditure typically constitutes 30% of total household expenditure. Thus excluding estimated rental prices from the welfare aggregate used in distributional studies may undermine the validity of comparisons of distributional outcomes[2].\n",
        "\n",
        "In this segment, we impute monthly rent payments for all 6860 null values based on region, and household class ('Target'). At the same time, a new column ('Imputed rent') is also created to represent the wellfare gains of households owning the home they reside in (security of tenure, etc.).\n",
        "\n",
        "\n",
        "\n",
        "**Citations:**\n",
        "\n",
        "[1] Deaton, Angus, and Salman Zaidi. Guidelines for constructing consumption aggregates for welfare analysis. Vol. 135. World Bank Publications, 2002.\n",
        "\n",
        "[2] Frick, Joachim R., Markus M. Grabka, Timothy M. Smeeding, and Panos Tsakloglou. \"Distributional effects of imputed rents in five European countries.\" Journal of Housing economics 19, no. 3 (2010): 167-179."
      ],
      "metadata": {
        "id": "9M23n6l1t0Wf"
      }
    },
    {
      "cell_type": "code",
      "source": [
        "# Copy the data\n",
        "data = df_train.copy()\n",
        "\n",
        "# Fill in zero for homeowners\n",
        "data.loc[data['tipovivi1'] == 1, 'v2a1'] = 0\n",
        "\n",
        "# Rename the region columns\n",
        "lugar_cols = {'lugar1': 'Central', 'lugar2': 'Chorotega', 'lugar3': 'Paci­fico Central',\n",
        "              'lugar4': 'Brunca', 'lugar5': 'Huetar Atlantica', 'lugar6': 'Huetar Norte'}\n",
        "data = data.rename(columns=lugar_cols)\n",
        "\n",
        "# Group the data by regions and Target\n",
        "grouped_data = data.groupby(['Central', 'Chorotega', 'Paci­fico Central', 'Brunca', 'Huetar Atlantica', 'Huetar Norte', 'Target'])\n",
        "\n",
        "# Compute the median value of v2a1 for each region and Target\n",
        "median_v2a1_by_region_target = grouped_data['v2a1'].median()\n",
        "\n",
        "# Fill in the missing null values for v2a1 with the median value of the corresponding region and 'Target'\n",
        "data['v2a1'] = data.apply(lambda row: median_v2a1_by_region_target[row['Central'], row['Chorotega'], row['Paci­fico Central'], row['Brunca'], row['Huetar Atlantica'], row['Huetar Norte'], row['Target']]\n",
        "                          if pd.isnull(row['v2a1']) else row['v2a1'], axis=1)\n",
        "\n",
        "# Fill in zero for homeowners, precarious, and assigned/borrowed housing\n",
        "data.loc[(data['tipovivi1'] == 1) | (data['tipovivi4'] == 1) | (data['tipovivi5'] == 1), 'v2a1'] = 0\n",
        "\n",
        "# Assign imputed_rent based on whether the household owns the house, in precarious or assigned/borrowed housing\n",
        "data['imputed_rent'] = data.apply(lambda row: median_v2a1_by_region_target[row['Central'], row['Chorotega'], row['Paci­fico Central'], row['Brunca'], row['Huetar Atlantica'], row['Huetar Norte'], row['Target']]\n",
        "                                  if (row['tipovivi1'] == 1 or row['tipovivi4'] or row['tipovivi5'] == 1) else 0, axis=1)\n"
      ],
      "metadata": {
        "id": "GETVI0SAo6zE"
      },
      "execution_count": null,
      "outputs": []
    },
    {
      "cell_type": "code",
      "source": [
        "# Along with the 6 separate columns for each region, we create one column called \"region\"\n",
        "# which is categorical and indicates the household region\n",
        "\n",
        "lugar_cols = {'lugar1': 'Central', 'lugar2': 'Chorotega', 'lugar3': 'Paci­fico Central',\n",
        "              'lugar4': 'Brunca', 'lugar5': 'Huetar Atlantica', 'lugar6': 'Huetar Norte'}\n",
        "data = data.rename(columns=lugar_cols)\n",
        "\n",
        "data.loc[data.loc[:, \"Central\"]==1, \"region\"] = \"Central\"\n",
        "data.loc[data.loc[:, \"Chorotega\"]==1, \"region\"] = \"Chorotega\"\n",
        "data.loc[data.loc[:, \"Paci­fico Central\"]==1, \"region\"] = \"Pacifico Central\"\n",
        "data.loc[data.loc[:, \"Brunca\"]==1, \"region\"] = \"Brunca\"\n",
        "data.loc[data.loc[:, \"Huetar Atlantica\"]==1, \"region\"] = \"Huetar Atlantica\"\n",
        "data.loc[data.loc[:, \"Huetar Norte\"]==1, \"region\"] = \"Huetar Norte\""
      ],
      "metadata": {
        "id": "ZY5oB3UE5IHb"
      },
      "execution_count": null,
      "outputs": []
    },
    {
      "cell_type": "code",
      "source": [
        "# Sanity Check\n",
        "# Crosstab\n",
        "ct = data[['Central', 'Chorotega', 'Paci­fico Central', 'Brunca', 'Huetar Atlantica', 'Huetar Norte', 'Target', 'v2a1']]\n",
        "\n",
        "ct = ct.melt(id_vars=['Target', 'v2a1'], var_name='Region', value_name='Value')\n",
        "ct = ct[ct['Value'] == 1].drop('Value', axis=1)\n",
        "\n",
        "# summarize\n",
        "v2a1_summary = pd.pivot_table(ct, values='v2a1', index='Region', columns='Target', aggfunc=['mean', 'std'])\n",
        "print(v2a1_summary)"
      ],
      "metadata": {
        "colab": {
          "base_uri": "https://localhost:8080/"
        },
        "id": "zSUpVT0b1SMl",
        "outputId": "7cd6ef82-0e83-4171-affa-8fa1c00d340b"
      },
      "execution_count": null,
      "outputs": [
        {
          "output_type": "stream",
          "name": "stdout",
          "text": [
            "                           mean                                            \\\n",
            "Target                        1             2             3             4   \n",
            "Region                                                                      \n",
            "Brunca             11734.693878   8305.714286  19977.339286  21377.339901   \n",
            "Central            22072.286154  30386.450798  35967.477273  76040.617385   \n",
            "Chorotega          10649.350649  15155.279503  13247.863248  50203.438795   \n",
            "Huetar Atlantica    9660.194175   8967.136150  10349.650350  18504.566210   \n",
            "Huetar Norte        3043.478261   7470.238095  19743.119266  28521.176471   \n",
            "Paci­fico Central  31649.349398  21757.812500  10803.571429  56057.318681   \n",
            "\n",
            "                            std                                             \n",
            "Target                        1             2             3              4  \n",
            "Region                                                                      \n",
            "Brunca             28898.168536  22458.888915  35942.913097   59653.056828  \n",
            "Central            46654.328841  56829.547264  65253.916532  144615.425241  \n",
            "Chorotega          25460.891700  36530.904555  36726.600804  137071.133302  \n",
            "Huetar Atlantica   24276.412096  21947.919697  27981.698934   50823.684340  \n",
            "Huetar Norte       11606.837212  24063.271288  40006.574383   54689.794360  \n",
            "Paci­fico Central  63627.293335  55453.001466  24054.682182  112215.084444  \n"
          ]
        }
      ]
    },
    {
      "cell_type": "markdown",
      "source": [
        "## 2.) Cleaning columns dependency, edjefe and edjefa\n",
        "\n",
        "Following feedback from Checkpoint I, we refered to several other Kaggle submissions to decide how to treat dependency, edjefe and edjefa. \"No\" values are replaced with 0 years of education, and \"Yes\" values with the mean of all individuals in the dataframe."
      ],
      "metadata": {
        "id": "vc8RHo3S5M2o"
      }
    },
    {
      "cell_type": "code",
      "source": [
        "# code to clean the \"edjefe\" and \"edjefa\" columns\n",
        "\n",
        "#convert \"edjefe\" and \"edjefa\" values from \"no\" to 0\n",
        "data.loc[data.loc[:, \"edjefe\"] == \"no\",\"edjefe\"] = 0\n",
        "data.loc[data.loc[:, \"edjefa\"] == \"no\",\"edjefa\"] = 0\n",
        "data.loc[data.loc[:, \"dependency\"] == \"no\",\"dependency\"] = 0\n",
        "\n",
        "#convert \"edjefe\" and \"edjefa\" values from \"yes\" to mean of the education values\n",
        "edjefe_meaned = data.loc[data.loc[:, \"edjefe\"] != \"yes\", \"edjefe\"].astype(\"int\").mean().astype(\"int\")\n",
        "edjefe_meaned.astype(\"object\")\n",
        "data.loc[data.loc[:, \"edjefe\"]== \"yes\", \"edjefe\"] = edjefe_meaned\n",
        "\n",
        "#update SQBedjefe since we made changes to edjefe\n",
        "data.loc[:,\"SQBedjefe\"] = (data.loc[:, \"edjefe\"].astype(int)**2)\n",
        "\n",
        "edjefa_meaned = data.loc[data.loc[:, \"edjefa\"] != \"yes\", \"edjefa\"].astype(\"int\").mean().astype(\"int\")\n",
        "edjefa_meaned.astype(\"object\")\n",
        "data.loc[data.loc[:, \"edjefa\"]== \"yes\", \"edjefa\"] = edjefa_meaned\n",
        "\n",
        "dependency_meaned = data.loc[data.loc[:, \"dependency\"] != \"yes\", \"dependency\"].astype(\"float\").mean().astype(\"float\")\n",
        "dependency_meaned.astype(\"object\")\n",
        "data.loc[data.loc[:, \"dependency\"]== \"yes\", \"dependency\"] = dependency_meaned\n"
      ],
      "metadata": {
        "id": "83HlPnki5N0f"
      },
      "execution_count": null,
      "outputs": []
    },
    {
      "cell_type": "markdown",
      "source": [
        "## 3.) Zerorize missing values in column v18q1 (Number of tablets household owns [HH Level var])\n",
        "\n",
        "v18q1 is a household level variable that is computed based on column v18q. It is observed that all NaN values were associated with v18q == 0. This indicates that NaN in v18q1 should map to 0 number of tablets owned by the household."
      ],
      "metadata": {
        "id": "XliRF90mxKci"
      }
    },
    {
      "cell_type": "code",
      "source": [
        "data.groupby('v18q1')['v18q1'].count()"
      ],
      "metadata": {
        "colab": {
          "base_uri": "https://localhost:8080/"
        },
        "id": "0X1XnsUsxURg",
        "outputId": "3a932a7e-16ce-4098-b77f-f0d5db2eecbe"
      },
      "execution_count": null,
      "outputs": [
        {
          "output_type": "execute_result",
          "data": {
            "text/plain": [
              "v18q1\n",
              "1.0    1586\n",
              "2.0     444\n",
              "3.0     129\n",
              "4.0      37\n",
              "5.0      13\n",
              "6.0       6\n",
              "Name: v18q1, dtype: int64"
            ]
          },
          "metadata": {},
          "execution_count": 8
        }
      ]
    },
    {
      "cell_type": "code",
      "source": [
        "data.loc[data['parentesco1'] ==1,[\"v18q\",\"v18q1\"]].head(8)"
      ],
      "metadata": {
        "colab": {
          "base_uri": "https://localhost:8080/",
          "height": 300
        },
        "id": "t6PVzNJIxcIZ",
        "outputId": "89d8a4c7-ef48-4104-dcee-7a0d243c6397"
      },
      "execution_count": null,
      "outputs": [
        {
          "output_type": "execute_result",
          "data": {
            "text/plain": [
              "    v18q  v18q1\n",
              "0      0    NaN\n",
              "1      1    1.0\n",
              "2      0    NaN\n",
              "5      1    1.0\n",
              "8      0    NaN\n",
              "12     0    NaN\n",
              "13     1    1.0\n",
              "18     0    NaN"
            ],
            "text/html": [
              "\n",
              "  <div id=\"df-12db4308-b6d5-41cd-b16f-5a16880564eb\">\n",
              "    <div class=\"colab-df-container\">\n",
              "      <div>\n",
              "<style scoped>\n",
              "    .dataframe tbody tr th:only-of-type {\n",
              "        vertical-align: middle;\n",
              "    }\n",
              "\n",
              "    .dataframe tbody tr th {\n",
              "        vertical-align: top;\n",
              "    }\n",
              "\n",
              "    .dataframe thead th {\n",
              "        text-align: right;\n",
              "    }\n",
              "</style>\n",
              "<table border=\"1\" class=\"dataframe\">\n",
              "  <thead>\n",
              "    <tr style=\"text-align: right;\">\n",
              "      <th></th>\n",
              "      <th>v18q</th>\n",
              "      <th>v18q1</th>\n",
              "    </tr>\n",
              "  </thead>\n",
              "  <tbody>\n",
              "    <tr>\n",
              "      <th>0</th>\n",
              "      <td>0</td>\n",
              "      <td>NaN</td>\n",
              "    </tr>\n",
              "    <tr>\n",
              "      <th>1</th>\n",
              "      <td>1</td>\n",
              "      <td>1.0</td>\n",
              "    </tr>\n",
              "    <tr>\n",
              "      <th>2</th>\n",
              "      <td>0</td>\n",
              "      <td>NaN</td>\n",
              "    </tr>\n",
              "    <tr>\n",
              "      <th>5</th>\n",
              "      <td>1</td>\n",
              "      <td>1.0</td>\n",
              "    </tr>\n",
              "    <tr>\n",
              "      <th>8</th>\n",
              "      <td>0</td>\n",
              "      <td>NaN</td>\n",
              "    </tr>\n",
              "    <tr>\n",
              "      <th>12</th>\n",
              "      <td>0</td>\n",
              "      <td>NaN</td>\n",
              "    </tr>\n",
              "    <tr>\n",
              "      <th>13</th>\n",
              "      <td>1</td>\n",
              "      <td>1.0</td>\n",
              "    </tr>\n",
              "    <tr>\n",
              "      <th>18</th>\n",
              "      <td>0</td>\n",
              "      <td>NaN</td>\n",
              "    </tr>\n",
              "  </tbody>\n",
              "</table>\n",
              "</div>\n",
              "      <button class=\"colab-df-convert\" onclick=\"convertToInteractive('df-12db4308-b6d5-41cd-b16f-5a16880564eb')\"\n",
              "              title=\"Convert this dataframe to an interactive table.\"\n",
              "              style=\"display:none;\">\n",
              "        \n",
              "  <svg xmlns=\"http://www.w3.org/2000/svg\" height=\"24px\"viewBox=\"0 0 24 24\"\n",
              "       width=\"24px\">\n",
              "    <path d=\"M0 0h24v24H0V0z\" fill=\"none\"/>\n",
              "    <path d=\"M18.56 5.44l.94 2.06.94-2.06 2.06-.94-2.06-.94-.94-2.06-.94 2.06-2.06.94zm-11 1L8.5 8.5l.94-2.06 2.06-.94-2.06-.94L8.5 2.5l-.94 2.06-2.06.94zm10 10l.94 2.06.94-2.06 2.06-.94-2.06-.94-.94-2.06-.94 2.06-2.06.94z\"/><path d=\"M17.41 7.96l-1.37-1.37c-.4-.4-.92-.59-1.43-.59-.52 0-1.04.2-1.43.59L10.3 9.45l-7.72 7.72c-.78.78-.78 2.05 0 2.83L4 21.41c.39.39.9.59 1.41.59.51 0 1.02-.2 1.41-.59l7.78-7.78 2.81-2.81c.8-.78.8-2.07 0-2.86zM5.41 20L4 18.59l7.72-7.72 1.47 1.35L5.41 20z\"/>\n",
              "  </svg>\n",
              "      </button>\n",
              "      \n",
              "  <style>\n",
              "    .colab-df-container {\n",
              "      display:flex;\n",
              "      flex-wrap:wrap;\n",
              "      gap: 12px;\n",
              "    }\n",
              "\n",
              "    .colab-df-convert {\n",
              "      background-color: #E8F0FE;\n",
              "      border: none;\n",
              "      border-radius: 50%;\n",
              "      cursor: pointer;\n",
              "      display: none;\n",
              "      fill: #1967D2;\n",
              "      height: 32px;\n",
              "      padding: 0 0 0 0;\n",
              "      width: 32px;\n",
              "    }\n",
              "\n",
              "    .colab-df-convert:hover {\n",
              "      background-color: #E2EBFA;\n",
              "      box-shadow: 0px 1px 2px rgba(60, 64, 67, 0.3), 0px 1px 3px 1px rgba(60, 64, 67, 0.15);\n",
              "      fill: #174EA6;\n",
              "    }\n",
              "\n",
              "    [theme=dark] .colab-df-convert {\n",
              "      background-color: #3B4455;\n",
              "      fill: #D2E3FC;\n",
              "    }\n",
              "\n",
              "    [theme=dark] .colab-df-convert:hover {\n",
              "      background-color: #434B5C;\n",
              "      box-shadow: 0px 1px 3px 1px rgba(0, 0, 0, 0.15);\n",
              "      filter: drop-shadow(0px 1px 2px rgba(0, 0, 0, 0.3));\n",
              "      fill: #FFFFFF;\n",
              "    }\n",
              "  </style>\n",
              "\n",
              "      <script>\n",
              "        const buttonEl =\n",
              "          document.querySelector('#df-12db4308-b6d5-41cd-b16f-5a16880564eb button.colab-df-convert');\n",
              "        buttonEl.style.display =\n",
              "          google.colab.kernel.accessAllowed ? 'block' : 'none';\n",
              "\n",
              "        async function convertToInteractive(key) {\n",
              "          const element = document.querySelector('#df-12db4308-b6d5-41cd-b16f-5a16880564eb');\n",
              "          const dataTable =\n",
              "            await google.colab.kernel.invokeFunction('convertToInteractive',\n",
              "                                                     [key], {});\n",
              "          if (!dataTable) return;\n",
              "\n",
              "          const docLinkHtml = 'Like what you see? Visit the ' +\n",
              "            '<a target=\"_blank\" href=https://colab.research.google.com/notebooks/data_table.ipynb>data table notebook</a>'\n",
              "            + ' to learn more about interactive tables.';\n",
              "          element.innerHTML = '';\n",
              "          dataTable['output_type'] = 'display_data';\n",
              "          await google.colab.output.renderOutput(dataTable, element);\n",
              "          const docLink = document.createElement('div');\n",
              "          docLink.innerHTML = docLinkHtml;\n",
              "          element.appendChild(docLink);\n",
              "        }\n",
              "      </script>\n",
              "    </div>\n",
              "  </div>\n",
              "  "
            ]
          },
          "metadata": {},
          "execution_count": 9
        }
      ]
    },
    {
      "cell_type": "code",
      "source": [
        "# Zerorize NAN values in v18q1\n",
        "data['v18q1'].fillna(value=0, inplace=True)\n",
        "print(data['v18q1'].isnull().sum())"
      ],
      "metadata": {
        "colab": {
          "base_uri": "https://localhost:8080/"
        },
        "id": "sqwIbt2BxoL4",
        "outputId": "2ebbb0e8-bfd7-4e05-e322-4aaafa9cae61"
      },
      "execution_count": null,
      "outputs": [
        {
          "output_type": "stream",
          "name": "stdout",
          "text": [
            "0\n"
          ]
        }
      ]
    },
    {
      "cell_type": "markdown",
      "source": [
        "## 4.) Drop 15 rows where family has no head of household\n",
        "\n"
      ],
      "metadata": {
        "id": "9w0bFe7kzi44"
      }
    },
    {
      "cell_type": "code",
      "source": [
        "# create filter for households with head\n",
        "household_head = data.groupby('idhogar')['parentesco1'].sum()\n",
        "\n",
        "# filter data for households with head\n",
        "data = data.loc[data['idhogar'].isin(household_head[household_head == 1].index), :]\n",
        "data[\"idhogar\"].nunique()"
      ],
      "metadata": {
        "colab": {
          "base_uri": "https://localhost:8080/"
        },
        "id": "RSiZxluEyGVa",
        "outputId": "dda4d288-84a5-4036-9fbd-4f1cc53724b2"
      },
      "execution_count": null,
      "outputs": [
        {
          "output_type": "execute_result",
          "data": {
            "text/plain": [
              "2973"
            ]
          },
          "metadata": {},
          "execution_count": 11
        }
      ]
    },
    {
      "cell_type": "markdown",
      "source": [
        "## 5.) Assign class based on lowest target for the 85 households where members have different poverty class assignment"
      ],
      "metadata": {
        "id": "LPP7a5UdPVYh"
      }
    },
    {
      "cell_type": "code",
      "source": [
        "#1. get all the unique house ids and target value assignments\n",
        "house_target = data.loc[:, [\"idhogar\", \"Target\"]].drop_duplicates()\n",
        "\n",
        "#2. count the houses that have more than one target value assignment\n",
        "counts = house_target.groupby(\"idhogar\").agg({\"idhogar\": \"count\"})\n",
        "col = {'idhogar': 'id_hogar_count'}\n",
        "counts = counts.rename(columns=col)\n",
        "counts = counts.reset_index()\n",
        "\n",
        "#3. get house ids for the houses that have more than one target value assignment\n",
        "# and create a new df that assigns the house id to the min target value\n",
        "houses_to_change = counts.loc[counts.loc[:, \"id_hogar_count\"] > 1, \"idhogar\"]\n",
        "min_targets = (data.loc[data['idhogar'].isin(houses_to_change), [\"idhogar\", \"Target\"]]\n",
        "        .groupby(\"idhogar\").agg({\"Target\":\"min\"}))\n",
        "\n",
        "#4. in the full dataframe, change all Target values for the identified houses\n",
        "#       to the min value assigned in the previous df\n",
        "for id_hogar in houses_to_change:\n",
        "    data.loc[data.loc[:,'idhogar'] == id_hogar, \"Target\"] = min_targets['Target'][id_hogar]"
      ],
      "metadata": {
        "id": "HAyVuzzfczfF"
      },
      "execution_count": null,
      "outputs": []
    },
    {
      "cell_type": "code",
      "source": [
        "correlation_matrix = data.corr()\n",
        "target_correlations = correlation_matrix['Target'].sort_values(ascending=False)\n",
        "target_correlations"
      ],
      "metadata": {
        "id": "kq9lM7HdlrkR",
        "colab": {
          "base_uri": "https://localhost:8080/"
        },
        "outputId": "75163199-1c6c-4f5d-f379-cf6a02911898"
      },
      "execution_count": null,
      "outputs": [
        {
          "output_type": "stream",
          "name": "stderr",
          "text": [
            "<ipython-input-88-55b5ba6b1243>:1: FutureWarning: The default value of numeric_only in DataFrame.corr is deprecated. In a future version, it will default to False. Select only valid columns or specify the value of numeric_only to silence this warning.\n",
            "  correlation_matrix = data.corr()\n"
          ]
        },
        {
          "output_type": "execute_result",
          "data": {
            "text/plain": [
              "Target          1.000000\n",
              "meaneduc        0.333960\n",
              "cielorazo       0.312830\n",
              "escolari        0.305492\n",
              "SQBescolari     0.299520\n",
              "                  ...   \n",
              "SQBhogar_nin   -0.312969\n",
              "r4t1           -0.313499\n",
              "hogar_nin      -0.333241\n",
              "elimbasu5            NaN\n",
              "imputed_rent         NaN\n",
              "Name: Target, Length: 139, dtype: float64"
            ]
          },
          "metadata": {},
          "execution_count": 88
        }
      ]
    },
    {
      "cell_type": "markdown",
      "source": [
        "# Feature Engineering\n",
        "This segment outlines the steps we took in generating new features. All of these features are generated at the household level.\n",
        "\n",
        "**Engineered Variables**\n",
        "\n",
        "1. Mean per capita income - Imputed rent adjusted for household size using square root equivalence scales\n",
        "2. Mobile phones per capita\n",
        "3. Computers per capita\n",
        "4. Tablets per capita\n",
        "5. Years of lost education\n",
        "6. Asset owned\n",
        "7. Access to Basic Amenities\n",
        "8. Housing Situation"
      ],
      "metadata": {
        "id": "lD0zs1ptfV8B"
      }
    },
    {
      "cell_type": "code",
      "source": [
        "# attribute benefits of owning a house based on HHSIZE (SQRT EQ SCALES used)\n",
        "data['mean_per_capita_income'] = data['imputed_rent'] / np.sqrt(data['tamviv'])\n",
        "data['per_capita_rent'] = data['v2a1'] / np.sqrt(data['tamviv'])\n",
        "\n",
        "# Define the exchange rate in 2016\n",
        "usd_to_colones = 534.566  # Source: CEIC Data\n",
        "\n",
        "# Define the lower and upper bounds for each target class in local currency\n",
        "income_bounds = {\n",
        "    1: (0.01 * usd_to_colones, 2.5 * usd_to_colones),\n",
        "    2: (2.5 * usd_to_colones, 4 * usd_to_colones),\n",
        "    3: (4 * usd_to_colones, 10 * usd_to_colones),\n",
        "    4: (10 * usd_to_colones, np.inf)\n",
        "}\n",
        "\n",
        "# Compute the estimated household income\n",
        "data['estimated_household_income_min'] = data.apply(lambda row: income_bounds[row['Target']][0] * np.sqrt(row['tamviv']), axis=1)\n",
        "data['estimated_household_income_max'] = data.apply(lambda row: income_bounds[row['Target']][1] * np.sqrt(row['tamviv']), axis=1)\n",
        "\n",
        "# Compute the rent to income ratio for households that do not own their homes\n",
        "data.loc[data['tipovivi1'] != 1, 'rent_to_income_ratio_min'] = data['v2a1'] / data['estimated_household_income_min']\n",
        "data.loc[data['tipovivi1'] != 1, 'rent_to_income_ratio_max'] = data['v2a1'] / data['estimated_household_income_max']\n",
        "\n",
        "# Initialize 'HCB_cost_burdened' and 'HCB_severely_cost_burdened' to False for all households\n",
        "data['HCB_cost_burdened_min'] = False\n",
        "data['HCB_cost_burdened_max'] = False\n",
        "data['HCB_severely_cost_burdened_min'] = False\n",
        "data['HCB_severely_cost_burdened_max'] = False\n",
        "\n",
        "# Compute the Housing Cost Burden for households that do not own their homes\n",
        "data.loc[data['tipovivi1'] != 1, 'HCB_cost_burdened_min'] = data['rent_to_income_ratio_min'] > 0.3\n",
        "data.loc[data['tipovivi1'] != 1, 'HCB_cost_burdened_max'] = data['rent_to_income_ratio_max'] > 0.3\n",
        "data.loc[data['tipovivi1'] != 1, 'HCB_severely_cost_burdened_min'] = data['rent_to_income_ratio_min'] > 0.5\n",
        "data.loc[data['tipovivi1'] != 1, 'HCB_severely_cost_burdened_max'] = data['rent_to_income_ratio_max'] > 0.5\n",
        "\n",
        "# Tech Accessibility\n",
        "data['mobilephone_per_capita'] = data['mobilephone'] / data['tamviv']\n",
        "data['computer_per_capita'] = data['computer'] / data['tamviv']\n",
        "data['tablet_per_capita'] = data['v18q'] / data['tamviv']\n",
        "\n"
      ],
      "metadata": {
        "id": "AQDdjNnYfjay"
      },
      "execution_count": null,
      "outputs": []
    },
    {
      "cell_type": "code",
      "source": [
        "data.groupby('estimated_household_income_max')['estimated_household_income_max'].count()"
      ],
      "metadata": {
        "colab": {
          "base_uri": "https://localhost:8080/"
        },
        "id": "IvN3y7GcfZcV",
        "outputId": "fc708581-4c20-4717-9d71-0f06f09a1901"
      },
      "execution_count": null,
      "outputs": [
        {
          "output_type": "execute_result",
          "data": {
            "text/plain": [
              "estimated_household_income_max\n",
              "1.336415e+03      18\n",
              "1.889976e+03      97\n",
              "2.138264e+03      46\n",
              "2.314739e+03     179\n",
              "2.672830e+03     190\n",
              "2.988315e+03     154\n",
              "3.023962e+03     171\n",
              "3.273535e+03     102\n",
              "3.535822e+03      45\n",
              "3.703582e+03     278\n",
              "3.779952e+03      22\n",
              "4.009245e+03      18\n",
              "4.226115e+03      20\n",
              "4.276528e+03     340\n",
              "4.781304e+03     354\n",
              "4.818513e+03      13\n",
              "5.237656e+03     201\n",
              "5.345660e+03      52\n",
              "5.657315e+03      80\n",
              "6.047924e+03      26\n",
              "6.414792e+03      47\n",
              "6.761784e+03       4\n",
              "7.091819e+03      22\n",
              "7.559905e+03     118\n",
              "7.709620e+03      13\n",
              "9.258955e+03     226\n",
              "1.069132e+04     277\n",
              "1.195326e+04     206\n",
              "1.309414e+04     119\n",
              "1.414329e+04      74\n",
              "1.511981e+04      20\n",
              "1.603698e+04       6\n",
              "1.772955e+04       4\n",
              "1.851791e+04      12\n",
              "1.927405e+04       4\n",
              "2.070365e+04       9\n",
              "inf             5967\n",
              "Name: estimated_household_income_max, dtype: int64"
            ]
          },
          "metadata": {},
          "execution_count": 16
        }
      ]
    },
    {
      "cell_type": "code",
      "source": [
        "# Education\n",
        "data['meaneduc'] = data['meaneduc'].fillna(data['meaneduc'].mean())\n",
        "data['SQBmeaned'] = data['SQBmeaned'].fillna(data['SQBmeaned'].mean())\n",
        "\n",
        "# sum years of lost education by household\n",
        "data['rez_esc'].fillna(value=0, inplace=True)\n",
        "temp = data.groupby('idhogar')['rez_esc'].sum()\n",
        "temp_df = pd.DataFrame(temp).reset_index()\n",
        "temp_df = temp_df.rename(columns={'rez_esc': 'yrs_edu_lost'})\n",
        "data = pd.merge(data, temp_df, on='idhogar', how='inner')"
      ],
      "metadata": {
        "id": "efjHdGEtGXHi"
      },
      "execution_count": null,
      "outputs": []
    },
    {
      "cell_type": "code",
      "source": [
        "HH_head_data_cleaned = data.loc[(data['parentesco1'] == 1), :]\n",
        "HH_head_data_cleaned.shape"
      ],
      "metadata": {
        "id": "WDyKfxShLji2",
        "colab": {
          "base_uri": "https://localhost:8080/"
        },
        "outputId": "8bc7eefe-7d60-44ea-f859-b30b170aea6a"
      },
      "execution_count": null,
      "outputs": [
        {
          "output_type": "execute_result",
          "data": {
            "text/plain": [
              "(2973, 159)"
            ]
          },
          "metadata": {},
          "execution_count": 91
        }
      ]
    },
    {
      "cell_type": "code",
      "source": [
        "# Archived code\n",
        "#data.to_csv('cleaned_data_lg.csv', index=False)\n",
        "#files.download('cleaned_data_lg.csv')"
      ],
      "metadata": {
        "id": "IoRO5tvyCthw"
      },
      "execution_count": null,
      "outputs": []
    },
    {
      "cell_type": "markdown",
      "source": [
        "[Yueyue] - working on asset_owned, basic_amenities_access\n",
        " feature generation and KNN"
      ],
      "metadata": {
        "id": "z4-QlD8MbfvT"
      }
    },
    {
      "cell_type": "markdown",
      "source": [
        "## Asset-owned\n",
        "assets owned for each household including refrigerator, computer, tablet, mobile phone, and television (sum of the binary asset variables)"
      ],
      "metadata": {
        "id": "bZkKbgA6cdGn"
      }
    },
    {
      "cell_type": "code",
      "source": [
        "HH_head_data_cleaned.loc[:, 'asset_owned'] = HH_head_data_cleaned.loc[:,'refrig'] + HH_head_data_cleaned.loc[:,'computer'] + HH_head_data_cleaned.loc[:,'v18q'] + HH_head_data_cleaned.loc[:,'television'] + HH_head_data_cleaned.loc[:,'mobilephone']"
      ],
      "metadata": {
        "colab": {
          "base_uri": "https://localhost:8080/"
        },
        "id": "eMNs4-NMbWcX",
        "outputId": "0c563727-192a-497b-aa8f-a5b8bb7b4708"
      },
      "execution_count": null,
      "outputs": [
        {
          "output_type": "stream",
          "name": "stderr",
          "text": [
            "<ipython-input-93-1680dd0823a7>:1: SettingWithCopyWarning: \n",
            "A value is trying to be set on a copy of a slice from a DataFrame.\n",
            "Try using .loc[row_indexer,col_indexer] = value instead\n",
            "\n",
            "See the caveats in the documentation: https://pandas.pydata.org/pandas-docs/stable/user_guide/indexing.html#returning-a-view-versus-a-copy\n",
            "  HH_head_data_cleaned.loc[:, 'asset_owned'] = HH_head_data_cleaned.loc[:,'refrig'] + HH_head_data_cleaned.loc[:,'computer'] + HH_head_data_cleaned.loc[:,'v18q'] + HH_head_data_cleaned.loc[:,'television'] + HH_head_data_cleaned.loc[:,'mobilephone']\n"
          ]
        }
      ]
    },
    {
      "cell_type": "code",
      "source": [
        "grouped_data_asset = HH_head_data_cleaned.groupby(['Target', 'asset_owned']).size().reset_index(name='count')\n",
        "pivot_table_asset = grouped_data_asset.pivot_table(index='Target', columns='asset_owned', values='count', fill_value=0)\n",
        "ax = pivot_table_asset.plot.bar(stacked=True)\n",
        "ax.set_xlabel('Target')\n",
        "ax.set_ylabel('Count of Owned Asset')\n",
        "ax.set_title('Owned Asset Distribution by Target Level')\n",
        "plt.show()"
      ],
      "metadata": {
        "colab": {
          "base_uri": "https://localhost:8080/",
          "height": 467
        },
        "id": "UoJTEDB3bp_y",
        "outputId": "ba6f615e-4103-4f5c-eebe-a58fdf748864"
      },
      "execution_count": null,
      "outputs": [
        {
          "output_type": "display_data",
          "data": {
            "text/plain": [
              "<Figure size 640x480 with 1 Axes>"
            ],
            "image/png": "[encoded data removed]"
          },
          "metadata": {}
        }
      ]
    },
    {
      "cell_type": "markdown",
      "source": [
        "Target, an ordinal variable indicating groups of income levels.\n",
        "\n",
        "1 = extreme poverty\n",
        "\n",
        "2 = moderate poverty\n",
        "\n",
        "3 = vulnerable households\n",
        "\n",
        "4 = non vulnerable households\n",
        "\n",
        "we can tell from the bar chart, non vulnerable households own much more assets than the other targets, which indicates it can be a good feature to be added into model."
      ],
      "metadata": {
        "id": "22RrT_5Rb8rH"
      }
    },
    {
      "cell_type": "markdown",
      "source": [
        "##Access to basic amenities\n",
        "* water provision\n",
        "* sanitation\n",
        "* cooking energy\n",
        "* electricity"
      ],
      "metadata": {
        "id": "b8ZYv_o4c1YX"
      }
    },
    {
      "cell_type": "markdown",
      "source": [
        "###water provision\n",
        "We need to make an ordinal variable to combine three variables that are related to water provision in the dataset: abastaguadentro (=1 if water provision inside the dwelling), abastaguafuera(=1 if water provision outside the dwelling), and abastaguano(=1 if water provision outside the dwelling)."
      ],
      "metadata": {
        "id": "xxALTBHdurhM"
      }
    },
    {
      "cell_type": "code",
      "source": [
        "def water_provision_category(row):\n",
        "    if row['abastaguadentro'] == 1:\n",
        "        return 1  # Water provision inside the dwelling\n",
        "    elif row['abastaguafuera'] == 1:\n",
        "        return 2  # Water provision outside the dwelling\n",
        "    else:\n",
        "        return 0\n",
        "\n",
        "# Creating a new ordinal variable 'water_provision'\n",
        "HH_head_data_cleaned['water_provision'] = HH_head_data_cleaned.apply(water_provision_category, axis=1)"
      ],
      "metadata": {
        "colab": {
          "base_uri": "https://localhost:8080/"
        },
        "id": "Wjf0xJ_0rdMJ",
        "outputId": "8a145a7e-38a5-46eb-d8f0-75f75e36e7d2"
      },
      "execution_count": null,
      "outputs": [
        {
          "output_type": "stream",
          "name": "stderr",
          "text": [
            "<ipython-input-95-8d098557d734>:10: SettingWithCopyWarning: \n",
            "A value is trying to be set on a copy of a slice from a DataFrame.\n",
            "Try using .loc[row_indexer,col_indexer] = value instead\n",
            "\n",
            "See the caveats in the documentation: https://pandas.pydata.org/pandas-docs/stable/user_guide/indexing.html#returning-a-view-versus-a-copy\n",
            "  HH_head_data_cleaned['water_provision'] = HH_head_data_cleaned.apply(water_provision_category, axis=1)\n"
          ]
        }
      ]
    },
    {
      "cell_type": "code",
      "source": [
        "grouped_data_percentage_water = HH_head_data_cleaned.groupby(['Target', 'water_provision']).size().reset_index(name='count')\n",
        "pivot_table_percentage_water = grouped_data_percentage_water.pivot_table(index='Target', columns='water_provision', values='count', fill_value=0)\n",
        "pivot_table_percentage_water_table = pivot_table_percentage_water.div(pivot_table_percentage_water.sum(axis=1), axis=0) * 100\n",
        "#percentage of each type of water provision for each target label"
      ],
      "metadata": {
        "id": "jqWW4c0KsRpf"
      },
      "execution_count": null,
      "outputs": []
    },
    {
      "cell_type": "code",
      "source": [
        "ax = pivot_table_percentage_water_table.plot.bar()\n",
        "ax.set_xlabel('Target')\n",
        "ax.set_ylabel('Percentage of water provision')\n",
        "ax.set_title('water provision Distribution by Target Level')\n",
        "plt.show()"
      ],
      "metadata": {
        "colab": {
          "base_uri": "https://localhost:8080/",
          "height": 467
        },
        "id": "k9oH_kxn55oG",
        "outputId": "18da7733-43cf-4db7-fa02-2440849b9f81"
      },
      "execution_count": null,
      "outputs": [
        {
          "output_type": "display_data",
          "data": {
            "text/plain": [
              "<Figure size 640x480 with 1 Axes>"
            ],
            "image/png": "[encoded data removed]"
          },
          "metadata": {}
        }
      ]
    },
    {
      "cell_type": "markdown",
      "source": [
        "###Sanitation type"
      ],
      "metadata": {
        "id": "ydegdgTyuv4S"
      }
    },
    {
      "cell_type": "markdown",
      "source": [
        "Then, we need to make an ordinal variable by combining five variables that are related to sanitation:\n",
        "*  sanitario2, =1 toilet connected to sewer or cesspool\n",
        "*  sanitario3, =1 toilet connected to  septic tank\n",
        "*  sanitario5, =1 toilet connected to black hole or letrine\n",
        "*  sanitario6, =1 toilet connected to other system"
      ],
      "metadata": {
        "id": "_oX8w1_BoUHI"
      }
    },
    {
      "cell_type": "code",
      "source": [
        "HH_head_data_cleaned.loc[:, 'toilet'] = HH_head_data_cleaned.loc[:, 'sanitario1'] + HH_head_data_cleaned.loc[:, 'sanitario2'] + HH_head_data_cleaned.loc[:, 'sanitario3'] + HH_head_data_cleaned.loc[:, 'sanitario5']+  HH_head_data_cleaned.loc[:, 'sanitario6']\n",
        "HH_head_data_cleaned.loc[:, ['toilet']].value_counts()\n",
        "\n",
        "#it indicates each household only has one category for sanitary status which is what we want"
      ],
      "metadata": {
        "colab": {
          "base_uri": "https://localhost:8080/"
        },
        "id": "6v4_F8Nqf9Zc",
        "outputId": "a619e879-6e92-41ed-b248-dc9f92aa152f"
      },
      "execution_count": null,
      "outputs": [
        {
          "output_type": "stream",
          "name": "stderr",
          "text": [
            "<ipython-input-98-a9e815f9c29f>:1: SettingWithCopyWarning: \n",
            "A value is trying to be set on a copy of a slice from a DataFrame.\n",
            "Try using .loc[row_indexer,col_indexer] = value instead\n",
            "\n",
            "See the caveats in the documentation: https://pandas.pydata.org/pandas-docs/stable/user_guide/indexing.html#returning-a-view-versus-a-copy\n",
            "  HH_head_data_cleaned.loc[:, 'toilet'] = HH_head_data_cleaned.loc[:, 'sanitario1'] + HH_head_data_cleaned.loc[:, 'sanitario2'] + HH_head_data_cleaned.loc[:, 'sanitario3'] + HH_head_data_cleaned.loc[:, 'sanitario5']+  HH_head_data_cleaned.loc[:, 'sanitario6']\n"
          ]
        },
        {
          "output_type": "execute_result",
          "data": {
            "text/plain": [
              "toilet\n",
              "1         2973\n",
              "dtype: int64"
            ]
          },
          "metadata": {},
          "execution_count": 98
        }
      ]
    },
    {
      "cell_type": "code",
      "source": [
        "def sanitario_category(row):\n",
        "    if row['sanitario2'] == 1:\n",
        "        return 2  # Toilet connected to sewer or cesspool\n",
        "    elif row['sanitario3'] == 1:\n",
        "        return 3  # Toilet connected to septic tank\n",
        "    elif row['sanitario5'] == 1:\n",
        "        return 4  # Toilet connected to black hole or letrine\n",
        "    elif row['sanitario6'] == 1:\n",
        "        return 5  # Toilet connected to other system\n",
        "    else:\n",
        "        return 0\n",
        "\n",
        "# Creating a new ordinal variable 'sanitario_type'\n",
        "HH_head_data_cleaned['sanitario_type'] = HH_head_data_cleaned.apply(sanitario_category, axis=1)"
      ],
      "metadata": {
        "id": "pZ30esbJigKu",
        "colab": {
          "base_uri": "https://localhost:8080/"
        },
        "outputId": "81956975-8731-48b5-ebb9-e13930551398"
      },
      "execution_count": null,
      "outputs": [
        {
          "output_type": "stream",
          "name": "stderr",
          "text": [
            "<ipython-input-99-8719cd7d4e78>:14: SettingWithCopyWarning: \n",
            "A value is trying to be set on a copy of a slice from a DataFrame.\n",
            "Try using .loc[row_indexer,col_indexer] = value instead\n",
            "\n",
            "See the caveats in the documentation: https://pandas.pydata.org/pandas-docs/stable/user_guide/indexing.html#returning-a-view-versus-a-copy\n",
            "  HH_head_data_cleaned['sanitario_type'] = HH_head_data_cleaned.apply(sanitario_category, axis=1)\n"
          ]
        }
      ]
    },
    {
      "cell_type": "markdown",
      "source": [
        "###electricity\n",
        "Then, we need to make a categorical variable for electricity\n",
        "* public\t=1 electricity from CNFL,  ICE,  ESPH/JASEC\n",
        "* planpri\t=1 electricity from private plant\n",
        "* coopele\t=1 electricity from cooperative"
      ],
      "metadata": {
        "id": "1C4Somzgujm_"
      }
    },
    {
      "cell_type": "code",
      "source": [
        "def electricity_source_category(row):\n",
        "    if row['public'] == 1:\n",
        "        return 'CNFL, ICE, ESPH/JASEC'\n",
        "    elif row['planpri'] == 1:\n",
        "        return 'private plant'\n",
        "    elif row['coopele'] == 1:\n",
        "        return 'cooperative'\n",
        "    else:\n",
        "        return 'unknown'  # No data or invalid data\n",
        "\n",
        "# Creating a new categorical variable 'electricity_source'\n",
        "HH_head_data_cleaned['electricity_source'] = HH_head_data_cleaned.apply(electricity_source_category, axis=1)"
      ],
      "metadata": {
        "colab": {
          "base_uri": "https://localhost:8080/"
        },
        "id": "gJPzps1_u36T",
        "outputId": "ae5c0bef-0c23-44ca-a40d-4a1b49a6f7d9"
      },
      "execution_count": null,
      "outputs": [
        {
          "output_type": "stream",
          "name": "stderr",
          "text": [
            "<ipython-input-100-9b47c81da025>:12: SettingWithCopyWarning: \n",
            "A value is trying to be set on a copy of a slice from a DataFrame.\n",
            "Try using .loc[row_indexer,col_indexer] = value instead\n",
            "\n",
            "See the caveats in the documentation: https://pandas.pydata.org/pandas-docs/stable/user_guide/indexing.html#returning-a-view-versus-a-copy\n",
            "  HH_head_data_cleaned['electricity_source'] = HH_head_data_cleaned.apply(electricity_source_category, axis=1)\n"
          ]
        }
      ]
    },
    {
      "cell_type": "code",
      "source": [
        "electricity_source = HH_head_data_cleaned.groupby(['Target', 'electricity_source']).size().reset_index(name='count')\n",
        "pivot_table_percentage_elec = electricity_source.pivot_table(index='Target', columns='electricity_source', values='count', fill_value=0)\n",
        "pivot_table_percentage_elec_table = pivot_table_percentage_elec.div(pivot_table_percentage_elec.sum(axis=1), axis=0) * 100\n",
        "pivot_table_percentage_elec_table"
      ],
      "metadata": {
        "colab": {
          "base_uri": "https://localhost:8080/",
          "height": 206
        },
        "id": "eS4dzeBHu387",
        "outputId": "5c06d867-511d-48b1-d9a7-4aade36f9650"
      },
      "execution_count": null,
      "outputs": [
        {
          "output_type": "execute_result",
          "data": {
            "text/plain": [
              "electricity_source  CNFL, ICE, ESPH/JASEC  cooperative  private plant  \\\n",
              "Target                                                                  \n",
              "1                               86.363636    11.983471       0.000000   \n",
              "2                               88.366890    10.290828       0.223714   \n",
              "3                               87.020649    12.979351       0.000000   \n",
              "4                               89.254499    10.488432       0.051414   \n",
              "\n",
              "electricity_source   unknown  \n",
              "Target                        \n",
              "1                   1.652893  \n",
              "2                   1.118568  \n",
              "3                   0.000000  \n",
              "4                   0.205656  "
            ],
            "text/html": [
              "\n",
              "  <div id=\"df-963108ba-3276-41f7-97f3-f7652faa76e7\">\n",
              "    <div class=\"colab-df-container\">\n",
              "      <div>\n",
              "<style scoped>\n",
              "    .dataframe tbody tr th:only-of-type {\n",
              "        vertical-align: middle;\n",
              "    }\n",
              "\n",
              "    .dataframe tbody tr th {\n",
              "        vertical-align: top;\n",
              "    }\n",
              "\n",
              "    .dataframe thead th {\n",
              "        text-align: right;\n",
              "    }\n",
              "</style>\n",
              "<table border=\"1\" class=\"dataframe\">\n",
              "  <thead>\n",
              "    <tr style=\"text-align: right;\">\n",
              "      <th>electricity_source</th>\n",
              "      <th>CNFL, ICE, ESPH/JASEC</th>\n",
              "      <th>cooperative</th>\n",
              "      <th>private plant</th>\n",
              "      <th>unknown</th>\n",
              "    </tr>\n",
              "    <tr>\n",
              "      <th>Target</th>\n",
              "      <th></th>\n",
              "      <th></th>\n",
              "      <th></th>\n",
              "      <th></th>\n",
              "    </tr>\n",
              "  </thead>\n",
              "  <tbody>\n",
              "    <tr>\n",
              "      <th>1</th>\n",
              "      <td>86.363636</td>\n",
              "      <td>11.983471</td>\n",
              "      <td>0.000000</td>\n",
              "      <td>1.652893</td>\n",
              "    </tr>\n",
              "    <tr>\n",
              "      <th>2</th>\n",
              "      <td>88.366890</td>\n",
              "      <td>10.290828</td>\n",
              "      <td>0.223714</td>\n",
              "      <td>1.118568</td>\n",
              "    </tr>\n",
              "    <tr>\n",
              "      <th>3</th>\n",
              "      <td>87.020649</td>\n",
              "      <td>12.979351</td>\n",
              "      <td>0.000000</td>\n",
              "      <td>0.000000</td>\n",
              "    </tr>\n",
              "    <tr>\n",
              "      <th>4</th>\n",
              "      <td>89.254499</td>\n",
              "      <td>10.488432</td>\n",
              "      <td>0.051414</td>\n",
              "      <td>0.205656</td>\n",
              "    </tr>\n",
              "  </tbody>\n",
              "</table>\n",
              "</div>\n",
              "      <button class=\"colab-df-convert\" onclick=\"convertToInteractive('df-963108ba-3276-41f7-97f3-f7652faa76e7')\"\n",
              "              title=\"Convert this dataframe to an interactive table.\"\n",
              "              style=\"display:none;\">\n",
              "        \n",
              "  <svg xmlns=\"http://www.w3.org/2000/svg\" height=\"24px\"viewBox=\"0 0 24 24\"\n",
              "       width=\"24px\">\n",
              "    <path d=\"M0 0h24v24H0V0z\" fill=\"none\"/>\n",
              "    <path d=\"M18.56 5.44l.94 2.06.94-2.06 2.06-.94-2.06-.94-.94-2.06-.94 2.06-2.06.94zm-11 1L8.5 8.5l.94-2.06 2.06-.94-2.06-.94L8.5 2.5l-.94 2.06-2.06.94zm10 10l.94 2.06.94-2.06 2.06-.94-2.06-.94-.94-2.06-.94 2.06-2.06.94z\"/><path d=\"M17.41 7.96l-1.37-1.37c-.4-.4-.92-.59-1.43-.59-.52 0-1.04.2-1.43.59L10.3 9.45l-7.72 7.72c-.78.78-.78 2.05 0 2.83L4 21.41c.39.39.9.59 1.41.59.51 0 1.02-.2 1.41-.59l7.78-7.78 2.81-2.81c.8-.78.8-2.07 0-2.86zM5.41 20L4 18.59l7.72-7.72 1.47 1.35L5.41 20z\"/>\n",
              "  </svg>\n",
              "      </button>\n",
              "      \n",
              "  <style>\n",
              "    .colab-df-container {\n",
              "      display:flex;\n",
              "      flex-wrap:wrap;\n",
              "      gap: 12px;\n",
              "    }\n",
              "\n",
              "    .colab-df-convert {\n",
              "      background-color: #E8F0FE;\n",
              "      border: none;\n",
              "      border-radius: 50%;\n",
              "      cursor: pointer;\n",
              "      display: none;\n",
              "      fill: #1967D2;\n",
              "      height: 32px;\n",
              "      padding: 0 0 0 0;\n",
              "      width: 32px;\n",
              "    }\n",
              "\n",
              "    .colab-df-convert:hover {\n",
              "      background-color: #E2EBFA;\n",
              "      box-shadow: 0px 1px 2px rgba(60, 64, 67, 0.3), 0px 1px 3px 1px rgba(60, 64, 67, 0.15);\n",
              "      fill: #174EA6;\n",
              "    }\n",
              "\n",
              "    [theme=dark] .colab-df-convert {\n",
              "      background-color: #3B4455;\n",
              "      fill: #D2E3FC;\n",
              "    }\n",
              "\n",
              "    [theme=dark] .colab-df-convert:hover {\n",
              "      background-color: #434B5C;\n",
              "      box-shadow: 0px 1px 3px 1px rgba(0, 0, 0, 0.15);\n",
              "      filter: drop-shadow(0px 1px 2px rgba(0, 0, 0, 0.3));\n",
              "      fill: #FFFFFF;\n",
              "    }\n",
              "  </style>\n",
              "\n",
              "      <script>\n",
              "        const buttonEl =\n",
              "          document.querySelector('#df-963108ba-3276-41f7-97f3-f7652faa76e7 button.colab-df-convert');\n",
              "        buttonEl.style.display =\n",
              "          google.colab.kernel.accessAllowed ? 'block' : 'none';\n",
              "\n",
              "        async function convertToInteractive(key) {\n",
              "          const element = document.querySelector('#df-963108ba-3276-41f7-97f3-f7652faa76e7');\n",
              "          const dataTable =\n",
              "            await google.colab.kernel.invokeFunction('convertToInteractive',\n",
              "                                                     [key], {});\n",
              "          if (!dataTable) return;\n",
              "\n",
              "          const docLinkHtml = 'Like what you see? Visit the ' +\n",
              "            '<a target=\"_blank\" href=https://colab.research.google.com/notebooks/data_table.ipynb>data table notebook</a>'\n",
              "            + ' to learn more about interactive tables.';\n",
              "          element.innerHTML = '';\n",
              "          dataTable['output_type'] = 'display_data';\n",
              "          await google.colab.output.renderOutput(dataTable, element);\n",
              "          const docLink = document.createElement('div');\n",
              "          docLink.innerHTML = docLinkHtml;\n",
              "          element.appendChild(docLink);\n",
              "        }\n",
              "      </script>\n",
              "    </div>\n",
              "  </div>\n",
              "  "
            ]
          },
          "metadata": {},
          "execution_count": 101
        }
      ]
    },
    {
      "cell_type": "code",
      "source": [
        "ax = pivot_table_percentage_elec_table.plot.bar()\n",
        "ax.set_xlabel('Target')\n",
        "ax.set_ylabel('Percentage of electricity_source')\n",
        "ax.set_title('electricity_source Distribution by Target Level')\n",
        "plt.show()"
      ],
      "metadata": {
        "colab": {
          "base_uri": "https://localhost:8080/",
          "height": 467
        },
        "id": "H1gHCclPu4D_",
        "outputId": "ad50689f-d524-4b2f-c634-878bdfd86f0d"
      },
      "execution_count": null,
      "outputs": [
        {
          "output_type": "display_data",
          "data": {
            "text/plain": [
              "<Figure size 640x480 with 1 Axes>"
            ],
            "image/png": "[encoded data removed]"
          },
          "metadata": {}
        }
      ]
    },
    {
      "cell_type": "code",
      "source": [],
      "metadata": {
        "id": "AlcwK5BSvWJV"
      },
      "execution_count": null,
      "outputs": []
    },
    {
      "cell_type": "markdown",
      "source": [
        "Export dataset"
      ],
      "metadata": {
        "id": "eQC4ipeMNH1o"
      }
    },
    {
      "cell_type": "code",
      "source": [
        "HH_head_data_cleaned.to_csv(\"HH_head_cleaned_data.csv\", index=False)"
      ],
      "metadata": {
        "id": "6VU6mDYnM5OO"
      },
      "execution_count": null,
      "outputs": []
    },
    {
      "cell_type": "code",
      "source": [
        "grouped_data_sanitario = HH_head_data_cleaned.groupby(['Target', 'sanitario_type']).size().reset_index(name='count')\n",
        "pivot_table_sanitario = grouped_data_sanitario.pivot_table(index='Target', columns='sanitario_type', values='count', fill_value=0)\n",
        "ax = pivot_table_sanitario.plot.bar(stacked=True)\n",
        "ax.set_xlabel('Target')\n",
        "ax.set_ylabel('Count of Sanitario Type')\n",
        "ax.set_title('Sanitario Type Distribution by Target Level')\n",
        "plt.show()"
      ],
      "metadata": {
        "colab": {
          "base_uri": "https://localhost:8080/",
          "height": 467
        },
        "id": "ZIjtZnPgkRrY",
        "outputId": "fdd7d622-18be-4c91-c670-179e269669e0"
      },
      "execution_count": null,
      "outputs": [
        {
          "output_type": "display_data",
          "data": {
            "text/plain": [
              "<Figure size 640x480 with 1 Axes>"
            ],
            "image/png": "[encoded data removed]"
          },
          "metadata": {}
        }
      ]
    },
    {
      "cell_type": "markdown",
      "source": [
        "There are predominantly having toilet connected to septic tank and black hole or letrine so I want to try to exclude these two types to observe the situation of household that does not have toilet"
      ],
      "metadata": {
        "id": "_auxCh6gpIIV"
      }
    },
    {
      "cell_type": "code",
      "source": [
        "grouped_data_percentage = HH_head_data_cleaned.groupby(['Target', 'sanitario_type']).size().reset_index(name='count')\n",
        "pivot_table_percentage = grouped_data_percentage.pivot_table(index='Target', columns='sanitario_type', values='count', fill_value=0)\n",
        "\n",
        "# Normalizing the counts to get the percentage\n",
        "percentage_table = pivot_table_percentage.div(pivot_table_percentage.sum(axis=1), axis=0) * 100\n",
        "percentage_table"
      ],
      "metadata": {
        "colab": {
          "base_uri": "https://localhost:8080/",
          "height": 206
        },
        "id": "6Se8tSpMqkuq",
        "outputId": "ba1aca97-af59-4547-c945-c0d6932664a0"
      },
      "execution_count": null,
      "outputs": [
        {
          "output_type": "execute_result",
          "data": {
            "text/plain": [
              "sanitario_type         0          2          3         4         5\n",
              "Target                                                            \n",
              "1               1.239669  14.462810  79.752066  4.132231  0.413223\n",
              "2               0.894855  18.344519  78.076063  2.237136  0.447427\n",
              "3               0.884956  14.749263  82.300885  2.064897  0.000000\n",
              "4               0.257069  25.809769  73.110540  0.616967  0.205656"
            ],
            "text/html": [
              "\n",
              "  <div id=\"df-89f2d7f4-9aa2-4fc4-bfc4-0921c5c13d28\">\n",
              "    <div class=\"colab-df-container\">\n",
              "      <div>\n",
              "<style scoped>\n",
              "    .dataframe tbody tr th:only-of-type {\n",
              "        vertical-align: middle;\n",
              "    }\n",
              "\n",
              "    .dataframe tbody tr th {\n",
              "        vertical-align: top;\n",
              "    }\n",
              "\n",
              "    .dataframe thead th {\n",
              "        text-align: right;\n",
              "    }\n",
              "</style>\n",
              "<table border=\"1\" class=\"dataframe\">\n",
              "  <thead>\n",
              "    <tr style=\"text-align: right;\">\n",
              "      <th>sanitario_type</th>\n",
              "      <th>0</th>\n",
              "      <th>2</th>\n",
              "      <th>3</th>\n",
              "      <th>4</th>\n",
              "      <th>5</th>\n",
              "    </tr>\n",
              "    <tr>\n",
              "      <th>Target</th>\n",
              "      <th></th>\n",
              "      <th></th>\n",
              "      <th></th>\n",
              "      <th></th>\n",
              "      <th></th>\n",
              "    </tr>\n",
              "  </thead>\n",
              "  <tbody>\n",
              "    <tr>\n",
              "      <th>1</th>\n",
              "      <td>1.239669</td>\n",
              "      <td>14.462810</td>\n",
              "      <td>79.752066</td>\n",
              "      <td>4.132231</td>\n",
              "      <td>0.413223</td>\n",
              "    </tr>\n",
              "    <tr>\n",
              "      <th>2</th>\n",
              "      <td>0.894855</td>\n",
              "      <td>18.344519</td>\n",
              "      <td>78.076063</td>\n",
              "      <td>2.237136</td>\n",
              "      <td>0.447427</td>\n",
              "    </tr>\n",
              "    <tr>\n",
              "      <th>3</th>\n",
              "      <td>0.884956</td>\n",
              "      <td>14.749263</td>\n",
              "      <td>82.300885</td>\n",
              "      <td>2.064897</td>\n",
              "      <td>0.000000</td>\n",
              "    </tr>\n",
              "    <tr>\n",
              "      <th>4</th>\n",
              "      <td>0.257069</td>\n",
              "      <td>25.809769</td>\n",
              "      <td>73.110540</td>\n",
              "      <td>0.616967</td>\n",
              "      <td>0.205656</td>\n",
              "    </tr>\n",
              "  </tbody>\n",
              "</table>\n",
              "</div>\n",
              "      <button class=\"colab-df-convert\" onclick=\"convertToInteractive('df-89f2d7f4-9aa2-4fc4-bfc4-0921c5c13d28')\"\n",
              "              title=\"Convert this dataframe to an interactive table.\"\n",
              "              style=\"display:none;\">\n",
              "        \n",
              "  <svg xmlns=\"http://www.w3.org/2000/svg\" height=\"24px\"viewBox=\"0 0 24 24\"\n",
              "       width=\"24px\">\n",
              "    <path d=\"M0 0h24v24H0V0z\" fill=\"none\"/>\n",
              "    <path d=\"M18.56 5.44l.94 2.06.94-2.06 2.06-.94-2.06-.94-.94-2.06-.94 2.06-2.06.94zm-11 1L8.5 8.5l.94-2.06 2.06-.94-2.06-.94L8.5 2.5l-.94 2.06-2.06.94zm10 10l.94 2.06.94-2.06 2.06-.94-2.06-.94-.94-2.06-.94 2.06-2.06.94z\"/><path d=\"M17.41 7.96l-1.37-1.37c-.4-.4-.92-.59-1.43-.59-.52 0-1.04.2-1.43.59L10.3 9.45l-7.72 7.72c-.78.78-.78 2.05 0 2.83L4 21.41c.39.39.9.59 1.41.59.51 0 1.02-.2 1.41-.59l7.78-7.78 2.81-2.81c.8-.78.8-2.07 0-2.86zM5.41 20L4 18.59l7.72-7.72 1.47 1.35L5.41 20z\"/>\n",
              "  </svg>\n",
              "      </button>\n",
              "      \n",
              "  <style>\n",
              "    .colab-df-container {\n",
              "      display:flex;\n",
              "      flex-wrap:wrap;\n",
              "      gap: 12px;\n",
              "    }\n",
              "\n",
              "    .colab-df-convert {\n",
              "      background-color: #E8F0FE;\n",
              "      border: none;\n",
              "      border-radius: 50%;\n",
              "      cursor: pointer;\n",
              "      display: none;\n",
              "      fill: #1967D2;\n",
              "      height: 32px;\n",
              "      padding: 0 0 0 0;\n",
              "      width: 32px;\n",
              "    }\n",
              "\n",
              "    .colab-df-convert:hover {\n",
              "      background-color: #E2EBFA;\n",
              "      box-shadow: 0px 1px 2px rgba(60, 64, 67, 0.3), 0px 1px 3px 1px rgba(60, 64, 67, 0.15);\n",
              "      fill: #174EA6;\n",
              "    }\n",
              "\n",
              "    [theme=dark] .colab-df-convert {\n",
              "      background-color: #3B4455;\n",
              "      fill: #D2E3FC;\n",
              "    }\n",
              "\n",
              "    [theme=dark] .colab-df-convert:hover {\n",
              "      background-color: #434B5C;\n",
              "      box-shadow: 0px 1px 3px 1px rgba(0, 0, 0, 0.15);\n",
              "      filter: drop-shadow(0px 1px 2px rgba(0, 0, 0, 0.3));\n",
              "      fill: #FFFFFF;\n",
              "    }\n",
              "  </style>\n",
              "\n",
              "      <script>\n",
              "        const buttonEl =\n",
              "          document.querySelector('#df-89f2d7f4-9aa2-4fc4-bfc4-0921c5c13d28 button.colab-df-convert');\n",
              "        buttonEl.style.display =\n",
              "          google.colab.kernel.accessAllowed ? 'block' : 'none';\n",
              "\n",
              "        async function convertToInteractive(key) {\n",
              "          const element = document.querySelector('#df-89f2d7f4-9aa2-4fc4-bfc4-0921c5c13d28');\n",
              "          const dataTable =\n",
              "            await google.colab.kernel.invokeFunction('convertToInteractive',\n",
              "                                                     [key], {});\n",
              "          if (!dataTable) return;\n",
              "\n",
              "          const docLinkHtml = 'Like what you see? Visit the ' +\n",
              "            '<a target=\"_blank\" href=https://colab.research.google.com/notebooks/data_table.ipynb>data table notebook</a>'\n",
              "            + ' to learn more about interactive tables.';\n",
              "          element.innerHTML = '';\n",
              "          dataTable['output_type'] = 'display_data';\n",
              "          await google.colab.output.renderOutput(dataTable, element);\n",
              "          const docLink = document.createElement('div');\n",
              "          docLink.innerHTML = docLinkHtml;\n",
              "          element.appendChild(docLink);\n",
              "        }\n",
              "      </script>\n",
              "    </div>\n",
              "  </div>\n",
              "  "
            ]
          },
          "metadata": {},
          "execution_count": 105
        }
      ]
    },
    {
      "cell_type": "markdown",
      "source": [
        "an ordinal variable called cooking_energy:\n",
        "* energcocinar2\t=1 main source of energy used for cooking electricity\n",
        "* energcocinar3\t=1 main source of energy used for cooking gas\n",
        "* energcocinar4\t=1 main source of energy used for cooking wood charcoal"
      ],
      "metadata": {
        "id": "Iju9TKI5rwSR"
      }
    },
    {
      "cell_type": "code",
      "source": [
        "def cooking_energy_category(row):\n",
        "    if row['energcocinar2'] == 1:\n",
        "        return 2  # Main source of energy used for cooking electricity\n",
        "    elif row['energcocinar3'] == 1:\n",
        "        return 3  # Main source of energy used for cooking gas\n",
        "    elif row['energcocinar4'] == 1:\n",
        "        return 4  # Main source of energy used for cooking wood charcoal\n",
        "    else:\n",
        "        return 0\n",
        "\n",
        "# Creating a new ordinal variable 'cooking_energy'\n",
        "HH_head_data_cleaned['cooking_energy'] = HH_head_data_cleaned.apply(cooking_energy_category, axis=1)"
      ],
      "metadata": {
        "colab": {
          "base_uri": "https://localhost:8080/"
        },
        "id": "MarDtq19r94r",
        "outputId": "3e2a13ca-26b4-4d8f-8edf-bea732296f86"
      },
      "execution_count": null,
      "outputs": [
        {
          "output_type": "stream",
          "name": "stderr",
          "text": [
            "<ipython-input-106-dd87233e7a2d>:12: SettingWithCopyWarning: \n",
            "A value is trying to be set on a copy of a slice from a DataFrame.\n",
            "Try using .loc[row_indexer,col_indexer] = value instead\n",
            "\n",
            "See the caveats in the documentation: https://pandas.pydata.org/pandas-docs/stable/user_guide/indexing.html#returning-a-view-versus-a-copy\n",
            "  HH_head_data_cleaned['cooking_energy'] = HH_head_data_cleaned.apply(cooking_energy_category, axis=1)\n"
          ]
        }
      ]
    },
    {
      "cell_type": "code",
      "source": [
        "grouped_data_percentage_cook = HH_head_data_cleaned.groupby(['Target', 'cooking_energy']).size().reset_index(name='count')\n",
        "pivot_table_percentage_cook = grouped_data_percentage_cook.pivot_table(index='Target', columns='cooking_energy', values='count', fill_value=0)\n",
        "pivot_table_percentage_cook.div(pivot_table_percentage_cook.sum(axis=1), axis=0) * 100\n",
        "#percentage of each type of cooking energy for each target label"
      ],
      "metadata": {
        "colab": {
          "base_uri": "https://localhost:8080/",
          "height": 206
        },
        "id": "zmJN_PgVtYq5",
        "outputId": "5c8accfa-f368-4803-856b-3d61ad24cf05"
      },
      "execution_count": null,
      "outputs": [
        {
          "output_type": "execute_result",
          "data": {
            "text/plain": [
              "cooking_energy         0          2          3          4\n",
              "Target                                                   \n",
              "1               1.652893  33.471074  52.066116  12.809917\n",
              "2               0.671141  39.597315  50.559284   9.172260\n",
              "3               0.884956  44.247788  48.672566   6.194690\n",
              "4               0.257069  56.143959  41.285347   2.313625"
            ],
            "text/html": [
              "\n",
              "  <div id=\"df-9e8f6ed8-2041-4f24-8405-079482b76b73\">\n",
              "    <div class=\"colab-df-container\">\n",
              "      <div>\n",
              "<style scoped>\n",
              "    .dataframe tbody tr th:only-of-type {\n",
              "        vertical-align: middle;\n",
              "    }\n",
              "\n",
              "    .dataframe tbody tr th {\n",
              "        vertical-align: top;\n",
              "    }\n",
              "\n",
              "    .dataframe thead th {\n",
              "        text-align: right;\n",
              "    }\n",
              "</style>\n",
              "<table border=\"1\" class=\"dataframe\">\n",
              "  <thead>\n",
              "    <tr style=\"text-align: right;\">\n",
              "      <th>cooking_energy</th>\n",
              "      <th>0</th>\n",
              "      <th>2</th>\n",
              "      <th>3</th>\n",
              "      <th>4</th>\n",
              "    </tr>\n",
              "    <tr>\n",
              "      <th>Target</th>\n",
              "      <th></th>\n",
              "      <th></th>\n",
              "      <th></th>\n",
              "      <th></th>\n",
              "    </tr>\n",
              "  </thead>\n",
              "  <tbody>\n",
              "    <tr>\n",
              "      <th>1</th>\n",
              "      <td>1.652893</td>\n",
              "      <td>33.471074</td>\n",
              "      <td>52.066116</td>\n",
              "      <td>12.809917</td>\n",
              "    </tr>\n",
              "    <tr>\n",
              "      <th>2</th>\n",
              "      <td>0.671141</td>\n",
              "      <td>39.597315</td>\n",
              "      <td>50.559284</td>\n",
              "      <td>9.172260</td>\n",
              "    </tr>\n",
              "    <tr>\n",
              "      <th>3</th>\n",
              "      <td>0.884956</td>\n",
              "      <td>44.247788</td>\n",
              "      <td>48.672566</td>\n",
              "      <td>6.194690</td>\n",
              "    </tr>\n",
              "    <tr>\n",
              "      <th>4</th>\n",
              "      <td>0.257069</td>\n",
              "      <td>56.143959</td>\n",
              "      <td>41.285347</td>\n",
              "      <td>2.313625</td>\n",
              "    </tr>\n",
              "  </tbody>\n",
              "</table>\n",
              "</div>\n",
              "      <button class=\"colab-df-convert\" onclick=\"convertToInteractive('df-9e8f6ed8-2041-4f24-8405-079482b76b73')\"\n",
              "              title=\"Convert this dataframe to an interactive table.\"\n",
              "              style=\"display:none;\">\n",
              "        \n",
              "  <svg xmlns=\"http://www.w3.org/2000/svg\" height=\"24px\"viewBox=\"0 0 24 24\"\n",
              "       width=\"24px\">\n",
              "    <path d=\"M0 0h24v24H0V0z\" fill=\"none\"/>\n",
              "    <path d=\"M18.56 5.44l.94 2.06.94-2.06 2.06-.94-2.06-.94-.94-2.06-.94 2.06-2.06.94zm-11 1L8.5 8.5l.94-2.06 2.06-.94-2.06-.94L8.5 2.5l-.94 2.06-2.06.94zm10 10l.94 2.06.94-2.06 2.06-.94-2.06-.94-.94-2.06-.94 2.06-2.06.94z\"/><path d=\"M17.41 7.96l-1.37-1.37c-.4-.4-.92-.59-1.43-.59-.52 0-1.04.2-1.43.59L10.3 9.45l-7.72 7.72c-.78.78-.78 2.05 0 2.83L4 21.41c.39.39.9.59 1.41.59.51 0 1.02-.2 1.41-.59l7.78-7.78 2.81-2.81c.8-.78.8-2.07 0-2.86zM5.41 20L4 18.59l7.72-7.72 1.47 1.35L5.41 20z\"/>\n",
              "  </svg>\n",
              "      </button>\n",
              "      \n",
              "  <style>\n",
              "    .colab-df-container {\n",
              "      display:flex;\n",
              "      flex-wrap:wrap;\n",
              "      gap: 12px;\n",
              "    }\n",
              "\n",
              "    .colab-df-convert {\n",
              "      background-color: #E8F0FE;\n",
              "      border: none;\n",
              "      border-radius: 50%;\n",
              "      cursor: pointer;\n",
              "      display: none;\n",
              "      fill: #1967D2;\n",
              "      height: 32px;\n",
              "      padding: 0 0 0 0;\n",
              "      width: 32px;\n",
              "    }\n",
              "\n",
              "    .colab-df-convert:hover {\n",
              "      background-color: #E2EBFA;\n",
              "      box-shadow: 0px 1px 2px rgba(60, 64, 67, 0.3), 0px 1px 3px 1px rgba(60, 64, 67, 0.15);\n",
              "      fill: #174EA6;\n",
              "    }\n",
              "\n",
              "    [theme=dark] .colab-df-convert {\n",
              "      background-color: #3B4455;\n",
              "      fill: #D2E3FC;\n",
              "    }\n",
              "\n",
              "    [theme=dark] .colab-df-convert:hover {\n",
              "      background-color: #434B5C;\n",
              "      box-shadow: 0px 1px 3px 1px rgba(0, 0, 0, 0.15);\n",
              "      filter: drop-shadow(0px 1px 2px rgba(0, 0, 0, 0.3));\n",
              "      fill: #FFFFFF;\n",
              "    }\n",
              "  </style>\n",
              "\n",
              "      <script>\n",
              "        const buttonEl =\n",
              "          document.querySelector('#df-9e8f6ed8-2041-4f24-8405-079482b76b73 button.colab-df-convert');\n",
              "        buttonEl.style.display =\n",
              "          google.colab.kernel.accessAllowed ? 'block' : 'none';\n",
              "\n",
              "        async function convertToInteractive(key) {\n",
              "          const element = document.querySelector('#df-9e8f6ed8-2041-4f24-8405-079482b76b73');\n",
              "          const dataTable =\n",
              "            await google.colab.kernel.invokeFunction('convertToInteractive',\n",
              "                                                     [key], {});\n",
              "          if (!dataTable) return;\n",
              "\n",
              "          const docLinkHtml = 'Like what you see? Visit the ' +\n",
              "            '<a target=\"_blank\" href=https://colab.research.google.com/notebooks/data_table.ipynb>data table notebook</a>'\n",
              "            + ' to learn more about interactive tables.';\n",
              "          element.innerHTML = '';\n",
              "          dataTable['output_type'] = 'display_data';\n",
              "          await google.colab.output.renderOutput(dataTable, element);\n",
              "          const docLink = document.createElement('div');\n",
              "          docLink.innerHTML = docLinkHtml;\n",
              "          element.appendChild(docLink);\n",
              "        }\n",
              "      </script>\n",
              "    </div>\n",
              "  </div>\n",
              "  "
            ]
          },
          "metadata": {},
          "execution_count": 107
        }
      ]
    },
    {
      "cell_type": "code",
      "source": [
        "grouped_data_cook = HH_head_data_cleaned.groupby(['Target', 'cooking_energy']).size().reset_index(name='count')\n",
        "pivot_table_cook = grouped_data_cook.pivot_table(index='Target', columns='cooking_energy', values='count', fill_value=0)\n",
        "ax = pivot_table_cook.plot.bar(stacked=True)\n",
        "ax.set_xlabel('Target')\n",
        "ax.set_ylabel('Count of cooking_energy Type')\n",
        "ax.set_title('cooking_energy Type Distribution by Target Level')\n",
        "plt.show()"
      ],
      "metadata": {
        "colab": {
          "base_uri": "https://localhost:8080/",
          "height": 467
        },
        "id": "ar0FMkLptumC",
        "outputId": "4732a142-a982-4fae-8158-c40e03f343fb"
      },
      "execution_count": null,
      "outputs": [
        {
          "output_type": "display_data",
          "data": {
            "text/plain": [
              "<Figure size 640x480 with 1 Axes>"
            ],
            "image/png": "[encoded data removed]"
          },
          "metadata": {}
        }
      ]
    },
    {
      "cell_type": "markdown",
      "source": [
        "##education level\n",
        "categorical education level\n",
        "\n",
        "instlevel1\t=1 no level of education\n",
        "instlevel2\t=1 incomplete primary\n",
        "instlevel3\t=1 complete primary\n",
        "instlevel4\t=1 incomplete academic secondary level\n",
        "instlevel5\t=1 complete academic secondary level\n",
        "instlevel6\t=1 incomplete technical secondary level\n",
        "instlevel7\t=1 complete technical secondary level\n",
        "instlevel8\t=1 undergraduate and higher education\n",
        "instlevel9\t=1 postgraduate higher education"
      ],
      "metadata": {
        "id": "TMwiOcWGNWeu"
      }
    },
    {
      "cell_type": "code",
      "source": [
        "def education_level_category(row):\n",
        "    if row['instlevel1'] == 1:\n",
        "        return 'no level of education'\n",
        "    elif row['instlevel2'] == 1:\n",
        "        return 'incomplete primary'\n",
        "    elif row['instlevel3'] == 1:\n",
        "        return 'complete primary'\n",
        "    elif row['instlevel4'] == 1:\n",
        "        return 'incomplete academic secondary level'\n",
        "    elif row['instlevel5'] == 1:\n",
        "        return 'complete academic secondary level'\n",
        "    elif row['instlevel6'] == 1:\n",
        "        return 'incomplete technical secondary level'\n",
        "    elif row['instlevel7'] == 1:\n",
        "        return 'complete technical secondary level'\n",
        "    elif row['instlevel8'] == 1:\n",
        "        return 'undergraduate and higher education'\n",
        "    elif row['instlevel9'] == 1:\n",
        "        return 'postgraduate higher education'\n",
        "    else:\n",
        "        return 'unknown'  # No data or invalid data\n",
        "\n",
        "# Creating a new categorical variable 'education_level'\n",
        "HH_head_data_cleaned['education_level'] = HH_head_data_cleaned.apply(education_level_category, axis=1)\n"
      ],
      "metadata": {
        "colab": {
          "base_uri": "https://localhost:8080/"
        },
        "id": "m2H2BgfVNcF5",
        "outputId": "6b3cd9d5-5d69-465f-b232-3aa2f3df649c"
      },
      "execution_count": null,
      "outputs": [
        {
          "output_type": "stream",
          "name": "stderr",
          "text": [
            "<ipython-input-109-59cebfb39e8b>:24: SettingWithCopyWarning: \n",
            "A value is trying to be set on a copy of a slice from a DataFrame.\n",
            "Try using .loc[row_indexer,col_indexer] = value instead\n",
            "\n",
            "See the caveats in the documentation: https://pandas.pydata.org/pandas-docs/stable/user_guide/indexing.html#returning-a-view-versus-a-copy\n",
            "  HH_head_data_cleaned['education_level'] = HH_head_data_cleaned.apply(education_level_category, axis=1)\n"
          ]
        }
      ]
    },
    {
      "cell_type": "code",
      "source": [
        "edu = HH_head_data_cleaned.groupby(['Target', 'education_level']).size().reset_index(name='count')\n",
        "pivot_table_percentage_edu = edu.pivot_table(index='Target', columns='education_level', values='count', fill_value=0)\n",
        "pivot_table_percentage_edu.div(pivot_table_percentage_edu.sum(axis=1), axis=0) * 100"
      ],
      "metadata": {
        "colab": {
          "base_uri": "https://localhost:8080/",
          "height": 268
        },
        "id": "kAueuRa-NlGL",
        "outputId": "e31df90b-b224-4e3c-8f6c-29de1c2fe4fb"
      },
      "execution_count": null,
      "outputs": [
        {
          "output_type": "execute_result",
          "data": {
            "text/plain": [
              "education_level  complete academic secondary level  complete primary  \\\n",
              "Target                                                                 \n",
              "1                                         9.090909         27.272727   \n",
              "2                                         8.277405         35.570470   \n",
              "3                                         8.554572         35.103245   \n",
              "4                                        13.624679         25.347044   \n",
              "\n",
              "education_level  complete technical secondary level  \\\n",
              "Target                                                \n",
              "1                                          0.413223   \n",
              "2                                          0.223714   \n",
              "3                                          0.294985   \n",
              "4                                          1.645244   \n",
              "\n",
              "education_level  incomplete academic secondary level  incomplete primary  \\\n",
              "Target                                                                     \n",
              "1                                          21.487603           29.338843   \n",
              "2                                          17.002237           26.845638   \n",
              "3                                          15.634218           25.663717   \n",
              "4                                          17.120823           11.465296   \n",
              "\n",
              "education_level  incomplete technical secondary level  no level of education  \\\n",
              "Target                                                                         \n",
              "1                                            0.413223               9.090909   \n",
              "2                                            0.223714               8.948546   \n",
              "3                                            0.884956               8.554572   \n",
              "4                                            0.771208               1.953728   \n",
              "\n",
              "education_level  postgraduate higher education  \\\n",
              "Target                                           \n",
              "1                                     0.000000   \n",
              "2                                     0.223714   \n",
              "3                                     0.294985   \n",
              "4                                     4.421594   \n",
              "\n",
              "education_level  undergraduate and higher education   unknown  \n",
              "Target                                                         \n",
              "1                                          2.892562  0.000000  \n",
              "2                                          2.684564  0.000000  \n",
              "3                                          5.014749  0.000000  \n",
              "4                                         23.598972  0.051414  "
            ],
            "text/html": [
              "\n",
              "  <div id=\"df-b64c5210-666d-4a13-b176-801f02135f09\">\n",
              "    <div class=\"colab-df-container\">\n",
              "      <div>\n",
              "<style scoped>\n",
              "    .dataframe tbody tr th:only-of-type {\n",
              "        vertical-align: middle;\n",
              "    }\n",
              "\n",
              "    .dataframe tbody tr th {\n",
              "        vertical-align: top;\n",
              "    }\n",
              "\n",
              "    .dataframe thead th {\n",
              "        text-align: right;\n",
              "    }\n",
              "</style>\n",
              "<table border=\"1\" class=\"dataframe\">\n",
              "  <thead>\n",
              "    <tr style=\"text-align: right;\">\n",
              "      <th>education_level</th>\n",
              "      <th>complete academic secondary level</th>\n",
              "      <th>complete primary</th>\n",
              "      <th>complete technical secondary level</th>\n",
              "      <th>incomplete academic secondary level</th>\n",
              "      <th>incomplete primary</th>\n",
              "      <th>incomplete technical secondary level</th>\n",
              "      <th>no level of education</th>\n",
              "      <th>postgraduate higher education</th>\n",
              "      <th>undergraduate and higher education</th>\n",
              "      <th>unknown</th>\n",
              "    </tr>\n",
              "    <tr>\n",
              "      <th>Target</th>\n",
              "      <th></th>\n",
              "      <th></th>\n",
              "      <th></th>\n",
              "      <th></th>\n",
              "      <th></th>\n",
              "      <th></th>\n",
              "      <th></th>\n",
              "      <th></th>\n",
              "      <th></th>\n",
              "      <th></th>\n",
              "    </tr>\n",
              "  </thead>\n",
              "  <tbody>\n",
              "    <tr>\n",
              "      <th>1</th>\n",
              "      <td>9.090909</td>\n",
              "      <td>27.272727</td>\n",
              "      <td>0.413223</td>\n",
              "      <td>21.487603</td>\n",
              "      <td>29.338843</td>\n",
              "      <td>0.413223</td>\n",
              "      <td>9.090909</td>\n",
              "      <td>0.000000</td>\n",
              "      <td>2.892562</td>\n",
              "      <td>0.000000</td>\n",
              "    </tr>\n",
              "    <tr>\n",
              "      <th>2</th>\n",
              "      <td>8.277405</td>\n",
              "      <td>35.570470</td>\n",
              "      <td>0.223714</td>\n",
              "      <td>17.002237</td>\n",
              "      <td>26.845638</td>\n",
              "      <td>0.223714</td>\n",
              "      <td>8.948546</td>\n",
              "      <td>0.223714</td>\n",
              "      <td>2.684564</td>\n",
              "      <td>0.000000</td>\n",
              "    </tr>\n",
              "    <tr>\n",
              "      <th>3</th>\n",
              "      <td>8.554572</td>\n",
              "      <td>35.103245</td>\n",
              "      <td>0.294985</td>\n",
              "      <td>15.634218</td>\n",
              "      <td>25.663717</td>\n",
              "      <td>0.884956</td>\n",
              "      <td>8.554572</td>\n",
              "      <td>0.294985</td>\n",
              "      <td>5.014749</td>\n",
              "      <td>0.000000</td>\n",
              "    </tr>\n",
              "    <tr>\n",
              "      <th>4</th>\n",
              "      <td>13.624679</td>\n",
              "      <td>25.347044</td>\n",
              "      <td>1.645244</td>\n",
              "      <td>17.120823</td>\n",
              "      <td>11.465296</td>\n",
              "      <td>0.771208</td>\n",
              "      <td>1.953728</td>\n",
              "      <td>4.421594</td>\n",
              "      <td>23.598972</td>\n",
              "      <td>0.051414</td>\n",
              "    </tr>\n",
              "  </tbody>\n",
              "</table>\n",
              "</div>\n",
              "      <button class=\"colab-df-convert\" onclick=\"convertToInteractive('df-b64c5210-666d-4a13-b176-801f02135f09')\"\n",
              "              title=\"Convert this dataframe to an interactive table.\"\n",
              "              style=\"display:none;\">\n",
              "        \n",
              "  <svg xmlns=\"http://www.w3.org/2000/svg\" height=\"24px\"viewBox=\"0 0 24 24\"\n",
              "       width=\"24px\">\n",
              "    <path d=\"M0 0h24v24H0V0z\" fill=\"none\"/>\n",
              "    <path d=\"M18.56 5.44l.94 2.06.94-2.06 2.06-.94-2.06-.94-.94-2.06-.94 2.06-2.06.94zm-11 1L8.5 8.5l.94-2.06 2.06-.94-2.06-.94L8.5 2.5l-.94 2.06-2.06.94zm10 10l.94 2.06.94-2.06 2.06-.94-2.06-.94-.94-2.06-.94 2.06-2.06.94z\"/><path d=\"M17.41 7.96l-1.37-1.37c-.4-.4-.92-.59-1.43-.59-.52 0-1.04.2-1.43.59L10.3 9.45l-7.72 7.72c-.78.78-.78 2.05 0 2.83L4 21.41c.39.39.9.59 1.41.59.51 0 1.02-.2 1.41-.59l7.78-7.78 2.81-2.81c.8-.78.8-2.07 0-2.86zM5.41 20L4 18.59l7.72-7.72 1.47 1.35L5.41 20z\"/>\n",
              "  </svg>\n",
              "      </button>\n",
              "      \n",
              "  <style>\n",
              "    .colab-df-container {\n",
              "      display:flex;\n",
              "      flex-wrap:wrap;\n",
              "      gap: 12px;\n",
              "    }\n",
              "\n",
              "    .colab-df-convert {\n",
              "      background-color: #E8F0FE;\n",
              "      border: none;\n",
              "      border-radius: 50%;\n",
              "      cursor: pointer;\n",
              "      display: none;\n",
              "      fill: #1967D2;\n",
              "      height: 32px;\n",
              "      padding: 0 0 0 0;\n",
              "      width: 32px;\n",
              "    }\n",
              "\n",
              "    .colab-df-convert:hover {\n",
              "      background-color: #E2EBFA;\n",
              "      box-shadow: 0px 1px 2px rgba(60, 64, 67, 0.3), 0px 1px 3px 1px rgba(60, 64, 67, 0.15);\n",
              "      fill: #174EA6;\n",
              "    }\n",
              "\n",
              "    [theme=dark] .colab-df-convert {\n",
              "      background-color: #3B4455;\n",
              "      fill: #D2E3FC;\n",
              "    }\n",
              "\n",
              "    [theme=dark] .colab-df-convert:hover {\n",
              "      background-color: #434B5C;\n",
              "      box-shadow: 0px 1px 3px 1px rgba(0, 0, 0, 0.15);\n",
              "      filter: drop-shadow(0px 1px 2px rgba(0, 0, 0, 0.3));\n",
              "      fill: #FFFFFF;\n",
              "    }\n",
              "  </style>\n",
              "\n",
              "      <script>\n",
              "        const buttonEl =\n",
              "          document.querySelector('#df-b64c5210-666d-4a13-b176-801f02135f09 button.colab-df-convert');\n",
              "        buttonEl.style.display =\n",
              "          google.colab.kernel.accessAllowed ? 'block' : 'none';\n",
              "\n",
              "        async function convertToInteractive(key) {\n",
              "          const element = document.querySelector('#df-b64c5210-666d-4a13-b176-801f02135f09');\n",
              "          const dataTable =\n",
              "            await google.colab.kernel.invokeFunction('convertToInteractive',\n",
              "                                                     [key], {});\n",
              "          if (!dataTable) return;\n",
              "\n",
              "          const docLinkHtml = 'Like what you see? Visit the ' +\n",
              "            '<a target=\"_blank\" href=https://colab.research.google.com/notebooks/data_table.ipynb>data table notebook</a>'\n",
              "            + ' to learn more about interactive tables.';\n",
              "          element.innerHTML = '';\n",
              "          dataTable['output_type'] = 'display_data';\n",
              "          await google.colab.output.renderOutput(dataTable, element);\n",
              "          const docLink = document.createElement('div');\n",
              "          docLink.innerHTML = docLinkHtml;\n",
              "          element.appendChild(docLink);\n",
              "        }\n",
              "      </script>\n",
              "    </div>\n",
              "  </div>\n",
              "  "
            ]
          },
          "metadata": {},
          "execution_count": 110
        }
      ]
    },
    {
      "cell_type": "code",
      "source": [
        "pivot_table_edu = edu.pivot_table(index='Target', columns='education_level', values='count', fill_value=0)\n",
        "ax = pivot_table_edu.plot.bar(stacked=True)\n",
        "ax.set_xlabel('Target')\n",
        "ax.set_ylabel('Count of education_level')\n",
        "ax.set_title('education_level Distribution by Target Level')\n",
        "plt.show()\n",
        "\n",
        "#we can observe that head of household with a education level of undergraduate and higher education have less poverty.\n",
        "#We can see a clear trend for different target labels\n",
        "#instlevel8 is a good feature to be kept in the dataset for model testing"
      ],
      "metadata": {
        "colab": {
          "base_uri": "https://localhost:8080/",
          "height": 467
        },
        "id": "EjtJ7F37OFcp",
        "outputId": "bf9fbb52-6b8c-4c01-d4e6-ab32e9a5c8e5"
      },
      "execution_count": null,
      "outputs": [
        {
          "output_type": "display_data",
          "data": {
            "text/plain": [
              "<Figure size 640x480 with 1 Axes>"
            ],
            "image/png": "[encoded data removed]"
          },
          "metadata": {}
        }
      ]
    },
    {
      "cell_type": "markdown",
      "source": [
        "Wall material\n",
        "\n",
        "paredblolad\t=1 if predominant material on the outside wall is block or brick\n",
        "paredzocalo\t=1 if predominant material on the outside wall is socket (wood,  zinc or absbesto\n",
        "paredpreb\t=1 if predominant material on the outside wall is prefabricated or cement\n",
        "pareddes\t=1 if predominant material on the outside wall is waste material\n",
        "paredmad\t=1 if predominant material on the outside wall is wood\n",
        "paredzinc\t=1 if predominant material on the outside wall is zink\n",
        "paredfibras\t=1 if predominant material on the outside wall is natural fibers\n",
        "paredother\t=1 if predominant material on the outside wall is other"
      ],
      "metadata": {
        "id": "G-NZpqmph0PA"
      }
    },
    {
      "cell_type": "code",
      "source": [
        "def wall_material_category(row):\n",
        "    if row['paredblolad'] == 1:\n",
        "        return 'block or brick'\n",
        "    elif row['paredzocalo'] == 1:\n",
        "        return 'socket (wood, zinc or asbestos)'\n",
        "    elif row['paredpreb'] == 1:\n",
        "        return 'prefabricated or cement'\n",
        "    elif row['pareddes'] == 1:\n",
        "        return 'waste material'\n",
        "    elif row['paredmad'] == 1:\n",
        "        return 'wood'\n",
        "    elif row['paredzinc'] == 1:\n",
        "        return 'zinc'\n",
        "    elif row['paredfibras'] == 1:\n",
        "        return 'natural fibers'\n",
        "    elif row['paredother'] == 1:\n",
        "        return 'other'\n",
        "    else:\n",
        "        return 'unknown'  # No data or invalid data\n",
        "\n",
        "# Creating a new categorical variable 'wall_material'\n",
        "HH_head_data_cleaned['wall_material'] = HH_head_data_cleaned.apply(wall_material_category, axis=1)\n"
      ],
      "metadata": {
        "colab": {
          "base_uri": "https://localhost:8080/"
        },
        "id": "67Y-nYBTh46U",
        "outputId": "84ab82ef-9d5b-40a0-cb2c-2cfc9cdc0145"
      },
      "execution_count": null,
      "outputs": [
        {
          "output_type": "stream",
          "name": "stderr",
          "text": [
            "<ipython-input-112-0b0edbed7456>:22: SettingWithCopyWarning: \n",
            "A value is trying to be set on a copy of a slice from a DataFrame.\n",
            "Try using .loc[row_indexer,col_indexer] = value instead\n",
            "\n",
            "See the caveats in the documentation: https://pandas.pydata.org/pandas-docs/stable/user_guide/indexing.html#returning-a-view-versus-a-copy\n",
            "  HH_head_data_cleaned['wall_material'] = HH_head_data_cleaned.apply(wall_material_category, axis=1)\n"
          ]
        }
      ]
    },
    {
      "cell_type": "code",
      "source": [
        "wall_material = HH_head_data_cleaned.groupby(['Target', 'wall_material']).size().reset_index(name='count')\n",
        "pivot_table_percentage_wall = wall_material.pivot_table(index='Target', columns='wall_material', values='count', fill_value=0)\n",
        "pivot_table_percentage_wall_table = pivot_table_percentage_wall.div(pivot_table_percentage_wall.sum(axis=1), axis=0) * 100\n",
        "pivot_table_percentage_wall_table"
      ],
      "metadata": {
        "colab": {
          "base_uri": "https://localhost:8080/",
          "height": 206
        },
        "id": "vFc9DcftiM0C",
        "outputId": "fe24e9fa-07d6-4f50-e398-45b2af412566"
      },
      "execution_count": null,
      "outputs": [
        {
          "output_type": "execute_result",
          "data": {
            "text/plain": [
              "wall_material  block or brick  natural fibers     other  \\\n",
              "Target                                                    \n",
              "1                   36.776860        0.826446  0.000000   \n",
              "2                   40.939597        0.223714  0.223714   \n",
              "3                   51.622419        0.000000  0.000000   \n",
              "4                   69.254499        0.102828  0.154242   \n",
              "\n",
              "wall_material  prefabricated or cement  socket (wood, zinc or asbestos)  \\\n",
              "Target                                                                    \n",
              "1                            26.859504                        10.743802   \n",
              "2                            23.042506                        12.080537   \n",
              "3                            23.598820                         8.259587   \n",
              "4                            15.269923                         6.323907   \n",
              "\n",
              "wall_material  waste material       wood      zinc  \n",
              "Target                                              \n",
              "1                    2.479339  20.247934  2.066116  \n",
              "2                    2.460850  19.239374  1.789709  \n",
              "3                    1.179941  15.044248  0.294985  \n",
              "4                    0.205656   7.866324  0.822622  "
            ],
            "text/html": [
              "\n",
              "  <div id=\"df-8214ff03-2440-479a-a072-373aa3403dd8\">\n",
              "    <div class=\"colab-df-container\">\n",
              "      <div>\n",
              "<style scoped>\n",
              "    .dataframe tbody tr th:only-of-type {\n",
              "        vertical-align: middle;\n",
              "    }\n",
              "\n",
              "    .dataframe tbody tr th {\n",
              "        vertical-align: top;\n",
              "    }\n",
              "\n",
              "    .dataframe thead th {\n",
              "        text-align: right;\n",
              "    }\n",
              "</style>\n",
              "<table border=\"1\" class=\"dataframe\">\n",
              "  <thead>\n",
              "    <tr style=\"text-align: right;\">\n",
              "      <th>wall_material</th>\n",
              "      <th>block or brick</th>\n",
              "      <th>natural fibers</th>\n",
              "      <th>other</th>\n",
              "      <th>prefabricated or cement</th>\n",
              "      <th>socket (wood, zinc or asbestos)</th>\n",
              "      <th>waste material</th>\n",
              "      <th>wood</th>\n",
              "      <th>zinc</th>\n",
              "    </tr>\n",
              "    <tr>\n",
              "      <th>Target</th>\n",
              "      <th></th>\n",
              "      <th></th>\n",
              "      <th></th>\n",
              "      <th></th>\n",
              "      <th></th>\n",
              "      <th></th>\n",
              "      <th></th>\n",
              "      <th></th>\n",
              "    </tr>\n",
              "  </thead>\n",
              "  <tbody>\n",
              "    <tr>\n",
              "      <th>1</th>\n",
              "      <td>36.776860</td>\n",
              "      <td>0.826446</td>\n",
              "      <td>0.000000</td>\n",
              "      <td>26.859504</td>\n",
              "      <td>10.743802</td>\n",
              "      <td>2.479339</td>\n",
              "      <td>20.247934</td>\n",
              "      <td>2.066116</td>\n",
              "    </tr>\n",
              "    <tr>\n",
              "      <th>2</th>\n",
              "      <td>40.939597</td>\n",
              "      <td>0.223714</td>\n",
              "      <td>0.223714</td>\n",
              "      <td>23.042506</td>\n",
              "      <td>12.080537</td>\n",
              "      <td>2.460850</td>\n",
              "      <td>19.239374</td>\n",
              "      <td>1.789709</td>\n",
              "    </tr>\n",
              "    <tr>\n",
              "      <th>3</th>\n",
              "      <td>51.622419</td>\n",
              "      <td>0.000000</td>\n",
              "      <td>0.000000</td>\n",
              "      <td>23.598820</td>\n",
              "      <td>8.259587</td>\n",
              "      <td>1.179941</td>\n",
              "      <td>15.044248</td>\n",
              "      <td>0.294985</td>\n",
              "    </tr>\n",
              "    <tr>\n",
              "      <th>4</th>\n",
              "      <td>69.254499</td>\n",
              "      <td>0.102828</td>\n",
              "      <td>0.154242</td>\n",
              "      <td>15.269923</td>\n",
              "      <td>6.323907</td>\n",
              "      <td>0.205656</td>\n",
              "      <td>7.866324</td>\n",
              "      <td>0.822622</td>\n",
              "    </tr>\n",
              "  </tbody>\n",
              "</table>\n",
              "</div>\n",
              "      <button class=\"colab-df-convert\" onclick=\"convertToInteractive('df-8214ff03-2440-479a-a072-373aa3403dd8')\"\n",
              "              title=\"Convert this dataframe to an interactive table.\"\n",
              "              style=\"display:none;\">\n",
              "        \n",
              "  <svg xmlns=\"http://www.w3.org/2000/svg\" height=\"24px\"viewBox=\"0 0 24 24\"\n",
              "       width=\"24px\">\n",
              "    <path d=\"M0 0h24v24H0V0z\" fill=\"none\"/>\n",
              "    <path d=\"M18.56 5.44l.94 2.06.94-2.06 2.06-.94-2.06-.94-.94-2.06-.94 2.06-2.06.94zm-11 1L8.5 8.5l.94-2.06 2.06-.94-2.06-.94L8.5 2.5l-.94 2.06-2.06.94zm10 10l.94 2.06.94-2.06 2.06-.94-2.06-.94-.94-2.06-.94 2.06-2.06.94z\"/><path d=\"M17.41 7.96l-1.37-1.37c-.4-.4-.92-.59-1.43-.59-.52 0-1.04.2-1.43.59L10.3 9.45l-7.72 7.72c-.78.78-.78 2.05 0 2.83L4 21.41c.39.39.9.59 1.41.59.51 0 1.02-.2 1.41-.59l7.78-7.78 2.81-2.81c.8-.78.8-2.07 0-2.86zM5.41 20L4 18.59l7.72-7.72 1.47 1.35L5.41 20z\"/>\n",
              "  </svg>\n",
              "      </button>\n",
              "      \n",
              "  <style>\n",
              "    .colab-df-container {\n",
              "      display:flex;\n",
              "      flex-wrap:wrap;\n",
              "      gap: 12px;\n",
              "    }\n",
              "\n",
              "    .colab-df-convert {\n",
              "      background-color: #E8F0FE;\n",
              "      border: none;\n",
              "      border-radius: 50%;\n",
              "      cursor: pointer;\n",
              "      display: none;\n",
              "      fill: #1967D2;\n",
              "      height: 32px;\n",
              "      padding: 0 0 0 0;\n",
              "      width: 32px;\n",
              "    }\n",
              "\n",
              "    .colab-df-convert:hover {\n",
              "      background-color: #E2EBFA;\n",
              "      box-shadow: 0px 1px 2px rgba(60, 64, 67, 0.3), 0px 1px 3px 1px rgba(60, 64, 67, 0.15);\n",
              "      fill: #174EA6;\n",
              "    }\n",
              "\n",
              "    [theme=dark] .colab-df-convert {\n",
              "      background-color: #3B4455;\n",
              "      fill: #D2E3FC;\n",
              "    }\n",
              "\n",
              "    [theme=dark] .colab-df-convert:hover {\n",
              "      background-color: #434B5C;\n",
              "      box-shadow: 0px 1px 3px 1px rgba(0, 0, 0, 0.15);\n",
              "      filter: drop-shadow(0px 1px 2px rgba(0, 0, 0, 0.3));\n",
              "      fill: #FFFFFF;\n",
              "    }\n",
              "  </style>\n",
              "\n",
              "      <script>\n",
              "        const buttonEl =\n",
              "          document.querySelector('#df-8214ff03-2440-479a-a072-373aa3403dd8 button.colab-df-convert');\n",
              "        buttonEl.style.display =\n",
              "          google.colab.kernel.accessAllowed ? 'block' : 'none';\n",
              "\n",
              "        async function convertToInteractive(key) {\n",
              "          const element = document.querySelector('#df-8214ff03-2440-479a-a072-373aa3403dd8');\n",
              "          const dataTable =\n",
              "            await google.colab.kernel.invokeFunction('convertToInteractive',\n",
              "                                                     [key], {});\n",
              "          if (!dataTable) return;\n",
              "\n",
              "          const docLinkHtml = 'Like what you see? Visit the ' +\n",
              "            '<a target=\"_blank\" href=https://colab.research.google.com/notebooks/data_table.ipynb>data table notebook</a>'\n",
              "            + ' to learn more about interactive tables.';\n",
              "          element.innerHTML = '';\n",
              "          dataTable['output_type'] = 'display_data';\n",
              "          await google.colab.output.renderOutput(dataTable, element);\n",
              "          const docLink = document.createElement('div');\n",
              "          docLink.innerHTML = docLinkHtml;\n",
              "          element.appendChild(docLink);\n",
              "        }\n",
              "      </script>\n",
              "    </div>\n",
              "  </div>\n",
              "  "
            ]
          },
          "metadata": {},
          "execution_count": 113
        }
      ]
    },
    {
      "cell_type": "code",
      "source": [
        "pivot_table_wall = wall_material.pivot_table(index='Target', columns='wall_material', values='count', fill_value=0)\n",
        "ax = pivot_table_wall.plot.bar(stacked=False)\n",
        "ax.set_xlabel('Target')\n",
        "ax.set_ylabel('Count of wall_material')\n",
        "ax.set_title('wall_material Distribution by Target Level')\n",
        "plt.show()"
      ],
      "metadata": {
        "colab": {
          "base_uri": "https://localhost:8080/",
          "height": 467
        },
        "id": "89LT4yeaiN3e",
        "outputId": "f0f6b30a-e42d-4dee-ff2a-52bf8c9cff47"
      },
      "execution_count": null,
      "outputs": [
        {
          "output_type": "display_data",
          "data": {
            "text/plain": [
              "<Figure size 640x480 with 1 Axes>"
            ],
            "image/png": "[encoded data removed]"
          },
          "metadata": {}
        }
      ]
    },
    {
      "cell_type": "code",
      "source": [
        "ax = pivot_table_percentage_wall_table.plot.bar()\n",
        "ax.set_xlabel('Target')\n",
        "ax.set_ylabel('Percentage of wall_material')\n",
        "ax.set_title('wall_material Distribution by Target Level')\n",
        "plt.show()"
      ],
      "metadata": {
        "colab": {
          "base_uri": "https://localhost:8080/",
          "height": 467
        },
        "id": "bhSbEUIKldGl",
        "outputId": "0466c48e-ac14-48ed-f73f-64064bfa5cf3"
      },
      "execution_count": null,
      "outputs": [
        {
          "output_type": "display_data",
          "data": {
            "text/plain": [
              "<Figure size 640x480 with 1 Axes>"
            ],
            "image/png": "[encoded data removed]"
          },
          "metadata": {}
        }
      ]
    },
    {
      "cell_type": "markdown",
      "source": [
        "##housing_situation\n",
        "create a new categorical variable called 'housing_situation'\n",
        "\n",
        "tipovivi1\t=1 own and fully paid house\n",
        "tipovivi2\t=1 own,  paying in installments\n",
        "tipovivi3\t=1 rented\n",
        "tipovivi4\t=1 precarious\n",
        "tipovivi5\t=1 other(assigned,  borrowed)"
      ],
      "metadata": {
        "id": "YKlfgjV3IYEL"
      }
    },
    {
      "cell_type": "code",
      "source": [
        "def housing_situation_category(row):\n",
        "    if row['tipovivi1'] == 1:\n",
        "        return 'own and fully paid'\n",
        "    elif row['tipovivi2'] == 1:\n",
        "        return 'own, paying in installments'\n",
        "    elif row['tipovivi3'] == 1:\n",
        "        return 'rented'\n",
        "    elif row['tipovivi4'] == 1:\n",
        "        return 'precarious'\n",
        "    elif row['tipovivi5'] == 1:\n",
        "        return 'other (assigned, borrowed)'\n",
        "    else:\n",
        "        return 'unknown'  # No data or invalid data\n",
        "\n",
        "# Creating a new categorical variable 'housing_situation'\n",
        "HH_head_data_cleaned['housing_situation'] = HH_head_data_cleaned.apply(housing_situation_category, axis=1)"
      ],
      "metadata": {
        "colab": {
          "base_uri": "https://localhost:8080/"
        },
        "id": "4uhk3Z9WK355",
        "outputId": "416fe20a-b503-4b11-a2c9-2ce3f4201865"
      },
      "execution_count": null,
      "outputs": [
        {
          "output_type": "stream",
          "name": "stderr",
          "text": [
            "<ipython-input-116-e0bf91ec88df>:16: SettingWithCopyWarning: \n",
            "A value is trying to be set on a copy of a slice from a DataFrame.\n",
            "Try using .loc[row_indexer,col_indexer] = value instead\n",
            "\n",
            "See the caveats in the documentation: https://pandas.pydata.org/pandas-docs/stable/user_guide/indexing.html#returning-a-view-versus-a-copy\n",
            "  HH_head_data_cleaned['housing_situation'] = HH_head_data_cleaned.apply(housing_situation_category, axis=1)\n"
          ]
        }
      ]
    },
    {
      "cell_type": "code",
      "source": [
        "housing = HH_head_data_cleaned.groupby(['Target', 'housing_situation']).size().reset_index(name='count')\n",
        "pivot_table_percentage_housing = housing.pivot_table(index='Target', columns='housing_situation', values='count', fill_value=0)\n",
        "pivot_table_percentage_housing_table = pivot_table_percentage_housing.div(pivot_table_percentage_housing.sum(axis=1), axis=0) * 100\n",
        "pivot_table_percentage_housing_table"
      ],
      "metadata": {
        "colab": {
          "base_uri": "https://localhost:8080/",
          "height": 206
        },
        "id": "fAoOuuHOK6-m",
        "outputId": "1c12cd1c-24b7-4d6b-ada8-ac8632766aa4"
      },
      "execution_count": null,
      "outputs": [
        {
          "output_type": "execute_result",
          "data": {
            "text/plain": [
              "housing_situation  other (assigned, borrowed)  own and fully paid  \\\n",
              "Target                                                              \n",
              "1                                   12.396694           64.876033   \n",
              "2                                   13.870246           63.087248   \n",
              "3                                   10.029499           65.191740   \n",
              "4                                    6.580977           61.491003   \n",
              "\n",
              "housing_situation  own, paying in installments  precarious     rented  \n",
              "Target                                                                 \n",
              "1                                     3.305785    4.545455  14.876033  \n",
              "2                                     2.684564    3.355705  17.002237  \n",
              "3                                     6.194690    2.359882  16.224189  \n",
              "4                                    12.287918    0.616967  19.023136  "
            ],
            "text/html": [
              "\n",
              "  <div id=\"df-b3af7b97-b4e9-4d6f-b188-a6dbc699f091\">\n",
              "    <div class=\"colab-df-container\">\n",
              "      <div>\n",
              "<style scoped>\n",
              "    .dataframe tbody tr th:only-of-type {\n",
              "        vertical-align: middle;\n",
              "    }\n",
              "\n",
              "    .dataframe tbody tr th {\n",
              "        vertical-align: top;\n",
              "    }\n",
              "\n",
              "    .dataframe thead th {\n",
              "        text-align: right;\n",
              "    }\n",
              "</style>\n",
              "<table border=\"1\" class=\"dataframe\">\n",
              "  <thead>\n",
              "    <tr style=\"text-align: right;\">\n",
              "      <th>housing_situation</th>\n",
              "      <th>other (assigned, borrowed)</th>\n",
              "      <th>own and fully paid</th>\n",
              "      <th>own, paying in installments</th>\n",
              "      <th>precarious</th>\n",
              "      <th>rented</th>\n",
              "    </tr>\n",
              "    <tr>\n",
              "      <th>Target</th>\n",
              "      <th></th>\n",
              "      <th></th>\n",
              "      <th></th>\n",
              "      <th></th>\n",
              "      <th></th>\n",
              "    </tr>\n",
              "  </thead>\n",
              "  <tbody>\n",
              "    <tr>\n",
              "      <th>1</th>\n",
              "      <td>12.396694</td>\n",
              "      <td>64.876033</td>\n",
              "      <td>3.305785</td>\n",
              "      <td>4.545455</td>\n",
              "      <td>14.876033</td>\n",
              "    </tr>\n",
              "    <tr>\n",
              "      <th>2</th>\n",
              "      <td>13.870246</td>\n",
              "      <td>63.087248</td>\n",
              "      <td>2.684564</td>\n",
              "      <td>3.355705</td>\n",
              "      <td>17.002237</td>\n",
              "    </tr>\n",
              "    <tr>\n",
              "      <th>3</th>\n",
              "      <td>10.029499</td>\n",
              "      <td>65.191740</td>\n",
              "      <td>6.194690</td>\n",
              "      <td>2.359882</td>\n",
              "      <td>16.224189</td>\n",
              "    </tr>\n",
              "    <tr>\n",
              "      <th>4</th>\n",
              "      <td>6.580977</td>\n",
              "      <td>61.491003</td>\n",
              "      <td>12.287918</td>\n",
              "      <td>0.616967</td>\n",
              "      <td>19.023136</td>\n",
              "    </tr>\n",
              "  </tbody>\n",
              "</table>\n",
              "</div>\n",
              "      <button class=\"colab-df-convert\" onclick=\"convertToInteractive('df-b3af7b97-b4e9-4d6f-b188-a6dbc699f091')\"\n",
              "              title=\"Convert this dataframe to an interactive table.\"\n",
              "              style=\"display:none;\">\n",
              "        \n",
              "  <svg xmlns=\"http://www.w3.org/2000/svg\" height=\"24px\"viewBox=\"0 0 24 24\"\n",
              "       width=\"24px\">\n",
              "    <path d=\"M0 0h24v24H0V0z\" fill=\"none\"/>\n",
              "    <path d=\"M18.56 5.44l.94 2.06.94-2.06 2.06-.94-2.06-.94-.94-2.06-.94 2.06-2.06.94zm-11 1L8.5 8.5l.94-2.06 2.06-.94-2.06-.94L8.5 2.5l-.94 2.06-2.06.94zm10 10l.94 2.06.94-2.06 2.06-.94-2.06-.94-.94-2.06-.94 2.06-2.06.94z\"/><path d=\"M17.41 7.96l-1.37-1.37c-.4-.4-.92-.59-1.43-.59-.52 0-1.04.2-1.43.59L10.3 9.45l-7.72 7.72c-.78.78-.78 2.05 0 2.83L4 21.41c.39.39.9.59 1.41.59.51 0 1.02-.2 1.41-.59l7.78-7.78 2.81-2.81c.8-.78.8-2.07 0-2.86zM5.41 20L4 18.59l7.72-7.72 1.47 1.35L5.41 20z\"/>\n",
              "  </svg>\n",
              "      </button>\n",
              "      \n",
              "  <style>\n",
              "    .colab-df-container {\n",
              "      display:flex;\n",
              "      flex-wrap:wrap;\n",
              "      gap: 12px;\n",
              "    }\n",
              "\n",
              "    .colab-df-convert {\n",
              "      background-color: #E8F0FE;\n",
              "      border: none;\n",
              "      border-radius: 50%;\n",
              "      cursor: pointer;\n",
              "      display: none;\n",
              "      fill: #1967D2;\n",
              "      height: 32px;\n",
              "      padding: 0 0 0 0;\n",
              "      width: 32px;\n",
              "    }\n",
              "\n",
              "    .colab-df-convert:hover {\n",
              "      background-color: #E2EBFA;\n",
              "      box-shadow: 0px 1px 2px rgba(60, 64, 67, 0.3), 0px 1px 3px 1px rgba(60, 64, 67, 0.15);\n",
              "      fill: #174EA6;\n",
              "    }\n",
              "\n",
              "    [theme=dark] .colab-df-convert {\n",
              "      background-color: #3B4455;\n",
              "      fill: #D2E3FC;\n",
              "    }\n",
              "\n",
              "    [theme=dark] .colab-df-convert:hover {\n",
              "      background-color: #434B5C;\n",
              "      box-shadow: 0px 1px 3px 1px rgba(0, 0, 0, 0.15);\n",
              "      filter: drop-shadow(0px 1px 2px rgba(0, 0, 0, 0.3));\n",
              "      fill: #FFFFFF;\n",
              "    }\n",
              "  </style>\n",
              "\n",
              "      <script>\n",
              "        const buttonEl =\n",
              "          document.querySelector('#df-b3af7b97-b4e9-4d6f-b188-a6dbc699f091 button.colab-df-convert');\n",
              "        buttonEl.style.display =\n",
              "          google.colab.kernel.accessAllowed ? 'block' : 'none';\n",
              "\n",
              "        async function convertToInteractive(key) {\n",
              "          const element = document.querySelector('#df-b3af7b97-b4e9-4d6f-b188-a6dbc699f091');\n",
              "          const dataTable =\n",
              "            await google.colab.kernel.invokeFunction('convertToInteractive',\n",
              "                                                     [key], {});\n",
              "          if (!dataTable) return;\n",
              "\n",
              "          const docLinkHtml = 'Like what you see? Visit the ' +\n",
              "            '<a target=\"_blank\" href=https://colab.research.google.com/notebooks/data_table.ipynb>data table notebook</a>'\n",
              "            + ' to learn more about interactive tables.';\n",
              "          element.innerHTML = '';\n",
              "          dataTable['output_type'] = 'display_data';\n",
              "          await google.colab.output.renderOutput(dataTable, element);\n",
              "          const docLink = document.createElement('div');\n",
              "          docLink.innerHTML = docLinkHtml;\n",
              "          element.appendChild(docLink);\n",
              "        }\n",
              "      </script>\n",
              "    </div>\n",
              "  </div>\n",
              "  "
            ]
          },
          "metadata": {},
          "execution_count": 117
        }
      ]
    },
    {
      "cell_type": "code",
      "source": [
        "pivot_table_housing = housing.pivot_table(index='Target', columns='housing_situation', values='count', fill_value=0)\n",
        "ax = pivot_table_housing.plot.bar()\n",
        "ax.set_xlabel('Target')\n",
        "ax.set_ylabel('Count of housing_situation')\n",
        "ax.set_title('housing_situation Distribution by Target Level')\n",
        "plt.show()"
      ],
      "metadata": {
        "colab": {
          "base_uri": "https://localhost:8080/",
          "height": 467
        },
        "id": "u1MfXDwLLLNe",
        "outputId": "fad73312-043e-494a-bc3f-33c0c215ffca"
      },
      "execution_count": null,
      "outputs": [
        {
          "output_type": "display_data",
          "data": {
            "text/plain": [
              "<Figure size 640x480 with 1 Axes>"
            ],
            "image/png": "[encoded data removed]"
          },
          "metadata": {}
        }
      ]
    },
    {
      "cell_type": "code",
      "source": [
        "ax = pivot_table_percentage_housing_table.plot.bar()\n",
        "ax.set_xlabel('Target')\n",
        "ax.set_ylabel('percentage of housing_situation')\n",
        "ax.set_title('housing_situation Distribution by Target Level')\n",
        "plt.show()"
      ],
      "metadata": {
        "colab": {
          "base_uri": "https://localhost:8080/",
          "height": 467
        },
        "id": "2EjN1mA3kzPN",
        "outputId": "9c570acd-a3a1-4629-abee-1125ebf2b681"
      },
      "execution_count": null,
      "outputs": [
        {
          "output_type": "display_data",
          "data": {
            "text/plain": [
              "<Figure size 640x480 with 1 Axes>"
            ],
            "image/png": "[encoded data removed]"
          },
          "metadata": {}
        }
      ]
    },
    {
      "cell_type": "markdown",
      "source": [
        "##wall_status\n",
        "epared1\t=1 if walls are bad\n",
        "epared2\t=1 if walls are regular\n",
        "epared3\t=1 if walls are good"
      ],
      "metadata": {
        "id": "J7xk9APlxUxx"
      }
    },
    {
      "cell_type": "code",
      "source": [
        "def wall_status_category(row):\n",
        "    if row['epared1'] == 1:\n",
        "        return 'bad'\n",
        "    elif row['epared2'] == 1:\n",
        "        return 'regular'\n",
        "    elif row['epared3'] == 1:\n",
        "        return 'good'\n",
        "    else:\n",
        "        return 'unknown'  # No data or invalid data\n",
        "\n",
        "# Creating a new categorical variable 'wall_status'\n",
        "HH_head_data_cleaned['wall_status'] = HH_head_data_cleaned.apply(wall_status_category, axis=1)"
      ],
      "metadata": {
        "colab": {
          "base_uri": "https://localhost:8080/"
        },
        "id": "wL_AtE6exdxX",
        "outputId": "67c27df7-546a-471e-adc8-52434211d728"
      },
      "execution_count": null,
      "outputs": [
        {
          "output_type": "stream",
          "name": "stderr",
          "text": [
            "<ipython-input-120-16ea351d3552>:12: SettingWithCopyWarning: \n",
            "A value is trying to be set on a copy of a slice from a DataFrame.\n",
            "Try using .loc[row_indexer,col_indexer] = value instead\n",
            "\n",
            "See the caveats in the documentation: https://pandas.pydata.org/pandas-docs/stable/user_guide/indexing.html#returning-a-view-versus-a-copy\n",
            "  HH_head_data_cleaned['wall_status'] = HH_head_data_cleaned.apply(wall_status_category, axis=1)\n"
          ]
        }
      ]
    },
    {
      "cell_type": "code",
      "source": [
        "wall_status = HH_head_data_cleaned.groupby(['Target', 'wall_status']).size().reset_index(name='count')\n",
        "wall_status_pivot = wall_status.pivot_table(index='Target', columns='wall_status', values='count', fill_value=0)\n",
        "wall_status_pivot_table = wall_status_pivot.div(wall_status_pivot.sum(axis=1), axis=0) * 100\n",
        "wall_status_pivot_table"
      ],
      "metadata": {
        "colab": {
          "base_uri": "https://localhost:8080/",
          "height": 206
        },
        "id": "nV0pgoZHyJBx",
        "outputId": "de54f1be-9f09-4763-bf5d-9f1c18fefefe"
      },
      "execution_count": null,
      "outputs": [
        {
          "output_type": "execute_result",
          "data": {
            "text/plain": [
              "wall_status        bad       good    regular\n",
              "Target                                      \n",
              "1            23.140496  32.231405  44.628099\n",
              "2            19.686801  37.136465  43.176734\n",
              "3            13.274336  50.737463  35.988201\n",
              "4             5.912596  68.483290  25.604113"
            ],
            "text/html": [
              "\n",
              "  <div id=\"df-fd7ae294-baa6-4cce-809f-b7270bfdb5d4\">\n",
              "    <div class=\"colab-df-container\">\n",
              "      <div>\n",
              "<style scoped>\n",
              "    .dataframe tbody tr th:only-of-type {\n",
              "        vertical-align: middle;\n",
              "    }\n",
              "\n",
              "    .dataframe tbody tr th {\n",
              "        vertical-align: top;\n",
              "    }\n",
              "\n",
              "    .dataframe thead th {\n",
              "        text-align: right;\n",
              "    }\n",
              "</style>\n",
              "<table border=\"1\" class=\"dataframe\">\n",
              "  <thead>\n",
              "    <tr style=\"text-align: right;\">\n",
              "      <th>wall_status</th>\n",
              "      <th>bad</th>\n",
              "      <th>good</th>\n",
              "      <th>regular</th>\n",
              "    </tr>\n",
              "    <tr>\n",
              "      <th>Target</th>\n",
              "      <th></th>\n",
              "      <th></th>\n",
              "      <th></th>\n",
              "    </tr>\n",
              "  </thead>\n",
              "  <tbody>\n",
              "    <tr>\n",
              "      <th>1</th>\n",
              "      <td>23.140496</td>\n",
              "      <td>32.231405</td>\n",
              "      <td>44.628099</td>\n",
              "    </tr>\n",
              "    <tr>\n",
              "      <th>2</th>\n",
              "      <td>19.686801</td>\n",
              "      <td>37.136465</td>\n",
              "      <td>43.176734</td>\n",
              "    </tr>\n",
              "    <tr>\n",
              "      <th>3</th>\n",
              "      <td>13.274336</td>\n",
              "      <td>50.737463</td>\n",
              "      <td>35.988201</td>\n",
              "    </tr>\n",
              "    <tr>\n",
              "      <th>4</th>\n",
              "      <td>5.912596</td>\n",
              "      <td>68.483290</td>\n",
              "      <td>25.604113</td>\n",
              "    </tr>\n",
              "  </tbody>\n",
              "</table>\n",
              "</div>\n",
              "      <button class=\"colab-df-convert\" onclick=\"convertToInteractive('df-fd7ae294-baa6-4cce-809f-b7270bfdb5d4')\"\n",
              "              title=\"Convert this dataframe to an interactive table.\"\n",
              "              style=\"display:none;\">\n",
              "        \n",
              "  <svg xmlns=\"http://www.w3.org/2000/svg\" height=\"24px\"viewBox=\"0 0 24 24\"\n",
              "       width=\"24px\">\n",
              "    <path d=\"M0 0h24v24H0V0z\" fill=\"none\"/>\n",
              "    <path d=\"M18.56 5.44l.94 2.06.94-2.06 2.06-.94-2.06-.94-.94-2.06-.94 2.06-2.06.94zm-11 1L8.5 8.5l.94-2.06 2.06-.94-2.06-.94L8.5 2.5l-.94 2.06-2.06.94zm10 10l.94 2.06.94-2.06 2.06-.94-2.06-.94-.94-2.06-.94 2.06-2.06.94z\"/><path d=\"M17.41 7.96l-1.37-1.37c-.4-.4-.92-.59-1.43-.59-.52 0-1.04.2-1.43.59L10.3 9.45l-7.72 7.72c-.78.78-.78 2.05 0 2.83L4 21.41c.39.39.9.59 1.41.59.51 0 1.02-.2 1.41-.59l7.78-7.78 2.81-2.81c.8-.78.8-2.07 0-2.86zM5.41 20L4 18.59l7.72-7.72 1.47 1.35L5.41 20z\"/>\n",
              "  </svg>\n",
              "      </button>\n",
              "      \n",
              "  <style>\n",
              "    .colab-df-container {\n",
              "      display:flex;\n",
              "      flex-wrap:wrap;\n",
              "      gap: 12px;\n",
              "    }\n",
              "\n",
              "    .colab-df-convert {\n",
              "      background-color: #E8F0FE;\n",
              "      border: none;\n",
              "      border-radius: 50%;\n",
              "      cursor: pointer;\n",
              "      display: none;\n",
              "      fill: #1967D2;\n",
              "      height: 32px;\n",
              "      padding: 0 0 0 0;\n",
              "      width: 32px;\n",
              "    }\n",
              "\n",
              "    .colab-df-convert:hover {\n",
              "      background-color: #E2EBFA;\n",
              "      box-shadow: 0px 1px 2px rgba(60, 64, 67, 0.3), 0px 1px 3px 1px rgba(60, 64, 67, 0.15);\n",
              "      fill: #174EA6;\n",
              "    }\n",
              "\n",
              "    [theme=dark] .colab-df-convert {\n",
              "      background-color: #3B4455;\n",
              "      fill: #D2E3FC;\n",
              "    }\n",
              "\n",
              "    [theme=dark] .colab-df-convert:hover {\n",
              "      background-color: #434B5C;\n",
              "      box-shadow: 0px 1px 3px 1px rgba(0, 0, 0, 0.15);\n",
              "      filter: drop-shadow(0px 1px 2px rgba(0, 0, 0, 0.3));\n",
              "      fill: #FFFFFF;\n",
              "    }\n",
              "  </style>\n",
              "\n",
              "      <script>\n",
              "        const buttonEl =\n",
              "          document.querySelector('#df-fd7ae294-baa6-4cce-809f-b7270bfdb5d4 button.colab-df-convert');\n",
              "        buttonEl.style.display =\n",
              "          google.colab.kernel.accessAllowed ? 'block' : 'none';\n",
              "\n",
              "        async function convertToInteractive(key) {\n",
              "          const element = document.querySelector('#df-fd7ae294-baa6-4cce-809f-b7270bfdb5d4');\n",
              "          const dataTable =\n",
              "            await google.colab.kernel.invokeFunction('convertToInteractive',\n",
              "                                                     [key], {});\n",
              "          if (!dataTable) return;\n",
              "\n",
              "          const docLinkHtml = 'Like what you see? Visit the ' +\n",
              "            '<a target=\"_blank\" href=https://colab.research.google.com/notebooks/data_table.ipynb>data table notebook</a>'\n",
              "            + ' to learn more about interactive tables.';\n",
              "          element.innerHTML = '';\n",
              "          dataTable['output_type'] = 'display_data';\n",
              "          await google.colab.output.renderOutput(dataTable, element);\n",
              "          const docLink = document.createElement('div');\n",
              "          docLink.innerHTML = docLinkHtml;\n",
              "          element.appendChild(docLink);\n",
              "        }\n",
              "      </script>\n",
              "    </div>\n",
              "  </div>\n",
              "  "
            ]
          },
          "metadata": {},
          "execution_count": 121
        }
      ]
    },
    {
      "cell_type": "code",
      "source": [
        "ax = wall_status_pivot_table.plot.bar()\n",
        "ax.set_xlabel('Target')\n",
        "ax.set_ylabel('percentage of wall_status')\n",
        "ax.set_title('wall_status Distribution by Target Level')\n",
        "plt.show()"
      ],
      "metadata": {
        "colab": {
          "base_uri": "https://localhost:8080/",
          "height": 467
        },
        "id": "EbgbnGSryJJC",
        "outputId": "dac964b1-59de-4f48-dcc1-d4f143996895"
      },
      "execution_count": null,
      "outputs": [
        {
          "output_type": "display_data",
          "data": {
            "text/plain": [
              "<Figure size 640x480 with 1 Axes>"
            ],
            "image/png": "[encoded data removed]"
          },
          "metadata": {}
        }
      ]
    },
    {
      "cell_type": "markdown",
      "source": [
        "##floor material\n",
        "\n",
        "pisomoscer\t=1 if predominant material on the floor is mosaic,  ceramic,  terrazo\n",
        "pisocemento\t=1 if predominant material on the floor is cement\n",
        "pisoother\t=1 if predominant material on the floor is other\n",
        "pisonatur\t=1 if predominant material on the floor is  natural material\n",
        "pisonotiene\t=1 if no floor at the household\n",
        "pisomadera\t=1 if predominant material on the floor is wood"
      ],
      "metadata": {
        "id": "NKbstmsFl0fM"
      }
    },
    {
      "cell_type": "code",
      "source": [
        "def floor_material_category(row):\n",
        "    if row['pisomoscer'] == 1:\n",
        "        return 'mosaic, ceramic, terrazo'\n",
        "    elif row['pisocemento'] == 1:\n",
        "        return 'cement'\n",
        "    elif row['pisoother'] == 1:\n",
        "        return 'other'\n",
        "    elif row['pisonatur'] == 1:\n",
        "        return 'natural material'\n",
        "    elif row['pisomadera'] == 1:\n",
        "        return 'wood'\n",
        "    else:\n",
        "        return 'unknown'  # No data or invalid data\n",
        "\n",
        "# Creating a new categorical variable 'floor_material'\n",
        "HH_head_data_cleaned['floor_material'] = HH_head_data_cleaned.apply(floor_material_category, axis=1)"
      ],
      "metadata": {
        "colab": {
          "base_uri": "https://localhost:8080/"
        },
        "id": "eHAoyxahl6Zq",
        "outputId": "b87c8afe-0943-4e7e-a060-9f0b7d92b9f1"
      },
      "execution_count": null,
      "outputs": [
        {
          "output_type": "stream",
          "name": "stderr",
          "text": [
            "<ipython-input-123-45e05f7e927f>:16: SettingWithCopyWarning: \n",
            "A value is trying to be set on a copy of a slice from a DataFrame.\n",
            "Try using .loc[row_indexer,col_indexer] = value instead\n",
            "\n",
            "See the caveats in the documentation: https://pandas.pydata.org/pandas-docs/stable/user_guide/indexing.html#returning-a-view-versus-a-copy\n",
            "  HH_head_data_cleaned['floor_material'] = HH_head_data_cleaned.apply(floor_material_category, axis=1)\n"
          ]
        }
      ]
    },
    {
      "cell_type": "code",
      "source": [
        "floor_material = HH_head_data_cleaned.groupby(['Target', 'floor_material']).size().reset_index(name='count')\n",
        "pivot_table_percentage_floor = floor_material.pivot_table(index='Target', columns='floor_material', values='count', fill_value=0)\n",
        "pivot_table_percentage_floor_table = pivot_table_percentage_floor.div(pivot_table_percentage_floor.sum(axis=1), axis=0) * 100\n",
        "pivot_table_percentage_floor_table"
      ],
      "metadata": {
        "colab": {
          "base_uri": "https://localhost:8080/",
          "height": 206
        },
        "id": "scou10zMnrDD",
        "outputId": "70da9bd1-9b2a-41f0-dd96-636ec0ca861a"
      },
      "execution_count": null,
      "outputs": [
        {
          "output_type": "execute_result",
          "data": {
            "text/plain": [
              "floor_material     cement  mosaic, ceramic, terrazo  natural material  \\\n",
              "Target                                                                  \n",
              "1               40.082645                 45.454545          0.413223   \n",
              "2               32.885906                 52.125280          0.447427   \n",
              "3               26.843658                 62.831858          0.000000   \n",
              "4               15.321337                 79.434447          0.000000   \n",
              "\n",
              "floor_material     other   unknown       wood  \n",
              "Target                                         \n",
              "1               0.000000  3.719008  10.330579  \n",
              "2               0.000000  3.355705  11.185682  \n",
              "3               0.000000  1.769912   8.554572  \n",
              "4               0.102828  0.411311   4.730077  "
            ],
            "text/html": [
              "\n",
              "  <div id=\"df-0d19dec0-feaf-4485-ab6f-c7c289bc3d3a\">\n",
              "    <div class=\"colab-df-container\">\n",
              "      <div>\n",
              "<style scoped>\n",
              "    .dataframe tbody tr th:only-of-type {\n",
              "        vertical-align: middle;\n",
              "    }\n",
              "\n",
              "    .dataframe tbody tr th {\n",
              "        vertical-align: top;\n",
              "    }\n",
              "\n",
              "    .dataframe thead th {\n",
              "        text-align: right;\n",
              "    }\n",
              "</style>\n",
              "<table border=\"1\" class=\"dataframe\">\n",
              "  <thead>\n",
              "    <tr style=\"text-align: right;\">\n",
              "      <th>floor_material</th>\n",
              "      <th>cement</th>\n",
              "      <th>mosaic, ceramic, terrazo</th>\n",
              "      <th>natural material</th>\n",
              "      <th>other</th>\n",
              "      <th>unknown</th>\n",
              "      <th>wood</th>\n",
              "    </tr>\n",
              "    <tr>\n",
              "      <th>Target</th>\n",
              "      <th></th>\n",
              "      <th></th>\n",
              "      <th></th>\n",
              "      <th></th>\n",
              "      <th></th>\n",
              "      <th></th>\n",
              "    </tr>\n",
              "  </thead>\n",
              "  <tbody>\n",
              "    <tr>\n",
              "      <th>1</th>\n",
              "      <td>40.082645</td>\n",
              "      <td>45.454545</td>\n",
              "      <td>0.413223</td>\n",
              "      <td>0.000000</td>\n",
              "      <td>3.719008</td>\n",
              "      <td>10.330579</td>\n",
              "    </tr>\n",
              "    <tr>\n",
              "      <th>2</th>\n",
              "      <td>32.885906</td>\n",
              "      <td>52.125280</td>\n",
              "      <td>0.447427</td>\n",
              "      <td>0.000000</td>\n",
              "      <td>3.355705</td>\n",
              "      <td>11.185682</td>\n",
              "    </tr>\n",
              "    <tr>\n",
              "      <th>3</th>\n",
              "      <td>26.843658</td>\n",
              "      <td>62.831858</td>\n",
              "      <td>0.000000</td>\n",
              "      <td>0.000000</td>\n",
              "      <td>1.769912</td>\n",
              "      <td>8.554572</td>\n",
              "    </tr>\n",
              "    <tr>\n",
              "      <th>4</th>\n",
              "      <td>15.321337</td>\n",
              "      <td>79.434447</td>\n",
              "      <td>0.000000</td>\n",
              "      <td>0.102828</td>\n",
              "      <td>0.411311</td>\n",
              "      <td>4.730077</td>\n",
              "    </tr>\n",
              "  </tbody>\n",
              "</table>\n",
              "</div>\n",
              "      <button class=\"colab-df-convert\" onclick=\"convertToInteractive('df-0d19dec0-feaf-4485-ab6f-c7c289bc3d3a')\"\n",
              "              title=\"Convert this dataframe to an interactive table.\"\n",
              "              style=\"display:none;\">\n",
              "        \n",
              "  <svg xmlns=\"http://www.w3.org/2000/svg\" height=\"24px\"viewBox=\"0 0 24 24\"\n",
              "       width=\"24px\">\n",
              "    <path d=\"M0 0h24v24H0V0z\" fill=\"none\"/>\n",
              "    <path d=\"M18.56 5.44l.94 2.06.94-2.06 2.06-.94-2.06-.94-.94-2.06-.94 2.06-2.06.94zm-11 1L8.5 8.5l.94-2.06 2.06-.94-2.06-.94L8.5 2.5l-.94 2.06-2.06.94zm10 10l.94 2.06.94-2.06 2.06-.94-2.06-.94-.94-2.06-.94 2.06-2.06.94z\"/><path d=\"M17.41 7.96l-1.37-1.37c-.4-.4-.92-.59-1.43-.59-.52 0-1.04.2-1.43.59L10.3 9.45l-7.72 7.72c-.78.78-.78 2.05 0 2.83L4 21.41c.39.39.9.59 1.41.59.51 0 1.02-.2 1.41-.59l7.78-7.78 2.81-2.81c.8-.78.8-2.07 0-2.86zM5.41 20L4 18.59l7.72-7.72 1.47 1.35L5.41 20z\"/>\n",
              "  </svg>\n",
              "      </button>\n",
              "      \n",
              "  <style>\n",
              "    .colab-df-container {\n",
              "      display:flex;\n",
              "      flex-wrap:wrap;\n",
              "      gap: 12px;\n",
              "    }\n",
              "\n",
              "    .colab-df-convert {\n",
              "      background-color: #E8F0FE;\n",
              "      border: none;\n",
              "      border-radius: 50%;\n",
              "      cursor: pointer;\n",
              "      display: none;\n",
              "      fill: #1967D2;\n",
              "      height: 32px;\n",
              "      padding: 0 0 0 0;\n",
              "      width: 32px;\n",
              "    }\n",
              "\n",
              "    .colab-df-convert:hover {\n",
              "      background-color: #E2EBFA;\n",
              "      box-shadow: 0px 1px 2px rgba(60, 64, 67, 0.3), 0px 1px 3px 1px rgba(60, 64, 67, 0.15);\n",
              "      fill: #174EA6;\n",
              "    }\n",
              "\n",
              "    [theme=dark] .colab-df-convert {\n",
              "      background-color: #3B4455;\n",
              "      fill: #D2E3FC;\n",
              "    }\n",
              "\n",
              "    [theme=dark] .colab-df-convert:hover {\n",
              "      background-color: #434B5C;\n",
              "      box-shadow: 0px 1px 3px 1px rgba(0, 0, 0, 0.15);\n",
              "      filter: drop-shadow(0px 1px 2px rgba(0, 0, 0, 0.3));\n",
              "      fill: #FFFFFF;\n",
              "    }\n",
              "  </style>\n",
              "\n",
              "      <script>\n",
              "        const buttonEl =\n",
              "          document.querySelector('#df-0d19dec0-feaf-4485-ab6f-c7c289bc3d3a button.colab-df-convert');\n",
              "        buttonEl.style.display =\n",
              "          google.colab.kernel.accessAllowed ? 'block' : 'none';\n",
              "\n",
              "        async function convertToInteractive(key) {\n",
              "          const element = document.querySelector('#df-0d19dec0-feaf-4485-ab6f-c7c289bc3d3a');\n",
              "          const dataTable =\n",
              "            await google.colab.kernel.invokeFunction('convertToInteractive',\n",
              "                                                     [key], {});\n",
              "          if (!dataTable) return;\n",
              "\n",
              "          const docLinkHtml = 'Like what you see? Visit the ' +\n",
              "            '<a target=\"_blank\" href=https://colab.research.google.com/notebooks/data_table.ipynb>data table notebook</a>'\n",
              "            + ' to learn more about interactive tables.';\n",
              "          element.innerHTML = '';\n",
              "          dataTable['output_type'] = 'display_data';\n",
              "          await google.colab.output.renderOutput(dataTable, element);\n",
              "          const docLink = document.createElement('div');\n",
              "          docLink.innerHTML = docLinkHtml;\n",
              "          element.appendChild(docLink);\n",
              "        }\n",
              "      </script>\n",
              "    </div>\n",
              "  </div>\n",
              "  "
            ]
          },
          "metadata": {},
          "execution_count": 124
        }
      ]
    },
    {
      "cell_type": "code",
      "source": [
        "ax = pivot_table_percentage_floor_table.plot.bar()\n",
        "ax.set_xlabel('Target')\n",
        "ax.set_ylabel('Percentage of floor_material')\n",
        "ax.set_title('floor_material Distribution by Target Level')\n",
        "plt.show()"
      ],
      "metadata": {
        "colab": {
          "base_uri": "https://localhost:8080/",
          "height": 467
        },
        "id": "rYJdRtdqnumb",
        "outputId": "3592e028-64d5-4e87-b3d5-a49615a17817"
      },
      "execution_count": null,
      "outputs": [
        {
          "output_type": "display_data",
          "data": {
            "text/plain": [
              "<Figure size 640x480 with 1 Axes>"
            ],
            "image/png": "[encoded data removed]"
          },
          "metadata": {}
        }
      ]
    },
    {
      "cell_type": "markdown",
      "source": [
        "##floor status\n",
        "eviv1\t=1 if floor are bad\n",
        "eviv2\t=1 if floor are regular\n",
        "eviv3\t=1 if floor are good"
      ],
      "metadata": {
        "id": "G7BktsIt0k0l"
      }
    },
    {
      "cell_type": "code",
      "source": [
        "def floor_status_category(row):\n",
        "    if row['eviv1'] == 1:\n",
        "        return 'bad'\n",
        "    elif row['eviv2'] == 1:\n",
        "        return 'regular'\n",
        "    elif row['eviv3'] == 1:\n",
        "        return 'good'\n",
        "    else:\n",
        "        return 'unknown'  # No data or invalid data\n",
        "\n",
        "# Creating a new categorical variable 'floor_status'\n",
        "HH_head_data_cleaned['floor_status'] = HH_head_data_cleaned.apply(floor_status_category, axis=1)"
      ],
      "metadata": {
        "colab": {
          "base_uri": "https://localhost:8080/"
        },
        "id": "BXkV1y1kx3F4",
        "outputId": "5096b8a6-aec1-46ee-e80c-4398b433c22c"
      },
      "execution_count": null,
      "outputs": [
        {
          "output_type": "stream",
          "name": "stderr",
          "text": [
            "<ipython-input-126-73363250038f>:12: SettingWithCopyWarning: \n",
            "A value is trying to be set on a copy of a slice from a DataFrame.\n",
            "Try using .loc[row_indexer,col_indexer] = value instead\n",
            "\n",
            "See the caveats in the documentation: https://pandas.pydata.org/pandas-docs/stable/user_guide/indexing.html#returning-a-view-versus-a-copy\n",
            "  HH_head_data_cleaned['floor_status'] = HH_head_data_cleaned.apply(floor_status_category, axis=1)\n"
          ]
        }
      ]
    },
    {
      "cell_type": "code",
      "source": [
        "floor_status = HH_head_data_cleaned.groupby(['Target', 'floor_status']).size().reset_index(name='count')\n",
        "floor_status_pivot = floor_status.pivot_table(index='Target', columns='floor_status', values='count', fill_value=0)\n",
        "floor_status_pivot_table = floor_status_pivot.div(floor_status_pivot.sum(axis=1), axis=0) * 100\n",
        "floor_status_pivot_table"
      ],
      "metadata": {
        "colab": {
          "base_uri": "https://localhost:8080/",
          "height": 206
        },
        "id": "ECRC7vNYx3Jq",
        "outputId": "9216dcfd-e388-4f03-e49e-080396805ca8"
      },
      "execution_count": null,
      "outputs": [
        {
          "output_type": "execute_result",
          "data": {
            "text/plain": [
              "floor_status        bad       good    regular\n",
              "Target                                       \n",
              "1             21.074380  38.016529  40.909091\n",
              "2             20.581655  44.966443  34.451902\n",
              "3             11.799410  55.457227  32.743363\n",
              "4              5.244216  75.526992  19.228792"
            ],
            "text/html": [
              "\n",
              "  <div id=\"df-2ec6a411-a306-4dbf-bb85-a8a48910a1ed\">\n",
              "    <div class=\"colab-df-container\">\n",
              "      <div>\n",
              "<style scoped>\n",
              "    .dataframe tbody tr th:only-of-type {\n",
              "        vertical-align: middle;\n",
              "    }\n",
              "\n",
              "    .dataframe tbody tr th {\n",
              "        vertical-align: top;\n",
              "    }\n",
              "\n",
              "    .dataframe thead th {\n",
              "        text-align: right;\n",
              "    }\n",
              "</style>\n",
              "<table border=\"1\" class=\"dataframe\">\n",
              "  <thead>\n",
              "    <tr style=\"text-align: right;\">\n",
              "      <th>floor_status</th>\n",
              "      <th>bad</th>\n",
              "      <th>good</th>\n",
              "      <th>regular</th>\n",
              "    </tr>\n",
              "    <tr>\n",
              "      <th>Target</th>\n",
              "      <th></th>\n",
              "      <th></th>\n",
              "      <th></th>\n",
              "    </tr>\n",
              "  </thead>\n",
              "  <tbody>\n",
              "    <tr>\n",
              "      <th>1</th>\n",
              "      <td>21.074380</td>\n",
              "      <td>38.016529</td>\n",
              "      <td>40.909091</td>\n",
              "    </tr>\n",
              "    <tr>\n",
              "      <th>2</th>\n",
              "      <td>20.581655</td>\n",
              "      <td>44.966443</td>\n",
              "      <td>34.451902</td>\n",
              "    </tr>\n",
              "    <tr>\n",
              "      <th>3</th>\n",
              "      <td>11.799410</td>\n",
              "      <td>55.457227</td>\n",
              "      <td>32.743363</td>\n",
              "    </tr>\n",
              "    <tr>\n",
              "      <th>4</th>\n",
              "      <td>5.244216</td>\n",
              "      <td>75.526992</td>\n",
              "      <td>19.228792</td>\n",
              "    </tr>\n",
              "  </tbody>\n",
              "</table>\n",
              "</div>\n",
              "      <button class=\"colab-df-convert\" onclick=\"convertToInteractive('df-2ec6a411-a306-4dbf-bb85-a8a48910a1ed')\"\n",
              "              title=\"Convert this dataframe to an interactive table.\"\n",
              "              style=\"display:none;\">\n",
              "        \n",
              "  <svg xmlns=\"http://www.w3.org/2000/svg\" height=\"24px\"viewBox=\"0 0 24 24\"\n",
              "       width=\"24px\">\n",
              "    <path d=\"M0 0h24v24H0V0z\" fill=\"none\"/>\n",
              "    <path d=\"M18.56 5.44l.94 2.06.94-2.06 2.06-.94-2.06-.94-.94-2.06-.94 2.06-2.06.94zm-11 1L8.5 8.5l.94-2.06 2.06-.94-2.06-.94L8.5 2.5l-.94 2.06-2.06.94zm10 10l.94 2.06.94-2.06 2.06-.94-2.06-.94-.94-2.06-.94 2.06-2.06.94z\"/><path d=\"M17.41 7.96l-1.37-1.37c-.4-.4-.92-.59-1.43-.59-.52 0-1.04.2-1.43.59L10.3 9.45l-7.72 7.72c-.78.78-.78 2.05 0 2.83L4 21.41c.39.39.9.59 1.41.59.51 0 1.02-.2 1.41-.59l7.78-7.78 2.81-2.81c.8-.78.8-2.07 0-2.86zM5.41 20L4 18.59l7.72-7.72 1.47 1.35L5.41 20z\"/>\n",
              "  </svg>\n",
              "      </button>\n",
              "      \n",
              "  <style>\n",
              "    .colab-df-container {\n",
              "      display:flex;\n",
              "      flex-wrap:wrap;\n",
              "      gap: 12px;\n",
              "    }\n",
              "\n",
              "    .colab-df-convert {\n",
              "      background-color: #E8F0FE;\n",
              "      border: none;\n",
              "      border-radius: 50%;\n",
              "      cursor: pointer;\n",
              "      display: none;\n",
              "      fill: #1967D2;\n",
              "      height: 32px;\n",
              "      padding: 0 0 0 0;\n",
              "      width: 32px;\n",
              "    }\n",
              "\n",
              "    .colab-df-convert:hover {\n",
              "      background-color: #E2EBFA;\n",
              "      box-shadow: 0px 1px 2px rgba(60, 64, 67, 0.3), 0px 1px 3px 1px rgba(60, 64, 67, 0.15);\n",
              "      fill: #174EA6;\n",
              "    }\n",
              "\n",
              "    [theme=dark] .colab-df-convert {\n",
              "      background-color: #3B4455;\n",
              "      fill: #D2E3FC;\n",
              "    }\n",
              "\n",
              "    [theme=dark] .colab-df-convert:hover {\n",
              "      background-color: #434B5C;\n",
              "      box-shadow: 0px 1px 3px 1px rgba(0, 0, 0, 0.15);\n",
              "      filter: drop-shadow(0px 1px 2px rgba(0, 0, 0, 0.3));\n",
              "      fill: #FFFFFF;\n",
              "    }\n",
              "  </style>\n",
              "\n",
              "      <script>\n",
              "        const buttonEl =\n",
              "          document.querySelector('#df-2ec6a411-a306-4dbf-bb85-a8a48910a1ed button.colab-df-convert');\n",
              "        buttonEl.style.display =\n",
              "          google.colab.kernel.accessAllowed ? 'block' : 'none';\n",
              "\n",
              "        async function convertToInteractive(key) {\n",
              "          const element = document.querySelector('#df-2ec6a411-a306-4dbf-bb85-a8a48910a1ed');\n",
              "          const dataTable =\n",
              "            await google.colab.kernel.invokeFunction('convertToInteractive',\n",
              "                                                     [key], {});\n",
              "          if (!dataTable) return;\n",
              "\n",
              "          const docLinkHtml = 'Like what you see? Visit the ' +\n",
              "            '<a target=\"_blank\" href=https://colab.research.google.com/notebooks/data_table.ipynb>data table notebook</a>'\n",
              "            + ' to learn more about interactive tables.';\n",
              "          element.innerHTML = '';\n",
              "          dataTable['output_type'] = 'display_data';\n",
              "          await google.colab.output.renderOutput(dataTable, element);\n",
              "          const docLink = document.createElement('div');\n",
              "          docLink.innerHTML = docLinkHtml;\n",
              "          element.appendChild(docLink);\n",
              "        }\n",
              "      </script>\n",
              "    </div>\n",
              "  </div>\n",
              "  "
            ]
          },
          "metadata": {},
          "execution_count": 127
        }
      ]
    },
    {
      "cell_type": "code",
      "source": [
        "ax = floor_status_pivot_table.plot.bar()\n",
        "ax.set_xlabel('Target')\n",
        "ax.set_ylabel('percentage of floor_status')\n",
        "ax.set_title('floor_status Distribution by Target Level')\n",
        "plt.show()"
      ],
      "metadata": {
        "colab": {
          "base_uri": "https://localhost:8080/",
          "height": 467
        },
        "id": "SDBb92KXx3Oj",
        "outputId": "b9f6f43d-dc67-44cd-9ad8-b9c876d020c6"
      },
      "execution_count": null,
      "outputs": [
        {
          "output_type": "display_data",
          "data": {
            "text/plain": [
              "<Figure size 640x480 with 1 Axes>"
            ],
            "image/png": "[encoded data removed]"
          },
          "metadata": {}
        }
      ]
    },
    {
      "cell_type": "markdown",
      "source": [],
      "metadata": {
        "id": "STMDvcUqoni4"
      }
    },
    {
      "cell_type": "markdown",
      "source": [
        "##roof material\n",
        "techozinc\t=1 if predominant material on the roof is metal foil or zink\n",
        "techoentrepiso\t=1 if predominant material on the roof is fiber cement,  mezzanine\n",
        "techocane\t=1 if predominant material on the roof is natural fibers\n",
        "techootro\t=1 if predominant material on the roof is other\n"
      ],
      "metadata": {
        "id": "D5gKzo9e0PsX"
      }
    },
    {
      "cell_type": "code",
      "source": [
        "def roof_material_category(row):\n",
        "    if row['techozinc'] == 1:\n",
        "        return 'metal foil or zinc'\n",
        "    elif row['techoentrepiso'] == 1:\n",
        "        return 'fiber cement, mezzanine'\n",
        "    elif row['techocane'] == 1:\n",
        "        return 'natural fibers'\n",
        "    elif row['techootro'] == 1:\n",
        "        return 'other'\n",
        "    else:\n",
        "        return 'unknown'  # No data or invalid data\n",
        "\n",
        "# Creating a new categorical variable 'roof_material'\n",
        "HH_head_data_cleaned['roof_material'] = HH_head_data_cleaned.apply(roof_material_category, axis=1)"
      ],
      "metadata": {
        "colab": {
          "base_uri": "https://localhost:8080/"
        },
        "id": "o4gsBz3UovP1",
        "outputId": "a49b98c4-9310-4e25-818a-ec70a779c341"
      },
      "execution_count": null,
      "outputs": [
        {
          "output_type": "stream",
          "name": "stderr",
          "text": [
            "<ipython-input-129-72a42e7471ec>:14: SettingWithCopyWarning: \n",
            "A value is trying to be set on a copy of a slice from a DataFrame.\n",
            "Try using .loc[row_indexer,col_indexer] = value instead\n",
            "\n",
            "See the caveats in the documentation: https://pandas.pydata.org/pandas-docs/stable/user_guide/indexing.html#returning-a-view-versus-a-copy\n",
            "  HH_head_data_cleaned['roof_material'] = HH_head_data_cleaned.apply(roof_material_category, axis=1)\n"
          ]
        }
      ]
    },
    {
      "cell_type": "code",
      "source": [
        "roof_material = HH_head_data_cleaned.groupby(['Target', 'roof_material']).size().reset_index(name='count')\n",
        "pivot_table_percentage_roof = roof_material.pivot_table(index='Target', columns='roof_material', values='count', fill_value=0)\n",
        "pivot_table_percentage_roof_table = pivot_table_percentage_roof.div(pivot_table_percentage_roof.sum(axis=1), axis=0) * 100\n",
        "pivot_table_percentage_roof_table"
      ],
      "metadata": {
        "colab": {
          "base_uri": "https://localhost:8080/",
          "height": 206
        },
        "id": "65YSUlUEpKdo",
        "outputId": "fceafd3a-67d1-43f9-ecb6-05279bb648f5"
      },
      "execution_count": null,
      "outputs": [
        {
          "output_type": "execute_result",
          "data": {
            "text/plain": [
              "roof_material  fiber cement, mezzanine  metal foil or zinc  natural fibers  \\\n",
              "Target                                                                       \n",
              "1                             1.239669           95.454545        1.239669   \n",
              "2                             2.013423           95.749441        0.223714   \n",
              "3                             0.294985           99.410029        0.000000   \n",
              "4                             2.622108           96.555270        0.257069   \n",
              "\n",
              "roof_material     other   unknown  \n",
              "Target                             \n",
              "1              0.000000  2.066116  \n",
              "2              0.000000  2.013423  \n",
              "3              0.000000  0.294985  \n",
              "4              0.359897  0.205656  "
            ],
            "text/html": [
              "\n",
              "  <div id=\"df-d867c50d-e1fc-4b2c-a313-e75c090206d3\">\n",
              "    <div class=\"colab-df-container\">\n",
              "      <div>\n",
              "<style scoped>\n",
              "    .dataframe tbody tr th:only-of-type {\n",
              "        vertical-align: middle;\n",
              "    }\n",
              "\n",
              "    .dataframe tbody tr th {\n",
              "        vertical-align: top;\n",
              "    }\n",
              "\n",
              "    .dataframe thead th {\n",
              "        text-align: right;\n",
              "    }\n",
              "</style>\n",
              "<table border=\"1\" class=\"dataframe\">\n",
              "  <thead>\n",
              "    <tr style=\"text-align: right;\">\n",
              "      <th>roof_material</th>\n",
              "      <th>fiber cement, mezzanine</th>\n",
              "      <th>metal foil or zinc</th>\n",
              "      <th>natural fibers</th>\n",
              "      <th>other</th>\n",
              "      <th>unknown</th>\n",
              "    </tr>\n",
              "    <tr>\n",
              "      <th>Target</th>\n",
              "      <th></th>\n",
              "      <th></th>\n",
              "      <th></th>\n",
              "      <th></th>\n",
              "      <th></th>\n",
              "    </tr>\n",
              "  </thead>\n",
              "  <tbody>\n",
              "    <tr>\n",
              "      <th>1</th>\n",
              "      <td>1.239669</td>\n",
              "      <td>95.454545</td>\n",
              "      <td>1.239669</td>\n",
              "      <td>0.000000</td>\n",
              "      <td>2.066116</td>\n",
              "    </tr>\n",
              "    <tr>\n",
              "      <th>2</th>\n",
              "      <td>2.013423</td>\n",
              "      <td>95.749441</td>\n",
              "      <td>0.223714</td>\n",
              "      <td>0.000000</td>\n",
              "      <td>2.013423</td>\n",
              "    </tr>\n",
              "    <tr>\n",
              "      <th>3</th>\n",
              "      <td>0.294985</td>\n",
              "      <td>99.410029</td>\n",
              "      <td>0.000000</td>\n",
              "      <td>0.000000</td>\n",
              "      <td>0.294985</td>\n",
              "    </tr>\n",
              "    <tr>\n",
              "      <th>4</th>\n",
              "      <td>2.622108</td>\n",
              "      <td>96.555270</td>\n",
              "      <td>0.257069</td>\n",
              "      <td>0.359897</td>\n",
              "      <td>0.205656</td>\n",
              "    </tr>\n",
              "  </tbody>\n",
              "</table>\n",
              "</div>\n",
              "      <button class=\"colab-df-convert\" onclick=\"convertToInteractive('df-d867c50d-e1fc-4b2c-a313-e75c090206d3')\"\n",
              "              title=\"Convert this dataframe to an interactive table.\"\n",
              "              style=\"display:none;\">\n",
              "        \n",
              "  <svg xmlns=\"http://www.w3.org/2000/svg\" height=\"24px\"viewBox=\"0 0 24 24\"\n",
              "       width=\"24px\">\n",
              "    <path d=\"M0 0h24v24H0V0z\" fill=\"none\"/>\n",
              "    <path d=\"M18.56 5.44l.94 2.06.94-2.06 2.06-.94-2.06-.94-.94-2.06-.94 2.06-2.06.94zm-11 1L8.5 8.5l.94-2.06 2.06-.94-2.06-.94L8.5 2.5l-.94 2.06-2.06.94zm10 10l.94 2.06.94-2.06 2.06-.94-2.06-.94-.94-2.06-.94 2.06-2.06.94z\"/><path d=\"M17.41 7.96l-1.37-1.37c-.4-.4-.92-.59-1.43-.59-.52 0-1.04.2-1.43.59L10.3 9.45l-7.72 7.72c-.78.78-.78 2.05 0 2.83L4 21.41c.39.39.9.59 1.41.59.51 0 1.02-.2 1.41-.59l7.78-7.78 2.81-2.81c.8-.78.8-2.07 0-2.86zM5.41 20L4 18.59l7.72-7.72 1.47 1.35L5.41 20z\"/>\n",
              "  </svg>\n",
              "      </button>\n",
              "      \n",
              "  <style>\n",
              "    .colab-df-container {\n",
              "      display:flex;\n",
              "      flex-wrap:wrap;\n",
              "      gap: 12px;\n",
              "    }\n",
              "\n",
              "    .colab-df-convert {\n",
              "      background-color: #E8F0FE;\n",
              "      border: none;\n",
              "      border-radius: 50%;\n",
              "      cursor: pointer;\n",
              "      display: none;\n",
              "      fill: #1967D2;\n",
              "      height: 32px;\n",
              "      padding: 0 0 0 0;\n",
              "      width: 32px;\n",
              "    }\n",
              "\n",
              "    .colab-df-convert:hover {\n",
              "      background-color: #E2EBFA;\n",
              "      box-shadow: 0px 1px 2px rgba(60, 64, 67, 0.3), 0px 1px 3px 1px rgba(60, 64, 67, 0.15);\n",
              "      fill: #174EA6;\n",
              "    }\n",
              "\n",
              "    [theme=dark] .colab-df-convert {\n",
              "      background-color: #3B4455;\n",
              "      fill: #D2E3FC;\n",
              "    }\n",
              "\n",
              "    [theme=dark] .colab-df-convert:hover {\n",
              "      background-color: #434B5C;\n",
              "      box-shadow: 0px 1px 3px 1px rgba(0, 0, 0, 0.15);\n",
              "      filter: drop-shadow(0px 1px 2px rgba(0, 0, 0, 0.3));\n",
              "      fill: #FFFFFF;\n",
              "    }\n",
              "  </style>\n",
              "\n",
              "      <script>\n",
              "        const buttonEl =\n",
              "          document.querySelector('#df-d867c50d-e1fc-4b2c-a313-e75c090206d3 button.colab-df-convert');\n",
              "        buttonEl.style.display =\n",
              "          google.colab.kernel.accessAllowed ? 'block' : 'none';\n",
              "\n",
              "        async function convertToInteractive(key) {\n",
              "          const element = document.querySelector('#df-d867c50d-e1fc-4b2c-a313-e75c090206d3');\n",
              "          const dataTable =\n",
              "            await google.colab.kernel.invokeFunction('convertToInteractive',\n",
              "                                                     [key], {});\n",
              "          if (!dataTable) return;\n",
              "\n",
              "          const docLinkHtml = 'Like what you see? Visit the ' +\n",
              "            '<a target=\"_blank\" href=https://colab.research.google.com/notebooks/data_table.ipynb>data table notebook</a>'\n",
              "            + ' to learn more about interactive tables.';\n",
              "          element.innerHTML = '';\n",
              "          dataTable['output_type'] = 'display_data';\n",
              "          await google.colab.output.renderOutput(dataTable, element);\n",
              "          const docLink = document.createElement('div');\n",
              "          docLink.innerHTML = docLinkHtml;\n",
              "          element.appendChild(docLink);\n",
              "        }\n",
              "      </script>\n",
              "    </div>\n",
              "  </div>\n",
              "  "
            ]
          },
          "metadata": {},
          "execution_count": 130
        }
      ]
    },
    {
      "cell_type": "code",
      "source": [
        "ax = pivot_table_percentage_roof_table.plot.bar()\n",
        "ax.set_xlabel('Target')\n",
        "ax.set_ylabel('Percentage of roof_material')\n",
        "ax.set_title('roof_material Distribution by Target Level')\n",
        "plt.show()"
      ],
      "metadata": {
        "colab": {
          "base_uri": "https://localhost:8080/",
          "height": 467
        },
        "id": "aTChHFXipLmS",
        "outputId": "cda235ea-b158-4ced-d894-0e870ced9f3f"
      },
      "execution_count": null,
      "outputs": [
        {
          "output_type": "display_data",
          "data": {
            "text/plain": [
              "<Figure size 640x480 with 1 Axes>"
            ],
            "image/png": "[encoded data removed]"
          },
          "metadata": {}
        }
      ]
    },
    {
      "cell_type": "code",
      "source": [
        "no_metal_foil = HH_head_data_cleaned.loc[(HH_head_data_cleaned.loc[:,'roof_material'] != 'metal foil or zinc'), :] #dominant so we removed it\n",
        "roof_material = no_metal_foil.groupby(['Target', 'roof_material']).size().reset_index(name='count')\n",
        "pivot_table_percentage_roof = roof_material.pivot_table(index='Target', columns='roof_material', values='count', fill_value=0)\n",
        "pivot_table_percentage_roof_table = pivot_table_percentage_roof.div(pivot_table_percentage_roof.sum(axis=1), axis=0) * 100\n",
        "pivot_table_percentage_roof_table"
      ],
      "metadata": {
        "colab": {
          "base_uri": "https://localhost:8080/",
          "height": 206
        },
        "id": "3NfPdbGtp4Ff",
        "outputId": "bc662f26-f47c-46a8-cbf9-92bbd72291c2"
      },
      "execution_count": null,
      "outputs": [
        {
          "output_type": "execute_result",
          "data": {
            "text/plain": [
              "roof_material  fiber cement, mezzanine  natural fibers      other    unknown\n",
              "Target                                                                      \n",
              "1                            27.272727       27.272727   0.000000  45.454545\n",
              "2                            47.368421        5.263158   0.000000  47.368421\n",
              "3                            50.000000        0.000000   0.000000  50.000000\n",
              "4                            76.119403        7.462687  10.447761   5.970149"
            ],
            "text/html": [
              "\n",
              "  <div id=\"df-3232584a-e45d-4a2c-bf7e-c73c9194e19d\">\n",
              "    <div class=\"colab-df-container\">\n",
              "      <div>\n",
              "<style scoped>\n",
              "    .dataframe tbody tr th:only-of-type {\n",
              "        vertical-align: middle;\n",
              "    }\n",
              "\n",
              "    .dataframe tbody tr th {\n",
              "        vertical-align: top;\n",
              "    }\n",
              "\n",
              "    .dataframe thead th {\n",
              "        text-align: right;\n",
              "    }\n",
              "</style>\n",
              "<table border=\"1\" class=\"dataframe\">\n",
              "  <thead>\n",
              "    <tr style=\"text-align: right;\">\n",
              "      <th>roof_material</th>\n",
              "      <th>fiber cement, mezzanine</th>\n",
              "      <th>natural fibers</th>\n",
              "      <th>other</th>\n",
              "      <th>unknown</th>\n",
              "    </tr>\n",
              "    <tr>\n",
              "      <th>Target</th>\n",
              "      <th></th>\n",
              "      <th></th>\n",
              "      <th></th>\n",
              "      <th></th>\n",
              "    </tr>\n",
              "  </thead>\n",
              "  <tbody>\n",
              "    <tr>\n",
              "      <th>1</th>\n",
              "      <td>27.272727</td>\n",
              "      <td>27.272727</td>\n",
              "      <td>0.000000</td>\n",
              "      <td>45.454545</td>\n",
              "    </tr>\n",
              "    <tr>\n",
              "      <th>2</th>\n",
              "      <td>47.368421</td>\n",
              "      <td>5.263158</td>\n",
              "      <td>0.000000</td>\n",
              "      <td>47.368421</td>\n",
              "    </tr>\n",
              "    <tr>\n",
              "      <th>3</th>\n",
              "      <td>50.000000</td>\n",
              "      <td>0.000000</td>\n",
              "      <td>0.000000</td>\n",
              "      <td>50.000000</td>\n",
              "    </tr>\n",
              "    <tr>\n",
              "      <th>4</th>\n",
              "      <td>76.119403</td>\n",
              "      <td>7.462687</td>\n",
              "      <td>10.447761</td>\n",
              "      <td>5.970149</td>\n",
              "    </tr>\n",
              "  </tbody>\n",
              "</table>\n",
              "</div>\n",
              "      <button class=\"colab-df-convert\" onclick=\"convertToInteractive('df-3232584a-e45d-4a2c-bf7e-c73c9194e19d')\"\n",
              "              title=\"Convert this dataframe to an interactive table.\"\n",
              "              style=\"display:none;\">\n",
              "        \n",
              "  <svg xmlns=\"http://www.w3.org/2000/svg\" height=\"24px\"viewBox=\"0 0 24 24\"\n",
              "       width=\"24px\">\n",
              "    <path d=\"M0 0h24v24H0V0z\" fill=\"none\"/>\n",
              "    <path d=\"M18.56 5.44l.94 2.06.94-2.06 2.06-.94-2.06-.94-.94-2.06-.94 2.06-2.06.94zm-11 1L8.5 8.5l.94-2.06 2.06-.94-2.06-.94L8.5 2.5l-.94 2.06-2.06.94zm10 10l.94 2.06.94-2.06 2.06-.94-2.06-.94-.94-2.06-.94 2.06-2.06.94z\"/><path d=\"M17.41 7.96l-1.37-1.37c-.4-.4-.92-.59-1.43-.59-.52 0-1.04.2-1.43.59L10.3 9.45l-7.72 7.72c-.78.78-.78 2.05 0 2.83L4 21.41c.39.39.9.59 1.41.59.51 0 1.02-.2 1.41-.59l7.78-7.78 2.81-2.81c.8-.78.8-2.07 0-2.86zM5.41 20L4 18.59l7.72-7.72 1.47 1.35L5.41 20z\"/>\n",
              "  </svg>\n",
              "      </button>\n",
              "      \n",
              "  <style>\n",
              "    .colab-df-container {\n",
              "      display:flex;\n",
              "      flex-wrap:wrap;\n",
              "      gap: 12px;\n",
              "    }\n",
              "\n",
              "    .colab-df-convert {\n",
              "      background-color: #E8F0FE;\n",
              "      border: none;\n",
              "      border-radius: 50%;\n",
              "      cursor: pointer;\n",
              "      display: none;\n",
              "      fill: #1967D2;\n",
              "      height: 32px;\n",
              "      padding: 0 0 0 0;\n",
              "      width: 32px;\n",
              "    }\n",
              "\n",
              "    .colab-df-convert:hover {\n",
              "      background-color: #E2EBFA;\n",
              "      box-shadow: 0px 1px 2px rgba(60, 64, 67, 0.3), 0px 1px 3px 1px rgba(60, 64, 67, 0.15);\n",
              "      fill: #174EA6;\n",
              "    }\n",
              "\n",
              "    [theme=dark] .colab-df-convert {\n",
              "      background-color: #3B4455;\n",
              "      fill: #D2E3FC;\n",
              "    }\n",
              "\n",
              "    [theme=dark] .colab-df-convert:hover {\n",
              "      background-color: #434B5C;\n",
              "      box-shadow: 0px 1px 3px 1px rgba(0, 0, 0, 0.15);\n",
              "      filter: drop-shadow(0px 1px 2px rgba(0, 0, 0, 0.3));\n",
              "      fill: #FFFFFF;\n",
              "    }\n",
              "  </style>\n",
              "\n",
              "      <script>\n",
              "        const buttonEl =\n",
              "          document.querySelector('#df-3232584a-e45d-4a2c-bf7e-c73c9194e19d button.colab-df-convert');\n",
              "        buttonEl.style.display =\n",
              "          google.colab.kernel.accessAllowed ? 'block' : 'none';\n",
              "\n",
              "        async function convertToInteractive(key) {\n",
              "          const element = document.querySelector('#df-3232584a-e45d-4a2c-bf7e-c73c9194e19d');\n",
              "          const dataTable =\n",
              "            await google.colab.kernel.invokeFunction('convertToInteractive',\n",
              "                                                     [key], {});\n",
              "          if (!dataTable) return;\n",
              "\n",
              "          const docLinkHtml = 'Like what you see? Visit the ' +\n",
              "            '<a target=\"_blank\" href=https://colab.research.google.com/notebooks/data_table.ipynb>data table notebook</a>'\n",
              "            + ' to learn more about interactive tables.';\n",
              "          element.innerHTML = '';\n",
              "          dataTable['output_type'] = 'display_data';\n",
              "          await google.colab.output.renderOutput(dataTable, element);\n",
              "          const docLink = document.createElement('div');\n",
              "          docLink.innerHTML = docLinkHtml;\n",
              "          element.appendChild(docLink);\n",
              "        }\n",
              "      </script>\n",
              "    </div>\n",
              "  </div>\n",
              "  "
            ]
          },
          "metadata": {},
          "execution_count": 132
        }
      ]
    },
    {
      "cell_type": "code",
      "source": [
        "ax = pivot_table_percentage_roof_table.plot.bar()\n",
        "ax.set_xlabel('Target')\n",
        "ax.set_ylabel('Percentage of roof_material')\n",
        "ax.set_title('roof_material Distribution by Target Level')\n",
        "plt.show()"
      ],
      "metadata": {
        "colab": {
          "base_uri": "https://localhost:8080/",
          "height": 467
        },
        "id": "bC6gq3z5p7eB",
        "outputId": "00eba83a-7a57-481f-806e-8dec3a2bd761"
      },
      "execution_count": null,
      "outputs": [
        {
          "output_type": "display_data",
          "data": {
            "text/plain": [
              "<Figure size 640x480 with 1 Axes>"
            ],
            "image/png": "[encoded data removed]"
          },
          "metadata": {}
        }
      ]
    },
    {
      "cell_type": "markdown",
      "source": [
        "##roof status\n",
        "\n",
        "etecho1\t=1 if roof are bad\n",
        "etecho2\t=1 if roof are regular\n",
        "etecho3\t=1 if roof are good"
      ],
      "metadata": {
        "id": "6TYAqgwCxhZp"
      }
    },
    {
      "cell_type": "code",
      "source": [
        "def roof_status_category(row):\n",
        "    if row['etecho1'] == 1:\n",
        "        return 'bad'\n",
        "    elif row['etecho2'] == 1:\n",
        "        return 'regular'\n",
        "    elif row['etecho3'] == 1:\n",
        "        return 'good'\n",
        "    else:\n",
        "        return 'unknown'  # No data or invalid data\n",
        "\n",
        "# Creating a new categorical variable 'roof_status'\n",
        "HH_head_data_cleaned['roof_status'] = HH_head_data_cleaned.apply(roof_status_category, axis=1)"
      ],
      "metadata": {
        "colab": {
          "base_uri": "https://localhost:8080/"
        },
        "id": "F6F3SILFxmz-",
        "outputId": "af0bd401-8c65-4298-cdde-ded52984c7f4"
      },
      "execution_count": null,
      "outputs": [
        {
          "output_type": "stream",
          "name": "stderr",
          "text": [
            "<ipython-input-134-a30e0cb59675>:12: SettingWithCopyWarning: \n",
            "A value is trying to be set on a copy of a slice from a DataFrame.\n",
            "Try using .loc[row_indexer,col_indexer] = value instead\n",
            "\n",
            "See the caveats in the documentation: https://pandas.pydata.org/pandas-docs/stable/user_guide/indexing.html#returning-a-view-versus-a-copy\n",
            "  HH_head_data_cleaned['roof_status'] = HH_head_data_cleaned.apply(roof_status_category, axis=1)\n"
          ]
        }
      ]
    },
    {
      "cell_type": "code",
      "source": [
        "roof_status = HH_head_data_cleaned.groupby(['Target', 'roof_status']).size().reset_index(name='count')\n",
        "roof_status_pivot = roof_status.pivot_table(index='Target', columns='roof_status', values='count', fill_value=0)\n",
        "roof_status_pivot_table = roof_status_pivot.div(roof_status_pivot.sum(axis=1), axis=0) * 100\n",
        "roof_status_pivot_table"
      ],
      "metadata": {
        "colab": {
          "base_uri": "https://localhost:8080/",
          "height": 206
        },
        "id": "YM6oRRizxm8f",
        "outputId": "2732475c-9502-42f3-f9a4-8a89eb0aa38a"
      },
      "execution_count": null,
      "outputs": [
        {
          "output_type": "execute_result",
          "data": {
            "text/plain": [
              "roof_status        bad       good    regular\n",
              "Target                                      \n",
              "1            28.512397  33.057851  38.429752\n",
              "2            22.147651  41.610738  36.241611\n",
              "3            17.404130  46.312684  36.283186\n",
              "4             8.483290  68.226221  23.290488"
            ],
            "text/html": [
              "\n",
              "  <div id=\"df-8e979e0f-286a-46ca-9e91-7738d04e57ff\">\n",
              "    <div class=\"colab-df-container\">\n",
              "      <div>\n",
              "<style scoped>\n",
              "    .dataframe tbody tr th:only-of-type {\n",
              "        vertical-align: middle;\n",
              "    }\n",
              "\n",
              "    .dataframe tbody tr th {\n",
              "        vertical-align: top;\n",
              "    }\n",
              "\n",
              "    .dataframe thead th {\n",
              "        text-align: right;\n",
              "    }\n",
              "</style>\n",
              "<table border=\"1\" class=\"dataframe\">\n",
              "  <thead>\n",
              "    <tr style=\"text-align: right;\">\n",
              "      <th>roof_status</th>\n",
              "      <th>bad</th>\n",
              "      <th>good</th>\n",
              "      <th>regular</th>\n",
              "    </tr>\n",
              "    <tr>\n",
              "      <th>Target</th>\n",
              "      <th></th>\n",
              "      <th></th>\n",
              "      <th></th>\n",
              "    </tr>\n",
              "  </thead>\n",
              "  <tbody>\n",
              "    <tr>\n",
              "      <th>1</th>\n",
              "      <td>28.512397</td>\n",
              "      <td>33.057851</td>\n",
              "      <td>38.429752</td>\n",
              "    </tr>\n",
              "    <tr>\n",
              "      <th>2</th>\n",
              "      <td>22.147651</td>\n",
              "      <td>41.610738</td>\n",
              "      <td>36.241611</td>\n",
              "    </tr>\n",
              "    <tr>\n",
              "      <th>3</th>\n",
              "      <td>17.404130</td>\n",
              "      <td>46.312684</td>\n",
              "      <td>36.283186</td>\n",
              "    </tr>\n",
              "    <tr>\n",
              "      <th>4</th>\n",
              "      <td>8.483290</td>\n",
              "      <td>68.226221</td>\n",
              "      <td>23.290488</td>\n",
              "    </tr>\n",
              "  </tbody>\n",
              "</table>\n",
              "</div>\n",
              "      <button class=\"colab-df-convert\" onclick=\"convertToInteractive('df-8e979e0f-286a-46ca-9e91-7738d04e57ff')\"\n",
              "              title=\"Convert this dataframe to an interactive table.\"\n",
              "              style=\"display:none;\">\n",
              "        \n",
              "  <svg xmlns=\"http://www.w3.org/2000/svg\" height=\"24px\"viewBox=\"0 0 24 24\"\n",
              "       width=\"24px\">\n",
              "    <path d=\"M0 0h24v24H0V0z\" fill=\"none\"/>\n",
              "    <path d=\"M18.56 5.44l.94 2.06.94-2.06 2.06-.94-2.06-.94-.94-2.06-.94 2.06-2.06.94zm-11 1L8.5 8.5l.94-2.06 2.06-.94-2.06-.94L8.5 2.5l-.94 2.06-2.06.94zm10 10l.94 2.06.94-2.06 2.06-.94-2.06-.94-.94-2.06-.94 2.06-2.06.94z\"/><path d=\"M17.41 7.96l-1.37-1.37c-.4-.4-.92-.59-1.43-.59-.52 0-1.04.2-1.43.59L10.3 9.45l-7.72 7.72c-.78.78-.78 2.05 0 2.83L4 21.41c.39.39.9.59 1.41.59.51 0 1.02-.2 1.41-.59l7.78-7.78 2.81-2.81c.8-.78.8-2.07 0-2.86zM5.41 20L4 18.59l7.72-7.72 1.47 1.35L5.41 20z\"/>\n",
              "  </svg>\n",
              "      </button>\n",
              "      \n",
              "  <style>\n",
              "    .colab-df-container {\n",
              "      display:flex;\n",
              "      flex-wrap:wrap;\n",
              "      gap: 12px;\n",
              "    }\n",
              "\n",
              "    .colab-df-convert {\n",
              "      background-color: #E8F0FE;\n",
              "      border: none;\n",
              "      border-radius: 50%;\n",
              "      cursor: pointer;\n",
              "      display: none;\n",
              "      fill: #1967D2;\n",
              "      height: 32px;\n",
              "      padding: 0 0 0 0;\n",
              "      width: 32px;\n",
              "    }\n",
              "\n",
              "    .colab-df-convert:hover {\n",
              "      background-color: #E2EBFA;\n",
              "      box-shadow: 0px 1px 2px rgba(60, 64, 67, 0.3), 0px 1px 3px 1px rgba(60, 64, 67, 0.15);\n",
              "      fill: #174EA6;\n",
              "    }\n",
              "\n",
              "    [theme=dark] .colab-df-convert {\n",
              "      background-color: #3B4455;\n",
              "      fill: #D2E3FC;\n",
              "    }\n",
              "\n",
              "    [theme=dark] .colab-df-convert:hover {\n",
              "      background-color: #434B5C;\n",
              "      box-shadow: 0px 1px 3px 1px rgba(0, 0, 0, 0.15);\n",
              "      filter: drop-shadow(0px 1px 2px rgba(0, 0, 0, 0.3));\n",
              "      fill: #FFFFFF;\n",
              "    }\n",
              "  </style>\n",
              "\n",
              "      <script>\n",
              "        const buttonEl =\n",
              "          document.querySelector('#df-8e979e0f-286a-46ca-9e91-7738d04e57ff button.colab-df-convert');\n",
              "        buttonEl.style.display =\n",
              "          google.colab.kernel.accessAllowed ? 'block' : 'none';\n",
              "\n",
              "        async function convertToInteractive(key) {\n",
              "          const element = document.querySelector('#df-8e979e0f-286a-46ca-9e91-7738d04e57ff');\n",
              "          const dataTable =\n",
              "            await google.colab.kernel.invokeFunction('convertToInteractive',\n",
              "                                                     [key], {});\n",
              "          if (!dataTable) return;\n",
              "\n",
              "          const docLinkHtml = 'Like what you see? Visit the ' +\n",
              "            '<a target=\"_blank\" href=https://colab.research.google.com/notebooks/data_table.ipynb>data table notebook</a>'\n",
              "            + ' to learn more about interactive tables.';\n",
              "          element.innerHTML = '';\n",
              "          dataTable['output_type'] = 'display_data';\n",
              "          await google.colab.output.renderOutput(dataTable, element);\n",
              "          const docLink = document.createElement('div');\n",
              "          docLink.innerHTML = docLinkHtml;\n",
              "          element.appendChild(docLink);\n",
              "        }\n",
              "      </script>\n",
              "    </div>\n",
              "  </div>\n",
              "  "
            ]
          },
          "metadata": {},
          "execution_count": 135
        }
      ]
    },
    {
      "cell_type": "code",
      "source": [
        "ax = roof_status_pivot_table.plot.bar()\n",
        "ax.set_xlabel('Target')\n",
        "ax.set_ylabel('percentage of roof_status')\n",
        "ax.set_title('roof_status Distribution by Target Level')\n",
        "plt.show()"
      ],
      "metadata": {
        "colab": {
          "base_uri": "https://localhost:8080/",
          "height": 467
        },
        "id": "wHxDUoNZxnBQ",
        "outputId": "f8b02dc5-906d-4f6f-a643-2ac1cbd47f4c"
      },
      "execution_count": null,
      "outputs": [
        {
          "output_type": "display_data",
          "data": {
            "text/plain": [
              "<Figure size 640x480 with 1 Axes>"
            ],
            "image/png": "[encoded data removed]"
          },
          "metadata": {}
        }
      ]
    },
    {
      "cell_type": "markdown",
      "source": [
        "##marital status\n",
        "estadocivil3\t=1 if married\n",
        "estadocivil4\t=1 if divorced\n",
        "estadocivil5\t=1 if separated\n",
        "estadocivil6\t=1 if widow/er\n",
        "estadocivil7\t=1 if single"
      ],
      "metadata": {
        "id": "A6GAPx8pqdGb"
      }
    },
    {
      "cell_type": "code",
      "source": [
        "def marital_status_category(row):\n",
        "    if row['estadocivil3'] == 1:\n",
        "        return 'married'\n",
        "    elif row['estadocivil4'] == 1:\n",
        "        return 'divorced'\n",
        "    elif row['estadocivil5'] == 1:\n",
        "        return 'separated'\n",
        "    elif row['estadocivil6'] == 1:\n",
        "        return 'widow/er'\n",
        "    elif row['estadocivil7'] == 1:\n",
        "        return 'single'\n",
        "    else:\n",
        "        return 'unknown'  # No data or invalid data\n",
        "\n",
        "# Creating a new categorical variable 'marital_status'\n",
        "HH_head_data_cleaned['marital_status'] = HH_head_data_cleaned.apply(marital_status_category, axis=1)"
      ],
      "metadata": {
        "colab": {
          "base_uri": "https://localhost:8080/"
        },
        "id": "GDp0QjNEqmAu",
        "outputId": "46c0464d-e376-4af9-9d38-f03e3ae6e571"
      },
      "execution_count": null,
      "outputs": [
        {
          "output_type": "stream",
          "name": "stderr",
          "text": [
            "<ipython-input-137-16115703f7d2>:16: SettingWithCopyWarning: \n",
            "A value is trying to be set on a copy of a slice from a DataFrame.\n",
            "Try using .loc[row_indexer,col_indexer] = value instead\n",
            "\n",
            "See the caveats in the documentation: https://pandas.pydata.org/pandas-docs/stable/user_guide/indexing.html#returning-a-view-versus-a-copy\n",
            "  HH_head_data_cleaned['marital_status'] = HH_head_data_cleaned.apply(marital_status_category, axis=1)\n"
          ]
        }
      ]
    },
    {
      "cell_type": "code",
      "source": [
        "marital_status = HH_head_data_cleaned.groupby(['Target', 'marital_status']).size().reset_index(name='count')\n",
        "pivot_table_percentage_marital = marital_status.pivot_table(index='Target', columns='marital_status', values='count', fill_value=0)\n",
        "pivot_table_percentage_marital_table = pivot_table_percentage_marital.div(pivot_table_percentage_marital.sum(axis=1), axis=0) * 100\n",
        "pivot_table_percentage_marital_table"
      ],
      "metadata": {
        "colab": {
          "base_uri": "https://localhost:8080/",
          "height": 206
        },
        "id": "b5fTttdOrFCS",
        "outputId": "9d37c0b4-edc1-4698-c35c-a177f8b711be"
      },
      "execution_count": null,
      "outputs": [
        {
          "output_type": "execute_result",
          "data": {
            "text/plain": [
              "marital_status  divorced    married  separated     single    unknown  \\\n",
              "Target                                                                 \n",
              "1               4.545455  29.338843  28.512397  14.876033  17.768595   \n",
              "2               3.579418  31.767338  15.883669  13.199105  24.161074   \n",
              "3               4.719764  38.348083  12.094395  10.029499  22.418879   \n",
              "4               9.151671  46.478149  10.488432  11.619537  14.550129   \n",
              "\n",
              "marital_status   widow/er  \n",
              "Target                     \n",
              "1                4.958678  \n",
              "2               11.409396  \n",
              "3               12.389381  \n",
              "4                7.712082  "
            ],
            "text/html": [
              "\n",
              "  <div id=\"df-37700e9d-3929-4a69-9a93-29cbd972d9ac\">\n",
              "    <div class=\"colab-df-container\">\n",
              "      <div>\n",
              "<style scoped>\n",
              "    .dataframe tbody tr th:only-of-type {\n",
              "        vertical-align: middle;\n",
              "    }\n",
              "\n",
              "    .dataframe tbody tr th {\n",
              "        vertical-align: top;\n",
              "    }\n",
              "\n",
              "    .dataframe thead th {\n",
              "        text-align: right;\n",
              "    }\n",
              "</style>\n",
              "<table border=\"1\" class=\"dataframe\">\n",
              "  <thead>\n",
              "    <tr style=\"text-align: right;\">\n",
              "      <th>marital_status</th>\n",
              "      <th>divorced</th>\n",
              "      <th>married</th>\n",
              "      <th>separated</th>\n",
              "      <th>single</th>\n",
              "      <th>unknown</th>\n",
              "      <th>widow/er</th>\n",
              "    </tr>\n",
              "    <tr>\n",
              "      <th>Target</th>\n",
              "      <th></th>\n",
              "      <th></th>\n",
              "      <th></th>\n",
              "      <th></th>\n",
              "      <th></th>\n",
              "      <th></th>\n",
              "    </tr>\n",
              "  </thead>\n",
              "  <tbody>\n",
              "    <tr>\n",
              "      <th>1</th>\n",
              "      <td>4.545455</td>\n",
              "      <td>29.338843</td>\n",
              "      <td>28.512397</td>\n",
              "      <td>14.876033</td>\n",
              "      <td>17.768595</td>\n",
              "      <td>4.958678</td>\n",
              "    </tr>\n",
              "    <tr>\n",
              "      <th>2</th>\n",
              "      <td>3.579418</td>\n",
              "      <td>31.767338</td>\n",
              "      <td>15.883669</td>\n",
              "      <td>13.199105</td>\n",
              "      <td>24.161074</td>\n",
              "      <td>11.409396</td>\n",
              "    </tr>\n",
              "    <tr>\n",
              "      <th>3</th>\n",
              "      <td>4.719764</td>\n",
              "      <td>38.348083</td>\n",
              "      <td>12.094395</td>\n",
              "      <td>10.029499</td>\n",
              "      <td>22.418879</td>\n",
              "      <td>12.389381</td>\n",
              "    </tr>\n",
              "    <tr>\n",
              "      <th>4</th>\n",
              "      <td>9.151671</td>\n",
              "      <td>46.478149</td>\n",
              "      <td>10.488432</td>\n",
              "      <td>11.619537</td>\n",
              "      <td>14.550129</td>\n",
              "      <td>7.712082</td>\n",
              "    </tr>\n",
              "  </tbody>\n",
              "</table>\n",
              "</div>\n",
              "      <button class=\"colab-df-convert\" onclick=\"convertToInteractive('df-37700e9d-3929-4a69-9a93-29cbd972d9ac')\"\n",
              "              title=\"Convert this dataframe to an interactive table.\"\n",
              "              style=\"display:none;\">\n",
              "        \n",
              "  <svg xmlns=\"http://www.w3.org/2000/svg\" height=\"24px\"viewBox=\"0 0 24 24\"\n",
              "       width=\"24px\">\n",
              "    <path d=\"M0 0h24v24H0V0z\" fill=\"none\"/>\n",
              "    <path d=\"M18.56 5.44l.94 2.06.94-2.06 2.06-.94-2.06-.94-.94-2.06-.94 2.06-2.06.94zm-11 1L8.5 8.5l.94-2.06 2.06-.94-2.06-.94L8.5 2.5l-.94 2.06-2.06.94zm10 10l.94 2.06.94-2.06 2.06-.94-2.06-.94-.94-2.06-.94 2.06-2.06.94z\"/><path d=\"M17.41 7.96l-1.37-1.37c-.4-.4-.92-.59-1.43-.59-.52 0-1.04.2-1.43.59L10.3 9.45l-7.72 7.72c-.78.78-.78 2.05 0 2.83L4 21.41c.39.39.9.59 1.41.59.51 0 1.02-.2 1.41-.59l7.78-7.78 2.81-2.81c.8-.78.8-2.07 0-2.86zM5.41 20L4 18.59l7.72-7.72 1.47 1.35L5.41 20z\"/>\n",
              "  </svg>\n",
              "      </button>\n",
              "      \n",
              "  <style>\n",
              "    .colab-df-container {\n",
              "      display:flex;\n",
              "      flex-wrap:wrap;\n",
              "      gap: 12px;\n",
              "    }\n",
              "\n",
              "    .colab-df-convert {\n",
              "      background-color: #E8F0FE;\n",
              "      border: none;\n",
              "      border-radius: 50%;\n",
              "      cursor: pointer;\n",
              "      display: none;\n",
              "      fill: #1967D2;\n",
              "      height: 32px;\n",
              "      padding: 0 0 0 0;\n",
              "      width: 32px;\n",
              "    }\n",
              "\n",
              "    .colab-df-convert:hover {\n",
              "      background-color: #E2EBFA;\n",
              "      box-shadow: 0px 1px 2px rgba(60, 64, 67, 0.3), 0px 1px 3px 1px rgba(60, 64, 67, 0.15);\n",
              "      fill: #174EA6;\n",
              "    }\n",
              "\n",
              "    [theme=dark] .colab-df-convert {\n",
              "      background-color: #3B4455;\n",
              "      fill: #D2E3FC;\n",
              "    }\n",
              "\n",
              "    [theme=dark] .colab-df-convert:hover {\n",
              "      background-color: #434B5C;\n",
              "      box-shadow: 0px 1px 3px 1px rgba(0, 0, 0, 0.15);\n",
              "      filter: drop-shadow(0px 1px 2px rgba(0, 0, 0, 0.3));\n",
              "      fill: #FFFFFF;\n",
              "    }\n",
              "  </style>\n",
              "\n",
              "      <script>\n",
              "        const buttonEl =\n",
              "          document.querySelector('#df-37700e9d-3929-4a69-9a93-29cbd972d9ac button.colab-df-convert');\n",
              "        buttonEl.style.display =\n",
              "          google.colab.kernel.accessAllowed ? 'block' : 'none';\n",
              "\n",
              "        async function convertToInteractive(key) {\n",
              "          const element = document.querySelector('#df-37700e9d-3929-4a69-9a93-29cbd972d9ac');\n",
              "          const dataTable =\n",
              "            await google.colab.kernel.invokeFunction('convertToInteractive',\n",
              "                                                     [key], {});\n",
              "          if (!dataTable) return;\n",
              "\n",
              "          const docLinkHtml = 'Like what you see? Visit the ' +\n",
              "            '<a target=\"_blank\" href=https://colab.research.google.com/notebooks/data_table.ipynb>data table notebook</a>'\n",
              "            + ' to learn more about interactive tables.';\n",
              "          element.innerHTML = '';\n",
              "          dataTable['output_type'] = 'display_data';\n",
              "          await google.colab.output.renderOutput(dataTable, element);\n",
              "          const docLink = document.createElement('div');\n",
              "          docLink.innerHTML = docLinkHtml;\n",
              "          element.appendChild(docLink);\n",
              "        }\n",
              "      </script>\n",
              "    </div>\n",
              "  </div>\n",
              "  "
            ]
          },
          "metadata": {},
          "execution_count": 138
        }
      ]
    },
    {
      "cell_type": "code",
      "source": [
        "ax = pivot_table_percentage_marital_table.plot.bar()\n",
        "ax.set_xlabel('Target')\n",
        "ax.set_ylabel('Percentage of marital_status')\n",
        "ax.set_title('marital_status Distribution by Target Level')\n",
        "plt.show()"
      ],
      "metadata": {
        "colab": {
          "base_uri": "https://localhost:8080/",
          "height": 467
        },
        "id": "es624oEqq7JL",
        "outputId": "eb227af7-5eef-4ac6-caa1-0688895a2ad7"
      },
      "execution_count": null,
      "outputs": [
        {
          "output_type": "display_data",
          "data": {
            "text/plain": [
              "<Figure size 640x480 with 1 Axes>"
            ],
            "image/png": "[encoded data removed]"
          },
          "metadata": {}
        }
      ]
    },
    {
      "cell_type": "code",
      "source": [
        "HH_head_data_cleaned['parentesco7'].value_counts()"
      ],
      "metadata": {
        "colab": {
          "base_uri": "https://localhost:8080/"
        },
        "id": "iAMt5x1xrUfq",
        "outputId": "a276691e-5ed1-444e-d5cb-4fc2ea04022e"
      },
      "execution_count": null,
      "outputs": [
        {
          "output_type": "execute_result",
          "data": {
            "text/plain": [
              "0    2973\n",
              "Name: parentesco7, dtype: int64"
            ]
          },
          "metadata": {},
          "execution_count": 140
        }
      ]
    },
    {
      "cell_type": "markdown",
      "source": [
        "##test if we need the columns:\n",
        "\n",
        "parentesco1\t=1 if household head\n",
        "parentesco2\t=1 if spouse/partner\n",
        "parentesco3\t=1 if son/doughter\n",
        "parentesco4\t=1 if stepson/doughter\n",
        "parentesco5\t=1 if son/doughter in law\n",
        "parentesco6\t=1 if grandson/doughter\n",
        "parentesco7\t=1 if mother/father\n",
        "parentesco8\t=1 if father/mother in law\n",
        "parentesco9\t=1 if brother/sister\n",
        "parentesco10\t=1 if brother/sister in law\n",
        "parentesco11\t=1 if other family member\n",
        "parentesco12\t=1 if other non family member"
      ],
      "metadata": {
        "id": "8B_kLpjXsF7z"
      }
    },
    {
      "cell_type": "code",
      "source": [
        "def relationship_category(row):\n",
        "    if row['parentesco1'] == 1:\n",
        "        return 'head of household'\n",
        "    elif row['parentesco2'] == 1:\n",
        "        return 'spouse/partner'\n",
        "    elif row['parentesco3'] == 1:\n",
        "        return 'son/daughter'\n",
        "    elif row['parentesco4'] == 1:\n",
        "        return 'stepson/daughter'\n",
        "    elif row['parentesco5'] == 1:\n",
        "        return 'son/daughter in law'\n",
        "    elif row['parentesco6'] == 1:\n",
        "        return 'grandson/daughter'\n",
        "    elif row['parentesco7'] == 1:\n",
        "        return 'mother/father'\n",
        "    elif row['parentesco8'] == 1:\n",
        "        return 'father/mother in law'\n",
        "    elif row['parentesco9'] == 1:\n",
        "        return 'brother/sister'\n",
        "    elif row['parentesco10'] == 1:\n",
        "        return 'brother/sister in law'\n",
        "    elif row['parentesco11'] == 1:\n",
        "        return 'other family member'\n",
        "    elif row['parentesco12'] == 1:\n",
        "        return 'other non-family member'\n",
        "    else:\n",
        "        return 0\n",
        "\n",
        "HH_head_data_cleaned['relationship'] = HH_head_data_cleaned.apply(relationship_category, axis=1)\n",
        "HH_head_data_cleaned['relationship'].value_counts()\n",
        "\n",
        "#the variables are not informative so we decide to exclude them"
      ],
      "metadata": {
        "colab": {
          "base_uri": "https://localhost:8080/"
        },
        "id": "z2vLukCJrWEk",
        "outputId": "84a2602d-2380-4fd1-cb61-b68a7043a7c8"
      },
      "execution_count": null,
      "outputs": [
        {
          "output_type": "stream",
          "name": "stderr",
          "text": [
            "<ipython-input-141-92c83aff3aa7>:29: SettingWithCopyWarning: \n",
            "A value is trying to be set on a copy of a slice from a DataFrame.\n",
            "Try using .loc[row_indexer,col_indexer] = value instead\n",
            "\n",
            "See the caveats in the documentation: https://pandas.pydata.org/pandas-docs/stable/user_guide/indexing.html#returning-a-view-versus-a-copy\n",
            "  HH_head_data_cleaned['relationship'] = HH_head_data_cleaned.apply(relationship_category, axis=1)\n"
          ]
        },
        {
          "output_type": "execute_result",
          "data": {
            "text/plain": [
              "head of household    2973\n",
              "Name: relationship, dtype: int64"
            ]
          },
          "metadata": {},
          "execution_count": 141
        }
      ]
    },
    {
      "cell_type": "markdown",
      "source": [
        "##rubbish disposal\n",
        "\n",
        "elimbasu1\t=1 if rubbish disposal mainly by tanker truck\n",
        "elimbasu2\t=1 if rubbish disposal mainly by botan hollow or buried\n",
        "elimbasu3\t=1 if rubbish disposal mainly by burning\n",
        "elimbasu4\t=1 if rubbish disposal mainly by throwing in an unoccupied space\n",
        "elimbasu5\t=1 if rubbish disposal mainly by throwing in river,  creek or sea\n",
        "elimbasu6\t=1 if rubbish disposal mainly other"
      ],
      "metadata": {
        "id": "d5csEdk3s-Qv"
      }
    },
    {
      "cell_type": "code",
      "source": [
        "def rubbish_disposal_category(row):\n",
        "    if row['elimbasu1'] == 1:\n",
        "        return 'tanker truck'\n",
        "    elif row['elimbasu2'] == 1:\n",
        "        return 'botan hollow or buried'\n",
        "    elif row['elimbasu3'] == 1:\n",
        "        return 'burning'\n",
        "    elif row['elimbasu4'] == 1:\n",
        "        return 'throwing in unoccupied space'\n",
        "    elif row['elimbasu5'] == 1:\n",
        "        return 'throwing in river, creek, or sea'\n",
        "    elif row['elimbasu6'] == 1:\n",
        "        return 'other'\n",
        "    else:\n",
        "        return 'unknown'  # No data or invalid data\n",
        "\n",
        "# Creating a new categorical variable 'rubbish_disposal'\n",
        "HH_head_data_cleaned['rubbish_disposal'] = HH_head_data_cleaned.apply(rubbish_disposal_category, axis=1)"
      ],
      "metadata": {
        "colab": {
          "base_uri": "https://localhost:8080/"
        },
        "id": "nFiTxSJmtCDi",
        "outputId": "b2e42dd3-d8c5-4225-fa78-a12a7e395e44"
      },
      "execution_count": null,
      "outputs": [
        {
          "output_type": "stream",
          "name": "stderr",
          "text": [
            "<ipython-input-142-5688675bfff1>:18: SettingWithCopyWarning: \n",
            "A value is trying to be set on a copy of a slice from a DataFrame.\n",
            "Try using .loc[row_indexer,col_indexer] = value instead\n",
            "\n",
            "See the caveats in the documentation: https://pandas.pydata.org/pandas-docs/stable/user_guide/indexing.html#returning-a-view-versus-a-copy\n",
            "  HH_head_data_cleaned['rubbish_disposal'] = HH_head_data_cleaned.apply(rubbish_disposal_category, axis=1)\n"
          ]
        }
      ]
    },
    {
      "cell_type": "code",
      "source": [
        "rubbish_disposal = HH_head_data_cleaned.groupby(['Target', 'rubbish_disposal']).size().reset_index(name='count')\n",
        "pivot_table_percentage_rubbish = rubbish_disposal.pivot_table(index='Target', columns='rubbish_disposal', values='count', fill_value=0)\n",
        "pivot_table_percentage_rubbish_table = pivot_table_percentage_rubbish.div(pivot_table_percentage_rubbish.sum(axis=1), axis=0) * 100\n",
        "pivot_table_percentage_rubbish_table"
      ],
      "metadata": {
        "colab": {
          "base_uri": "https://localhost:8080/",
          "height": 206
        },
        "id": "1iOECKlCuO-2",
        "outputId": "6b927be3-8040-4799-cff1-e012ebdb3753"
      },
      "execution_count": null,
      "outputs": [
        {
          "output_type": "execute_result",
          "data": {
            "text/plain": [
              "rubbish_disposal  botan hollow or buried    burning     other  tanker truck  \\\n",
              "Target                                                                        \n",
              "1                               4.545455  16.115702  0.000000     79.338843   \n",
              "2                               4.921700  13.422819  0.000000     80.760626   \n",
              "3                               3.834808  12.094395  0.000000     84.070796   \n",
              "4                               2.262211   5.398458  0.205656     92.133676   \n",
              "\n",
              "rubbish_disposal  throwing in unoccupied space  \n",
              "Target                                          \n",
              "1                                     0.000000  \n",
              "2                                     0.894855  \n",
              "3                                     0.000000  \n",
              "4                                     0.000000  "
            ],
            "text/html": [
              "\n",
              "  <div id=\"df-0e06cc92-32bd-4282-9cda-ad6cabb0d0f9\">\n",
              "    <div class=\"colab-df-container\">\n",
              "      <div>\n",
              "<style scoped>\n",
              "    .dataframe tbody tr th:only-of-type {\n",
              "        vertical-align: middle;\n",
              "    }\n",
              "\n",
              "    .dataframe tbody tr th {\n",
              "        vertical-align: top;\n",
              "    }\n",
              "\n",
              "    .dataframe thead th {\n",
              "        text-align: right;\n",
              "    }\n",
              "</style>\n",
              "<table border=\"1\" class=\"dataframe\">\n",
              "  <thead>\n",
              "    <tr style=\"text-align: right;\">\n",
              "      <th>rubbish_disposal</th>\n",
              "      <th>botan hollow or buried</th>\n",
              "      <th>burning</th>\n",
              "      <th>other</th>\n",
              "      <th>tanker truck</th>\n",
              "      <th>throwing in unoccupied space</th>\n",
              "    </tr>\n",
              "    <tr>\n",
              "      <th>Target</th>\n",
              "      <th></th>\n",
              "      <th></th>\n",
              "      <th></th>\n",
              "      <th></th>\n",
              "      <th></th>\n",
              "    </tr>\n",
              "  </thead>\n",
              "  <tbody>\n",
              "    <tr>\n",
              "      <th>1</th>\n",
              "      <td>4.545455</td>\n",
              "      <td>16.115702</td>\n",
              "      <td>0.000000</td>\n",
              "      <td>79.338843</td>\n",
              "      <td>0.000000</td>\n",
              "    </tr>\n",
              "    <tr>\n",
              "      <th>2</th>\n",
              "      <td>4.921700</td>\n",
              "      <td>13.422819</td>\n",
              "      <td>0.000000</td>\n",
              "      <td>80.760626</td>\n",
              "      <td>0.894855</td>\n",
              "    </tr>\n",
              "    <tr>\n",
              "      <th>3</th>\n",
              "      <td>3.834808</td>\n",
              "      <td>12.094395</td>\n",
              "      <td>0.000000</td>\n",
              "      <td>84.070796</td>\n",
              "      <td>0.000000</td>\n",
              "    </tr>\n",
              "    <tr>\n",
              "      <th>4</th>\n",
              "      <td>2.262211</td>\n",
              "      <td>5.398458</td>\n",
              "      <td>0.205656</td>\n",
              "      <td>92.133676</td>\n",
              "      <td>0.000000</td>\n",
              "    </tr>\n",
              "  </tbody>\n",
              "</table>\n",
              "</div>\n",
              "      <button class=\"colab-df-convert\" onclick=\"convertToInteractive('df-0e06cc92-32bd-4282-9cda-ad6cabb0d0f9')\"\n",
              "              title=\"Convert this dataframe to an interactive table.\"\n",
              "              style=\"display:none;\">\n",
              "        \n",
              "  <svg xmlns=\"http://www.w3.org/2000/svg\" height=\"24px\"viewBox=\"0 0 24 24\"\n",
              "       width=\"24px\">\n",
              "    <path d=\"M0 0h24v24H0V0z\" fill=\"none\"/>\n",
              "    <path d=\"M18.56 5.44l.94 2.06.94-2.06 2.06-.94-2.06-.94-.94-2.06-.94 2.06-2.06.94zm-11 1L8.5 8.5l.94-2.06 2.06-.94-2.06-.94L8.5 2.5l-.94 2.06-2.06.94zm10 10l.94 2.06.94-2.06 2.06-.94-2.06-.94-.94-2.06-.94 2.06-2.06.94z\"/><path d=\"M17.41 7.96l-1.37-1.37c-.4-.4-.92-.59-1.43-.59-.52 0-1.04.2-1.43.59L10.3 9.45l-7.72 7.72c-.78.78-.78 2.05 0 2.83L4 21.41c.39.39.9.59 1.41.59.51 0 1.02-.2 1.41-.59l7.78-7.78 2.81-2.81c.8-.78.8-2.07 0-2.86zM5.41 20L4 18.59l7.72-7.72 1.47 1.35L5.41 20z\"/>\n",
              "  </svg>\n",
              "      </button>\n",
              "      \n",
              "  <style>\n",
              "    .colab-df-container {\n",
              "      display:flex;\n",
              "      flex-wrap:wrap;\n",
              "      gap: 12px;\n",
              "    }\n",
              "\n",
              "    .colab-df-convert {\n",
              "      background-color: #E8F0FE;\n",
              "      border: none;\n",
              "      border-radius: 50%;\n",
              "      cursor: pointer;\n",
              "      display: none;\n",
              "      fill: #1967D2;\n",
              "      height: 32px;\n",
              "      padding: 0 0 0 0;\n",
              "      width: 32px;\n",
              "    }\n",
              "\n",
              "    .colab-df-convert:hover {\n",
              "      background-color: #E2EBFA;\n",
              "      box-shadow: 0px 1px 2px rgba(60, 64, 67, 0.3), 0px 1px 3px 1px rgba(60, 64, 67, 0.15);\n",
              "      fill: #174EA6;\n",
              "    }\n",
              "\n",
              "    [theme=dark] .colab-df-convert {\n",
              "      background-color: #3B4455;\n",
              "      fill: #D2E3FC;\n",
              "    }\n",
              "\n",
              "    [theme=dark] .colab-df-convert:hover {\n",
              "      background-color: #434B5C;\n",
              "      box-shadow: 0px 1px 3px 1px rgba(0, 0, 0, 0.15);\n",
              "      filter: drop-shadow(0px 1px 2px rgba(0, 0, 0, 0.3));\n",
              "      fill: #FFFFFF;\n",
              "    }\n",
              "  </style>\n",
              "\n",
              "      <script>\n",
              "        const buttonEl =\n",
              "          document.querySelector('#df-0e06cc92-32bd-4282-9cda-ad6cabb0d0f9 button.colab-df-convert');\n",
              "        buttonEl.style.display =\n",
              "          google.colab.kernel.accessAllowed ? 'block' : 'none';\n",
              "\n",
              "        async function convertToInteractive(key) {\n",
              "          const element = document.querySelector('#df-0e06cc92-32bd-4282-9cda-ad6cabb0d0f9');\n",
              "          const dataTable =\n",
              "            await google.colab.kernel.invokeFunction('convertToInteractive',\n",
              "                                                     [key], {});\n",
              "          if (!dataTable) return;\n",
              "\n",
              "          const docLinkHtml = 'Like what you see? Visit the ' +\n",
              "            '<a target=\"_blank\" href=https://colab.research.google.com/notebooks/data_table.ipynb>data table notebook</a>'\n",
              "            + ' to learn more about interactive tables.';\n",
              "          element.innerHTML = '';\n",
              "          dataTable['output_type'] = 'display_data';\n",
              "          await google.colab.output.renderOutput(dataTable, element);\n",
              "          const docLink = document.createElement('div');\n",
              "          docLink.innerHTML = docLinkHtml;\n",
              "          element.appendChild(docLink);\n",
              "        }\n",
              "      </script>\n",
              "    </div>\n",
              "  </div>\n",
              "  "
            ]
          },
          "metadata": {},
          "execution_count": 143
        }
      ]
    },
    {
      "cell_type": "code",
      "source": [
        "ax = pivot_table_percentage_rubbish_table.plot.bar()\n",
        "ax.set_xlabel('Target')\n",
        "ax.set_ylabel('Percentage of rubbish_disposal')\n",
        "ax.set_title('rubbish_disposal Distribution by Target Level')\n",
        "plt.show()"
      ],
      "metadata": {
        "colab": {
          "base_uri": "https://localhost:8080/",
          "height": 467
        },
        "id": "yXYywD-uuQnr",
        "outputId": "c37ed76a-f8e5-4037-bfcf-59fd5fb3c755"
      },
      "execution_count": null,
      "outputs": [
        {
          "output_type": "display_data",
          "data": {
            "text/plain": [
              "<Figure size 640x480 with 1 Axes>"
            ],
            "image/png": "[encoded data removed]"
          },
          "metadata": {}
        }
      ]
    },
    {
      "cell_type": "markdown",
      "source": [
        "#New dataset with generated features for model testing"
      ],
      "metadata": {
        "id": "S2-s-slK01Wl"
      }
    },
    {
      "cell_type": "code",
      "source": [
        "print(HH_head_data_cleaned.columns)"
      ],
      "metadata": {
        "colab": {
          "base_uri": "https://localhost:8080/"
        },
        "id": "ZYIquKEQ1GeE",
        "outputId": "ef679da4-7067-4a78-9a21-113da4891aec"
      },
      "execution_count": null,
      "outputs": [
        {
          "output_type": "stream",
          "name": "stdout",
          "text": [
            "Index(['Id', 'v2a1', 'hacdor', 'rooms', 'hacapo', 'v14a', 'refrig', 'v18q',\n",
            "       'v18q1', 'r4h1',\n",
            "       ...\n",
            "       'wall_material', 'housing_situation', 'wall_status', 'floor_material',\n",
            "       'floor_status', 'roof_material', 'roof_status', 'marital_status',\n",
            "       'relationship', 'rubbish_disposal'],\n",
            "      dtype='object', length=176)\n"
          ]
        }
      ]
    },
    {
      "cell_type": "code",
      "source": [
        "column_names_post_data = ['Id',\n",
        "                 'v2a1',\n",
        "                 'hacdor',\n",
        "                 'rooms',\n",
        "                 'hacapo',\n",
        "                 'v14a',\n",
        "                 'v18q1',\n",
        "                 'r4h1',\n",
        "                 'r4h2',\n",
        "                 'r4h3',\n",
        "                 'r4m1',\n",
        "                 'r4m2',\n",
        "                 'r4m3',\n",
        "                 'r4t1',\n",
        "                 'r4t2',\n",
        "                 'r4t3',\n",
        "                 'tamhog',\n",
        "                 'tamviv',\n",
        "                 'escolari',\n",
        "                 'rez_esc',\n",
        "                 'hhsize',\n",
        "                 'wall_material',  #new feature\n",
        "                 'floor_material', #new feature\n",
        "                 'roof_material', #new feature\n",
        "                 'marital_status',#new feature\n",
        "                 'rubbish_disposal', #new feature\n",
        "                 'pisonotiene',\n",
        "                 'cielorazo',\n",
        "                 'water_provision', #new feature\n",
        "                 'abastaguano',\n",
        "                 'noelec',\n",
        "                 'sanitario1',\n",
        "                 'electricity_source', #new feature\n",
        "                 'wall_status',#new feature\n",
        "                 'roof_status', #new feature\n",
        "                 'floor_status',#new feature\n",
        "                 'dis',\n",
        "                 'male', #gender indicator, =1 male, =0 female\n",
        "                 'estadocivil1',\n",
        "                 'estadocivil2',\n",
        "                 'idhogar',\n",
        "                 'hogar_nin',\n",
        "                 'hogar_adul',\n",
        "                 'hogar_mayor',\n",
        "                 'hogar_total',\n",
        "                 'dependency',\n",
        "                 'edjefe',\n",
        "                 'edjefa',\n",
        "                 'meaneduc',\n",
        "                 'instlevel1',\n",
        "                 'instlevel8',\n",
        "                 'bedrooms',\n",
        "                 'overcrowding',\n",
        "                 'asset_owned', #new feature\n",
        "                 'qmobilephone',\n",
        "                 'region',#new feature\n",
        "                 'Central',\n",
        "                 'Chorotega',\n",
        "                 'Paci­fico Central',\n",
        "                 'Brunca',\n",
        "                 'Huetar Atlantica',\n",
        "                 'Huetar Norte',\n",
        "                 'area1', #urban or rural area indicator, =1 urban\n",
        "                 'age',\n",
        "                 'SQBescolari',\n",
        "                 'SQBage',\n",
        "                 'SQBhogar_total',\n",
        "                 'SQBedjefe',\n",
        "                 'SQBhogar_nin',\n",
        "                 'SQBovercrowding',\n",
        "                 'SQBdependency',\n",
        "                 'SQBmeaned',\n",
        "                 'agesq',\n",
        "                 'mean_per_capita_income', # new feature\n",
        "                 'yrs_edu_lost', # new feature\n",
        "                 'mobilephone_per_capita', # new feature\n",
        "                 'computer_per_capita', # new feature\n",
        "                 'tablet_per_capita', # new feature\n",
        "                 'estimated_household_income_min', # new feature GH after checkpoint 2\n",
        "                 'estimated_household_income_max', # new feature GH after checkpoint 2\n",
        "                 'rent_to_income_ratio_min', # new feature GH after checkpoint 2\n",
        "                 'rent_to_income_ratio_max', # new feature GH after checkpoint 2\n",
        "                 'HCB_cost_burdened_min', # new feature GH after checkpoint 2\n",
        "                 'HCB_cost_burdened_max', # new feature GH after checkpoint 2\n",
        "                 'HCB_severely_cost_burdened_min', # new feature GH after checkpoint 2\n",
        "                 'HCB_severely_cost_burdened_max', # new feature GH after checkpoint 2\n",
        "                 'Target'\n",
        "                 ]\n"
      ],
      "metadata": {
        "id": "04-HPqB507-k"
      },
      "execution_count": null,
      "outputs": []
    },
    {
      "cell_type": "code",
      "source": [
        "post_HH_data = HH_head_data_cleaned.loc[:, column_names_post_data]\n",
        "post_HH_data.shape"
      ],
      "metadata": {
        "colab": {
          "base_uri": "https://localhost:8080/"
        },
        "id": "HjzJFtWJ4Gy9",
        "outputId": "dccf0dfd-612b-4e51-d478-dc2856fa260f"
      },
      "execution_count": null,
      "outputs": [
        {
          "output_type": "execute_result",
          "data": {
            "text/plain": [
              "(2973, 87)"
            ]
          },
          "metadata": {},
          "execution_count": 147
        }
      ]
    },
    {
      "cell_type": "code",
      "source": [
        "from google.colab import files\n",
        "post_HH_data.to_csv('postHHdata.csv', encoding = 'utf-8-sig')\n",
        "files.download('postHHdata.csv')"
      ],
      "metadata": {
        "colab": {
          "base_uri": "https://localhost:8080/",
          "height": 17
        },
        "id": "LHMum2olGvWz",
        "outputId": "fbf06322-e1c9-4b86-9017-f88c5fedae7e"
      },
      "execution_count": null,
      "outputs": [
        {
          "output_type": "display_data",
          "data": {
            "text/plain": [
              "<IPython.core.display.Javascript object>"
            ],
            "application/javascript": [
              "\n",
              "    async function download(id, filename, size) {\n",
              "      if (!google.colab.kernel.accessAllowed) {\n",
              "        return;\n",
              "      }\n",
              "      const div = document.createElement('div');\n",
              "      const label = document.createElement('label');\n",
              "      label.textContent = `Downloading \"${filename}\": `;\n",
              "      div.appendChild(label);\n",
              "      const progress = document.createElement('progress');\n",
              "      progress.max = size;\n",
              "      div.appendChild(progress);\n",
              "      document.body.appendChild(div);\n",
              "\n",
              "      const buffers = [];\n",
              "      let downloaded = 0;\n",
              "\n",
              "      const channel = await google.colab.kernel.comms.open(id);\n",
              "      // Send a message to notify the kernel that we're ready.\n",
              "      channel.send({})\n",
              "\n",
              "      for await (const message of channel.messages) {\n",
              "        // Send a message to notify the kernel that we're ready.\n",
              "        channel.send({})\n",
              "        if (message.buffers) {\n",
              "          for (const buffer of message.buffers) {\n",
              "            buffers.push(buffer);\n",
              "            downloaded += buffer.byteLength;\n",
              "            progress.value = downloaded;\n",
              "          }\n",
              "        }\n",
              "      }\n",
              "      const blob = new Blob(buffers, {type: 'application/binary'});\n",
              "      const a = document.createElement('a');\n",
              "      a.href = window.URL.createObjectURL(blob);\n",
              "      a.download = filename;\n",
              "      div.appendChild(a);\n",
              "      a.click();\n",
              "      div.remove();\n",
              "    }\n",
              "  "
            ]
          },
          "metadata": {}
        },
        {
          "output_type": "display_data",
          "data": {
            "text/plain": [
              "<IPython.core.display.Javascript object>"
            ],
            "application/javascript": [
              "download(\"download_b2a5a512-f0e8-47d5-81ca-22640d341b87\", \"postHHdata.csv\", 1197544)"
            ]
          },
          "metadata": {}
        }
      ]
    },
    {
      "cell_type": "code",
      "source": [
        "sum(post_HH_data['v2a1'].isna())"
      ],
      "metadata": {
        "colab": {
          "base_uri": "https://localhost:8080/"
        },
        "id": "_BMqeYMY4rKy",
        "outputId": "a44f31c6-7ec9-4342-9063-95c782e8d8f2"
      },
      "execution_count": null,
      "outputs": [
        {
          "output_type": "execute_result",
          "data": {
            "text/plain": [
              "0"
            ]
          },
          "metadata": {},
          "execution_count": 149
        }
      ]
    },
    {
      "cell_type": "code",
      "source": [
        "post_HH_data.to_csv(\"postHHdata.csv\")"
      ],
      "metadata": {
        "id": "SDzi14a9Llxe"
      },
      "execution_count": null,
      "outputs": []
    }
  ]
}