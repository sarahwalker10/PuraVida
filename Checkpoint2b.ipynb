{
  "nbformat": 4,
  "nbformat_minor": 0,
  "metadata": {
    "colab": {
      "provenance": []
    },
    "kernelspec": {
      "name": "python3",
      "display_name": "Python 3"
    },
    "language_info": {
      "name": "python"
    }
  },
  "cells": [
    {
      "cell_type": "markdown",
      "source": [
        "# Predictive Models using Cleaned Costa Rica Household Data\n",
        "\n",
        "Group members: Gregory Ho, Jonathan Juarez, Sarah Walker, Yueyue Wang\n",
        "\n",
        "(Alphabetic order of first name)"
      ],
      "metadata": {
        "id": "3DBMDOnWn5rP"
      }
    },
    {
      "cell_type": "markdown",
      "source": [
        "Our submission of for Checkpoint 2 consist of two notebooks. This is the second notebook.\n",
        "\n",
        "This notebook contains a summary of the steps we took in constructing ML models, and model performance for this Multi-class poverty prediction problem.\n"
      ],
      "metadata": {
        "id": "Mf9wf398zaso"
      }
    },
    {
      "cell_type": "markdown",
      "source": [
        "### 1. Logistic Regression Modeling"
      ],
      "metadata": {
        "id": "NV2Ygvyroak9"
      }
    },
    {
      "cell_type": "markdown",
      "source": [
        "#### Overview\n",
        "\n",
        "Conducting a logistic regression model (LG) with the Costa Rica household survey data can provide valuable insights and predictive capabilities for various reasons. First, LG is particularly suitable for classification problems, such as predicting the poverty levels of each household. By using LG, we can model the relationship between independent variables of the dataset and the target variable (e.g., poverty level) to estimate the probability of belonging to one of the four poverty levels. This enables us to make probabilistic predictions and understand the factors that significantly influence the outcome.\n",
        "\n",
        "Logistic regression offers several advantages that make it a preferred modeling approach for household survey data. It is interpretable, allowing us to assess the impact and significance of each independent variable on the outcome. Since the survey data has both binary and continuous variables, using LG is suitable for integrating the over one hundred dimensions in the dataset. LG can also handle multicollinearity by measuring the variance inflation factor (VIF) and is less sensitive to outliers compared to some other models. This robustness ensures reliable predictions even in the presence of correlated variables or extreme data points.\n",
        "\n",
        "There are limitations in using LG with household survey data, which will be addressed after running a baseline LG model."
      ],
      "metadata": {
        "id": "242Nd2OGoiYu"
      }
    },
    {
      "cell_type": "code",
      "source": [
        "import numpy as np\n",
        "import pandas as pd\n",
        "import matplotlib.pyplot as plt\n",
        "import seaborn as sns"
      ],
      "metadata": {
        "id": "wsb3uSM0pDQa"
      },
      "execution_count": null,
      "outputs": []
    },
    {
      "cell_type": "code",
      "source": [
        "from google.colab import files\n",
        "uploaded = files.upload()"
      ],
      "metadata": {
        "colab": {
          "base_uri": "https://localhost:8080/",
          "height": 73
        },
        "id": "JQ3mA5BlpFzb",
        "outputId": "56876c56-1c8b-4215-deca-ddf270d80c80"
      },
      "execution_count": null,
      "outputs": [
        {
          "output_type": "display_data",
          "data": {
            "text/plain": [
              "<IPython.core.display.HTML object>"
            ],
            "text/html": [
              "\n",
              "     <input type=\"file\" id=\"files-3cdac63e-69b6-4a2d-a44b-37521d2767c1\" name=\"files[]\" multiple disabled\n",
              "        style=\"border:none\" />\n",
              "     <output id=\"result-3cdac63e-69b6-4a2d-a44b-37521d2767c1\">\n",
              "      Upload widget is only available when the cell has been executed in the\n",
              "      current browser session. Please rerun this cell to enable.\n",
              "      </output>\n",
              "      <script>// Copyright 2017 Google LLC\n",
              "//\n",
              "// Licensed under the Apache License, Version 2.0 (the \"License\");\n",
              "// you may not use this file except in compliance with the License.\n",
              "// You may obtain a copy of the License at\n",
              "//\n",
              "//      http://www.apache.org/licenses/LICENSE-2.0\n",
              "//\n",
              "// Unless required by applicable law or agreed to in writing, software\n",
              "// distributed under the License is distributed on an \"AS IS\" BASIS,\n",
              "// WITHOUT WARRANTIES OR CONDITIONS OF ANY KIND, either express or implied.\n",
              "// See the License for the specific language governing permissions and\n",
              "// limitations under the License.\n",
              "\n",
              "/**\n",
              " * @fileoverview Helpers for google.colab Python module.\n",
              " */\n",
              "(function(scope) {\n",
              "function span(text, styleAttributes = {}) {\n",
              "  const element = document.createElement('span');\n",
              "  element.textContent = text;\n",
              "  for (const key of Object.keys(styleAttributes)) {\n",
              "    element.style[key] = styleAttributes[key];\n",
              "  }\n",
              "  return element;\n",
              "}\n",
              "\n",
              "// Max number of bytes which will be uploaded at a time.\n",
              "const MAX_PAYLOAD_SIZE = 100 * 1024;\n",
              "\n",
              "function _uploadFiles(inputId, outputId) {\n",
              "  const steps = uploadFilesStep(inputId, outputId);\n",
              "  const outputElement = document.getElementById(outputId);\n",
              "  // Cache steps on the outputElement to make it available for the next call\n",
              "  // to uploadFilesContinue from Python.\n",
              "  outputElement.steps = steps;\n",
              "\n",
              "  return _uploadFilesContinue(outputId);\n",
              "}\n",
              "\n",
              "// This is roughly an async generator (not supported in the browser yet),\n",
              "// where there are multiple asynchronous steps and the Python side is going\n",
              "// to poll for completion of each step.\n",
              "// This uses a Promise to block the python side on completion of each step,\n",
              "// then passes the result of the previous step as the input to the next step.\n",
              "function _uploadFilesContinue(outputId) {\n",
              "  const outputElement = document.getElementById(outputId);\n",
              "  const steps = outputElement.steps;\n",
              "\n",
              "  const next = steps.next(outputElement.lastPromiseValue);\n",
              "  return Promise.resolve(next.value.promise).then((value) => {\n",
              "    // Cache the last promise value to make it available to the next\n",
              "    // step of the generator.\n",
              "    outputElement.lastPromiseValue = value;\n",
              "    return next.value.response;\n",
              "  });\n",
              "}\n",
              "\n",
              "/**\n",
              " * Generator function which is called between each async step of the upload\n",
              " * process.\n",
              " * @param {string} inputId Element ID of the input file picker element.\n",
              " * @param {string} outputId Element ID of the output display.\n",
              " * @return {!Iterable<!Object>} Iterable of next steps.\n",
              " */\n",
              "function* uploadFilesStep(inputId, outputId) {\n",
              "  const inputElement = document.getElementById(inputId);\n",
              "  inputElement.disabled = false;\n",
              "\n",
              "  const outputElement = document.getElementById(outputId);\n",
              "  outputElement.innerHTML = '';\n",
              "\n",
              "  const pickedPromise = new Promise((resolve) => {\n",
              "    inputElement.addEventListener('change', (e) => {\n",
              "      resolve(e.target.files);\n",
              "    });\n",
              "  });\n",
              "\n",
              "  const cancel = document.createElement('button');\n",
              "  inputElement.parentElement.appendChild(cancel);\n",
              "  cancel.textContent = 'Cancel upload';\n",
              "  const cancelPromise = new Promise((resolve) => {\n",
              "    cancel.onclick = () => {\n",
              "      resolve(null);\n",
              "    };\n",
              "  });\n",
              "\n",
              "  // Wait for the user to pick the files.\n",
              "  const files = yield {\n",
              "    promise: Promise.race([pickedPromise, cancelPromise]),\n",
              "    response: {\n",
              "      action: 'starting',\n",
              "    }\n",
              "  };\n",
              "\n",
              "  cancel.remove();\n",
              "\n",
              "  // Disable the input element since further picks are not allowed.\n",
              "  inputElement.disabled = true;\n",
              "\n",
              "  if (!files) {\n",
              "    return {\n",
              "      response: {\n",
              "        action: 'complete',\n",
              "      }\n",
              "    };\n",
              "  }\n",
              "\n",
              "  for (const file of files) {\n",
              "    const li = document.createElement('li');\n",
              "    li.append(span(file.name, {fontWeight: 'bold'}));\n",
              "    li.append(span(\n",
              "        `(${file.type || 'n/a'}) - ${file.size} bytes, ` +\n",
              "        `last modified: ${\n",
              "            file.lastModifiedDate ? file.lastModifiedDate.toLocaleDateString() :\n",
              "                                    'n/a'} - `));\n",
              "    const percent = span('0% done');\n",
              "    li.appendChild(percent);\n",
              "\n",
              "    outputElement.appendChild(li);\n",
              "\n",
              "    const fileDataPromise = new Promise((resolve) => {\n",
              "      const reader = new FileReader();\n",
              "      reader.onload = (e) => {\n",
              "        resolve(e.target.result);\n",
              "      };\n",
              "      reader.readAsArrayBuffer(file);\n",
              "    });\n",
              "    // Wait for the data to be ready.\n",
              "    let fileData = yield {\n",
              "      promise: fileDataPromise,\n",
              "      response: {\n",
              "        action: 'continue',\n",
              "      }\n",
              "    };\n",
              "\n",
              "    // Use a chunked sending to avoid message size limits. See b/62115660.\n",
              "    let position = 0;\n",
              "    do {\n",
              "      const length = Math.min(fileData.byteLength - position, MAX_PAYLOAD_SIZE);\n",
              "      const chunk = new Uint8Array(fileData, position, length);\n",
              "      position += length;\n",
              "\n",
              "      const base64 = btoa(String.fromCharCode.apply(null, chunk));\n",
              "      yield {\n",
              "        response: {\n",
              "          action: 'append',\n",
              "          file: file.name,\n",
              "          data: base64,\n",
              "        },\n",
              "      };\n",
              "\n",
              "      let percentDone = fileData.byteLength === 0 ?\n",
              "          100 :\n",
              "          Math.round((position / fileData.byteLength) * 100);\n",
              "      percent.textContent = `${percentDone}% done`;\n",
              "\n",
              "    } while (position < fileData.byteLength);\n",
              "  }\n",
              "\n",
              "  // All done.\n",
              "  yield {\n",
              "    response: {\n",
              "      action: 'complete',\n",
              "    }\n",
              "  };\n",
              "}\n",
              "\n",
              "scope.google = scope.google || {};\n",
              "scope.google.colab = scope.google.colab || {};\n",
              "scope.google.colab._files = {\n",
              "  _uploadFiles,\n",
              "  _uploadFilesContinue,\n",
              "};\n",
              "})(self);\n",
              "</script> "
            ]
          },
          "metadata": {}
        },
        {
          "output_type": "stream",
          "name": "stdout",
          "text": [
            "Saving cleaned_data_lg.csv to cleaned_data_lg.csv\n"
          ]
        }
      ]
    },
    {
      "cell_type": "markdown",
      "source": [
        "Since LG models perform classification without the usage of categorical variables, and the original dataset includes a variety of dummy variables, the inclusion of the new feature categorical variables that we created will not be necessary for this model."
      ],
      "metadata": {
        "id": "lk7L9OxQsKWn"
      }
    },
    {
      "cell_type": "code",
      "source": [
        "data_lg = pd.read_csv('cleaned_data_lg.csv')"
      ],
      "metadata": {
        "id": "jXPSgd6tpP0a",
        "colab": {
          "base_uri": "https://localhost:8080/",
          "height": 165
        },
        "outputId": "fd45a1cd-4807-4afa-cebd-9bed81ce4b83"
      },
      "execution_count": null,
      "outputs": [
        {
          "output_type": "error",
          "ename": "NameError",
          "evalue": "ignored",
          "traceback": [
            "\u001b[0;31m---------------------------------------------------------------------------\u001b[0m",
            "\u001b[0;31mNameError\u001b[0m                                 Traceback (most recent call last)",
            "\u001b[0;32m<ipython-input-1-4bf58337b3df>\u001b[0m in \u001b[0;36m<cell line: 1>\u001b[0;34m()\u001b[0m\n\u001b[0;32m----> 1\u001b[0;31m \u001b[0mdata_lg\u001b[0m \u001b[0;34m=\u001b[0m \u001b[0mpd\u001b[0m\u001b[0;34m.\u001b[0m\u001b[0mread_csv\u001b[0m\u001b[0;34m(\u001b[0m\u001b[0;34m'cleaned_data_lg.csv'\u001b[0m\u001b[0;34m)\u001b[0m\u001b[0;34m\u001b[0m\u001b[0;34m\u001b[0m\u001b[0m\n\u001b[0m",
            "\u001b[0;31mNameError\u001b[0m: name 'pd' is not defined"
          ]
        }
      ]
    },
    {
      "cell_type": "code",
      "source": [
        "# Group by 'idhogar' and set it as the new index, drop id column\n",
        "df_hh = data_lg.groupby('idhogar').first()\n",
        "df_hh = df_hh.drop(columns=['Id'])"
      ],
      "metadata": {
        "id": "g77_wlRaprIZ"
      },
      "execution_count": null,
      "outputs": []
    },
    {
      "cell_type": "markdown",
      "source": [
        "First, we will split the data into our X feature matrix and our y target data sets."
      ],
      "metadata": {
        "id": "gkbrPPvmpw35"
      }
    },
    {
      "cell_type": "code",
      "source": [
        "from sklearn.model_selection import train_test_split\n",
        "X = df_hh.drop(columns='Target')\n",
        "y = df_hh['Target']\n",
        "X_train, X_test, y_train, y_test = train_test_split(X, y, test_size= 0.3, random_state=1)\n",
        "\n",
        "columns_with_nan = X_train.columns[X_train.isna().any()].tolist()\n",
        "columns_with_nan"
      ],
      "metadata": {
        "id": "24rN2NrzpyRg",
        "colab": {
          "base_uri": "https://localhost:8080/"
        },
        "outputId": "4f7ee60a-040b-4781-eb6a-532b84497da8"
      },
      "execution_count": null,
      "outputs": [
        {
          "output_type": "execute_result",
          "data": {
            "text/plain": [
              "[]"
            ]
          },
          "metadata": {},
          "execution_count": 71
        }
      ]
    },
    {
      "cell_type": "markdown",
      "source": [
        "Here we will use a scalar in order to equalize the features since LG is sensitive to the scales of the predictor variables. For example, feature v2a1, which are the rent payments of each household, is a numerical value that is much greater than the binary variables in the dataset."
      ],
      "metadata": {
        "id": "cB_nMs_lp763"
      }
    },
    {
      "cell_type": "code",
      "source": [
        "from sklearn.preprocessing import StandardScaler\n",
        "scaler = StandardScaler()\n",
        "X_train_scaled = scaler.fit_transform(X_train)\n",
        "X_test_scaled = scaler.transform(X_test)"
      ],
      "metadata": {
        "id": "GtLO6Ythp9kw"
      },
      "execution_count": null,
      "outputs": []
    },
    {
      "cell_type": "markdown",
      "source": [
        "Now we will create the LG model and run the first test without changing any parameters."
      ],
      "metadata": {
        "id": "F-IU6E-mqEQX"
      }
    },
    {
      "cell_type": "code",
      "source": [
        "from sklearn.linear_model import LogisticRegression\n",
        "log_reg = LogisticRegression(random_state=0).fit(X_train_scaled, y_train)\n",
        "y_predicted_training = log_reg.predict(X_train_scaled)"
      ],
      "metadata": {
        "colab": {
          "base_uri": "https://localhost:8080/"
        },
        "id": "69nctfEZqFMX",
        "outputId": "14816bb1-0582-424f-e4ef-642b215e404e"
      },
      "execution_count": null,
      "outputs": [
        {
          "output_type": "stream",
          "name": "stderr",
          "text": [
            "/usr/local/lib/python3.10/dist-packages/sklearn/linear_model/_logistic.py:458: ConvergenceWarning: lbfgs failed to converge (status=1):\n",
            "STOP: TOTAL NO. of ITERATIONS REACHED LIMIT.\n",
            "\n",
            "Increase the number of iterations (max_iter) or scale the data as shown in:\n",
            "    https://scikit-learn.org/stable/modules/preprocessing.html\n",
            "Please also refer to the documentation for alternative solver options:\n",
            "    https://scikit-learn.org/stable/modules/linear_model.html#logistic-regression\n",
            "  n_iter_i = _check_optimize_result(\n"
          ]
        }
      ]
    },
    {
      "cell_type": "code",
      "source": [
        "from sklearn.metrics import accuracy_score, classification_report\n",
        "training_score = log_reg.score(X_train_scaled, y_train)\n",
        "test_score = log_reg.score(X_test_scaled, y_test)\n",
        "print('Training Score:', training_score)\n",
        "print('Testing Score:', test_score)\n",
        "print('Classication Report:')\n",
        "print(classification_report(y_predicted_training, y_train))"
      ],
      "metadata": {
        "colab": {
          "base_uri": "https://localhost:8080/"
        },
        "id": "Rzs2f1-RqK8v",
        "outputId": "06c104c7-8fad-4bf7-e98c-2f04e9ad9cc3"
      },
      "execution_count": null,
      "outputs": [
        {
          "output_type": "stream",
          "name": "stdout",
          "text": [
            "Training Score: 0.7900048053820279\n",
            "Testing Score: 0.7163677130044843\n",
            "Classication Report:\n",
            "              precision    recall  f1-score   support\n",
            "\n",
            "           1       0.51      0.62      0.56       141\n",
            "           2       0.54      0.58      0.56       287\n",
            "           3       0.37      0.53      0.43       166\n",
            "           4       0.95      0.87      0.91      1487\n",
            "\n",
            "    accuracy                           0.79      2081\n",
            "   macro avg       0.59      0.65      0.62      2081\n",
            "weighted avg       0.82      0.79      0.80      2081\n",
            "\n"
          ]
        }
      ]
    },
    {
      "cell_type": "markdown",
      "source": [
        "The model seems to have a high accuracy, but we can see the large discrepencies between the training score and the testing score, which is a strong indicator of a poor model. We will now add extra parameters, such as a regularization term of 0.01 and add a fitted intercept, to control for any overfitness and biasness in the model."
      ],
      "metadata": {
        "id": "cwjAvEUdqOdG"
      }
    },
    {
      "cell_type": "code",
      "source": [
        "#Adding regularization and fit intercept\n",
        "log_reg2 = LogisticRegression(random_state=0,\n",
        "                              C = 0.01,\n",
        "                              fit_intercept= True\n",
        "                              ).fit(X_train_scaled, y_train)\n",
        "training_score = log_reg2.score(X_train_scaled, y_train)\n",
        "test_score = log_reg2.score(X_test_scaled, y_test)\n",
        "y_predicted_training = log_reg2.predict(X_train_scaled)\n",
        "logistic_report_dict = classification_report(y_predicted_training, y_train, output_dict=True)\n",
        "print('Training Score:', training_score)\n",
        "print('Testing Score:', test_score)\n",
        "print('Classification Report:')\n",
        "print(classification_report(y_predicted_training, y_train))"
      ],
      "metadata": {
        "colab": {
          "base_uri": "https://localhost:8080/"
        },
        "id": "XghfSrhGqPE-",
        "outputId": "cfba5f04-bb47-4ecd-e104-9ee36001f696"
      },
      "execution_count": null,
      "outputs": [
        {
          "output_type": "stream",
          "name": "stdout",
          "text": [
            "Training Score: 0.7371456030754445\n",
            "Testing Score: 0.6816143497757847\n",
            "Classification Report:\n",
            "              precision    recall  f1-score   support\n",
            "\n",
            "           1       0.29      0.69      0.40        71\n",
            "           2       0.40      0.53      0.45       234\n",
            "           3       0.16      0.57      0.25        69\n",
            "           4       0.97      0.78      0.86      1707\n",
            "\n",
            "    accuracy                           0.74      2081\n",
            "   macro avg       0.45      0.64      0.49      2081\n",
            "weighted avg       0.86      0.74      0.78      2081\n",
            "\n"
          ]
        }
      ]
    },
    {
      "cell_type": "code",
      "source": [
        "# Parsing the classification report dictionary\n",
        "report_data = []\n",
        "for class_label, metrics in logistic_report_dict.items():\n",
        "    if class_label not in ['accuracy', 'macro avg', 'weighted avg']:\n",
        "        row = [class_label, metrics['precision'], metrics['recall'], metrics['f1-score'], metrics['support']]\n",
        "        report_data.append(row)\n",
        "\n",
        "# Creating a DataFrame from the classification report data\n",
        "df = pd.DataFrame(report_data, columns=['Class', 'Precision', 'Recall', 'F1-Score', 'Support'])\n",
        "\n",
        "# Creating a bar graph for precision, recall, and F1-score\n",
        "metrics = ['Precision', 'Recall', 'F1-Score']\n",
        "df[metrics] = df[metrics].astype(float)\n",
        "df.plot(x='Class', y=metrics, kind='bar', figsize=(8, 6))\n",
        "plt.title('Classification Metrics')\n",
        "plt.xlabel('Class')\n",
        "plt.ylabel('Score')\n",
        "plt.legend(loc='lower right')\n",
        "plt.xticks(rotation=45)\n",
        "plt.show()\n",
        "\n",
        "# Displaying the classification report table\n",
        "print(df)"
      ],
      "metadata": {
        "colab": {
          "base_uri": "https://localhost:8080/",
          "height": 653
        },
        "id": "W924yeUwChYn",
        "outputId": "651c81de-1f86-4752-e3af-dd6bf462cb63"
      },
      "execution_count": null,
      "outputs": [
        {
          "output_type": "display_data",
          "data": {
            "text/plain": [
              "<Figure size 800x600 with 1 Axes>"
            ],
            "image/png": "[encoded data removed]"
          },
          "metadata": {}
        },
        {
          "output_type": "stream",
          "name": "stdout",
          "text": [
            "  Class  Precision    Recall  F1-Score  Support\n",
            "0     1   0.286550  0.690141  0.404959       71\n",
            "1     2   0.399351  0.525641  0.453875      234\n",
            "2     3   0.163180  0.565217  0.253247       69\n",
            "3     4   0.970653  0.775044  0.861889     1707\n"
          ]
        }
      ]
    },
    {
      "cell_type": "markdown",
      "source": [
        "We can see that including these parameters narrowed the differences between the scores, but we can do better."
      ],
      "metadata": {
        "id": "w0TQjR5hqWZP"
      }
    },
    {
      "cell_type": "markdown",
      "source": [
        "#### Adjusting the model\n",
        "\n",
        "There are various limitations in using logsitic regression, but from using the above dataset, we have determined some of the issues may include:\n",
        "\n",
        "1. Independence assumption: Logistic regression assumes that observations are independent of each other. However, in household survey data, observations within the same household may be correlated. Violation of this assumption can lead to biased coefficient estimates and inflated standard errors.\n",
        "\n",
        "2. Imbalanced classes: If the distribution of the outcome variable is heavily imbalanced, meaning one class is much more prevalent than the other, logistic regression can be influenced by this class imbalance. It may result in biased predictions or difficulties in accurately estimating model parameters.\n",
        "\n",
        "3. Assumption of no multicollinearity: Logistic regression assumes that there is no multicollinearity among the independent variables. If there is high correlation between predictor variables, it can lead to unstable coefficient estimates and difficulties in interpreting the individual effects of the variables.\n",
        "\n",
        "4. Non-representative sample: If the household survey data is not a representative sample of the population or if there are biases in the data collection process, the logistic regression model's generalizability and external validity may be compromised.\n",
        "\n",
        "From our previous analysis we have determined for points 2 and 4, that there is an imbalance in the outcome variable, where there is a significant oversampling of measures of 4 in the target variable. This can be managed by using SMOTE (Synthetic Minority Oversampling Technique) to alleviate this problem.\n",
        "\n",
        "For points 1 and 3, we can look at a correlation matrix of the top most correlated variables to determine signs of muliticollinearity:"
      ],
      "metadata": {
        "id": "4hlxPwrOqfE1"
      }
    },
    {
      "cell_type": "code",
      "source": [
        "#Create subplots with 1 row and 2 columns\n",
        "fig, axes = plt.subplots(1, 2, figsize=(12, 6))\n",
        "#First heatmap - Most Positive Correlated Variables\n",
        "df_corr = df_hh.corr().sort_values('Target', ascending=False)\n",
        "top_corr_features = df_corr.index[:10]\n",
        "top_corr = df_hh[top_corr_features].corr()\n",
        "sns.heatmap(top_corr, annot=True, cmap=\"crest\", ax=axes[0])\n",
        "axes[0].set_title('Most Positive Correlated Variables', fontsize=18)\n",
        "\n",
        "#Second heatmap - Most Negatively Correlated Variables\n",
        "df_negcorr = df_hh.corr().sort_values('Target', ascending=True)\n",
        "top_neg_features = df_negcorr.index[:10]\n",
        "top_neg_corr = df_hh[top_neg_features].corr().round(decimals=2)\n",
        "sns.heatmap(top_neg_corr, annot=True, cmap='Reds', ax=axes[1])\n",
        "axes[1].set_title('Most Negatively Correlated Variables', fontsize=18)\n",
        "\n",
        "plt.tight_layout()\n",
        "plt.show()"
      ],
      "metadata": {
        "colab": {
          "base_uri": "https://localhost:8080/",
          "height": 607
        },
        "id": "8OujKpSAqkBO",
        "outputId": "1a7ed87e-69e5-4733-f416-7579a496b919"
      },
      "execution_count": null,
      "outputs": [
        {
          "output_type": "display_data",
          "data": {
            "text/plain": [
              "<Figure size 1200x600 with 4 Axes>"
            ],
            "image/png": "[encoded data removed]"
          },
          "metadata": {}
        }
      ]
    },
    {
      "cell_type": "markdown",
      "source": [
        "In the heatmaps, variables that exhibit high positive or negative correlations (values close to +1 or -1) indicate a strong linear relationship between them. These variables, such as \"overcrowding\" and \"SQBovercrowding\", are essentially the same variable and are redundant so one can be removed. Variables such as \"escolari\" (years of schooling) and \"meaneduc\" (average years of education for adults 18+) are not the same but will obviously be highly correlated so one can be removed as well.\n",
        "\n",
        "To further investigate multicollinearity, we can calculate the variance inflation factor (VIF) for each predictor variable. The VIF measures the degree of multicollinearity by quantifying how much the variance of the estimated coefficient is inflated due to multicollinearity."
      ],
      "metadata": {
        "id": "yO_nRd83rrnS"
      }
    },
    {
      "cell_type": "markdown",
      "source": [
        "#### Logistic Regression Thoughts for Predicting Poverty\n",
        "\n",
        "Including the above adjusting methods, along with tuning other hyperparameters in the logistic regression model, can lead to better performance and prevent biasness in the model. So far, this model looks promising, but we will now look at other predictive models to compare current baseline accuracies."
      ],
      "metadata": {
        "id": "Xx9QIWUMruQZ"
      }
    },
    {
      "cell_type": "code",
      "source": [],
      "metadata": {
        "id": "7YVBuhERY_S3"
      },
      "execution_count": null,
      "outputs": []
    },
    {
      "cell_type": "markdown",
      "source": [
        "##2. KNN"
      ],
      "metadata": {
        "id": "HfxMIApAY_hW"
      }
    },
    {
      "cell_type": "markdown",
      "source": [
        "We choose KNN to test our dataset after feature engineering. It is particularly beneficial to use KNN for small datasets, as it is a simple, non-parametric algorithm which makes it a suitable choice for handling small datasets while still delivering valuable insights."
      ],
      "metadata": {
        "id": "U3QN2tXubgtU"
      }
    },
    {
      "cell_type": "code",
      "source": [
        "from google.colab import files\n",
        "uploaded = files.upload()"
      ],
      "metadata": {
        "colab": {
          "base_uri": "https://localhost:8080/",
          "height": 73
        },
        "id": "_yNvrQ0wIgRq",
        "outputId": "2f0db33c-2cfb-405b-e8ef-0167eb7df7f8"
      },
      "execution_count": null,
      "outputs": [
        {
          "output_type": "display_data",
          "data": {
            "text/plain": [
              "<IPython.core.display.HTML object>"
            ],
            "text/html": [
              "\n",
              "     <input type=\"file\" id=\"files-0b514af3-3f18-494d-9f79-2a2934190dea\" name=\"files[]\" multiple disabled\n",
              "        style=\"border:none\" />\n",
              "     <output id=\"result-0b514af3-3f18-494d-9f79-2a2934190dea\">\n",
              "      Upload widget is only available when the cell has been executed in the\n",
              "      current browser session. Please rerun this cell to enable.\n",
              "      </output>\n",
              "      <script>// Copyright 2017 Google LLC\n",
              "//\n",
              "// Licensed under the Apache License, Version 2.0 (the \"License\");\n",
              "// you may not use this file except in compliance with the License.\n",
              "// You may obtain a copy of the License at\n",
              "//\n",
              "//      http://www.apache.org/licenses/LICENSE-2.0\n",
              "//\n",
              "// Unless required by applicable law or agreed to in writing, software\n",
              "// distributed under the License is distributed on an \"AS IS\" BASIS,\n",
              "// WITHOUT WARRANTIES OR CONDITIONS OF ANY KIND, either express or implied.\n",
              "// See the License for the specific language governing permissions and\n",
              "// limitations under the License.\n",
              "\n",
              "/**\n",
              " * @fileoverview Helpers for google.colab Python module.\n",
              " */\n",
              "(function(scope) {\n",
              "function span(text, styleAttributes = {}) {\n",
              "  const element = document.createElement('span');\n",
              "  element.textContent = text;\n",
              "  for (const key of Object.keys(styleAttributes)) {\n",
              "    element.style[key] = styleAttributes[key];\n",
              "  }\n",
              "  return element;\n",
              "}\n",
              "\n",
              "// Max number of bytes which will be uploaded at a time.\n",
              "const MAX_PAYLOAD_SIZE = 100 * 1024;\n",
              "\n",
              "function _uploadFiles(inputId, outputId) {\n",
              "  const steps = uploadFilesStep(inputId, outputId);\n",
              "  const outputElement = document.getElementById(outputId);\n",
              "  // Cache steps on the outputElement to make it available for the next call\n",
              "  // to uploadFilesContinue from Python.\n",
              "  outputElement.steps = steps;\n",
              "\n",
              "  return _uploadFilesContinue(outputId);\n",
              "}\n",
              "\n",
              "// This is roughly an async generator (not supported in the browser yet),\n",
              "// where there are multiple asynchronous steps and the Python side is going\n",
              "// to poll for completion of each step.\n",
              "// This uses a Promise to block the python side on completion of each step,\n",
              "// then passes the result of the previous step as the input to the next step.\n",
              "function _uploadFilesContinue(outputId) {\n",
              "  const outputElement = document.getElementById(outputId);\n",
              "  const steps = outputElement.steps;\n",
              "\n",
              "  const next = steps.next(outputElement.lastPromiseValue);\n",
              "  return Promise.resolve(next.value.promise).then((value) => {\n",
              "    // Cache the last promise value to make it available to the next\n",
              "    // step of the generator.\n",
              "    outputElement.lastPromiseValue = value;\n",
              "    return next.value.response;\n",
              "  });\n",
              "}\n",
              "\n",
              "/**\n",
              " * Generator function which is called between each async step of the upload\n",
              " * process.\n",
              " * @param {string} inputId Element ID of the input file picker element.\n",
              " * @param {string} outputId Element ID of the output display.\n",
              " * @return {!Iterable<!Object>} Iterable of next steps.\n",
              " */\n",
              "function* uploadFilesStep(inputId, outputId) {\n",
              "  const inputElement = document.getElementById(inputId);\n",
              "  inputElement.disabled = false;\n",
              "\n",
              "  const outputElement = document.getElementById(outputId);\n",
              "  outputElement.innerHTML = '';\n",
              "\n",
              "  const pickedPromise = new Promise((resolve) => {\n",
              "    inputElement.addEventListener('change', (e) => {\n",
              "      resolve(e.target.files);\n",
              "    });\n",
              "  });\n",
              "\n",
              "  const cancel = document.createElement('button');\n",
              "  inputElement.parentElement.appendChild(cancel);\n",
              "  cancel.textContent = 'Cancel upload';\n",
              "  const cancelPromise = new Promise((resolve) => {\n",
              "    cancel.onclick = () => {\n",
              "      resolve(null);\n",
              "    };\n",
              "  });\n",
              "\n",
              "  // Wait for the user to pick the files.\n",
              "  const files = yield {\n",
              "    promise: Promise.race([pickedPromise, cancelPromise]),\n",
              "    response: {\n",
              "      action: 'starting',\n",
              "    }\n",
              "  };\n",
              "\n",
              "  cancel.remove();\n",
              "\n",
              "  // Disable the input element since further picks are not allowed.\n",
              "  inputElement.disabled = true;\n",
              "\n",
              "  if (!files) {\n",
              "    return {\n",
              "      response: {\n",
              "        action: 'complete',\n",
              "      }\n",
              "    };\n",
              "  }\n",
              "\n",
              "  for (const file of files) {\n",
              "    const li = document.createElement('li');\n",
              "    li.append(span(file.name, {fontWeight: 'bold'}));\n",
              "    li.append(span(\n",
              "        `(${file.type || 'n/a'}) - ${file.size} bytes, ` +\n",
              "        `last modified: ${\n",
              "            file.lastModifiedDate ? file.lastModifiedDate.toLocaleDateString() :\n",
              "                                    'n/a'} - `));\n",
              "    const percent = span('0% done');\n",
              "    li.appendChild(percent);\n",
              "\n",
              "    outputElement.appendChild(li);\n",
              "\n",
              "    const fileDataPromise = new Promise((resolve) => {\n",
              "      const reader = new FileReader();\n",
              "      reader.onload = (e) => {\n",
              "        resolve(e.target.result);\n",
              "      };\n",
              "      reader.readAsArrayBuffer(file);\n",
              "    });\n",
              "    // Wait for the data to be ready.\n",
              "    let fileData = yield {\n",
              "      promise: fileDataPromise,\n",
              "      response: {\n",
              "        action: 'continue',\n",
              "      }\n",
              "    };\n",
              "\n",
              "    // Use a chunked sending to avoid message size limits. See b/62115660.\n",
              "    let position = 0;\n",
              "    do {\n",
              "      const length = Math.min(fileData.byteLength - position, MAX_PAYLOAD_SIZE);\n",
              "      const chunk = new Uint8Array(fileData, position, length);\n",
              "      position += length;\n",
              "\n",
              "      const base64 = btoa(String.fromCharCode.apply(null, chunk));\n",
              "      yield {\n",
              "        response: {\n",
              "          action: 'append',\n",
              "          file: file.name,\n",
              "          data: base64,\n",
              "        },\n",
              "      };\n",
              "\n",
              "      let percentDone = fileData.byteLength === 0 ?\n",
              "          100 :\n",
              "          Math.round((position / fileData.byteLength) * 100);\n",
              "      percent.textContent = `${percentDone}% done`;\n",
              "\n",
              "    } while (position < fileData.byteLength);\n",
              "  }\n",
              "\n",
              "  // All done.\n",
              "  yield {\n",
              "    response: {\n",
              "      action: 'complete',\n",
              "    }\n",
              "  };\n",
              "}\n",
              "\n",
              "scope.google = scope.google || {};\n",
              "scope.google.colab = scope.google.colab || {};\n",
              "scope.google.colab._files = {\n",
              "  _uploadFiles,\n",
              "  _uploadFilesContinue,\n",
              "};\n",
              "})(self);\n",
              "</script> "
            ]
          },
          "metadata": {}
        },
        {
          "output_type": "stream",
          "name": "stdout",
          "text": [
            "Saving postHHdata.csv to postHHdata.csv\n"
          ]
        }
      ]
    },
    {
      "cell_type": "code",
      "source": [
        "post_HH_data = pd.read_csv('postHHdata.csv')"
      ],
      "metadata": {
        "id": "jwdTdAM3at3N"
      },
      "execution_count": null,
      "outputs": []
    },
    {
      "cell_type": "code",
      "source": [
        "from sklearn.neighbors import KNeighborsClassifier\n",
        "from sklearn.metrics import f1_score\n",
        "from sklearn.model_selection import GridSearchCV\n",
        "from sklearn.model_selection import train_test_split\n",
        "from sklearn.metrics import accuracy_score, classification_report\n",
        "from sklearn.impute import SimpleImputer\n",
        "post_HH_data = pd.get_dummies(post_HH_data) #one-hot encoding\n",
        "X = post_HH_data.drop(columns = ['Target', 'rent_to_income_ratio_min', 'rent_to_income_ratio_max', 'estimated_household_income_max'], axis=1)\n",
        "y = post_HH_data['Target']\n",
        "X_train, X_test, y_train, y_test = train_test_split(X, y, test_size=0.3, random_state=42)\n",
        "\n",
        "#This fixed the high accuracies = Scale the features using StandardScaler\n",
        "scaler = StandardScaler()\n",
        "X_train = scaler.fit_transform(X_train)\n",
        "X_test = scaler.transform(X_test)\n",
        "\n",
        "# columns_with_inf = X.columns[np.isinf(X).any()].tolist()\n",
        "# columns_with_inf\n",
        "# columns_with_large_values = X.columns[np.abs(X) > 1e9].tolist()\n",
        "# columns_with_large_values\n",
        "\n",
        "# columns_with_nan = X[X.isna().any()].tolist()\n",
        "# columns_with_nan\n",
        "\n",
        "knn = KNeighborsClassifier(n_neighbors=5)\n",
        "knn.fit(X_train, y_train)\n",
        "y_pred = knn.predict(X_test)\n",
        "f1 = f1_score(y_test, y_pred, average='weighted')\n",
        "print(f'F1 score: {f1}')\n",
        "\n",
        "#tried a n_neighbors value"
      ],
      "metadata": {
        "colab": {
          "base_uri": "https://localhost:8080/"
        },
        "id": "BXGsOEiFZBdK",
        "outputId": "e0e43411-167a-461d-9b27-fcffac655b4f"
      },
      "execution_count": null,
      "outputs": [
        {
          "output_type": "stream",
          "name": "stdout",
          "text": [
            "F1 score: 0.6592335906028587\n"
          ]
        }
      ]
    },
    {
      "cell_type": "code",
      "source": [
        "#weighted KNN\n",
        "class_frequencies = np.bincount(y_train)\n",
        "class_weights = len(y_train) / (len(class_frequencies) * class_frequencies)\n",
        "\n",
        "knn = KNeighborsClassifier(n_neighbors=5, weights='distance')\n",
        "knn.fit(X_train, y_train)\n",
        "y_pred = knn.predict(X_test)\n",
        "\n",
        "f1 = f1_score(y_test, y_pred, average='weighted')\n",
        "print(f'F1 score: {f1}')"
      ],
      "metadata": {
        "colab": {
          "base_uri": "https://localhost:8080/"
        },
        "id": "HCmSoYdS8SRz",
        "outputId": "10b8a588-81d9-4130-b7ae-97fde50d4ef5"
      },
      "execution_count": null,
      "outputs": [
        {
          "output_type": "stream",
          "name": "stderr",
          "text": [
            "<ipython-input-97-484833985b1b>:3: RuntimeWarning: divide by zero encountered in true_divide\n",
            "  class_weights = len(y_train) / (len(class_frequencies) * class_frequencies)\n"
          ]
        },
        {
          "output_type": "stream",
          "name": "stdout",
          "text": [
            "F1 score: 0.6484675554096238\n"
          ]
        }
      ]
    },
    {
      "cell_type": "code",
      "source": [
        "print(\"Classification Report:\")\n",
        "print(classification_report(y_test, y_pred))"
      ],
      "metadata": {
        "colab": {
          "base_uri": "https://localhost:8080/"
        },
        "id": "_CWCFe004lOq",
        "outputId": "d83aa3f4-333d-47f0-9a72-5a7bbc9f6981"
      },
      "execution_count": null,
      "outputs": [
        {
          "output_type": "stream",
          "name": "stdout",
          "text": [
            "Classification Report:\n",
            "              precision    recall  f1-score   support\n",
            "\n",
            "           1       0.42      0.26      0.32        73\n",
            "           2       0.38      0.19      0.25       141\n",
            "           3       0.33      0.17      0.22       103\n",
            "           4       0.77      0.98      0.86       575\n",
            "\n",
            "    accuracy                           0.70       892\n",
            "   macro avg       0.48      0.40      0.42       892\n",
            "weighted avg       0.63      0.70      0.65       892\n",
            "\n"
          ]
        }
      ]
    },
    {
      "cell_type": "code",
      "source": [
        "param_grid = {'n_neighbors': range(1, 51)}\n",
        "knn = KNeighborsClassifier()\n",
        "grid_search = GridSearchCV(knn, param_grid, cv=5, scoring='f1_weighted', n_jobs=-1)\n",
        "grid_search.fit(X_train, y_train)\n",
        "\n",
        "# Get the best n_neighbors value and its corresponding F1 score\n",
        "best_n_neighbors = grid_search.best_params_['n_neighbors']\n",
        "best_f1 = grid_search.best_score_\n",
        "\n",
        "print(f'Best n_neighbors: {best_n_neighbors}')\n",
        "print(f'Best F1 score: {best_f1}')"
      ],
      "metadata": {
        "colab": {
          "base_uri": "https://localhost:8080/"
        },
        "id": "VRkvuV8XZEw-",
        "outputId": "625f02cd-ff3b-46a8-b589-06d4434a15d1"
      },
      "execution_count": null,
      "outputs": [
        {
          "output_type": "stream",
          "name": "stdout",
          "text": [
            "Best n_neighbors: 5\n",
            "Best F1 score: 0.6642211298873216\n"
          ]
        }
      ]
    },
    {
      "cell_type": "code",
      "source": [
        "knn_report_dict = classification_report(y_test, y_pred, output_dict=True)"
      ],
      "metadata": {
        "id": "sObpPdRxayug"
      },
      "execution_count": null,
      "outputs": []
    },
    {
      "cell_type": "markdown",
      "source": [
        "The k-Nearest Neighbors (KNN) model has produced optimal results with a selection of 3 nearest neighbors. This choice resulted in the best F1 score of 0.7846, which is a measure that considers both precision (the proportion of true positive results among the instances classified as positive) and recall (the proportion of true positive results among the instances that are actually positive). A high F1 score indicates that the model strikes a good balance between these two aspects, ensuring accurate and reliable predictions."
      ],
      "metadata": {
        "id": "ZTn5MDJocgqt"
      }
    },
    {
      "cell_type": "markdown",
      "source": [
        "The concern is the dataset is inbalanced so we need to find a way to adjust the sensitivity of the model towards minor labels such as using SMOTE method."
      ],
      "metadata": {
        "id": "0i74N51AX1-v"
      }
    },
    {
      "cell_type": "markdown",
      "source": [
        "# 3. Naive Bayes"
      ],
      "metadata": {
        "id": "jaSpX_9RwOC2"
      }
    },
    {
      "cell_type": "markdown",
      "source": [
        "The Naive Bayes classifier is a probabilistic ML algorithm based on Bayes Theorem. It is Naive because it makes the strong assumption that features used for classification are conditionally independent, given the classes. Even though the independence assumption may not hold, the classifier is robust in various applications, potentially providing reasonable predictive performance for classification of poverty.\n",
        "\n",
        "By utilizing the Naive Bayes classifier, we sought to predict poverty levels based on the various socio-economic and demographic indicators at the household level."
      ],
      "metadata": {
        "id": "n6_MnyBnwQ_o"
      }
    },
    {
      "cell_type": "code",
      "source": [
        "# Import Dependencies\n",
        "import pandas as pd\n",
        "from sklearn.preprocessing import LabelEncoder, StandardScaler\n",
        "from sklearn.model_selection import train_test_split\n",
        "from sklearn.naive_bayes import GaussianNB\n",
        "from sklearn.metrics import accuracy_score, classification_report\n",
        "from imblearn.over_sampling import SMOTE"
      ],
      "metadata": {
        "id": "kEAfjlvnwQYG"
      },
      "execution_count": null,
      "outputs": []
    },
    {
      "cell_type": "code",
      "source": [
        "#import cleaned data\n",
        "#data = pd.read_csv('/content/postHHdata.csv')\n",
        "data = pd.read_csv('postHHdata.csv')"
      ],
      "metadata": {
        "id": "Vu4pGT0KwYJE"
      },
      "execution_count": null,
      "outputs": []
    },
    {
      "cell_type": "code",
      "source": [
        "# Encode categorical columns\n",
        "categorical_columns = [\n",
        "    'hacdor', 'hacapo', 'v14a', 'wall_material', 'floor_material', 'roof_material',\n",
        "    'marital_status', 'rubbish_disposal', 'pisonotiene', 'cielorazo', 'water_provision',\n",
        "    'abastaguano', 'noelec', 'sanitario1', 'electricity_source', 'wall_status',\n",
        "    'roof_status', 'floor_status', 'dis', 'male', 'estadocivil1', 'estadocivil2',\n",
        "    'asset_owned', 'region', 'area1','instlevel1', 'instlevel8'\n",
        "]\n",
        "\n",
        "\n",
        "# Encode continuous columns\n",
        "continuous_columns = [\n",
        "    'v2a1', 'rooms', 'v18q1', 'r4h1', 'r4h2', 'r4h3', 'r4m1', 'r4m2', 'r4m3',\n",
        "    'r4t1', 'r4t2', 'r4t3', 'tamhog', 'tamviv', 'escolari', 'rez_esc', 'hhsize',\n",
        "    'hogar_nin', 'hogar_adul', 'hogar_mayor', 'hogar_total', 'dependency',\n",
        "    'edjefe', 'edjefa', 'meaneduc', 'bedrooms',\n",
        "    'overcrowding', 'qmobilephone', 'age', 'SQBescolari', 'SQBage', 'SQBhogar_total',\n",
        "    'SQBedjefe', 'SQBhogar_nin', 'SQBovercrowding', 'SQBdependency', 'SQBmeaned', 'agesq',\n",
        "    'mean_per_capita_income', 'yrs_edu_lost', 'mobilephone_per_capita', 'computer_per_capita',\n",
        "    'tablet_per_capita'\n",
        "    ]\n",
        "\n",
        "# Sanity Check 73cols - (index, id, idhogar)\n",
        "print(len(categorical_columns) + len(continuous_columns))"
      ],
      "metadata": {
        "colab": {
          "base_uri": "https://localhost:8080/"
        },
        "id": "_Sap7jMlwq3M",
        "outputId": "f0ee51be-6d1d-42e7-80f0-92f22d8f3c51"
      },
      "execution_count": null,
      "outputs": [
        {
          "output_type": "stream",
          "name": "stdout",
          "text": [
            "70\n"
          ]
        }
      ]
    },
    {
      "cell_type": "code",
      "source": [
        "# Normalize dimensions:\n",
        "# Label Encode Categorical Columns\n",
        "for column in categorical_columns:\n",
        "    le = LabelEncoder()\n",
        "    data[column] = le.fit_transform(data[column])\n",
        "\n",
        "# Scale Continuous Columns\n",
        "scaler = StandardScaler()\n",
        "data[continuous_columns] = scaler.fit_transform(data[continuous_columns])"
      ],
      "metadata": {
        "id": "GKgVdaJzwyjL"
      },
      "execution_count": null,
      "outputs": []
    },
    {
      "cell_type": "code",
      "source": [
        "# Reconstruct data\n",
        "all_columns = categorical_columns + continuous_columns\n",
        "\n",
        "X = data[all_columns]\n",
        "y = data['Target']\n",
        "\n",
        "#Train test split\n",
        "X_train, X_test, y_train, y_test = train_test_split(X, y, test_size=0.3, random_state=20220705, stratify=y)"
      ],
      "metadata": {
        "id": "hzqILJYQw7rb"
      },
      "execution_count": null,
      "outputs": []
    },
    {
      "cell_type": "code",
      "source": [
        "NaiveBayes_classifier = GaussianNB()\n",
        "NaiveBayes_classifier.fit(X_train, y_train)"
      ],
      "metadata": {
        "colab": {
          "base_uri": "https://localhost:8080/",
          "height": 75
        },
        "id": "Qi_QB8yIxg4x",
        "outputId": "318f757c-2e61-443e-fe0e-f6b4504dc15c"
      },
      "execution_count": null,
      "outputs": [
        {
          "output_type": "execute_result",
          "data": {
            "text/plain": [
              "GaussianNB()"
            ],
            "text/html": [
              "<style>#sk-container-id-2 {color: black;background-color: white;}#sk-container-id-2 pre{padding: 0;}#sk-container-id-2 div.sk-toggleable {background-color: white;}#sk-container-id-2 label.sk-toggleable__label {cursor: pointer;display: block;width: 100%;margin-bottom: 0;padding: 0.3em;box-sizing: border-box;text-align: center;}#sk-container-id-2 label.sk-toggleable__label-arrow:before {content: \"▸\";float: left;margin-right: 0.25em;color: #696969;}#sk-container-id-2 label.sk-toggleable__label-arrow:hover:before {color: black;}#sk-container-id-2 div.sk-estimator:hover label.sk-toggleable__label-arrow:before {color: black;}#sk-container-id-2 div.sk-toggleable__content {max-height: 0;max-width: 0;overflow: hidden;text-align: left;background-color: #f0f8ff;}#sk-container-id-2 div.sk-toggleable__content pre {margin: 0.2em;color: black;border-radius: 0.25em;background-color: #f0f8ff;}#sk-container-id-2 input.sk-toggleable__control:checked~div.sk-toggleable__content {max-height: 200px;max-width: 100%;overflow: auto;}#sk-container-id-2 input.sk-toggleable__control:checked~label.sk-toggleable__label-arrow:before {content: \"▾\";}#sk-container-id-2 div.sk-estimator input.sk-toggleable__control:checked~label.sk-toggleable__label {background-color: #d4ebff;}#sk-container-id-2 div.sk-label input.sk-toggleable__control:checked~label.sk-toggleable__label {background-color: #d4ebff;}#sk-container-id-2 input.sk-hidden--visually {border: 0;clip: rect(1px 1px 1px 1px);clip: rect(1px, 1px, 1px, 1px);height: 1px;margin: -1px;overflow: hidden;padding: 0;position: absolute;width: 1px;}#sk-container-id-2 div.sk-estimator {font-family: monospace;background-color: #f0f8ff;border: 1px dotted black;border-radius: 0.25em;box-sizing: border-box;margin-bottom: 0.5em;}#sk-container-id-2 div.sk-estimator:hover {background-color: #d4ebff;}#sk-container-id-2 div.sk-parallel-item::after {content: \"\";width: 100%;border-bottom: 1px solid gray;flex-grow: 1;}#sk-container-id-2 div.sk-label:hover label.sk-toggleable__label {background-color: #d4ebff;}#sk-container-id-2 div.sk-serial::before {content: \"\";position: absolute;border-left: 1px solid gray;box-sizing: border-box;top: 0;bottom: 0;left: 50%;z-index: 0;}#sk-container-id-2 div.sk-serial {display: flex;flex-direction: column;align-items: center;background-color: white;padding-right: 0.2em;padding-left: 0.2em;position: relative;}#sk-container-id-2 div.sk-item {position: relative;z-index: 1;}#sk-container-id-2 div.sk-parallel {display: flex;align-items: stretch;justify-content: center;background-color: white;position: relative;}#sk-container-id-2 div.sk-item::before, #sk-container-id-2 div.sk-parallel-item::before {content: \"\";position: absolute;border-left: 1px solid gray;box-sizing: border-box;top: 0;bottom: 0;left: 50%;z-index: -1;}#sk-container-id-2 div.sk-parallel-item {display: flex;flex-direction: column;z-index: 1;position: relative;background-color: white;}#sk-container-id-2 div.sk-parallel-item:first-child::after {align-self: flex-end;width: 50%;}#sk-container-id-2 div.sk-parallel-item:last-child::after {align-self: flex-start;width: 50%;}#sk-container-id-2 div.sk-parallel-item:only-child::after {width: 0;}#sk-container-id-2 div.sk-dashed-wrapped {border: 1px dashed gray;margin: 0 0.4em 0.5em 0.4em;box-sizing: border-box;padding-bottom: 0.4em;background-color: white;}#sk-container-id-2 div.sk-label label {font-family: monospace;font-weight: bold;display: inline-block;line-height: 1.2em;}#sk-container-id-2 div.sk-label-container {text-align: center;}#sk-container-id-2 div.sk-container {/* jupyter's `normalize.less` sets `[hidden] { display: none; }` but bootstrap.min.css set `[hidden] { display: none !important; }` so we also need the `!important` here to be able to override the default hidden behavior on the sphinx rendered scikit-learn.org. See: https://github.com/scikit-learn/scikit-learn/issues/21755 */display: inline-block !important;position: relative;}#sk-container-id-2 div.sk-text-repr-fallback {display: none;}</style><div id=\"sk-container-id-2\" class=\"sk-top-container\"><div class=\"sk-text-repr-fallback\"><pre>GaussianNB()</pre><b>In a Jupyter environment, please rerun this cell to show the HTML representation or trust the notebook. <br />On GitHub, the HTML representation is unable to render, please try loading this page with nbviewer.org.</b></div><div class=\"sk-container\" hidden><div class=\"sk-item\"><div class=\"sk-estimator sk-toggleable\"><input class=\"sk-toggleable__control sk-hidden--visually\" id=\"sk-estimator-id-2\" type=\"checkbox\" checked><label for=\"sk-estimator-id-2\" class=\"sk-toggleable__label sk-toggleable__label-arrow\">GaussianNB</label><div class=\"sk-toggleable__content\"><pre>GaussianNB()</pre></div></div></div></div></div>"
            ]
          },
          "metadata": {},
          "execution_count": 51
        }
      ]
    },
    {
      "cell_type": "code",
      "source": [
        "y_pred = NaiveBayes_classifier.predict(X_test)\n",
        "\n",
        "accuracy = accuracy_score(y_test, y_pred)\n",
        "print(\"Accuracy:\", accuracy)\n",
        "print(\"Classification Report:\")\n",
        "print(classification_report(y_test, y_pred))"
      ],
      "metadata": {
        "colab": {
          "base_uri": "https://localhost:8080/"
        },
        "id": "n20-DxRExsoo",
        "outputId": "6ea2b35f-1518-45d1-aa42-13f6394e2516"
      },
      "execution_count": null,
      "outputs": [
        {
          "output_type": "stream",
          "name": "stdout",
          "text": [
            "Accuracy: 0.5358744394618834\n",
            "Classification Report:\n",
            "              precision    recall  f1-score   support\n",
            "\n",
            "           1       0.25      0.19      0.22        73\n",
            "           2       0.80      0.03      0.06       134\n",
            "           3       0.19      0.76      0.31       102\n",
            "           4       0.90      0.66      0.76       583\n",
            "\n",
            "    accuracy                           0.54       892\n",
            "   macro avg       0.54      0.41      0.34       892\n",
            "weighted avg       0.75      0.54      0.56       892\n",
            "\n"
          ]
        }
      ]
    },
    {
      "cell_type": "code",
      "source": [
        "#Hyperparameter Tuning\n",
        "from sklearn.naive_bayes import CategoricalNB, GaussianNB\n",
        "from sklearn.model_selection import GridSearchCV\n",
        "from sklearn.metrics import accuracy_score\n",
        "import numpy as np\n",
        "\n",
        "# Hyperparameter search space\n",
        "param_grid_cat = {'alpha': [0.001, 0.01, 0.1, 1, 2, 5, 10]}\n",
        "param_grid_cont = {'var_smoothing': [1e-12, 1e-11, 1e-10, 1e-9, 1e-8, 1e-7, 1e-6, 1e-5, 1e-4, 1e-3, 1e-2]}\n",
        "\n",
        "# Initialize CategoricalNB and GaussianNB\n",
        "cat_nb = CategoricalNB()\n",
        "cont_nb = GaussianNB()\n",
        "\n",
        "# Split the data into categorical and continuous features\n",
        "X_train_cat = X_train[categorical_columns]\n",
        "X_train_cont = X_train[continuous_columns]\n",
        "X_test_cat = X_test[categorical_columns]\n",
        "X_test_cont = X_test[continuous_columns]\n",
        "\n",
        "# Grid Search for CategoricalNB\n",
        "grid_search_cat = GridSearchCV(cat_nb, param_grid_cat, scoring='accuracy', cv=5, n_jobs=-1)\n",
        "grid_search_cat.fit(X_train_cat, y_train)\n",
        "print(\"CategoricalNB - Best parameters:\", grid_search_cat.best_params_)\n",
        "print(\"CategoricalNB - Best score:\", grid_search_cat.best_score_)\n",
        "\n",
        "# Grid Search for GaussianNB\n",
        "grid_search_cont = GridSearchCV(cont_nb, param_grid_cont, scoring='accuracy', cv=5, n_jobs=-1)\n",
        "grid_search_cont.fit(X_train_cont, y_train)\n",
        "print(\"GaussianNB - Best parameters:\", grid_search_cont.best_params_)\n",
        "print(\"GaussianNB - Best score:\", grid_search_cont.best_score_)\n",
        "\n",
        "# Train the classifiers with the best hyperparameters\n",
        "best_cat_nb = grid_search_cat.best_estimator_\n",
        "best_cont_nb = grid_search_cont.best_estimator_\n",
        "\n",
        "# Combine predictions using a simple majority vote\n",
        "cat_pred = best_cat_nb.predict(X_test_cat)\n",
        "cont_pred = best_cont_nb.predict(X_test_cont)\n",
        "combined_pred = np.round((cat_pred + cont_pred) / 2).astype(int)\n",
        "\n",
        "# Calculate accuracy\n",
        "accuracy = accuracy_score(y_test, combined_pred)\n",
        "print(\"Accuracy:\", accuracy)\n",
        "print(\"Classification Report:\")\n",
        "print(classification_report(y_test, y_pred))"
      ],
      "metadata": {
        "colab": {
          "base_uri": "https://localhost:8080/"
        },
        "id": "xNe7AowZx6L8",
        "outputId": "a3eb6603-92f0-4600-b0c5-ccb17ca09169"
      },
      "execution_count": null,
      "outputs": [
        {
          "output_type": "stream",
          "name": "stdout",
          "text": [
            "CategoricalNB - Best parameters: {'alpha': 10}\n",
            "CategoricalNB - Best score: 0.6275837022689542\n",
            "GaussianNB - Best parameters: {'var_smoothing': 0.01}\n",
            "GaussianNB - Best score: 0.5482775318206972\n",
            "Accuracy: 0.6031390134529148\n",
            "Classification Report:\n",
            "              precision    recall  f1-score   support\n",
            "\n",
            "           1       0.25      0.19      0.22        73\n",
            "           2       0.80      0.03      0.06       134\n",
            "           3       0.19      0.76      0.31       102\n",
            "           4       0.90      0.66      0.76       583\n",
            "\n",
            "    accuracy                           0.54       892\n",
            "   macro avg       0.54      0.41      0.34       892\n",
            "weighted avg       0.75      0.54      0.56       892\n",
            "\n"
          ]
        }
      ]
    },
    {
      "cell_type": "code",
      "source": [
        "nb_report_dict = classification_report(y_test, y_pred, output_dict=True)"
      ],
      "metadata": {
        "id": "wRdK1NI0R4yE"
      },
      "execution_count": null,
      "outputs": []
    },
    {
      "cell_type": "code",
      "source": [
        "#Mutual Information\n",
        "from sklearn.feature_selection import mutual_info_classif\n",
        "import matplotlib.pyplot as plt\n",
        "\n",
        "\n",
        "mutual_information = mutual_info_classif(X, y)\n",
        "\n",
        "sorted_idx = mutual_information.argsort()[::-1]\n",
        "sorted_columns = [X.columns[i] for i in sorted_idx]\n",
        "sorted_mi = mutual_information[sorted_idx]\n",
        "\n",
        "plt.figure(figsize=(12, 6))\n",
        "plt.bar(sorted_columns, sorted_mi)\n",
        "plt.xticks(rotation=90)\n",
        "plt.xlabel(\"Feature\")\n",
        "plt.ylabel(\"Mutual Information\")\n",
        "plt.title(\"Feature Importances (Mutual Information)\")\n",
        "plt.show()"
      ],
      "metadata": {
        "colab": {
          "base_uri": "https://localhost:8080/",
          "height": 727
        },
        "id": "x3JXnu3IyUUz",
        "outputId": "1fd1920e-0138-46e9-af69-1bfa43c28713"
      },
      "execution_count": null,
      "outputs": [
        {
          "output_type": "display_data",
          "data": {
            "text/plain": [
              "<Figure size 1200x600 with 1 Axes>"
            ],
            "image/png": "[encoded data removed]"
          },
          "metadata": {}
        }
      ]
    },
    {
      "cell_type": "markdown",
      "source": [
        "The results of the Naive Bayes classifier show a modest overall accuracy of around 60%. The model's performance varies significantly across different classes, with higher accuracy achieved for the majority class who were non-poor and non-vulnerable (class 4), as well as for those who were overally poor (class 2), but lower accuracy for the extreme poor and vulnerable (classes 1 and 3)."
      ],
      "metadata": {
        "id": "RUSEd9TN5vzj"
      }
    },
    {
      "cell_type": "markdown",
      "source": [
        "## 4. Decision Trees"
      ],
      "metadata": {
        "id": "HEcfUgZlMmNo"
      }
    },
    {
      "cell_type": "markdown",
      "source": [
        "We start with the cleaned and feature engineered data we created. We generated 4 decision tree models based on the following restirctions:\n",
        "1. first_tree uses all the features\n",
        "2. second_tree only includes features with +/- 15% correlation with the Target\n",
        "3. third_tree only includes features that represent individual level characteristics\n",
        "4. fourth_tree only includes features that represent characteristics of the house\n",
        "\n",
        "\n",
        "Since Decsion Tree algorithms split predictive features based on the information gained, they can be the simple to understand. Decision Trees are also adventageous because they are very easy to build without very much data cleaning or normalization, and missing data does not greatly affect the ability to build the model.\n",
        "\n",
        "However, Decision Tree models potentially overfit the training data, and thus may not being generalizable between samples (i.e., poor predictive power outside the training data set). This also means that their models are unstable because small changes to the training data could change the entire structure of the tree. Another limitation is that Decision Trees cannot be fit to categorical vairables, so we had to ensure the features included from the data were continuous and/or numerical.\n",
        "\n",
        "Our four models are given below. Although we tested a few different models for this Checkpoint 2, we will need to think more critically about our feature selection for the final report. Also, our trees currently have high accuracy, but we believe that this might change once we become more selective about which features are the best to include/the most generalizable to the testing data."
      ],
      "metadata": {
        "id": "_xHJ56m1Mouq"
      }
    },
    {
      "cell_type": "code",
      "source": [
        "from google.colab import files\n",
        "uploaded = files.upload()"
      ],
      "metadata": {
        "colab": {
          "base_uri": "https://localhost:8080/",
          "height": 73
        },
        "id": "35c_kypA0-8W",
        "outputId": "f8b15d4d-21f0-4b6c-a669-8b236e3a77b9"
      },
      "execution_count": null,
      "outputs": [
        {
          "output_type": "display_data",
          "data": {
            "text/plain": [
              "<IPython.core.display.HTML object>"
            ],
            "text/html": [
              "\n",
              "     <input type=\"file\" id=\"files-3b57ce0d-c4fb-4a7d-9a79-0ef9326f20e5\" name=\"files[]\" multiple disabled\n",
              "        style=\"border:none\" />\n",
              "     <output id=\"result-3b57ce0d-c4fb-4a7d-9a79-0ef9326f20e5\">\n",
              "      Upload widget is only available when the cell has been executed in the\n",
              "      current browser session. Please rerun this cell to enable.\n",
              "      </output>\n",
              "      <script>// Copyright 2017 Google LLC\n",
              "//\n",
              "// Licensed under the Apache License, Version 2.0 (the \"License\");\n",
              "// you may not use this file except in compliance with the License.\n",
              "// You may obtain a copy of the License at\n",
              "//\n",
              "//      http://www.apache.org/licenses/LICENSE-2.0\n",
              "//\n",
              "// Unless required by applicable law or agreed to in writing, software\n",
              "// distributed under the License is distributed on an \"AS IS\" BASIS,\n",
              "// WITHOUT WARRANTIES OR CONDITIONS OF ANY KIND, either express or implied.\n",
              "// See the License for the specific language governing permissions and\n",
              "// limitations under the License.\n",
              "\n",
              "/**\n",
              " * @fileoverview Helpers for google.colab Python module.\n",
              " */\n",
              "(function(scope) {\n",
              "function span(text, styleAttributes = {}) {\n",
              "  const element = document.createElement('span');\n",
              "  element.textContent = text;\n",
              "  for (const key of Object.keys(styleAttributes)) {\n",
              "    element.style[key] = styleAttributes[key];\n",
              "  }\n",
              "  return element;\n",
              "}\n",
              "\n",
              "// Max number of bytes which will be uploaded at a time.\n",
              "const MAX_PAYLOAD_SIZE = 100 * 1024;\n",
              "\n",
              "function _uploadFiles(inputId, outputId) {\n",
              "  const steps = uploadFilesStep(inputId, outputId);\n",
              "  const outputElement = document.getElementById(outputId);\n",
              "  // Cache steps on the outputElement to make it available for the next call\n",
              "  // to uploadFilesContinue from Python.\n",
              "  outputElement.steps = steps;\n",
              "\n",
              "  return _uploadFilesContinue(outputId);\n",
              "}\n",
              "\n",
              "// This is roughly an async generator (not supported in the browser yet),\n",
              "// where there are multiple asynchronous steps and the Python side is going\n",
              "// to poll for completion of each step.\n",
              "// This uses a Promise to block the python side on completion of each step,\n",
              "// then passes the result of the previous step as the input to the next step.\n",
              "function _uploadFilesContinue(outputId) {\n",
              "  const outputElement = document.getElementById(outputId);\n",
              "  const steps = outputElement.steps;\n",
              "\n",
              "  const next = steps.next(outputElement.lastPromiseValue);\n",
              "  return Promise.resolve(next.value.promise).then((value) => {\n",
              "    // Cache the last promise value to make it available to the next\n",
              "    // step of the generator.\n",
              "    outputElement.lastPromiseValue = value;\n",
              "    return next.value.response;\n",
              "  });\n",
              "}\n",
              "\n",
              "/**\n",
              " * Generator function which is called between each async step of the upload\n",
              " * process.\n",
              " * @param {string} inputId Element ID of the input file picker element.\n",
              " * @param {string} outputId Element ID of the output display.\n",
              " * @return {!Iterable<!Object>} Iterable of next steps.\n",
              " */\n",
              "function* uploadFilesStep(inputId, outputId) {\n",
              "  const inputElement = document.getElementById(inputId);\n",
              "  inputElement.disabled = false;\n",
              "\n",
              "  const outputElement = document.getElementById(outputId);\n",
              "  outputElement.innerHTML = '';\n",
              "\n",
              "  const pickedPromise = new Promise((resolve) => {\n",
              "    inputElement.addEventListener('change', (e) => {\n",
              "      resolve(e.target.files);\n",
              "    });\n",
              "  });\n",
              "\n",
              "  const cancel = document.createElement('button');\n",
              "  inputElement.parentElement.appendChild(cancel);\n",
              "  cancel.textContent = 'Cancel upload';\n",
              "  const cancelPromise = new Promise((resolve) => {\n",
              "    cancel.onclick = () => {\n",
              "      resolve(null);\n",
              "    };\n",
              "  });\n",
              "\n",
              "  // Wait for the user to pick the files.\n",
              "  const files = yield {\n",
              "    promise: Promise.race([pickedPromise, cancelPromise]),\n",
              "    response: {\n",
              "      action: 'starting',\n",
              "    }\n",
              "  };\n",
              "\n",
              "  cancel.remove();\n",
              "\n",
              "  // Disable the input element since further picks are not allowed.\n",
              "  inputElement.disabled = true;\n",
              "\n",
              "  if (!files) {\n",
              "    return {\n",
              "      response: {\n",
              "        action: 'complete',\n",
              "      }\n",
              "    };\n",
              "  }\n",
              "\n",
              "  for (const file of files) {\n",
              "    const li = document.createElement('li');\n",
              "    li.append(span(file.name, {fontWeight: 'bold'}));\n",
              "    li.append(span(\n",
              "        `(${file.type || 'n/a'}) - ${file.size} bytes, ` +\n",
              "        `last modified: ${\n",
              "            file.lastModifiedDate ? file.lastModifiedDate.toLocaleDateString() :\n",
              "                                    'n/a'} - `));\n",
              "    const percent = span('0% done');\n",
              "    li.appendChild(percent);\n",
              "\n",
              "    outputElement.appendChild(li);\n",
              "\n",
              "    const fileDataPromise = new Promise((resolve) => {\n",
              "      const reader = new FileReader();\n",
              "      reader.onload = (e) => {\n",
              "        resolve(e.target.result);\n",
              "      };\n",
              "      reader.readAsArrayBuffer(file);\n",
              "    });\n",
              "    // Wait for the data to be ready.\n",
              "    let fileData = yield {\n",
              "      promise: fileDataPromise,\n",
              "      response: {\n",
              "        action: 'continue',\n",
              "      }\n",
              "    };\n",
              "\n",
              "    // Use a chunked sending to avoid message size limits. See b/62115660.\n",
              "    let position = 0;\n",
              "    do {\n",
              "      const length = Math.min(fileData.byteLength - position, MAX_PAYLOAD_SIZE);\n",
              "      const chunk = new Uint8Array(fileData, position, length);\n",
              "      position += length;\n",
              "\n",
              "      const base64 = btoa(String.fromCharCode.apply(null, chunk));\n",
              "      yield {\n",
              "        response: {\n",
              "          action: 'append',\n",
              "          file: file.name,\n",
              "          data: base64,\n",
              "        },\n",
              "      };\n",
              "\n",
              "      let percentDone = fileData.byteLength === 0 ?\n",
              "          100 :\n",
              "          Math.round((position / fileData.byteLength) * 100);\n",
              "      percent.textContent = `${percentDone}% done`;\n",
              "\n",
              "    } while (position < fileData.byteLength);\n",
              "  }\n",
              "\n",
              "  // All done.\n",
              "  yield {\n",
              "    response: {\n",
              "      action: 'complete',\n",
              "    }\n",
              "  };\n",
              "}\n",
              "\n",
              "scope.google = scope.google || {};\n",
              "scope.google.colab = scope.google.colab || {};\n",
              "scope.google.colab._files = {\n",
              "  _uploadFiles,\n",
              "  _uploadFilesContinue,\n",
              "};\n",
              "})(self);\n",
              "</script> "
            ]
          },
          "metadata": {}
        },
        {
          "output_type": "stream",
          "name": "stdout",
          "text": [
            "Saving full_df.csv to full_df.csv\n"
          ]
        }
      ]
    },
    {
      "cell_type": "code",
      "source": [
        "from google.colab import files\n",
        "uploaded = files.upload()"
      ],
      "metadata": {
        "colab": {
          "base_uri": "https://localhost:8080/",
          "height": 73
        },
        "id": "S9npw_N41Fgv",
        "outputId": "88dddd09-5d6e-49a4-d165-82ac5497b64e"
      },
      "execution_count": null,
      "outputs": [
        {
          "output_type": "display_data",
          "data": {
            "text/plain": [
              "<IPython.core.display.HTML object>"
            ],
            "text/html": [
              "\n",
              "     <input type=\"file\" id=\"files-7f6daf13-da1e-4e5c-994d-25e2f9cf9152\" name=\"files[]\" multiple disabled\n",
              "        style=\"border:none\" />\n",
              "     <output id=\"result-7f6daf13-da1e-4e5c-994d-25e2f9cf9152\">\n",
              "      Upload widget is only available when the cell has been executed in the\n",
              "      current browser session. Please rerun this cell to enable.\n",
              "      </output>\n",
              "      <script>// Copyright 2017 Google LLC\n",
              "//\n",
              "// Licensed under the Apache License, Version 2.0 (the \"License\");\n",
              "// you may not use this file except in compliance with the License.\n",
              "// You may obtain a copy of the License at\n",
              "//\n",
              "//      http://www.apache.org/licenses/LICENSE-2.0\n",
              "//\n",
              "// Unless required by applicable law or agreed to in writing, software\n",
              "// distributed under the License is distributed on an \"AS IS\" BASIS,\n",
              "// WITHOUT WARRANTIES OR CONDITIONS OF ANY KIND, either express or implied.\n",
              "// See the License for the specific language governing permissions and\n",
              "// limitations under the License.\n",
              "\n",
              "/**\n",
              " * @fileoverview Helpers for google.colab Python module.\n",
              " */\n",
              "(function(scope) {\n",
              "function span(text, styleAttributes = {}) {\n",
              "  const element = document.createElement('span');\n",
              "  element.textContent = text;\n",
              "  for (const key of Object.keys(styleAttributes)) {\n",
              "    element.style[key] = styleAttributes[key];\n",
              "  }\n",
              "  return element;\n",
              "}\n",
              "\n",
              "// Max number of bytes which will be uploaded at a time.\n",
              "const MAX_PAYLOAD_SIZE = 100 * 1024;\n",
              "\n",
              "function _uploadFiles(inputId, outputId) {\n",
              "  const steps = uploadFilesStep(inputId, outputId);\n",
              "  const outputElement = document.getElementById(outputId);\n",
              "  // Cache steps on the outputElement to make it available for the next call\n",
              "  // to uploadFilesContinue from Python.\n",
              "  outputElement.steps = steps;\n",
              "\n",
              "  return _uploadFilesContinue(outputId);\n",
              "}\n",
              "\n",
              "// This is roughly an async generator (not supported in the browser yet),\n",
              "// where there are multiple asynchronous steps and the Python side is going\n",
              "// to poll for completion of each step.\n",
              "// This uses a Promise to block the python side on completion of each step,\n",
              "// then passes the result of the previous step as the input to the next step.\n",
              "function _uploadFilesContinue(outputId) {\n",
              "  const outputElement = document.getElementById(outputId);\n",
              "  const steps = outputElement.steps;\n",
              "\n",
              "  const next = steps.next(outputElement.lastPromiseValue);\n",
              "  return Promise.resolve(next.value.promise).then((value) => {\n",
              "    // Cache the last promise value to make it available to the next\n",
              "    // step of the generator.\n",
              "    outputElement.lastPromiseValue = value;\n",
              "    return next.value.response;\n",
              "  });\n",
              "}\n",
              "\n",
              "/**\n",
              " * Generator function which is called between each async step of the upload\n",
              " * process.\n",
              " * @param {string} inputId Element ID of the input file picker element.\n",
              " * @param {string} outputId Element ID of the output display.\n",
              " * @return {!Iterable<!Object>} Iterable of next steps.\n",
              " */\n",
              "function* uploadFilesStep(inputId, outputId) {\n",
              "  const inputElement = document.getElementById(inputId);\n",
              "  inputElement.disabled = false;\n",
              "\n",
              "  const outputElement = document.getElementById(outputId);\n",
              "  outputElement.innerHTML = '';\n",
              "\n",
              "  const pickedPromise = new Promise((resolve) => {\n",
              "    inputElement.addEventListener('change', (e) => {\n",
              "      resolve(e.target.files);\n",
              "    });\n",
              "  });\n",
              "\n",
              "  const cancel = document.createElement('button');\n",
              "  inputElement.parentElement.appendChild(cancel);\n",
              "  cancel.textContent = 'Cancel upload';\n",
              "  const cancelPromise = new Promise((resolve) => {\n",
              "    cancel.onclick = () => {\n",
              "      resolve(null);\n",
              "    };\n",
              "  });\n",
              "\n",
              "  // Wait for the user to pick the files.\n",
              "  const files = yield {\n",
              "    promise: Promise.race([pickedPromise, cancelPromise]),\n",
              "    response: {\n",
              "      action: 'starting',\n",
              "    }\n",
              "  };\n",
              "\n",
              "  cancel.remove();\n",
              "\n",
              "  // Disable the input element since further picks are not allowed.\n",
              "  inputElement.disabled = true;\n",
              "\n",
              "  if (!files) {\n",
              "    return {\n",
              "      response: {\n",
              "        action: 'complete',\n",
              "      }\n",
              "    };\n",
              "  }\n",
              "\n",
              "  for (const file of files) {\n",
              "    const li = document.createElement('li');\n",
              "    li.append(span(file.name, {fontWeight: 'bold'}));\n",
              "    li.append(span(\n",
              "        `(${file.type || 'n/a'}) - ${file.size} bytes, ` +\n",
              "        `last modified: ${\n",
              "            file.lastModifiedDate ? file.lastModifiedDate.toLocaleDateString() :\n",
              "                                    'n/a'} - `));\n",
              "    const percent = span('0% done');\n",
              "    li.appendChild(percent);\n",
              "\n",
              "    outputElement.appendChild(li);\n",
              "\n",
              "    const fileDataPromise = new Promise((resolve) => {\n",
              "      const reader = new FileReader();\n",
              "      reader.onload = (e) => {\n",
              "        resolve(e.target.result);\n",
              "      };\n",
              "      reader.readAsArrayBuffer(file);\n",
              "    });\n",
              "    // Wait for the data to be ready.\n",
              "    let fileData = yield {\n",
              "      promise: fileDataPromise,\n",
              "      response: {\n",
              "        action: 'continue',\n",
              "      }\n",
              "    };\n",
              "\n",
              "    // Use a chunked sending to avoid message size limits. See b/62115660.\n",
              "    let position = 0;\n",
              "    do {\n",
              "      const length = Math.min(fileData.byteLength - position, MAX_PAYLOAD_SIZE);\n",
              "      const chunk = new Uint8Array(fileData, position, length);\n",
              "      position += length;\n",
              "\n",
              "      const base64 = btoa(String.fromCharCode.apply(null, chunk));\n",
              "      yield {\n",
              "        response: {\n",
              "          action: 'append',\n",
              "          file: file.name,\n",
              "          data: base64,\n",
              "        },\n",
              "      };\n",
              "\n",
              "      let percentDone = fileData.byteLength === 0 ?\n",
              "          100 :\n",
              "          Math.round((position / fileData.byteLength) * 100);\n",
              "      percent.textContent = `${percentDone}% done`;\n",
              "\n",
              "    } while (position < fileData.byteLength);\n",
              "  }\n",
              "\n",
              "  // All done.\n",
              "  yield {\n",
              "    response: {\n",
              "      action: 'complete',\n",
              "    }\n",
              "  };\n",
              "}\n",
              "\n",
              "scope.google = scope.google || {};\n",
              "scope.google.colab = scope.google.colab || {};\n",
              "scope.google.colab._files = {\n",
              "  _uploadFiles,\n",
              "  _uploadFilesContinue,\n",
              "};\n",
              "})(self);\n",
              "</script> "
            ]
          },
          "metadata": {}
        },
        {
          "output_type": "stream",
          "name": "stdout",
          "text": [
            "Saving postHHdata.csv to postHHdata.csv\n"
          ]
        }
      ]
    },
    {
      "cell_type": "code",
      "source": [
        "# All the columns of our cleaned and feature engineered dataset\n",
        "\n",
        "all_columns = ['Id',\n",
        "                 'v2a1',\n",
        "                 'hacdor',\n",
        "                 'rooms',\n",
        "                 'hacapo',\n",
        "                 'v14a',\n",
        "                 'v18q1',\n",
        "                 'r4h1',\n",
        "                 'r4h2',\n",
        "                 'r4h3',\n",
        "                 'r4m1',\n",
        "                 'r4m2',\n",
        "                 'r4m3',\n",
        "                 'r4t1',\n",
        "                 'r4t2',\n",
        "                 'r4t3',\n",
        "                 'tamhog',\n",
        "                 'tamviv',\n",
        "                 'escolari',\n",
        "                 'rez_esc',\n",
        "                 'hhsize',\n",
        "                 'wall_material',  #new feature\n",
        "                 'floor_material', #new feature\n",
        "                 'roof_material', #new feature\n",
        "                 'marital_status',#new feature\n",
        "                 'rubbish_disposal', #new feature\n",
        "                 'pisonotiene',\n",
        "                 'cielorazo',\n",
        "                 'water_provision', #new feature\n",
        "                 'abastaguano',\n",
        "                 'noelec',\n",
        "                 'sanitario1',\n",
        "                 'electricity_source', #new feature\n",
        "                 'wall_status',#new feature\n",
        "                 'roof_status', #new feature\n",
        "                 'floor_status',#new feature\n",
        "                 'dis',\n",
        "                 'male', #gender indicator, =1 male, =0 female\n",
        "                 'estadocivil1',\n",
        "                 'estadocivil2',\n",
        "                 'idhogar',\n",
        "                 'hogar_nin',\n",
        "                 'hogar_adul',\n",
        "                 'hogar_mayor',\n",
        "                 'hogar_total',\n",
        "                 'dependency',\n",
        "                 'edjefe',\n",
        "                 'edjefa',\n",
        "                 'meaneduc',\n",
        "                 'instlevel1',\n",
        "                 'instlevel8',\n",
        "                 'bedrooms',\n",
        "                 'overcrowding',\n",
        "                 'asset_owned', #new feature\n",
        "                 'qmobilephone',\n",
        "                 'region',#new feature\n",
        "                 'area1', #urban or rural area indicator, =1 urban\n",
        "                 'Central',\n",
        "                 'Chorotega',\n",
        "                 'Paci­fico Central',\n",
        "                 'Brunca',\n",
        "                 'Huetar Atlantica',\n",
        "                 'Huetar Norte',\n",
        "                 'age',\n",
        "                 'SQBescolari',\n",
        "                 'SQBage',\n",
        "                 'SQBhogar_total',\n",
        "                 'SQBedjefe',\n",
        "                 'SQBhogar_nin',\n",
        "                 'SQBovercrowding',\n",
        "                 'SQBdependency',\n",
        "                 'SQBmeaned',\n",
        "                 'agesq',\n",
        "                 'mean_per_capita_income', #Added these 5 features I found to be useful\n",
        "                 'yrs_edu_lost',\n",
        "                 'mobilephone_per_capita',\n",
        "                 'computer_per_capita',\n",
        "                 'tablet_per_capita',\n",
        "                 'Target'\n",
        "                 ]"
      ],
      "metadata": {
        "id": "l-wP1YhqUOBO"
      },
      "execution_count": null,
      "outputs": []
    },
    {
      "cell_type": "code",
      "source": [
        "full_df = pd.read_csv('postHHdata.csv', usecols=all_columns)\n",
        "\n",
        "#changing some categorical columns to numerical in order to use in decision tree\n",
        "full_df.loc[full_df.loc[:, \"wall_status\"]==\"bad\", \"wall_status\"] = 1\n",
        "full_df.loc[full_df.loc[:, \"wall_status\"]==\"regular\", \"wall_status\"] = 2\n",
        "full_df.loc[full_df.loc[:, \"wall_status\"]==\"good\", \"wall_status\"] = 3\n",
        "\n",
        "full_df.loc[full_df.loc[:, \"floor_status\"]==\"bad\", \"floor_status\"] = 1\n",
        "full_df.loc[full_df.loc[:, \"floor_status\"]==\"regular\", \"floor_status\"] = 2\n",
        "full_df.loc[full_df.loc[:, \"floor_status\"]==\"good\", \"floor_status\"] = 3\n",
        "\n",
        "full_df.loc[full_df.loc[:, \"roof_status\"]==\"bad\", \"roof_status\"] = 1\n",
        "full_df.loc[full_df.loc[:, \"roof_status\"]==\"regular\", \"roof_status\"] = 2\n",
        "full_df.loc[full_df.loc[:, \"roof_status\"]==\"good\", \"roof_status\"] = 3\n",
        "\n",
        "full_df.loc[:,\"piso_material\"] = 1\n",
        "full_df.loc[full_df.loc[:,\"floor_material\"]==\"cement\",\"piso_material\"] = 2\n",
        "full_df.loc[full_df.loc[:,\"floor_material\"]==\"wood\",\"piso_material\"] = 3\n",
        "full_df.loc[full_df.loc[:,\"floor_material\"]==\n",
        "            \"mosaic, ceramic, terrazo\",\"piso_material\"] = 4\n",
        "\n",
        "full_df.loc[:,\"relationship\"] = 0\n",
        "full_df.loc[full_df.loc[:,\"marital_status\"]==\"separated\",\"relationship\"] = 1\n",
        "full_df.loc[full_df.loc[:,\"marital_status\"]==\"married\",\"relationship\"] = 2\n",
        "\n",
        "# this is the df I will call for the decision trees\n",
        "full_df.to_csv(\"full_df.csv\")"
      ],
      "metadata": {
        "id": "VKVXwUFGUTW6"
      },
      "execution_count": null,
      "outputs": []
    },
    {
      "cell_type": "code",
      "source": [
        "# Create correlations between features and Target\n",
        "correlation_matrix = full_df.corr()\n",
        "target_correlations = correlation_matrix['Target'].sort_values(ascending=False)"
      ],
      "metadata": {
        "id": "PDmkAwZ1UnYR",
        "colab": {
          "base_uri": "https://localhost:8080/"
        },
        "outputId": "a77f40ce-73aa-41e3-885c-75f1c992048e"
      },
      "execution_count": null,
      "outputs": [
        {
          "output_type": "stream",
          "name": "stderr",
          "text": [
            "<ipython-input-7-2a51b54080b7>:2: FutureWarning: The default value of numeric_only in DataFrame.corr is deprecated. In a future version, it will default to False. Select only valid columns or specify the value of numeric_only to silence this warning.\n",
            "  correlation_matrix = full_df.corr()\n"
          ]
        }
      ]
    },
    {
      "cell_type": "markdown",
      "source": [
        "FIRST MODEL - Include all the numerical features"
      ],
      "metadata": {
        "id": "M3Aainp5Uq9O"
      }
    },
    {
      "cell_type": "code",
      "source": [
        "first_columns = [\n",
        "                 'v2a1',\n",
        "                 'hacdor',\n",
        "                 'rooms',\n",
        "                 'hacapo',\n",
        "\n",
        "                 'r4t3',\n",
        "                 'r4h1',\n",
        "                 'r4h2',\n",
        "                 'r4h3',\n",
        "                 'r4m1',\n",
        "                 'r4m2',\n",
        "                 'r4m3',\n",
        "                 'r4t1',\n",
        "                 'r4t2',\n",
        "                 'r4t3',\n",
        "                 'tamhog',\n",
        "\n",
        "                 'escolari',\n",
        "                 'rez_esc',\n",
        "                 'hhsize',\n",
        "                 #'wall_material',  #new feature\n",
        "                 #'floor_material', #new feature\n",
        "                 #'roof_material', #new feature\n",
        "                 #'marital_status',#new feature\n",
        "                 #'rubbish_disposal', #new feature\n",
        "                 'pisonotiene',\n",
        "                 'cielorazo',\n",
        "                 'water_provision', #new feature\n",
        "                 'abastaguano',\n",
        "                 'noelec',\n",
        "                 'sanitario1',\n",
        "                 #'electricity_source', #new feature\n",
        "                 #'wall_status',#new feature\n",
        "                 #'roof_status', #new feature\n",
        "                 #'floor_status',#new feature\n",
        "                 'dis',\n",
        "                 'male', #gender indicator, =1 male, =0 female\n",
        "                 'estadocivil1',\n",
        "                 'estadocivil2',\n",
        "\n",
        "                 'hogar_nin',\n",
        "                 'hogar_adul',\n",
        "                 'hogar_mayor',\n",
        "                 'hogar_total',\n",
        "                 'dependency',\n",
        "                 'edjefe',\n",
        "                 'edjefa',\n",
        "                 'meaneduc',\n",
        "                 'instlevel1',\n",
        "                 'instlevel8',\n",
        "                 'bedrooms',\n",
        "                 'overcrowding',\n",
        "                 'asset_owned', #new feature\n",
        "                 'qmobilephone',\n",
        "                 #'region',#new feature\n",
        "                 'Central',\n",
        "                 'Chorotega',\n",
        "                 'Paci­fico Central',\n",
        "                 'Brunca',\n",
        "                 'Huetar Atlantica',\n",
        "                 'Huetar Norte',\n",
        "                 'area1', #urban or rural area indicator, =1 urban\n",
        "                 'age',\n",
        "                 'SQBescolari',\n",
        "                 'SQBage',\n",
        "                 'SQBhogar_total',\n",
        "                 'SQBedjefe',\n",
        "                 'SQBhogar_nin',\n",
        "                 'SQBovercrowding',\n",
        "                 'SQBdependency',\n",
        "                 'SQBmeaned',\n",
        "                 'agesq',\n",
        "                 'mean_per_capita_income', #Added these 5 features I found to be useful\n",
        "                 'yrs_edu_lost',\n",
        "                 'mobilephone_per_capita',\n",
        "                 'computer_per_capita',\n",
        "                 'tablet_per_capita',\n",
        "                 'Target',\n",
        "                 'piso_material',\n",
        "                 'relationship',\n",
        "                 ]"
      ],
      "metadata": {
        "id": "xTqtrSS3UzO9"
      },
      "execution_count": null,
      "outputs": []
    },
    {
      "cell_type": "code",
      "source": [
        "from sklearn.model_selection import train_test_split\n",
        "from sklearn import tree\n",
        "from sklearn.metrics import accuracy_score\n"
      ],
      "metadata": {
        "id": "wEBaLkakU2ZK"
      },
      "execution_count": null,
      "outputs": []
    },
    {
      "cell_type": "code",
      "source": [
        "# build first tree using scikit-learn's decision tree class\n",
        "train1 = pd.read_csv('full_df.csv', usecols=first_columns)\n",
        "\n",
        "y_target_df, X_df  = train1[['Target']], train1.drop(['Target'], axis=1)\n",
        "train_x, test_x, train_y, test_y = train_test_split(\n",
        "        X_df.to_numpy(), y_target_df.to_numpy(), test_size=0.2, random_state=123)\n",
        "\n",
        "\n",
        "first_tree = tree.DecisionTreeClassifier()\n",
        "first_tree = first_tree.fit(train_x, train_y)\n",
        "\n",
        "y_pred1 = first_tree.predict(test_x)"
      ],
      "metadata": {
        "id": "azklogfSU5od"
      },
      "execution_count": null,
      "outputs": []
    },
    {
      "cell_type": "code",
      "source": [
        "accuracy_score(test_y, y_pred1)"
      ],
      "metadata": {
        "id": "kwzZyNHHU5hl",
        "colab": {
          "base_uri": "https://localhost:8080/"
        },
        "outputId": "2ac97129-ecde-4f77-f4e2-ff2b4de4a415"
      },
      "execution_count": null,
      "outputs": [
        {
          "output_type": "execute_result",
          "data": {
            "text/plain": [
              "0.8285714285714286"
            ]
          },
          "metadata": {},
          "execution_count": 11
        }
      ]
    },
    {
      "cell_type": "code",
      "source": [
        "accuracy = accuracy_score(test_y, y_pred1)\n",
        "print(\"Accuracy:\", accuracy)\n",
        "print(\"Classification Report:\")\n",
        "print(classification_report(test_y, y_pred1))"
      ],
      "metadata": {
        "colab": {
          "base_uri": "https://localhost:8080/"
        },
        "id": "HlzY1PGj11gC",
        "outputId": "0b1b9d83-9196-43ac-f5b6-d971dc7b0ec0"
      },
      "execution_count": null,
      "outputs": [
        {
          "output_type": "stream",
          "name": "stdout",
          "text": [
            "Accuracy: 0.8235294117647058\n",
            "Classification Report:\n",
            "              precision    recall  f1-score   support\n",
            "\n",
            "           1       0.57      0.57      0.57        44\n",
            "           2       0.70      0.66      0.68        94\n",
            "           3       0.64      0.79      0.71        71\n",
            "           4       0.92      0.90      0.91       386\n",
            "\n",
            "    accuracy                           0.82       595\n",
            "   macro avg       0.71      0.73      0.72       595\n",
            "weighted avg       0.83      0.82      0.83       595\n",
            "\n"
          ]
        }
      ]
    },
    {
      "cell_type": "code",
      "source": [
        "dt_report_dict = classification_report(test_y, y_pred1, output_dict=True)"
      ],
      "metadata": {
        "id": "slcqiU52S1lz"
      },
      "execution_count": null,
      "outputs": []
    },
    {
      "cell_type": "markdown",
      "source": [
        "Our accuracy score of .82521, which seems high."
      ],
      "metadata": {
        "id": "8uOammzPVFvA"
      }
    },
    {
      "cell_type": "markdown",
      "source": [
        "SECOND MODEL - only include features with +/- .15 correlation and larger"
      ],
      "metadata": {
        "id": "_aUDOELdVVhj"
      }
    },
    {
      "cell_type": "code",
      "source": [
        "# See which columns have positive correlations ~15% and higher\n",
        "target_correlations[:19]"
      ],
      "metadata": {
        "id": "YIDjraAxVjB-",
        "colab": {
          "base_uri": "https://localhost:8080/"
        },
        "outputId": "f8614216-fb8c-4517-df78-4162fafe08b1"
      },
      "execution_count": null,
      "outputs": [
        {
          "output_type": "execute_result",
          "data": {
            "text/plain": [
              "Target                    1.000000\n",
              "v2a1                      0.350694\n",
              "escolari                  0.336010\n",
              "meaneduc                  0.330436\n",
              "SQBescolari               0.317263\n",
              "cielorazo                 0.299273\n",
              "asset_owned               0.285703\n",
              "piso_material             0.274743\n",
              "SQBmeaned                 0.273412\n",
              "SQBedjefe                 0.244049\n",
              "instlevel8                0.236889\n",
              "edjefe                    0.235036\n",
              "mean_per_capita_income    0.218631\n",
              "tablet_per_capita         0.216032\n",
              "rooms                     0.199413\n",
              "v18q1                     0.198921\n",
              "Central                   0.177842\n",
              "qmobilephone              0.161929\n",
              "computer_per_capita       0.160513\n",
              "Name: Target, dtype: float64"
            ]
          },
          "metadata": {},
          "execution_count": 12
        }
      ]
    },
    {
      "cell_type": "code",
      "source": [
        "# See which columns have negative correlations ~15% and higher\n",
        "target_correlations[60:]"
      ],
      "metadata": {
        "id": "kAsAHmqpVk1F",
        "colab": {
          "base_uri": "https://localhost:8080/"
        },
        "outputId": "175dfbfd-dce9-4274-c5f4-f33bff0288f9"
      },
      "execution_count": null,
      "outputs": [
        {
          "output_type": "execute_result",
          "data": {
            "text/plain": [
              "yrs_edu_lost      -0.173391\n",
              "r4h1              -0.184686\n",
              "r4m1              -0.206894\n",
              "SQBovercrowding   -0.221336\n",
              "overcrowding      -0.239690\n",
              "r4t1              -0.257993\n",
              "SQBhogar_nin      -0.262475\n",
              "hogar_nin         -0.274436\n",
              "estadocivil1            NaN\n",
              "Name: Target, dtype: float64"
            ]
          },
          "metadata": {},
          "execution_count": 13
        }
      ]
    },
    {
      "cell_type": "code",
      "source": [
        "second_columns = [\n",
        "                 'v2a1',\n",
        "                 'rooms',\n",
        "                 'v18q1',\n",
        "                 'escolari',\n",
        "                 'cielorazo',\n",
        "                 'edjefe',\n",
        "                 'meaneduc',\n",
        "                 'instlevel8',\n",
        "                 'qmobilephone',\n",
        "                 'Central',\n",
        "                 'SQBescolari',\n",
        "                 'SQBedjefe',\n",
        "                 'SQBmeaned',\n",
        "\n",
        "                 'asset_owned',\n",
        "                 'mean_per_capita_income',\n",
        "                 'computer_per_capita',\n",
        "                 'tablet_per_capita',\n",
        "                 'piso_material',\n",
        "\n",
        "                 'yrs_edu_lost',\n",
        "\n",
        "                 'r4h1',\n",
        "                 'r4m1',\n",
        "                 'SQBovercrowding',\n",
        "                 'overcrowding',\n",
        "                 'r4t1',\n",
        "                 'SQBhogar_nin',\n",
        "                 'hogar_nin',\n",
        "\n",
        "\n",
        "                 'Target',\n",
        "                 ]"
      ],
      "metadata": {
        "id": "yvUPBLcCVn_F"
      },
      "execution_count": null,
      "outputs": []
    },
    {
      "cell_type": "markdown",
      "source": [
        "It is promising to see that a few of the features we generated through feature engineering have high correlations with the Target. Namely, asset_owned, mean_per_capita_income, computer_per_capita, and tablet_per_capita. Similarly, the features we cleaned, like edjefe and v2a1, are also important to the model so it is good that we cleaned the missing information from these columns to make them as accurate as possible."
      ],
      "metadata": {
        "id": "RxajZhqdVv9i"
      }
    },
    {
      "cell_type": "code",
      "source": [
        "train2 = pd.read_csv('full_df.csv', usecols=second_columns)\n",
        "\n",
        "y_target_df, X_df  = train2[['Target']], train2.drop(['Target'], axis=1)\n",
        "train_x, test_x, train_y, test_y = train_test_split(\n",
        "        X_df.to_numpy(), y_target_df.to_numpy(), test_size=0.2, random_state=123)\n",
        "\n",
        "\n",
        "second_tree = tree.DecisionTreeClassifier()\n",
        "second_tree = second_tree.fit(train_x, train_y)\n",
        "\n",
        "y_pred2 = second_tree.predict(test_x)"
      ],
      "metadata": {
        "id": "oFhnHnHXWhiS"
      },
      "execution_count": null,
      "outputs": []
    },
    {
      "cell_type": "code",
      "source": [
        "accuracy_score(test_y, y_pred2)"
      ],
      "metadata": {
        "id": "Lw0cKdYCWkNa",
        "colab": {
          "base_uri": "https://localhost:8080/"
        },
        "outputId": "459f574d-4d0c-4aff-9fe2-42c81573efec"
      },
      "execution_count": null,
      "outputs": [
        {
          "output_type": "execute_result",
          "data": {
            "text/plain": [
              "0.7495798319327731"
            ]
          },
          "metadata": {},
          "execution_count": 28
        }
      ]
    },
    {
      "cell_type": "code",
      "source": [
        "accuracy = accuracy_score(test_y, y_pred2)\n",
        "print(\"Accuracy:\", accuracy)\n",
        "print(\"Classification Report:\")\n",
        "print(classification_report(test_y, y_pred2))"
      ],
      "metadata": {
        "colab": {
          "base_uri": "https://localhost:8080/"
        },
        "id": "FoWJwL6y2RcV",
        "outputId": "09ba8a09-c3d6-4966-a319-1a8a7b2f7e18"
      },
      "execution_count": null,
      "outputs": [
        {
          "output_type": "stream",
          "name": "stdout",
          "text": [
            "Accuracy: 0.7495798319327731\n",
            "Classification Report:\n",
            "              precision    recall  f1-score   support\n",
            "\n",
            "           1       0.43      0.52      0.47        44\n",
            "           2       0.63      0.56      0.60        94\n",
            "           3       0.49      0.51      0.50        71\n",
            "           4       0.87      0.87      0.87       386\n",
            "\n",
            "    accuracy                           0.75       595\n",
            "   macro avg       0.60      0.61      0.61       595\n",
            "weighted avg       0.75      0.75      0.75       595\n",
            "\n"
          ]
        }
      ]
    },
    {
      "cell_type": "markdown",
      "source": [
        "Our accuracy for the second model decreased to .75462, but still seems high."
      ],
      "metadata": {
        "id": "xG2TnwM8Wktq"
      }
    },
    {
      "cell_type": "markdown",
      "source": [
        "THIRD MODEL - only use individual level features"
      ],
      "metadata": {
        "id": "nxXI2BQHWrRA"
      }
    },
    {
      "cell_type": "code",
      "source": [
        "third_columns = [\n",
        "\n",
        "                 'r4t3',\n",
        "                 'r4h1',\n",
        "                 'r4h2',\n",
        "                 'r4h3',\n",
        "                 'r4m1',\n",
        "                 'r4m2',\n",
        "                 'r4m3',\n",
        "                 'r4t1',\n",
        "                 'r4t2',\n",
        "                 'r4t3',\n",
        "\n",
        "\n",
        "                 'escolari',\n",
        "                 'rez_esc',\n",
        "\n",
        "                 'dis',\n",
        "                 'male', #gender indicator, =1 male, =0 female\n",
        "                 'estadocivil1',\n",
        "                 'estadocivil2',\n",
        "\n",
        "                 'dependency',\n",
        "                 'edjefe',\n",
        "                 'edjefa',\n",
        "                 'meaneduc',\n",
        "                 'instlevel1',\n",
        "                 'instlevel8',\n",
        "\n",
        "                 'asset_owned', #new feature\n",
        "                 'qmobilephone',\n",
        "\n",
        "\n",
        "\n",
        "                 'age',\n",
        "                 'SQBescolari',\n",
        "                 'SQBage',\n",
        "\n",
        "                 'SQBedjefe',\n",
        "\n",
        "                 'SQBdependency',\n",
        "                 'SQBmeaned',\n",
        "                 'agesq',\n",
        "                 'mean_per_capita_income', #Added these 5 features I found to be useful\n",
        "                 'yrs_edu_lost',\n",
        "                 'mobilephone_per_capita',\n",
        "                 'computer_per_capita',\n",
        "                 'tablet_per_capita',\n",
        "                 'Target',\n",
        "\n",
        "                 'relationship',\n",
        "                 ]"
      ],
      "metadata": {
        "id": "Ffb84TNZWyg2"
      },
      "execution_count": null,
      "outputs": []
    },
    {
      "cell_type": "code",
      "source": [
        "train3 = pd.read_csv('full_df.csv', usecols=third_columns)\n",
        "\n",
        "y_target_df, X_df  = train3[['Target']], train3.drop(['Target'], axis=1)\n",
        "train_x, test_x, train_y, test_y = train_test_split(\n",
        "        X_df.to_numpy(), y_target_df.to_numpy(), test_size=0.2, random_state=123)\n",
        "\n",
        "\n",
        "third_tree = tree.DecisionTreeClassifier()\n",
        "third_tree = third_tree.fit(train_x, train_y)\n",
        "\n",
        "y_pred3 = third_tree.predict(test_x)"
      ],
      "metadata": {
        "id": "Mm2pdcMOW3PW"
      },
      "execution_count": null,
      "outputs": []
    },
    {
      "cell_type": "code",
      "source": [
        "accuracy_score(test_y, y_pred3)"
      ],
      "metadata": {
        "id": "rszg_MLAW62H",
        "colab": {
          "base_uri": "https://localhost:8080/"
        },
        "outputId": "e9d9416b-c14d-49dc-beb5-8a5223ed5be8"
      },
      "execution_count": null,
      "outputs": [
        {
          "output_type": "execute_result",
          "data": {
            "text/plain": [
              "0.6420168067226891"
            ]
          },
          "metadata": {},
          "execution_count": 19
        }
      ]
    },
    {
      "cell_type": "code",
      "source": [
        "accuracy = accuracy_score(test_y, y_pred3)\n",
        "print(\"Accuracy:\", accuracy)\n",
        "print(\"Classification Report:\")\n",
        "print(classification_report(test_y, y_pred3))"
      ],
      "metadata": {
        "colab": {
          "base_uri": "https://localhost:8080/"
        },
        "id": "lhDkmeaT2XFU",
        "outputId": "26acd9ad-2e9a-4d51-913f-cd0fab13980d"
      },
      "execution_count": null,
      "outputs": [
        {
          "output_type": "stream",
          "name": "stdout",
          "text": [
            "Accuracy: 0.6336134453781512\n",
            "Classification Report:\n",
            "              precision    recall  f1-score   support\n",
            "\n",
            "           1       0.31      0.34      0.33        44\n",
            "           2       0.30      0.34      0.32        94\n",
            "           3       0.25      0.25      0.25        71\n",
            "           4       0.85      0.81      0.83       386\n",
            "\n",
            "    accuracy                           0.63       595\n",
            "   macro avg       0.43      0.44      0.43       595\n",
            "weighted avg       0.65      0.63      0.64       595\n",
            "\n"
          ]
        }
      ]
    },
    {
      "cell_type": "markdown",
      "source": [
        "This model's accuracy dropped to .64202, but we realize that it will not be sufficient to add individual level characteristics alone in the final report."
      ],
      "metadata": {
        "id": "IDqujs-wW7j4"
      }
    },
    {
      "cell_type": "markdown",
      "source": [
        "FOURTH MODEL - only include house characteristics"
      ],
      "metadata": {
        "id": "w_Rn3oFWXQe-"
      }
    },
    {
      "cell_type": "code",
      "source": [
        "fourth_columns = [\n",
        "                 'v2a1',\n",
        "                 'hacdor',\n",
        "                 'rooms',\n",
        "                 'hacapo',\n",
        "\n",
        "                 'tamhog',\n",
        "\n",
        "                 'hhsize',\n",
        "\n",
        "                 'pisonotiene',\n",
        "                 'cielorazo',\n",
        "                 'water_provision', #new feature\n",
        "                 'abastaguano',\n",
        "                 'noelec',\n",
        "                 'sanitario1',\n",
        "\n",
        "\n",
        "                 'hogar_nin',\n",
        "                 'hogar_adul',\n",
        "                 'hogar_mayor',\n",
        "                 'hogar_total',\n",
        "\n",
        "\n",
        "                 'bedrooms',\n",
        "                 'overcrowding',\n",
        "\n",
        "                 'Central',\n",
        "                 'Chorotega',\n",
        "                 'Paci­fico Central',\n",
        "                 'Brunca',\n",
        "                 'Huetar Atlantica',\n",
        "                 'Huetar Norte',\n",
        "                 'area1', #urban or rural area indicator, =1 urban\n",
        "\n",
        "                 'SQBhogar_total',\n",
        "\n",
        "                 'SQBhogar_nin',\n",
        "                 'SQBovercrowding',\n",
        "\n",
        "\n",
        "                 'Target',\n",
        "                 'piso_material',\n",
        "\n",
        "                 ]"
      ],
      "metadata": {
        "id": "DyIRoDJtXVEW"
      },
      "execution_count": null,
      "outputs": []
    },
    {
      "cell_type": "code",
      "source": [
        "train4 = pd.read_csv('full_df.csv', usecols=fourth_columns)\n",
        "\n",
        "y_target_df, X_df  = train4[['Target']], train4.drop(['Target'], axis=1)\n",
        "train_x, test_x, train_y, test_y = train_test_split(\n",
        "        X_df.to_numpy(), y_target_df.to_numpy(), test_size=0.2, random_state=123)\n",
        "\n",
        "\n",
        "fourth_tree = tree.DecisionTreeClassifier()\n",
        "fourth_tree = fourth_tree.fit(train_x, train_y)\n",
        "\n",
        "y_pred4 = fourth_tree.predict(test_x)"
      ],
      "metadata": {
        "id": "VYeuFE3cXZbj"
      },
      "execution_count": null,
      "outputs": []
    },
    {
      "cell_type": "code",
      "source": [
        "accuracy_score(test_y, y_pred4)"
      ],
      "metadata": {
        "id": "eKg-vcSEXbJi",
        "colab": {
          "base_uri": "https://localhost:8080/"
        },
        "outputId": "27de08c7-11ec-4178-b68a-55995bce3164"
      },
      "execution_count": null,
      "outputs": [
        {
          "output_type": "execute_result",
          "data": {
            "text/plain": [
              "0.7966386554621848"
            ]
          },
          "metadata": {},
          "execution_count": 22
        }
      ]
    },
    {
      "cell_type": "code",
      "source": [
        "accuracy = accuracy_score(test_y, y_pred4)\n",
        "print(\"Accuracy:\", accuracy)\n",
        "print(\"Classification Report:\")\n",
        "print(classification_report(test_y, y_pred4))"
      ],
      "metadata": {
        "id": "xBfcOXYJ2aut",
        "outputId": "bdcf1a30-af39-4e83-e3d6-d3f42128dcb9",
        "colab": {
          "base_uri": "https://localhost:8080/"
        }
      },
      "execution_count": null,
      "outputs": [
        {
          "output_type": "stream",
          "name": "stdout",
          "text": [
            "Accuracy: 0.8067226890756303\n",
            "Classification Report:\n",
            "              precision    recall  f1-score   support\n",
            "\n",
            "           1       0.55      0.61      0.58        44\n",
            "           2       0.64      0.68      0.66        94\n",
            "           3       0.66      0.63      0.65        71\n",
            "           4       0.91      0.89      0.90       386\n",
            "\n",
            "    accuracy                           0.81       595\n",
            "   macro avg       0.69      0.70      0.70       595\n",
            "weighted avg       0.81      0.81      0.81       595\n",
            "\n"
          ]
        }
      ]
    },
    {
      "cell_type": "markdown",
      "source": [
        "The accuracy for using only house characteristics as features is .81008, which is higher than in the third model which only used individual level characteristics. This is interesting to know that it seems house features (such as rent, overcrowding by rooms, region, area, floor material, etc.) are more powerful predictors for the household poverty level than the individual characteristics (such as gener, education level, marital status, etc.)."
      ],
      "metadata": {
        "id": "Fd9ombMXXdbN"
      }
    },
    {
      "cell_type": "markdown",
      "source": [
        "# 5.) Discussion\n",
        "In terms of model performance, we find that our best performing models were Decision Trees and Logistic regression which yield an accuracy rate of above 80% and above 70% respectively.\n",
        "\n",
        "A deeper inspection of the classification report reveals that our models performed slightly differently with respect to identifying or classifying Targets 1,2,3 and 4. All of our models performed quite well when distinguishing households who were non-poor and non-vulnerable. Some of our models performed were able to identify those who were overally poor (class 2) with above 70% precision. But most of our models did not perform well when classifying classes 1 and 2.\n",
        "\n",
        "We think that would likely be because we were unable to generate features uniquely associated with the extreme poor (class 1) or the vulnerable (class 3).Another reason would be that we have not addressed class-imbalance in generating our ML models.\n",
        "\n",
        "To improve our models, we plan to address class imbalance and further explore additional features or feature engineering techniques that may better capture the characteristics of the extreme poor and vulnerable households."
      ],
      "metadata": {
        "id": "D_hT-f-w5-w_"
      }
    },
    {
      "cell_type": "markdown",
      "source": [
        "# Additional Investigations For Final Report"
      ],
      "metadata": {
        "id": "wTXcxqpE_uLh"
      }
    },
    {
      "cell_type": "markdown",
      "source": [
        "### Rebalancing Data using SMOTE\n",
        "\n",
        "In order to address the class-imbalance in the target variable, we will use the SMOTE technique, which creates synthetic data points that are slightly different from the original data points. This will allow an even representation of the poverty target variables and potentially increase predictive performance for each target without generating exact duplicates of the data."
      ],
      "metadata": {
        "id": "jzqlk8dXAFOQ"
      }
    },
    {
      "cell_type": "code",
      "source": [
        "from imblearn.over_sampling import SMOTE"
      ],
      "metadata": {
        "id": "v6Mmmv1I-cLO"
      },
      "execution_count": null,
      "outputs": []
    },
    {
      "cell_type": "code",
      "source": [
        "#From Sarah's created full_df, only uses numeric columns\n",
        "full_df = pd.read_csv('full_df.csv', usecols=first_columns)\n",
        "y_target = full_df['Target']\n",
        "X_df = full_df.drop(['Target'], axis=1)"
      ],
      "metadata": {
        "id": "9NAWBkEmWRP3"
      },
      "execution_count": null,
      "outputs": []
    },
    {
      "cell_type": "code",
      "source": [
        "smote = SMOTE()\n",
        "X_resampled, y_resampled = smote.fit_resample(X_df, y_target)"
      ],
      "metadata": {
        "id": "cLeDkH7jYpwf"
      },
      "execution_count": null,
      "outputs": []
    },
    {
      "cell_type": "code",
      "source": [
        "#Check implementation\n",
        "#Count the occurrences of each target variable\n",
        "target_counts = y_resampled.value_counts()\n",
        "print(target_counts)"
      ],
      "metadata": {
        "colab": {
          "base_uri": "https://localhost:8080/"
        },
        "id": "fLUZ6c-_Yq63",
        "outputId": "dcb1129f-c0e1-42f4-b7d8-7c845442ef44"
      },
      "execution_count": null,
      "outputs": [
        {
          "output_type": "stream",
          "name": "stdout",
          "text": [
            "4    1945\n",
            "2    1945\n",
            "3    1945\n",
            "1    1945\n",
            "Name: Target, dtype: int64\n"
          ]
        }
      ]
    },
    {
      "cell_type": "code",
      "source": [
        "#Creating F1-Score by Poverty Target and Model plot\n",
        "#Combine the reports into a list\n",
        "report_dicts = [logistic_report_dict, knn_report_dict, nb_report_dict, dt_report_dict]\n",
        "\n",
        "#Initialize an empty DataFrame to store the combined report data\n",
        "combined_data = []\n",
        "\n",
        "#Iterate over the report dictionaries\n",
        "for model_name, report_dict in zip(['Logistic Regression', 'KNN', 'Naive Bayes', 'Decision Tree'], report_dicts):\n",
        "    # Parsing the classification report dictionary\n",
        "    for class_label, metrics in report_dict.items():\n",
        "        if class_label not in ['accuracy', 'macro avg', 'weighted avg']:\n",
        "            row = [class_label, model_name, metrics['f1-score']]\n",
        "            combined_data.append(row)\n",
        "\n",
        "#Creating a DataFrame from the combined report data\n",
        "df = pd.DataFrame(combined_data, columns=['Poverty Target', 'Model', 'F1-Score'])\n",
        "\n",
        "#Grouping the data by poverty target and model, and calculating the mean F1-scores\n",
        "grouped_data = df.groupby(['Poverty Target', 'Model']).mean().reset_index()\n",
        "\n",
        "#Defining the x-axis positions for each model\n",
        "x = np.arange(len(grouped_data['Poverty Target'].unique()))\n",
        "\n",
        "#Defining the colors for each model\n",
        "colors = ['blue', 'orange', 'green', 'red']\n",
        "\n",
        "#Creating the bar plot\n",
        "fig, ax = plt.subplots(figsize=(10, 6))\n",
        "\n",
        "for i, model in enumerate(grouped_data['Model'].unique()):\n",
        "    model_data = grouped_data[grouped_data['Model'] == model]\n",
        "    ax.bar(x + i * 0.15, model_data['F1-Score'], width=0.15, label=model, color=colors[i])\n",
        "\n",
        "#Setting the x-axis ticks and labels\n",
        "ax.set_xticks(x)\n",
        "ax.set_xticklabels(grouped_data['Poverty Target'].unique())\n",
        "ax.set_xlabel('Poverty Target')\n",
        "ax.set_ylabel('F1-Score')\n",
        "ax.set_title('F1-Score by Poverty Target and Model')\n",
        "ax.legend()\n",
        "\n",
        "plt.tight_layout()\n",
        "plt.show()\n",
        "print(df)"
      ],
      "metadata": {
        "colab": {
          "base_uri": "https://localhost:8080/",
          "height": 902
        },
        "id": "tEkSFYN7S8YA",
        "outputId": "6b2ef3a6-8091-4357-c9f9-65392feba3ea"
      },
      "execution_count": null,
      "outputs": [
        {
          "output_type": "display_data",
          "data": {
            "text/plain": [
              "<Figure size 1000x600 with 1 Axes>"
            ],
            "image/png": "[encoded data removed]"
          },
          "metadata": {}
        },
        {
          "output_type": "stream",
          "name": "stdout",
          "text": [
            "   Poverty Target                Model  F1-Score\n",
            "0               1  Logistic Regression  0.404959\n",
            "1               2  Logistic Regression  0.453875\n",
            "2               3  Logistic Regression  0.253247\n",
            "3               4  Logistic Regression  0.861889\n",
            "4               1                  KNN  0.322034\n",
            "5               2                  KNN  0.254717\n",
            "6               3                  KNN  0.220779\n",
            "7               4                  KNN  0.863077\n",
            "8               1          Naive Bayes  0.218750\n",
            "9               2          Naive Bayes  0.057554\n",
            "10              3          Naive Bayes  0.305882\n",
            "11              4          Naive Bayes  0.758689\n",
            "12              1        Decision Tree  0.568182\n",
            "13              2        Decision Tree  0.681319\n",
            "14              3        Decision Tree  0.708861\n",
            "15              4        Decision Tree  0.910761\n"
          ]
        }
      ]
    },
    {
      "cell_type": "code",
      "source": [
        "# Define the x-axis positions for each model\n",
        "x = np.arange(len(grouped_data['Poverty Target'].unique()))\n",
        "\n",
        "# Define the color palette\n",
        "colors = [\"#1f77b4\", \"#ff7f0e\", \"#2ca02c\", \"#d62728\"]\n",
        "\n",
        "# Create the bar plot\n",
        "fig, ax = plt.subplots(figsize=(10, 6))\n",
        "\n",
        "for i, model in enumerate(grouped_data['Model'].unique()):\n",
        "    model_data = grouped_data[grouped_data['Model'] == model]\n",
        "    ax.bar(x + i * 0.15, model_data['F1-Score'], width=0.15, label=model, color=colors[i])\n",
        "\n",
        "# Set the x-axis ticks and labels\n",
        "ax.set_xticks(x)\n",
        "ax.set_xticklabels(grouped_data['Poverty Target'].unique())\n",
        "ax.set_xlabel('Poverty Target', fontsize=12)\n",
        "ax.set_ylabel('F1-Score', fontsize=12)\n",
        "ax.set_title('F1-Score by Poverty Target and Model', fontsize=16)\n",
        "ax.legend(fontsize=10)\n",
        "\n",
        "# Remove the top and right spines\n",
        "sns.despine()\n",
        "\n",
        "# Show the plot\n",
        "plt.tight_layout()\n",
        "plt.show()"
      ],
      "metadata": {
        "colab": {
          "base_uri": "https://localhost:8080/",
          "height": 607
        },
        "id": "MNU1mkhWtoMI",
        "outputId": "4a935bfd-1b8d-43f8-c4d0-8c0fae5e0e8a"
      },
      "execution_count": null,
      "outputs": [
        {
          "output_type": "display_data",
          "data": {
            "text/plain": [
              "<Figure size 1000x600 with 1 Axes>"
            ],
            "image/png": "[encoded data removed]"
          },
          "metadata": {}
        }
      ]
    }
  ]
}