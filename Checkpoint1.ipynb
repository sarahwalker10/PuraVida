{
  "nbformat": 4,
  "nbformat_minor": 0,
  "metadata": {
    "colab": {
      "provenance": []
    },
    "kernelspec": {
      "name": "python3",
      "display_name": "Python 3"
    },
    "language_info": {
      "name": "python"
    }
  },
  "cells": [
    {
      "cell_type": "markdown",
      "source": [
        "# Checkpoint I"
      ],
      "metadata": {
        "id": "_3Li9vdwnLFV"
      }
    },
    {
      "cell_type": "markdown",
      "source": [
        "Group members: Gregory Ho, Jonathan Juarez, Sarah Walker, Yueyue Wang\n",
        "\n",
        "(Alphabetic order of first name)"
      ],
      "metadata": {
        "id": "cNp0DzFlUnXf"
      }
    },
    {
      "cell_type": "markdown",
      "source": [
        "## 1.) Abstract\n",
        "\n",
        "The objective of this project is to build and evaluate several machine learning models. This project is a multiclass classification problem that attempts to assign a class of poverty labels to a particular household based on the household's observable characteristics."
      ],
      "metadata": {
        "id": "aIzHhdf-nWwt"
      }
    },
    {
      "cell_type": "markdown",
      "source": [
        "## 2.) Brief Literature Review\n",
        "\n",
        "Before we commence with exploring the dataset, we begun by conducting a brief survey of the literature on Poverty metrices and the socio-economic and demographic description of Costa Rica which contextualizes this ML project. As the dataset that was sourced from Kaggle was originally published 5 years ago in the year 2018, our socio-economic and demographic survey were based on studies conducted pre-covid, between 2014 to 2019.\n",
        "\n",
        "Costa Rica is a country situated in Central America. For a country with a population size of 4.9 million, in 2016, it had a GDP per capita of US$13,876 in current PP (upper-middle income country). Of the 4.9 million people, about three-quarters live in Urban Areas.\n",
        "\n",
        "According to the World Bank, Costa Rica uses two income-based poverty lines[1]. Extreme poverty (Target 1 in this ML Project), is defined based on the food poverty line index (fPLI). The fPLI represents the amount of money a household needs for each member in the household to meet a minimum caloric intake. These refer to individuals with a harmonized per capita income of lower than $2.50 a day.\n",
        "\n",
        "On the other hand, the overall poverty line considered other basic resources beyond food (this likely corresponds with Target 2 in this ML project). These refer to individuals with a harmonized per capita income of lower than $4.00 a day. Targets 1 and 2 jointly account for around 10% of Costa Rica's population.\n",
        "\n",
        "Still, about one-third of the population (36% representing those with per capita incomes between $4.00 and \\$10.00 USD a day) remains vulnerable (Target 3 in this ML Project) to falling back into poverty if hit by a shock. Similarly, target 4 refers to households that are non-vulnerable and non-poor (49% of population).\n",
        "\n",
        "Spatially, poverty rates are the lowest in the Central region. However, headcount poverty is the highest in the central region. This is because about half (1.7 million) of Costa Rica's population reside in the central region. Regional disparities are significant, with poverty rates being much higher in border areas.\n",
        "\n",
        "The following table by World Bank provides a description of those under the various classes of Costa Rican society:\n",
        "\n",
        "| Characteristics                 | Extreme Poor | Overall Poor | Non-Poor | Bottom 40 percent | Top 60 percent |\n",
        "|---------------------------------|--------------|--------------|----------|-------------------|----------------|\n",
        "| Age of the head                 | 48.8         | 50.9         | 50.1     | 50.1              | 50.4           |\n",
        "| Male-headed household (percent) | 54.6         | 56.7         | 63.9     | 58.7              | 64.4           |\n",
        "| Proportion age 0–12 (percent)   | 23.7         | 21.2         | 11.5     | 19.9              | 10.2           |\n",
        "| Proportion age 13–18 (percent)  | 12.1         | 11.2         | 7.9      | 11.5              | 7.0            |\n",
        "| Proportion age 19–70 (percent)  | 57.9         | 56.8         | 72.7     | 58.6              | 75.2           |\n",
        "| Proportion age 70+ (percent)    | 6.4          | 10.7         | 7.9      | 10.0              | 7.7            |\n",
        "| Household size (number)         | 3.6          | 3.7          | 3.2      | 3.7               | 3.1            |\n",
        "| Education of household head (years) | 5.4      | 5.6          | 9.2      | 5.9               | 9.9            |\n",
        "| Monthly per capita income (CRC) | 24,845       | 59,174       | 431,636  | 82,124            | 500,020        |\n",
        "| Employment sector (percent)     |              |              |          |                   |                |\n",
        "| Primary sector                  | 22.1         | 18.5         | 8.9      | 18.1              | 7.5            |\n",
        "| Manufacturing                   | 10.6         | 12.2         | 11.4     | 12.8              | 11.0           |\n",
        "| Construction                    | 7.9          | 8.3          | 5.7      | 8.7               | 5.1            |\n",
        "| Utilities                       | 8.6          | 5.7          | 6.8      | 6.1               | 6.8            |\n",
        "| Retail                          | 16.4         | 18.6         | 18.3     | 17.9              | 18.4           |\n",
        "| Services                        | 20.8         | 25.4         | 42.9     | 25.2              | 45.8           |\n",
        "| Domestic services               | 13.1         | 10.9         | 5.8      | 10.9              | 5.0            |\n",
        "| Labor force (percent)           |              |              |          |                   |                |\n",
        "| Employee                        | 29.9         | 47.3         | 75.1     | 56.6              | 76.3           |\n",
        "| Employer                        | 0.8          | 1.1          | 4.3      | 1.5               | 4.7           |\n",
        "| Self-Employed                  | 28.6          | 25.4         | 14.2     | 21.8               | 13.6          |\n",
        "| Unpaid Worker                 | 3.3          | 1.9          | 0.7      | 1.4               | 0.7            |\n",
        "| Unemployed                 | 37.4          | 24.2          | 5.8      | 18.7               | 4.7            |\n",
        "| Female labor force participation  | 26.7          | 32.1          | 55.6      | 34.5               | 59.8            |\n",
        "\n",
        "**Ref and Notes:**\n",
        "\n",
        "[1] “Oviedo, Ana Maria; Sanchez, Susana M.; Lindert, Kathy A.; Lopez, J. Humberto. 2015. Costa Rica's Development: From Good to Better. Systematic Country Diagnostic;. © World Bank, Washington, DC. http://hdl.handle.net/10986/22023 License: CC BY 3.0 IGO.”"
      ],
      "metadata": {
        "id": "tGJWYQF4nZU0"
      }
    },
    {
      "cell_type": "markdown",
      "source": [
        "## 3.) Exploratory Data Analysis\n",
        "\n",
        "Our brief literature reveals some interesting aspects surrounding the context of Costa Rican poverty:\n",
        "*   Targets 1 and 2 were based on the food PLI and the overall PLI.\n",
        "*   Target 3 represents vulnerable households accounting for 36% of Costa Rican population.\n",
        "*   Poverty rates were higher in rural areas, but poverty headcount was highest in central region which was occupied by around half of the entire Costa Rican population\n",
        "*   Households categorized as poor often had a larger proportion of children (age 0 - 12 and 13 - 18), had a smaller proportion of adults aged between 19 - 70. Their household heads had fewer years of education, had jobs that were concentrated in the primary sector (agriculture and mining?) or were outside the formal labor force entirely. Head of households were mostly unemployed.   \n",
        "*   Head of households also had a lower proportion of female labor force participation\n",
        "\n",
        "\n",
        "Against this set of descriptors, our objectives in this Exploratory Data Analysis segment are as follows:\n",
        "\n",
        "1.   To examine if the target variable follow the same distribution as reported in Costa Rican Official statistics?\n",
        "    *   by population\n",
        "    *   by region\n",
        "\n",
        "2.   Feature Engineering Plan- Creating/Grouping/categorizing features according to standard dimensions of deprivation (Food, Housing, Education, Basic Amenities, hardship, and so on)"
      ],
      "metadata": {
        "id": "NNUAIL-8ohrC"
      }
    },
    {
      "cell_type": "markdown",
      "source": [
        "##Data Exploration"
      ],
      "metadata": {
        "id": "B1w_jlQb_-62"
      }
    },
    {
      "cell_type": "code",
      "execution_count": null,
      "metadata": {
        "id": "MOHCIS--6GmC"
      },
      "outputs": [],
      "source": [
        "import numpy as np\n",
        "import pandas as pd\n",
        "import matplotlib.pyplot as plt\n",
        "import plotly.express as px\n",
        "import seaborn as sns"
      ]
    },
    {
      "cell_type": "markdown",
      "source": [
        "#### Load Data"
      ],
      "metadata": {
        "id": "kU1YWOg3qkv0"
      }
    },
    {
      "cell_type": "code",
      "source": [
        "from google.colab import files\n",
        "uploaded = files.upload()"
      ],
      "metadata": {
        "colab": {
          "base_uri": "https://localhost:8080/",
          "height": 73
        },
        "id": "harIfcOYK1pa",
        "outputId": "d198ffac-3117-4258-eeaa-5a6b5f6cc448"
      },
      "execution_count": null,
      "outputs": [
        {
          "output_type": "display_data",
          "data": {
            "text/plain": [
              "<IPython.core.display.HTML object>"
            ],
            "text/html": [
              "\n",
              "     <input type=\"file\" id=\"files-dc952496-184c-4d69-91d2-5ad7c71b6db1\" name=\"files[]\" multiple disabled\n",
              "        style=\"border:none\" />\n",
              "     <output id=\"result-dc952496-184c-4d69-91d2-5ad7c71b6db1\">\n",
              "      Upload widget is only available when the cell has been executed in the\n",
              "      current browser session. Please rerun this cell to enable.\n",
              "      </output>\n",
              "      <script>// Copyright 2017 Google LLC\n",
              "//\n",
              "// Licensed under the Apache License, Version 2.0 (the \"License\");\n",
              "// you may not use this file except in compliance with the License.\n",
              "// You may obtain a copy of the License at\n",
              "//\n",
              "//      http://www.apache.org/licenses/LICENSE-2.0\n",
              "//\n",
              "// Unless required by applicable law or agreed to in writing, software\n",
              "// distributed under the License is distributed on an \"AS IS\" BASIS,\n",
              "// WITHOUT WARRANTIES OR CONDITIONS OF ANY KIND, either express or implied.\n",
              "// See the License for the specific language governing permissions and\n",
              "// limitations under the License.\n",
              "\n",
              "/**\n",
              " * @fileoverview Helpers for google.colab Python module.\n",
              " */\n",
              "(function(scope) {\n",
              "function span(text, styleAttributes = {}) {\n",
              "  const element = document.createElement('span');\n",
              "  element.textContent = text;\n",
              "  for (const key of Object.keys(styleAttributes)) {\n",
              "    element.style[key] = styleAttributes[key];\n",
              "  }\n",
              "  return element;\n",
              "}\n",
              "\n",
              "// Max number of bytes which will be uploaded at a time.\n",
              "const MAX_PAYLOAD_SIZE = 100 * 1024;\n",
              "\n",
              "function _uploadFiles(inputId, outputId) {\n",
              "  const steps = uploadFilesStep(inputId, outputId);\n",
              "  const outputElement = document.getElementById(outputId);\n",
              "  // Cache steps on the outputElement to make it available for the next call\n",
              "  // to uploadFilesContinue from Python.\n",
              "  outputElement.steps = steps;\n",
              "\n",
              "  return _uploadFilesContinue(outputId);\n",
              "}\n",
              "\n",
              "// This is roughly an async generator (not supported in the browser yet),\n",
              "// where there are multiple asynchronous steps and the Python side is going\n",
              "// to poll for completion of each step.\n",
              "// This uses a Promise to block the python side on completion of each step,\n",
              "// then passes the result of the previous step as the input to the next step.\n",
              "function _uploadFilesContinue(outputId) {\n",
              "  const outputElement = document.getElementById(outputId);\n",
              "  const steps = outputElement.steps;\n",
              "\n",
              "  const next = steps.next(outputElement.lastPromiseValue);\n",
              "  return Promise.resolve(next.value.promise).then((value) => {\n",
              "    // Cache the last promise value to make it available to the next\n",
              "    // step of the generator.\n",
              "    outputElement.lastPromiseValue = value;\n",
              "    return next.value.response;\n",
              "  });\n",
              "}\n",
              "\n",
              "/**\n",
              " * Generator function which is called between each async step of the upload\n",
              " * process.\n",
              " * @param {string} inputId Element ID of the input file picker element.\n",
              " * @param {string} outputId Element ID of the output display.\n",
              " * @return {!Iterable<!Object>} Iterable of next steps.\n",
              " */\n",
              "function* uploadFilesStep(inputId, outputId) {\n",
              "  const inputElement = document.getElementById(inputId);\n",
              "  inputElement.disabled = false;\n",
              "\n",
              "  const outputElement = document.getElementById(outputId);\n",
              "  outputElement.innerHTML = '';\n",
              "\n",
              "  const pickedPromise = new Promise((resolve) => {\n",
              "    inputElement.addEventListener('change', (e) => {\n",
              "      resolve(e.target.files);\n",
              "    });\n",
              "  });\n",
              "\n",
              "  const cancel = document.createElement('button');\n",
              "  inputElement.parentElement.appendChild(cancel);\n",
              "  cancel.textContent = 'Cancel upload';\n",
              "  const cancelPromise = new Promise((resolve) => {\n",
              "    cancel.onclick = () => {\n",
              "      resolve(null);\n",
              "    };\n",
              "  });\n",
              "\n",
              "  // Wait for the user to pick the files.\n",
              "  const files = yield {\n",
              "    promise: Promise.race([pickedPromise, cancelPromise]),\n",
              "    response: {\n",
              "      action: 'starting',\n",
              "    }\n",
              "  };\n",
              "\n",
              "  cancel.remove();\n",
              "\n",
              "  // Disable the input element since further picks are not allowed.\n",
              "  inputElement.disabled = true;\n",
              "\n",
              "  if (!files) {\n",
              "    return {\n",
              "      response: {\n",
              "        action: 'complete',\n",
              "      }\n",
              "    };\n",
              "  }\n",
              "\n",
              "  for (const file of files) {\n",
              "    const li = document.createElement('li');\n",
              "    li.append(span(file.name, {fontWeight: 'bold'}));\n",
              "    li.append(span(\n",
              "        `(${file.type || 'n/a'}) - ${file.size} bytes, ` +\n",
              "        `last modified: ${\n",
              "            file.lastModifiedDate ? file.lastModifiedDate.toLocaleDateString() :\n",
              "                                    'n/a'} - `));\n",
              "    const percent = span('0% done');\n",
              "    li.appendChild(percent);\n",
              "\n",
              "    outputElement.appendChild(li);\n",
              "\n",
              "    const fileDataPromise = new Promise((resolve) => {\n",
              "      const reader = new FileReader();\n",
              "      reader.onload = (e) => {\n",
              "        resolve(e.target.result);\n",
              "      };\n",
              "      reader.readAsArrayBuffer(file);\n",
              "    });\n",
              "    // Wait for the data to be ready.\n",
              "    let fileData = yield {\n",
              "      promise: fileDataPromise,\n",
              "      response: {\n",
              "        action: 'continue',\n",
              "      }\n",
              "    };\n",
              "\n",
              "    // Use a chunked sending to avoid message size limits. See b/62115660.\n",
              "    let position = 0;\n",
              "    do {\n",
              "      const length = Math.min(fileData.byteLength - position, MAX_PAYLOAD_SIZE);\n",
              "      const chunk = new Uint8Array(fileData, position, length);\n",
              "      position += length;\n",
              "\n",
              "      const base64 = btoa(String.fromCharCode.apply(null, chunk));\n",
              "      yield {\n",
              "        response: {\n",
              "          action: 'append',\n",
              "          file: file.name,\n",
              "          data: base64,\n",
              "        },\n",
              "      };\n",
              "\n",
              "      let percentDone = fileData.byteLength === 0 ?\n",
              "          100 :\n",
              "          Math.round((position / fileData.byteLength) * 100);\n",
              "      percent.textContent = `${percentDone}% done`;\n",
              "\n",
              "    } while (position < fileData.byteLength);\n",
              "  }\n",
              "\n",
              "  // All done.\n",
              "  yield {\n",
              "    response: {\n",
              "      action: 'complete',\n",
              "    }\n",
              "  };\n",
              "}\n",
              "\n",
              "scope.google = scope.google || {};\n",
              "scope.google.colab = scope.google.colab || {};\n",
              "scope.google.colab._files = {\n",
              "  _uploadFiles,\n",
              "  _uploadFilesContinue,\n",
              "};\n",
              "})(self);\n",
              "</script> "
            ]
          },
          "metadata": {}
        },
        {
          "output_type": "stream",
          "name": "stdout",
          "text": [
            "Saving train.csv to train.csv\n"
          ]
        }
      ]
    },
    {
      "cell_type": "code",
      "source": [
        "df_train = pd.read_csv('train.csv')\n",
        "check1 = df_train.copy()"
      ],
      "metadata": {
        "id": "N37pk73EKEYH"
      },
      "execution_count": null,
      "outputs": []
    },
    {
      "cell_type": "markdown",
      "source": [
        "#### Data Check 1 - Each household has one head"
      ],
      "metadata": {
        "id": "sZO8LWPgq2iv"
      }
    },
    {
      "cell_type": "code",
      "source": [
        "check1 = df_train.copy()\n",
        "check1 = check1.loc[(df_train.loc[:,'parentesco1'] == 1), :]\n",
        "unique_hhid = df_train['idhogar'].unique().shape[0]\n",
        "print(f\"count of heads: {check1.shape[0]}, unique household ids: {unique_hhid}; all households should have one head\")"
      ],
      "metadata": {
        "colab": {
          "base_uri": "https://localhost:8080/"
        },
        "id": "CEKicgLaq7aO",
        "outputId": "6c684317-4206-49bd-872f-378bea14e35b"
      },
      "execution_count": null,
      "outputs": [
        {
          "output_type": "stream",
          "name": "stdout",
          "text": [
            "count of heads: 2973, unique household ids: 2988; all households should have one head\n"
          ]
        }
      ]
    },
    {
      "cell_type": "markdown",
      "source": [
        "It seems that there were 2988 unique household IDs, but only 2973 head of households."
      ],
      "metadata": {
        "id": "qiOI5-lhrEza"
      }
    },
    {
      "cell_type": "markdown",
      "source": [
        "#### Data Check II - Checking for Null values"
      ],
      "metadata": {
        "id": "JRZNpK4jvViF"
      }
    },
    {
      "cell_type": "code",
      "source": [
        "#determining columns with Null values (hypothesis: the nulls for rents may have value in own house varible, pls check)\n",
        "df_train.columns[df_train.isnull().sum()>0]\n",
        "df_train[['v2a1', 'v18q1', 'rez_esc']].head(10)"
      ],
      "metadata": {
        "colab": {
          "base_uri": "https://localhost:8080/",
          "height": 363
        },
        "id": "yCENKpYSLtc8",
        "outputId": "8146f9a9-6151-4dfe-a35d-42b4fd732eda"
      },
      "execution_count": null,
      "outputs": [
        {
          "output_type": "execute_result",
          "data": {
            "text/plain": [
              "       v2a1  v18q1  rez_esc\n",
              "0  190000.0    NaN      NaN\n",
              "1  135000.0    1.0      NaN\n",
              "2       NaN    NaN      NaN\n",
              "3  180000.0    1.0      1.0\n",
              "4  180000.0    1.0      NaN\n",
              "5  180000.0    1.0      NaN\n",
              "6  180000.0    1.0      0.0\n",
              "7  130000.0    NaN      0.0\n",
              "8  130000.0    NaN      NaN\n",
              "9  130000.0    NaN      NaN"
            ],
            "text/html": [
              "\n",
              "  <div id=\"df-2e391edb-9fc7-4165-b7bd-082d6c23400c\">\n",
              "    <div class=\"colab-df-container\">\n",
              "      <div>\n",
              "<style scoped>\n",
              "    .dataframe tbody tr th:only-of-type {\n",
              "        vertical-align: middle;\n",
              "    }\n",
              "\n",
              "    .dataframe tbody tr th {\n",
              "        vertical-align: top;\n",
              "    }\n",
              "\n",
              "    .dataframe thead th {\n",
              "        text-align: right;\n",
              "    }\n",
              "</style>\n",
              "<table border=\"1\" class=\"dataframe\">\n",
              "  <thead>\n",
              "    <tr style=\"text-align: right;\">\n",
              "      <th></th>\n",
              "      <th>v2a1</th>\n",
              "      <th>v18q1</th>\n",
              "      <th>rez_esc</th>\n",
              "    </tr>\n",
              "  </thead>\n",
              "  <tbody>\n",
              "    <tr>\n",
              "      <th>0</th>\n",
              "      <td>190000.0</td>\n",
              "      <td>NaN</td>\n",
              "      <td>NaN</td>\n",
              "    </tr>\n",
              "    <tr>\n",
              "      <th>1</th>\n",
              "      <td>135000.0</td>\n",
              "      <td>1.0</td>\n",
              "      <td>NaN</td>\n",
              "    </tr>\n",
              "    <tr>\n",
              "      <th>2</th>\n",
              "      <td>NaN</td>\n",
              "      <td>NaN</td>\n",
              "      <td>NaN</td>\n",
              "    </tr>\n",
              "    <tr>\n",
              "      <th>3</th>\n",
              "      <td>180000.0</td>\n",
              "      <td>1.0</td>\n",
              "      <td>1.0</td>\n",
              "    </tr>\n",
              "    <tr>\n",
              "      <th>4</th>\n",
              "      <td>180000.0</td>\n",
              "      <td>1.0</td>\n",
              "      <td>NaN</td>\n",
              "    </tr>\n",
              "    <tr>\n",
              "      <th>5</th>\n",
              "      <td>180000.0</td>\n",
              "      <td>1.0</td>\n",
              "      <td>NaN</td>\n",
              "    </tr>\n",
              "    <tr>\n",
              "      <th>6</th>\n",
              "      <td>180000.0</td>\n",
              "      <td>1.0</td>\n",
              "      <td>0.0</td>\n",
              "    </tr>\n",
              "    <tr>\n",
              "      <th>7</th>\n",
              "      <td>130000.0</td>\n",
              "      <td>NaN</td>\n",
              "      <td>0.0</td>\n",
              "    </tr>\n",
              "    <tr>\n",
              "      <th>8</th>\n",
              "      <td>130000.0</td>\n",
              "      <td>NaN</td>\n",
              "      <td>NaN</td>\n",
              "    </tr>\n",
              "    <tr>\n",
              "      <th>9</th>\n",
              "      <td>130000.0</td>\n",
              "      <td>NaN</td>\n",
              "      <td>NaN</td>\n",
              "    </tr>\n",
              "  </tbody>\n",
              "</table>\n",
              "</div>\n",
              "      <button class=\"colab-df-convert\" onclick=\"convertToInteractive('df-2e391edb-9fc7-4165-b7bd-082d6c23400c')\"\n",
              "              title=\"Convert this dataframe to an interactive table.\"\n",
              "              style=\"display:none;\">\n",
              "        \n",
              "  <svg xmlns=\"http://www.w3.org/2000/svg\" height=\"24px\"viewBox=\"0 0 24 24\"\n",
              "       width=\"24px\">\n",
              "    <path d=\"M0 0h24v24H0V0z\" fill=\"none\"/>\n",
              "    <path d=\"M18.56 5.44l.94 2.06.94-2.06 2.06-.94-2.06-.94-.94-2.06-.94 2.06-2.06.94zm-11 1L8.5 8.5l.94-2.06 2.06-.94-2.06-.94L8.5 2.5l-.94 2.06-2.06.94zm10 10l.94 2.06.94-2.06 2.06-.94-2.06-.94-.94-2.06-.94 2.06-2.06.94z\"/><path d=\"M17.41 7.96l-1.37-1.37c-.4-.4-.92-.59-1.43-.59-.52 0-1.04.2-1.43.59L10.3 9.45l-7.72 7.72c-.78.78-.78 2.05 0 2.83L4 21.41c.39.39.9.59 1.41.59.51 0 1.02-.2 1.41-.59l7.78-7.78 2.81-2.81c.8-.78.8-2.07 0-2.86zM5.41 20L4 18.59l7.72-7.72 1.47 1.35L5.41 20z\"/>\n",
              "  </svg>\n",
              "      </button>\n",
              "      \n",
              "  <style>\n",
              "    .colab-df-container {\n",
              "      display:flex;\n",
              "      flex-wrap:wrap;\n",
              "      gap: 12px;\n",
              "    }\n",
              "\n",
              "    .colab-df-convert {\n",
              "      background-color: #E8F0FE;\n",
              "      border: none;\n",
              "      border-radius: 50%;\n",
              "      cursor: pointer;\n",
              "      display: none;\n",
              "      fill: #1967D2;\n",
              "      height: 32px;\n",
              "      padding: 0 0 0 0;\n",
              "      width: 32px;\n",
              "    }\n",
              "\n",
              "    .colab-df-convert:hover {\n",
              "      background-color: #E2EBFA;\n",
              "      box-shadow: 0px 1px 2px rgba(60, 64, 67, 0.3), 0px 1px 3px 1px rgba(60, 64, 67, 0.15);\n",
              "      fill: #174EA6;\n",
              "    }\n",
              "\n",
              "    [theme=dark] .colab-df-convert {\n",
              "      background-color: #3B4455;\n",
              "      fill: #D2E3FC;\n",
              "    }\n",
              "\n",
              "    [theme=dark] .colab-df-convert:hover {\n",
              "      background-color: #434B5C;\n",
              "      box-shadow: 0px 1px 3px 1px rgba(0, 0, 0, 0.15);\n",
              "      filter: drop-shadow(0px 1px 2px rgba(0, 0, 0, 0.3));\n",
              "      fill: #FFFFFF;\n",
              "    }\n",
              "  </style>\n",
              "\n",
              "      <script>\n",
              "        const buttonEl =\n",
              "          document.querySelector('#df-2e391edb-9fc7-4165-b7bd-082d6c23400c button.colab-df-convert');\n",
              "        buttonEl.style.display =\n",
              "          google.colab.kernel.accessAllowed ? 'block' : 'none';\n",
              "\n",
              "        async function convertToInteractive(key) {\n",
              "          const element = document.querySelector('#df-2e391edb-9fc7-4165-b7bd-082d6c23400c');\n",
              "          const dataTable =\n",
              "            await google.colab.kernel.invokeFunction('convertToInteractive',\n",
              "                                                     [key], {});\n",
              "          if (!dataTable) return;\n",
              "\n",
              "          const docLinkHtml = 'Like what you see? Visit the ' +\n",
              "            '<a target=\"_blank\" href=https://colab.research.google.com/notebooks/data_table.ipynb>data table notebook</a>'\n",
              "            + ' to learn more about interactive tables.';\n",
              "          element.innerHTML = '';\n",
              "          dataTable['output_type'] = 'display_data';\n",
              "          await google.colab.output.renderOutput(dataTable, element);\n",
              "          const docLink = document.createElement('div');\n",
              "          docLink.innerHTML = docLinkHtml;\n",
              "          element.appendChild(docLink);\n",
              "        }\n",
              "      </script>\n",
              "    </div>\n",
              "  </div>\n",
              "  "
            ]
          },
          "metadata": {},
          "execution_count": 5
        }
      ]
    },
    {
      "cell_type": "code",
      "source": [
        "null_df = df_train.apply(lambda x: sum(x.isnull())).to_frame(name='count')\n",
        "non_null_df = null_df[null_df['count'] > 5]\n",
        "print(non_null_df)"
      ],
      "metadata": {
        "colab": {
          "base_uri": "https://localhost:8080/"
        },
        "id": "AzSxeuneWtUl",
        "outputId": "3afbc5dc-84c7-40e2-a532-38fb5eee3dc3"
      },
      "execution_count": null,
      "outputs": [
        {
          "output_type": "stream",
          "name": "stdout",
          "text": [
            "         count\n",
            "v2a1      6860\n",
            "v18q1     7342\n",
            "rez_esc   7928\n"
          ]
        }
      ]
    },
    {
      "cell_type": "code",
      "source": [
        "#visualize amount of null values\n",
        "null_df = df_train.apply(lambda x: sum(x.isnull())).to_frame(name='count')\n",
        "null_df = null_df[null_df['count'] != 0]  # Keep only columns with non-zero null counts\n",
        "plt.bar(null_df.index, null_df['count'])\n",
        "plt.xticks(null_df.index, null_df.index, rotation=45, horizontalalignment='right')\n",
        "plt.xlabel('column names')\n",
        "plt.ylabel('null count')\n",
        "plt.title('Null Counts for Columns with Missing Data')\n",
        "plt.show()"
      ],
      "metadata": {
        "colab": {
          "base_uri": "https://localhost:8080/",
          "height": 528
        },
        "id": "Ah2jAJW-lXKS",
        "outputId": "08f92170-9880-4dcd-cf01-e355870f8fe4"
      },
      "execution_count": null,
      "outputs": [
        {
          "output_type": "display_data",
          "data": {
            "text/plain": [
              "<Figure size 640x480 with 1 Axes>"
            ],
            "image/png": "[encoded data removed]"
          },
          "metadata": {}
        }
      ]
    },
    {
      "cell_type": "markdown",
      "source": [
        "We observe a significant count of null values arising from the following columns:\n",
        "*   v2a1 - Monthly rent payment [HH Level var]\n",
        "*   v18q1 - Number of tablets household owns [HH Level var]\n",
        "*   rez_esc - Years behind in school [IND Level var]\n"
      ],
      "metadata": {
        "id": "LioIpEvRvbLQ"
      }
    },
    {
      "cell_type": "markdown",
      "source": [
        "We examined whether the missing values in *monthly rent payments* are associated with *owning a house* or not. Out of 6860 missing values, 5911 belong to individuals who own a house, while 949 belong to individuals who do not own a house. Based on this information, we can decide to either remove the missing values when we aggregate data into household level."
      ],
      "metadata": {
        "id": "ZPJPqTKRZcse"
      }
    },
    {
      "cell_type": "code",
      "source": [
        "df_train.loc[(df_train.loc[:,'v2a1'].isna()),['tipovivi1']].value_counts()"
      ],
      "metadata": {
        "colab": {
          "base_uri": "https://localhost:8080/"
        },
        "id": "ByBTDqE4ZA-w",
        "outputId": "97c4371b-7d4b-40e8-8c40-35def93d1e39"
      },
      "execution_count": null,
      "outputs": [
        {
          "output_type": "execute_result",
          "data": {
            "text/plain": [
              "tipovivi1\n",
              "1            5911\n",
              "0             949\n",
              "dtype: int64"
            ]
          },
          "metadata": {},
          "execution_count": 28
        }
      ]
    },
    {
      "cell_type": "markdown",
      "source": [
        "We examined whether the missing values in *Number of tablets household owns* are associated with *owning a tablet* or not. Based on the output below information, we determine that the missing value of *Number of tablets household owns* due to not owning a tablet."
      ],
      "metadata": {
        "id": "XsDSOciobLZh"
      }
    },
    {
      "cell_type": "code",
      "source": [
        "df_train.loc[(df_train.loc[:,'v18q1'].isna()),['v18q']].value_counts() == sum(df_train.loc[:,'v18q1'].isna())"
      ],
      "metadata": {
        "colab": {
          "base_uri": "https://localhost:8080/"
        },
        "id": "PX4JLCM7a5RO",
        "outputId": "e70a53c6-6858-41e1-e888-4f4e5a858d3a"
      },
      "execution_count": null,
      "outputs": [
        {
          "output_type": "execute_result",
          "data": {
            "text/plain": [
              "v18q\n",
              "0       True\n",
              "dtype: bool"
            ]
          },
          "metadata": {},
          "execution_count": 9
        }
      ]
    },
    {
      "cell_type": "markdown",
      "source": [
        "We examined whether the missing values in *Years behind in school* are kind of associated with *having education level* or not. Out of 7928 missing values, 1183 belong to individuals who don't have education level, while 6745 belong to individuals who do have education level. The information maybe useful for us to decide whether to fill or remove the nulls."
      ],
      "metadata": {
        "id": "8ztRfkNhcZQ1"
      }
    },
    {
      "cell_type": "code",
      "source": [
        "df_train.loc[(df_train.loc[:,'rez_esc'].isna()),['instlevel1']].value_counts()"
      ],
      "metadata": {
        "colab": {
          "base_uri": "https://localhost:8080/"
        },
        "id": "cE5-gnZkcAfK",
        "outputId": "05a26966-b706-488a-c74e-2390c8b943a3"
      },
      "execution_count": null,
      "outputs": [
        {
          "output_type": "execute_result",
          "data": {
            "text/plain": [
              "instlevel1\n",
              "0             6745\n",
              "1             1183\n",
              "dtype: int64"
            ]
          },
          "metadata": {},
          "execution_count": 10
        }
      ]
    },
    {
      "cell_type": "markdown",
      "source": [
        "### Data Check III - All members have the same poverty class"
      ],
      "metadata": {
        "id": "7lga8ukwHIdo"
      }
    },
    {
      "cell_type": "code",
      "source": [
        "check3 = df_train.copy()\n",
        "hh_poverty = check3.groupby('idhogar')['Target'].apply(lambda x: x.mode()[0]).reset_index()\n",
        "\n",
        "# Merge the household poverty class back to the original DataFrame\n",
        "df_train_merged = pd.merge(check3, hh_poverty, on='idhogar', suffixes=('', '_new'))\n",
        "\n",
        "# Check if there are any households where members have different poverty class\n",
        "diff_class = df_train_merged.loc[df_train_merged['Target'] != df_train_merged['Target_new'], :]\n",
        "num_diff_hh = diff_class['idhogar'].nunique()\n",
        "\n",
        "print(f\"There are {num_diff_hh} households where members have different poverty class assignment.\")"
      ],
      "metadata": {
        "colab": {
          "base_uri": "https://localhost:8080/"
        },
        "id": "203bx0tbHN2b",
        "outputId": "7d3352a4-393b-4c63-9cc9-d9db1a585e3a"
      },
      "execution_count": null,
      "outputs": [
        {
          "output_type": "stream",
          "name": "stdout",
          "text": [
            "There are 85 households where members have different poverty class assignment.\n"
          ]
        }
      ]
    },
    {
      "cell_type": "markdown",
      "source": [
        "### Describe Data"
      ],
      "metadata": {
        "id": "9Xb1FUkq1aw1"
      }
    },
    {
      "cell_type": "code",
      "source": [
        "##descriptive statistics for numerical features\n",
        "numeric_columns = df_train.select_dtypes(include=np.number)\n",
        "numeric_columns.describe(include = 'all').round(decimals = 2)"
      ],
      "metadata": {
        "colab": {
          "base_uri": "https://localhost:8080/",
          "height": 330
        },
        "id": "pTpmkr5fMG3l",
        "outputId": "cee542a1-ab1f-4eb5-d1c7-765bfa662879"
      },
      "execution_count": null,
      "outputs": [
        {
          "output_type": "execute_result",
          "data": {
            "text/plain": [
              "             v2a1   hacdor    rooms   hacapo     v14a   refrig     v18q  \\\n",
              "count     2697.00  9557.00  9557.00  9557.00  9557.00  9557.00  9557.00   \n",
              "mean    165231.61     0.04     4.96     0.02     0.99     0.96     0.23   \n",
              "std     150457.13     0.19     1.47     0.15     0.07     0.20     0.42   \n",
              "min          0.00     0.00     1.00     0.00     0.00     0.00     0.00   \n",
              "25%      80000.00     0.00     4.00     0.00     1.00     1.00     0.00   \n",
              "50%     130000.00     0.00     5.00     0.00     1.00     1.00     0.00   \n",
              "75%     200000.00     0.00     6.00     0.00     1.00     1.00     0.00   \n",
              "max    2353477.00     1.00    11.00     1.00     1.00     1.00     1.00   \n",
              "\n",
              "         v18q1     r4h1     r4h2  ...  SQBescolari   SQBage  SQBhogar_total  \\\n",
              "count  2215.00  9557.00  9557.00  ...      9557.00  9557.00         9557.00   \n",
              "mean      1.40     0.39     1.56  ...        74.22  1643.77           19.13   \n",
              "std       0.76     0.68     1.04  ...        76.78  1741.20           18.75   \n",
              "min       1.00     0.00     0.00  ...         0.00     0.00            1.00   \n",
              "25%       1.00     0.00     1.00  ...        16.00   289.00            9.00   \n",
              "50%       1.00     0.00     1.00  ...        36.00   961.00           16.00   \n",
              "75%       2.00     1.00     2.00  ...       121.00  2601.00           25.00   \n",
              "max       6.00     5.00     8.00  ...       441.00  9409.00          169.00   \n",
              "\n",
              "       SQBedjefe  SQBhogar_nin  SQBovercrowding  SQBdependency  SQBmeaned  \\\n",
              "count    9557.00       9557.00          9557.00        9557.00    9552.00   \n",
              "mean       53.50          3.84             3.25           3.90     102.59   \n",
              "std        78.45          6.95             4.13          12.51      93.52   \n",
              "min         0.00          0.00             0.04           0.00       0.00   \n",
              "25%         0.00          0.00             1.00           0.11      36.00   \n",
              "50%        36.00          1.00             2.25           0.44      81.00   \n",
              "75%        81.00          4.00             4.00           1.78     134.56   \n",
              "max       441.00         81.00            36.00          64.00    1369.00   \n",
              "\n",
              "         agesq   Target  \n",
              "count  9557.00  9557.00  \n",
              "mean   1643.77     3.30  \n",
              "std    1741.20     1.01  \n",
              "min       0.00     1.00  \n",
              "25%     289.00     3.00  \n",
              "50%     961.00     4.00  \n",
              "75%    2601.00     4.00  \n",
              "max    9409.00     4.00  \n",
              "\n",
              "[8 rows x 138 columns]"
            ],
            "text/html": [
              "\n",
              "  <div id=\"df-61c87f7c-70ca-40a3-933e-2a0e7a0041e0\">\n",
              "    <div class=\"colab-df-container\">\n",
              "      <div>\n",
              "<style scoped>\n",
              "    .dataframe tbody tr th:only-of-type {\n",
              "        vertical-align: middle;\n",
              "    }\n",
              "\n",
              "    .dataframe tbody tr th {\n",
              "        vertical-align: top;\n",
              "    }\n",
              "\n",
              "    .dataframe thead th {\n",
              "        text-align: right;\n",
              "    }\n",
              "</style>\n",
              "<table border=\"1\" class=\"dataframe\">\n",
              "  <thead>\n",
              "    <tr style=\"text-align: right;\">\n",
              "      <th></th>\n",
              "      <th>v2a1</th>\n",
              "      <th>hacdor</th>\n",
              "      <th>rooms</th>\n",
              "      <th>hacapo</th>\n",
              "      <th>v14a</th>\n",
              "      <th>refrig</th>\n",
              "      <th>v18q</th>\n",
              "      <th>v18q1</th>\n",
              "      <th>r4h1</th>\n",
              "      <th>r4h2</th>\n",
              "      <th>...</th>\n",
              "      <th>SQBescolari</th>\n",
              "      <th>SQBage</th>\n",
              "      <th>SQBhogar_total</th>\n",
              "      <th>SQBedjefe</th>\n",
              "      <th>SQBhogar_nin</th>\n",
              "      <th>SQBovercrowding</th>\n",
              "      <th>SQBdependency</th>\n",
              "      <th>SQBmeaned</th>\n",
              "      <th>agesq</th>\n",
              "      <th>Target</th>\n",
              "    </tr>\n",
              "  </thead>\n",
              "  <tbody>\n",
              "    <tr>\n",
              "      <th>count</th>\n",
              "      <td>2697.00</td>\n",
              "      <td>9557.00</td>\n",
              "      <td>9557.00</td>\n",
              "      <td>9557.00</td>\n",
              "      <td>9557.00</td>\n",
              "      <td>9557.00</td>\n",
              "      <td>9557.00</td>\n",
              "      <td>2215.00</td>\n",
              "      <td>9557.00</td>\n",
              "      <td>9557.00</td>\n",
              "      <td>...</td>\n",
              "      <td>9557.00</td>\n",
              "      <td>9557.00</td>\n",
              "      <td>9557.00</td>\n",
              "      <td>9557.00</td>\n",
              "      <td>9557.00</td>\n",
              "      <td>9557.00</td>\n",
              "      <td>9557.00</td>\n",
              "      <td>9552.00</td>\n",
              "      <td>9557.00</td>\n",
              "      <td>9557.00</td>\n",
              "    </tr>\n",
              "    <tr>\n",
              "      <th>mean</th>\n",
              "      <td>165231.61</td>\n",
              "      <td>0.04</td>\n",
              "      <td>4.96</td>\n",
              "      <td>0.02</td>\n",
              "      <td>0.99</td>\n",
              "      <td>0.96</td>\n",
              "      <td>0.23</td>\n",
              "      <td>1.40</td>\n",
              "      <td>0.39</td>\n",
              "      <td>1.56</td>\n",
              "      <td>...</td>\n",
              "      <td>74.22</td>\n",
              "      <td>1643.77</td>\n",
              "      <td>19.13</td>\n",
              "      <td>53.50</td>\n",
              "      <td>3.84</td>\n",
              "      <td>3.25</td>\n",
              "      <td>3.90</td>\n",
              "      <td>102.59</td>\n",
              "      <td>1643.77</td>\n",
              "      <td>3.30</td>\n",
              "    </tr>\n",
              "    <tr>\n",
              "      <th>std</th>\n",
              "      <td>150457.13</td>\n",
              "      <td>0.19</td>\n",
              "      <td>1.47</td>\n",
              "      <td>0.15</td>\n",
              "      <td>0.07</td>\n",
              "      <td>0.20</td>\n",
              "      <td>0.42</td>\n",
              "      <td>0.76</td>\n",
              "      <td>0.68</td>\n",
              "      <td>1.04</td>\n",
              "      <td>...</td>\n",
              "      <td>76.78</td>\n",
              "      <td>1741.20</td>\n",
              "      <td>18.75</td>\n",
              "      <td>78.45</td>\n",
              "      <td>6.95</td>\n",
              "      <td>4.13</td>\n",
              "      <td>12.51</td>\n",
              "      <td>93.52</td>\n",
              "      <td>1741.20</td>\n",
              "      <td>1.01</td>\n",
              "    </tr>\n",
              "    <tr>\n",
              "      <th>min</th>\n",
              "      <td>0.00</td>\n",
              "      <td>0.00</td>\n",
              "      <td>1.00</td>\n",
              "      <td>0.00</td>\n",
              "      <td>0.00</td>\n",
              "      <td>0.00</td>\n",
              "      <td>0.00</td>\n",
              "      <td>1.00</td>\n",
              "      <td>0.00</td>\n",
              "      <td>0.00</td>\n",
              "      <td>...</td>\n",
              "      <td>0.00</td>\n",
              "      <td>0.00</td>\n",
              "      <td>1.00</td>\n",
              "      <td>0.00</td>\n",
              "      <td>0.00</td>\n",
              "      <td>0.04</td>\n",
              "      <td>0.00</td>\n",
              "      <td>0.00</td>\n",
              "      <td>0.00</td>\n",
              "      <td>1.00</td>\n",
              "    </tr>\n",
              "    <tr>\n",
              "      <th>25%</th>\n",
              "      <td>80000.00</td>\n",
              "      <td>0.00</td>\n",
              "      <td>4.00</td>\n",
              "      <td>0.00</td>\n",
              "      <td>1.00</td>\n",
              "      <td>1.00</td>\n",
              "      <td>0.00</td>\n",
              "      <td>1.00</td>\n",
              "      <td>0.00</td>\n",
              "      <td>1.00</td>\n",
              "      <td>...</td>\n",
              "      <td>16.00</td>\n",
              "      <td>289.00</td>\n",
              "      <td>9.00</td>\n",
              "      <td>0.00</td>\n",
              "      <td>0.00</td>\n",
              "      <td>1.00</td>\n",
              "      <td>0.11</td>\n",
              "      <td>36.00</td>\n",
              "      <td>289.00</td>\n",
              "      <td>3.00</td>\n",
              "    </tr>\n",
              "    <tr>\n",
              "      <th>50%</th>\n",
              "      <td>130000.00</td>\n",
              "      <td>0.00</td>\n",
              "      <td>5.00</td>\n",
              "      <td>0.00</td>\n",
              "      <td>1.00</td>\n",
              "      <td>1.00</td>\n",
              "      <td>0.00</td>\n",
              "      <td>1.00</td>\n",
              "      <td>0.00</td>\n",
              "      <td>1.00</td>\n",
              "      <td>...</td>\n",
              "      <td>36.00</td>\n",
              "      <td>961.00</td>\n",
              "      <td>16.00</td>\n",
              "      <td>36.00</td>\n",
              "      <td>1.00</td>\n",
              "      <td>2.25</td>\n",
              "      <td>0.44</td>\n",
              "      <td>81.00</td>\n",
              "      <td>961.00</td>\n",
              "      <td>4.00</td>\n",
              "    </tr>\n",
              "    <tr>\n",
              "      <th>75%</th>\n",
              "      <td>200000.00</td>\n",
              "      <td>0.00</td>\n",
              "      <td>6.00</td>\n",
              "      <td>0.00</td>\n",
              "      <td>1.00</td>\n",
              "      <td>1.00</td>\n",
              "      <td>0.00</td>\n",
              "      <td>2.00</td>\n",
              "      <td>1.00</td>\n",
              "      <td>2.00</td>\n",
              "      <td>...</td>\n",
              "      <td>121.00</td>\n",
              "      <td>2601.00</td>\n",
              "      <td>25.00</td>\n",
              "      <td>81.00</td>\n",
              "      <td>4.00</td>\n",
              "      <td>4.00</td>\n",
              "      <td>1.78</td>\n",
              "      <td>134.56</td>\n",
              "      <td>2601.00</td>\n",
              "      <td>4.00</td>\n",
              "    </tr>\n",
              "    <tr>\n",
              "      <th>max</th>\n",
              "      <td>2353477.00</td>\n",
              "      <td>1.00</td>\n",
              "      <td>11.00</td>\n",
              "      <td>1.00</td>\n",
              "      <td>1.00</td>\n",
              "      <td>1.00</td>\n",
              "      <td>1.00</td>\n",
              "      <td>6.00</td>\n",
              "      <td>5.00</td>\n",
              "      <td>8.00</td>\n",
              "      <td>...</td>\n",
              "      <td>441.00</td>\n",
              "      <td>9409.00</td>\n",
              "      <td>169.00</td>\n",
              "      <td>441.00</td>\n",
              "      <td>81.00</td>\n",
              "      <td>36.00</td>\n",
              "      <td>64.00</td>\n",
              "      <td>1369.00</td>\n",
              "      <td>9409.00</td>\n",
              "      <td>4.00</td>\n",
              "    </tr>\n",
              "  </tbody>\n",
              "</table>\n",
              "<p>8 rows × 138 columns</p>\n",
              "</div>\n",
              "      <button class=\"colab-df-convert\" onclick=\"convertToInteractive('df-61c87f7c-70ca-40a3-933e-2a0e7a0041e0')\"\n",
              "              title=\"Convert this dataframe to an interactive table.\"\n",
              "              style=\"display:none;\">\n",
              "        \n",
              "  <svg xmlns=\"http://www.w3.org/2000/svg\" height=\"24px\"viewBox=\"0 0 24 24\"\n",
              "       width=\"24px\">\n",
              "    <path d=\"M0 0h24v24H0V0z\" fill=\"none\"/>\n",
              "    <path d=\"M18.56 5.44l.94 2.06.94-2.06 2.06-.94-2.06-.94-.94-2.06-.94 2.06-2.06.94zm-11 1L8.5 8.5l.94-2.06 2.06-.94-2.06-.94L8.5 2.5l-.94 2.06-2.06.94zm10 10l.94 2.06.94-2.06 2.06-.94-2.06-.94-.94-2.06-.94 2.06-2.06.94z\"/><path d=\"M17.41 7.96l-1.37-1.37c-.4-.4-.92-.59-1.43-.59-.52 0-1.04.2-1.43.59L10.3 9.45l-7.72 7.72c-.78.78-.78 2.05 0 2.83L4 21.41c.39.39.9.59 1.41.59.51 0 1.02-.2 1.41-.59l7.78-7.78 2.81-2.81c.8-.78.8-2.07 0-2.86zM5.41 20L4 18.59l7.72-7.72 1.47 1.35L5.41 20z\"/>\n",
              "  </svg>\n",
              "      </button>\n",
              "      \n",
              "  <style>\n",
              "    .colab-df-container {\n",
              "      display:flex;\n",
              "      flex-wrap:wrap;\n",
              "      gap: 12px;\n",
              "    }\n",
              "\n",
              "    .colab-df-convert {\n",
              "      background-color: #E8F0FE;\n",
              "      border: none;\n",
              "      border-radius: 50%;\n",
              "      cursor: pointer;\n",
              "      display: none;\n",
              "      fill: #1967D2;\n",
              "      height: 32px;\n",
              "      padding: 0 0 0 0;\n",
              "      width: 32px;\n",
              "    }\n",
              "\n",
              "    .colab-df-convert:hover {\n",
              "      background-color: #E2EBFA;\n",
              "      box-shadow: 0px 1px 2px rgba(60, 64, 67, 0.3), 0px 1px 3px 1px rgba(60, 64, 67, 0.15);\n",
              "      fill: #174EA6;\n",
              "    }\n",
              "\n",
              "    [theme=dark] .colab-df-convert {\n",
              "      background-color: #3B4455;\n",
              "      fill: #D2E3FC;\n",
              "    }\n",
              "\n",
              "    [theme=dark] .colab-df-convert:hover {\n",
              "      background-color: #434B5C;\n",
              "      box-shadow: 0px 1px 3px 1px rgba(0, 0, 0, 0.15);\n",
              "      filter: drop-shadow(0px 1px 2px rgba(0, 0, 0, 0.3));\n",
              "      fill: #FFFFFF;\n",
              "    }\n",
              "  </style>\n",
              "\n",
              "      <script>\n",
              "        const buttonEl =\n",
              "          document.querySelector('#df-61c87f7c-70ca-40a3-933e-2a0e7a0041e0 button.colab-df-convert');\n",
              "        buttonEl.style.display =\n",
              "          google.colab.kernel.accessAllowed ? 'block' : 'none';\n",
              "\n",
              "        async function convertToInteractive(key) {\n",
              "          const element = document.querySelector('#df-61c87f7c-70ca-40a3-933e-2a0e7a0041e0');\n",
              "          const dataTable =\n",
              "            await google.colab.kernel.invokeFunction('convertToInteractive',\n",
              "                                                     [key], {});\n",
              "          if (!dataTable) return;\n",
              "\n",
              "          const docLinkHtml = 'Like what you see? Visit the ' +\n",
              "            '<a target=\"_blank\" href=https://colab.research.google.com/notebooks/data_table.ipynb>data table notebook</a>'\n",
              "            + ' to learn more about interactive tables.';\n",
              "          element.innerHTML = '';\n",
              "          dataTable['output_type'] = 'display_data';\n",
              "          await google.colab.output.renderOutput(dataTable, element);\n",
              "          const docLink = document.createElement('div');\n",
              "          docLink.innerHTML = docLinkHtml;\n",
              "          element.appendChild(docLink);\n",
              "        }\n",
              "      </script>\n",
              "    </div>\n",
              "  </div>\n",
              "  "
            ]
          },
          "metadata": {},
          "execution_count": 12
        }
      ]
    },
    {
      "cell_type": "code",
      "source": [
        "#descriptive statistics for categorical features\n",
        "categorical_columns = df_train.select_dtypes(exclude='number')\n",
        "categorical_columns.describe(include='all')"
      ],
      "metadata": {
        "colab": {
          "base_uri": "https://localhost:8080/",
          "height": 175
        },
        "id": "TWhYfI59PSyQ",
        "outputId": "5faf8e35-be5a-483d-9a1b-0ab2283d516d"
      },
      "execution_count": null,
      "outputs": [
        {
          "output_type": "execute_result",
          "data": {
            "text/plain": [
              "                  Id    idhogar dependency edjefe edjefa\n",
              "count           9557       9557       9557   9557   9557\n",
              "unique          9557       2988         31     22     22\n",
              "top     ID_279628684  fd8a6d014        yes     no     no\n",
              "freq               1         13       2192   3762   6230"
            ],
            "text/html": [
              "\n",
              "  <div id=\"df-40558343-d916-49bf-85c5-ac5180d870e2\">\n",
              "    <div class=\"colab-df-container\">\n",
              "      <div>\n",
              "<style scoped>\n",
              "    .dataframe tbody tr th:only-of-type {\n",
              "        vertical-align: middle;\n",
              "    }\n",
              "\n",
              "    .dataframe tbody tr th {\n",
              "        vertical-align: top;\n",
              "    }\n",
              "\n",
              "    .dataframe thead th {\n",
              "        text-align: right;\n",
              "    }\n",
              "</style>\n",
              "<table border=\"1\" class=\"dataframe\">\n",
              "  <thead>\n",
              "    <tr style=\"text-align: right;\">\n",
              "      <th></th>\n",
              "      <th>Id</th>\n",
              "      <th>idhogar</th>\n",
              "      <th>dependency</th>\n",
              "      <th>edjefe</th>\n",
              "      <th>edjefa</th>\n",
              "    </tr>\n",
              "  </thead>\n",
              "  <tbody>\n",
              "    <tr>\n",
              "      <th>count</th>\n",
              "      <td>9557</td>\n",
              "      <td>9557</td>\n",
              "      <td>9557</td>\n",
              "      <td>9557</td>\n",
              "      <td>9557</td>\n",
              "    </tr>\n",
              "    <tr>\n",
              "      <th>unique</th>\n",
              "      <td>9557</td>\n",
              "      <td>2988</td>\n",
              "      <td>31</td>\n",
              "      <td>22</td>\n",
              "      <td>22</td>\n",
              "    </tr>\n",
              "    <tr>\n",
              "      <th>top</th>\n",
              "      <td>ID_279628684</td>\n",
              "      <td>fd8a6d014</td>\n",
              "      <td>yes</td>\n",
              "      <td>no</td>\n",
              "      <td>no</td>\n",
              "    </tr>\n",
              "    <tr>\n",
              "      <th>freq</th>\n",
              "      <td>1</td>\n",
              "      <td>13</td>\n",
              "      <td>2192</td>\n",
              "      <td>3762</td>\n",
              "      <td>6230</td>\n",
              "    </tr>\n",
              "  </tbody>\n",
              "</table>\n",
              "</div>\n",
              "      <button class=\"colab-df-convert\" onclick=\"convertToInteractive('df-40558343-d916-49bf-85c5-ac5180d870e2')\"\n",
              "              title=\"Convert this dataframe to an interactive table.\"\n",
              "              style=\"display:none;\">\n",
              "        \n",
              "  <svg xmlns=\"http://www.w3.org/2000/svg\" height=\"24px\"viewBox=\"0 0 24 24\"\n",
              "       width=\"24px\">\n",
              "    <path d=\"M0 0h24v24H0V0z\" fill=\"none\"/>\n",
              "    <path d=\"M18.56 5.44l.94 2.06.94-2.06 2.06-.94-2.06-.94-.94-2.06-.94 2.06-2.06.94zm-11 1L8.5 8.5l.94-2.06 2.06-.94-2.06-.94L8.5 2.5l-.94 2.06-2.06.94zm10 10l.94 2.06.94-2.06 2.06-.94-2.06-.94-.94-2.06-.94 2.06-2.06.94z\"/><path d=\"M17.41 7.96l-1.37-1.37c-.4-.4-.92-.59-1.43-.59-.52 0-1.04.2-1.43.59L10.3 9.45l-7.72 7.72c-.78.78-.78 2.05 0 2.83L4 21.41c.39.39.9.59 1.41.59.51 0 1.02-.2 1.41-.59l7.78-7.78 2.81-2.81c.8-.78.8-2.07 0-2.86zM5.41 20L4 18.59l7.72-7.72 1.47 1.35L5.41 20z\"/>\n",
              "  </svg>\n",
              "      </button>\n",
              "      \n",
              "  <style>\n",
              "    .colab-df-container {\n",
              "      display:flex;\n",
              "      flex-wrap:wrap;\n",
              "      gap: 12px;\n",
              "    }\n",
              "\n",
              "    .colab-df-convert {\n",
              "      background-color: #E8F0FE;\n",
              "      border: none;\n",
              "      border-radius: 50%;\n",
              "      cursor: pointer;\n",
              "      display: none;\n",
              "      fill: #1967D2;\n",
              "      height: 32px;\n",
              "      padding: 0 0 0 0;\n",
              "      width: 32px;\n",
              "    }\n",
              "\n",
              "    .colab-df-convert:hover {\n",
              "      background-color: #E2EBFA;\n",
              "      box-shadow: 0px 1px 2px rgba(60, 64, 67, 0.3), 0px 1px 3px 1px rgba(60, 64, 67, 0.15);\n",
              "      fill: #174EA6;\n",
              "    }\n",
              "\n",
              "    [theme=dark] .colab-df-convert {\n",
              "      background-color: #3B4455;\n",
              "      fill: #D2E3FC;\n",
              "    }\n",
              "\n",
              "    [theme=dark] .colab-df-convert:hover {\n",
              "      background-color: #434B5C;\n",
              "      box-shadow: 0px 1px 3px 1px rgba(0, 0, 0, 0.15);\n",
              "      filter: drop-shadow(0px 1px 2px rgba(0, 0, 0, 0.3));\n",
              "      fill: #FFFFFF;\n",
              "    }\n",
              "  </style>\n",
              "\n",
              "      <script>\n",
              "        const buttonEl =\n",
              "          document.querySelector('#df-40558343-d916-49bf-85c5-ac5180d870e2 button.colab-df-convert');\n",
              "        buttonEl.style.display =\n",
              "          google.colab.kernel.accessAllowed ? 'block' : 'none';\n",
              "\n",
              "        async function convertToInteractive(key) {\n",
              "          const element = document.querySelector('#df-40558343-d916-49bf-85c5-ac5180d870e2');\n",
              "          const dataTable =\n",
              "            await google.colab.kernel.invokeFunction('convertToInteractive',\n",
              "                                                     [key], {});\n",
              "          if (!dataTable) return;\n",
              "\n",
              "          const docLinkHtml = 'Like what you see? Visit the ' +\n",
              "            '<a target=\"_blank\" href=https://colab.research.google.com/notebooks/data_table.ipynb>data table notebook</a>'\n",
              "            + ' to learn more about interactive tables.';\n",
              "          element.innerHTML = '';\n",
              "          dataTable['output_type'] = 'display_data';\n",
              "          await google.colab.output.renderOutput(dataTable, element);\n",
              "          const docLink = document.createElement('div');\n",
              "          docLink.innerHTML = docLinkHtml;\n",
              "          element.appendChild(docLink);\n",
              "        }\n",
              "      </script>\n",
              "    </div>\n",
              "  </div>\n",
              "  "
            ]
          },
          "metadata": {},
          "execution_count": 13
        }
      ]
    },
    {
      "cell_type": "markdown",
      "source": [
        "### Examining the proportion of Targets\n",
        "\n",
        "Based on our literature review,\n",
        "\n",
        "Target 1 (Extreme Poverty) averaged 7.2% in the 2010 - 2014 period\n",
        "\n",
        "Overall Poverty hovered at around 24% in the same period.\n",
        "> Target 2 = Overall Poverty - Extreme Poverty\n",
        "\n",
        "Target 2 should account for around 16.8% of Costa Rican population\n",
        "\n",
        "Target 3 represents roughly 47%\n",
        "\n",
        "Target 4 represents roughly 29%\n",
        "\n",
        "However, the Kaggle dataset produces the following:"
      ],
      "metadata": {
        "id": "t5Q6UspV_pYP"
      }
    },
    {
      "cell_type": "code",
      "source": [
        "check2 = df_train.copy()\n",
        "\n",
        "# group the data by target and count the households\n",
        "grouped_df = check2.groupby('Target')['idhogar'].nunique().reset_index()\n",
        "grouped_df.columns = ['Target', 'count of households']\n",
        "\n",
        "# calculate proportion of households for each target category\n",
        "total_households = grouped_df['count of households'].sum()\n",
        "grouped_df['proportion'] = grouped_df['count of households'] / total_households\n",
        "\n",
        "# plot the bar chart using plotly\n",
        "fig = px.bar(grouped_df, x='Target', y='proportion', text='proportion',\n",
        "             title='Proportion of households, by target')\n",
        "fig.update_traces(texttemplate='%{text:.2%}', textposition='outside')\n",
        "fig.update_layout(xaxis=dict(\n",
        "        tickmode='linear',\n",
        "        tick0=1,\n",
        "        dtick=1\n",
        "    ))\n",
        "fig.show()"
      ],
      "metadata": {
        "colab": {
          "base_uri": "https://localhost:8080/",
          "height": 542
        },
        "id": "0PbmiccDrVqz",
        "outputId": "fbba91e0-2921-4cff-f6eb-2955e01c7c8e"
      },
      "execution_count": null,
      "outputs": [
        {
          "output_type": "display_data",
          "data": {
            "text/html": [
              "<html>\n",
              "<head><meta charset=\"utf-8\" /></head>\n",
              "<body>\n",
              "    <div>            <script src=\"https://cdnjs.cloudflare.com/ajax/libs/mathjax/2.7.5/MathJax.js?config=TeX-AMS-MML_SVG\"></script><script type=\"text/javascript\">if (window.MathJax && window.MathJax.Hub && window.MathJax.Hub.Config) {window.MathJax.Hub.Config({SVG: {font: \"STIX-Web\"}});}</script>                <script type=\"text/javascript\">window.PlotlyConfig = {MathJaxConfig: 'local'};</script>\n",
              "        <script src=\"https://cdn.plot.ly/plotly-2.18.2.min.js\"></script>                <div id=\"bac88614-4ee3-4327-8c2a-cb3ffa6a9464\" class=\"plotly-graph-div\" style=\"height:525px; width:100%;\"></div>            <script type=\"text/javascript\">                                    window.PLOTLYENV=window.PLOTLYENV || {};                                    if (document.getElementById(\"bac88614-4ee3-4327-8c2a-cb3ffa6a9464\")) {                    Plotly.newPlot(                        \"bac88614-4ee3-4327-8c2a-cb3ffa6a9464\",                        [{\"alignmentgroup\":\"True\",\"hovertemplate\":\"Target=%{x}<br>proportion=%{text}<extra></extra>\",\"legendgroup\":\"\",\"marker\":{\"color\":\"#636efa\",\"pattern\":{\"shape\":\"\"}},\"name\":\"\",\"offsetgroup\":\"\",\"orientation\":\"v\",\"showlegend\":false,\"text\":[0.07872478854912167,0.15842550422901758,0.1258945998698764,0.6369551073519844],\"textposition\":\"outside\",\"x\":[1,2,3,4],\"xaxis\":\"x\",\"y\":[0.07872478854912167,0.15842550422901758,0.1258945998698764,0.6369551073519844],\"yaxis\":\"y\",\"type\":\"bar\",\"texttemplate\":\"%{text:.2%}\"}],                        {\"template\":{\"data\":{\"histogram2dcontour\":[{\"type\":\"histogram2dcontour\",\"colorbar\":{\"outlinewidth\":0,\"ticks\":\"\"},\"colorscale\":[[0.0,\"#0d0887\"],[0.1111111111111111,\"#46039f\"],[0.2222222222222222,\"#7201a8\"],[0.3333333333333333,\"#9c179e\"],[0.4444444444444444,\"#bd3786\"],[0.5555555555555556,\"#d8576b\"],[0.6666666666666666,\"#ed7953\"],[0.7777777777777778,\"#fb9f3a\"],[0.8888888888888888,\"#fdca26\"],[1.0,\"#f0f921\"]]}],\"choropleth\":[{\"type\":\"choropleth\",\"colorbar\":{\"outlinewidth\":0,\"ticks\":\"\"}}],\"histogram2d\":[{\"type\":\"histogram2d\",\"colorbar\":{\"outlinewidth\":0,\"ticks\":\"\"},\"colorscale\":[[0.0,\"#0d0887\"],[0.1111111111111111,\"#46039f\"],[0.2222222222222222,\"#7201a8\"],[0.3333333333333333,\"#9c179e\"],[0.4444444444444444,\"#bd3786\"],[0.5555555555555556,\"#d8576b\"],[0.6666666666666666,\"#ed7953\"],[0.7777777777777778,\"#fb9f3a\"],[0.8888888888888888,\"#fdca26\"],[1.0,\"#f0f921\"]]}],\"heatmap\":[{\"type\":\"heatmap\",\"colorbar\":{\"outlinewidth\":0,\"ticks\":\"\"},\"colorscale\":[[0.0,\"#0d0887\"],[0.1111111111111111,\"#46039f\"],[0.2222222222222222,\"#7201a8\"],[0.3333333333333333,\"#9c179e\"],[0.4444444444444444,\"#bd3786\"],[0.5555555555555556,\"#d8576b\"],[0.6666666666666666,\"#ed7953\"],[0.7777777777777778,\"#fb9f3a\"],[0.8888888888888888,\"#fdca26\"],[1.0,\"#f0f921\"]]}],\"heatmapgl\":[{\"type\":\"heatmapgl\",\"colorbar\":{\"outlinewidth\":0,\"ticks\":\"\"},\"colorscale\":[[0.0,\"#0d0887\"],[0.1111111111111111,\"#46039f\"],[0.2222222222222222,\"#7201a8\"],[0.3333333333333333,\"#9c179e\"],[0.4444444444444444,\"#bd3786\"],[0.5555555555555556,\"#d8576b\"],[0.6666666666666666,\"#ed7953\"],[0.7777777777777778,\"#fb9f3a\"],[0.8888888888888888,\"#fdca26\"],[1.0,\"#f0f921\"]]}],\"contourcarpet\":[{\"type\":\"contourcarpet\",\"colorbar\":{\"outlinewidth\":0,\"ticks\":\"\"}}],\"contour\":[{\"type\":\"contour\",\"colorbar\":{\"outlinewidth\":0,\"ticks\":\"\"},\"colorscale\":[[0.0,\"#0d0887\"],[0.1111111111111111,\"#46039f\"],[0.2222222222222222,\"#7201a8\"],[0.3333333333333333,\"#9c179e\"],[0.4444444444444444,\"#bd3786\"],[0.5555555555555556,\"#d8576b\"],[0.6666666666666666,\"#ed7953\"],[0.7777777777777778,\"#fb9f3a\"],[0.8888888888888888,\"#fdca26\"],[1.0,\"#f0f921\"]]}],\"surface\":[{\"type\":\"surface\",\"colorbar\":{\"outlinewidth\":0,\"ticks\":\"\"},\"colorscale\":[[0.0,\"#0d0887\"],[0.1111111111111111,\"#46039f\"],[0.2222222222222222,\"#7201a8\"],[0.3333333333333333,\"#9c179e\"],[0.4444444444444444,\"#bd3786\"],[0.5555555555555556,\"#d8576b\"],[0.6666666666666666,\"#ed7953\"],[0.7777777777777778,\"#fb9f3a\"],[0.8888888888888888,\"#fdca26\"],[1.0,\"#f0f921\"]]}],\"mesh3d\":[{\"type\":\"mesh3d\",\"colorbar\":{\"outlinewidth\":0,\"ticks\":\"\"}}],\"scatter\":[{\"fillpattern\":{\"fillmode\":\"overlay\",\"size\":10,\"solidity\":0.2},\"type\":\"scatter\"}],\"parcoords\":[{\"type\":\"parcoords\",\"line\":{\"colorbar\":{\"outlinewidth\":0,\"ticks\":\"\"}}}],\"scatterpolargl\":[{\"type\":\"scatterpolargl\",\"marker\":{\"colorbar\":{\"outlinewidth\":0,\"ticks\":\"\"}}}],\"bar\":[{\"error_x\":{\"color\":\"#2a3f5f\"},\"error_y\":{\"color\":\"#2a3f5f\"},\"marker\":{\"line\":{\"color\":\"#E5ECF6\",\"width\":0.5},\"pattern\":{\"fillmode\":\"overlay\",\"size\":10,\"solidity\":0.2}},\"type\":\"bar\"}],\"scattergeo\":[{\"type\":\"scattergeo\",\"marker\":{\"colorbar\":{\"outlinewidth\":0,\"ticks\":\"\"}}}],\"scatterpolar\":[{\"type\":\"scatterpolar\",\"marker\":{\"colorbar\":{\"outlinewidth\":0,\"ticks\":\"\"}}}],\"histogram\":[{\"marker\":{\"pattern\":{\"fillmode\":\"overlay\",\"size\":10,\"solidity\":0.2}},\"type\":\"histogram\"}],\"scattergl\":[{\"type\":\"scattergl\",\"marker\":{\"colorbar\":{\"outlinewidth\":0,\"ticks\":\"\"}}}],\"scatter3d\":[{\"type\":\"scatter3d\",\"line\":{\"colorbar\":{\"outlinewidth\":0,\"ticks\":\"\"}},\"marker\":{\"colorbar\":{\"outlinewidth\":0,\"ticks\":\"\"}}}],\"scattermapbox\":[{\"type\":\"scattermapbox\",\"marker\":{\"colorbar\":{\"outlinewidth\":0,\"ticks\":\"\"}}}],\"scatterternary\":[{\"type\":\"scatterternary\",\"marker\":{\"colorbar\":{\"outlinewidth\":0,\"ticks\":\"\"}}}],\"scattercarpet\":[{\"type\":\"scattercarpet\",\"marker\":{\"colorbar\":{\"outlinewidth\":0,\"ticks\":\"\"}}}],\"carpet\":[{\"aaxis\":{\"endlinecolor\":\"#2a3f5f\",\"gridcolor\":\"white\",\"linecolor\":\"white\",\"minorgridcolor\":\"white\",\"startlinecolor\":\"#2a3f5f\"},\"baxis\":{\"endlinecolor\":\"#2a3f5f\",\"gridcolor\":\"white\",\"linecolor\":\"white\",\"minorgridcolor\":\"white\",\"startlinecolor\":\"#2a3f5f\"},\"type\":\"carpet\"}],\"table\":[{\"cells\":{\"fill\":{\"color\":\"#EBF0F8\"},\"line\":{\"color\":\"white\"}},\"header\":{\"fill\":{\"color\":\"#C8D4E3\"},\"line\":{\"color\":\"white\"}},\"type\":\"table\"}],\"barpolar\":[{\"marker\":{\"line\":{\"color\":\"#E5ECF6\",\"width\":0.5},\"pattern\":{\"fillmode\":\"overlay\",\"size\":10,\"solidity\":0.2}},\"type\":\"barpolar\"}],\"pie\":[{\"automargin\":true,\"type\":\"pie\"}]},\"layout\":{\"autotypenumbers\":\"strict\",\"colorway\":[\"#636efa\",\"#EF553B\",\"#00cc96\",\"#ab63fa\",\"#FFA15A\",\"#19d3f3\",\"#FF6692\",\"#B6E880\",\"#FF97FF\",\"#FECB52\"],\"font\":{\"color\":\"#2a3f5f\"},\"hovermode\":\"closest\",\"hoverlabel\":{\"align\":\"left\"},\"paper_bgcolor\":\"white\",\"plot_bgcolor\":\"#E5ECF6\",\"polar\":{\"bgcolor\":\"#E5ECF6\",\"angularaxis\":{\"gridcolor\":\"white\",\"linecolor\":\"white\",\"ticks\":\"\"},\"radialaxis\":{\"gridcolor\":\"white\",\"linecolor\":\"white\",\"ticks\":\"\"}},\"ternary\":{\"bgcolor\":\"#E5ECF6\",\"aaxis\":{\"gridcolor\":\"white\",\"linecolor\":\"white\",\"ticks\":\"\"},\"baxis\":{\"gridcolor\":\"white\",\"linecolor\":\"white\",\"ticks\":\"\"},\"caxis\":{\"gridcolor\":\"white\",\"linecolor\":\"white\",\"ticks\":\"\"}},\"coloraxis\":{\"colorbar\":{\"outlinewidth\":0,\"ticks\":\"\"}},\"colorscale\":{\"sequential\":[[0.0,\"#0d0887\"],[0.1111111111111111,\"#46039f\"],[0.2222222222222222,\"#7201a8\"],[0.3333333333333333,\"#9c179e\"],[0.4444444444444444,\"#bd3786\"],[0.5555555555555556,\"#d8576b\"],[0.6666666666666666,\"#ed7953\"],[0.7777777777777778,\"#fb9f3a\"],[0.8888888888888888,\"#fdca26\"],[1.0,\"#f0f921\"]],\"sequentialminus\":[[0.0,\"#0d0887\"],[0.1111111111111111,\"#46039f\"],[0.2222222222222222,\"#7201a8\"],[0.3333333333333333,\"#9c179e\"],[0.4444444444444444,\"#bd3786\"],[0.5555555555555556,\"#d8576b\"],[0.6666666666666666,\"#ed7953\"],[0.7777777777777778,\"#fb9f3a\"],[0.8888888888888888,\"#fdca26\"],[1.0,\"#f0f921\"]],\"diverging\":[[0,\"#8e0152\"],[0.1,\"#c51b7d\"],[0.2,\"#de77ae\"],[0.3,\"#f1b6da\"],[0.4,\"#fde0ef\"],[0.5,\"#f7f7f7\"],[0.6,\"#e6f5d0\"],[0.7,\"#b8e186\"],[0.8,\"#7fbc41\"],[0.9,\"#4d9221\"],[1,\"#276419\"]]},\"xaxis\":{\"gridcolor\":\"white\",\"linecolor\":\"white\",\"ticks\":\"\",\"title\":{\"standoff\":15},\"zerolinecolor\":\"white\",\"automargin\":true,\"zerolinewidth\":2},\"yaxis\":{\"gridcolor\":\"white\",\"linecolor\":\"white\",\"ticks\":\"\",\"title\":{\"standoff\":15},\"zerolinecolor\":\"white\",\"automargin\":true,\"zerolinewidth\":2},\"scene\":{\"xaxis\":{\"backgroundcolor\":\"#E5ECF6\",\"gridcolor\":\"white\",\"linecolor\":\"white\",\"showbackground\":true,\"ticks\":\"\",\"zerolinecolor\":\"white\",\"gridwidth\":2},\"yaxis\":{\"backgroundcolor\":\"#E5ECF6\",\"gridcolor\":\"white\",\"linecolor\":\"white\",\"showbackground\":true,\"ticks\":\"\",\"zerolinecolor\":\"white\",\"gridwidth\":2},\"zaxis\":{\"backgroundcolor\":\"#E5ECF6\",\"gridcolor\":\"white\",\"linecolor\":\"white\",\"showbackground\":true,\"ticks\":\"\",\"zerolinecolor\":\"white\",\"gridwidth\":2}},\"shapedefaults\":{\"line\":{\"color\":\"#2a3f5f\"}},\"annotationdefaults\":{\"arrowcolor\":\"#2a3f5f\",\"arrowhead\":0,\"arrowwidth\":1},\"geo\":{\"bgcolor\":\"white\",\"landcolor\":\"#E5ECF6\",\"subunitcolor\":\"white\",\"showland\":true,\"showlakes\":true,\"lakecolor\":\"white\"},\"title\":{\"x\":0.05},\"mapbox\":{\"style\":\"light\"}}},\"xaxis\":{\"anchor\":\"y\",\"domain\":[0.0,1.0],\"title\":{\"text\":\"Target\"},\"tickmode\":\"linear\",\"tick0\":1,\"dtick\":1},\"yaxis\":{\"anchor\":\"x\",\"domain\":[0.0,1.0],\"title\":{\"text\":\"proportion\"}},\"legend\":{\"tracegroupgap\":0},\"title\":{\"text\":\"Proportion of households, by target\"},\"barmode\":\"relative\"},                        {\"responsive\": true}                    ).then(function(){\n",
              "                            \n",
              "var gd = document.getElementById('bac88614-4ee3-4327-8c2a-cb3ffa6a9464');\n",
              "var x = new MutationObserver(function (mutations, observer) {{\n",
              "        var display = window.getComputedStyle(gd).display;\n",
              "        if (!display || display === 'none') {{\n",
              "            console.log([gd, 'removed!']);\n",
              "            Plotly.purge(gd);\n",
              "            observer.disconnect();\n",
              "        }}\n",
              "}});\n",
              "\n",
              "// Listen for the removal of the full notebook cells\n",
              "var notebookContainer = gd.closest('#notebook-container');\n",
              "if (notebookContainer) {{\n",
              "    x.observe(notebookContainer, {childList: true});\n",
              "}}\n",
              "\n",
              "// Listen for the clearing of the current output cell\n",
              "var outputEl = gd.closest('.output');\n",
              "if (outputEl) {{\n",
              "    x.observe(outputEl, {childList: true});\n",
              "}}\n",
              "\n",
              "                        })                };                            </script>        </div>\n",
              "</body>\n",
              "</html>"
            ]
          },
          "metadata": {}
        }
      ]
    },
    {
      "cell_type": "markdown",
      "source": [
        "We have found that the training dataset does not mirror the proportions reported in Costa Rican offical statistics.\n",
        "\n",
        "> In Kaggle's training dataset, Target 3 is severely underrepresented (12.59% as opposed to 47%), while Target 4 is severely overrepresented (63.7% as opposed to 29%)"
      ],
      "metadata": {
        "id": "OngLGC297oEq"
      }
    },
    {
      "cell_type": "markdown",
      "source": [
        "![Poverty rate.png](data:image/png;base64,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)"
      ],
      "metadata": {
        "id": "CP3ddrwd-sEB"
      }
    },
    {
      "cell_type": "markdown",
      "source": [
        "Source: [1] Calculations using 2001 EHPM and 2014 ENAHO survey"
      ],
      "metadata": {
        "id": "OIhSywU1_zZ5"
      }
    },
    {
      "cell_type": "markdown",
      "source": [
        "Based on our literature review, it is reported that poverty rates vary significantly. Poverty rates were reported to be as high as 39% in the Brunca and 36% Chorotega regions, as compared to the 19% in the central region."
      ],
      "metadata": {
        "id": "9sz-LNqG80oT"
      }
    },
    {
      "cell_type": "code",
      "source": [
        "#By rural/ area categories\n",
        "# Group the data by the 'area1' column (urban)\n",
        "area1_target = df_train.groupby('area1')['Target']\n",
        "area1_target.describe(include = 'all').round(decimals = 3)\n",
        "area1_mean = area1_target.mean()\n",
        "\n",
        "#Group the data by the 'area2' column (rural)\n",
        "area2_target = df_train.groupby('area2')['Target']\n",
        "area2_target.describe(include = 'all').round(decimals = 3)\n",
        "\n",
        "area2_mean = area2_target.mean()\n",
        "\n",
        "#Compare the mean target values for 'area1' and 'area2'\n",
        "plt.bar(['urban', 'rural'], [area1_mean[1], area2_mean[1]])\n",
        "plt.xlabel('Area')\n",
        "plt.ylabel('Mean Target Value')\n",
        "plt.title('Mean Target Value by Area')\n",
        "plt.show()"
      ],
      "metadata": {
        "colab": {
          "base_uri": "https://localhost:8080/",
          "height": 472
        },
        "id": "-r8o35h0PK3O",
        "outputId": "54c170a4-472d-40f7-80bd-17fb1143c393"
      },
      "execution_count": null,
      "outputs": [
        {
          "output_type": "display_data",
          "data": {
            "text/plain": [
              "<Figure size 640x480 with 1 Axes>"
            ],
            "image/png": "[encoded data removed]"
          },
          "metadata": {}
        }
      ]
    },
    {
      "cell_type": "markdown",
      "source": [
        "## 4.) Organization of Data\n",
        "\n",
        "Each row in the Kaggle dataset represents an individual. However, the task is a multi-class classification problem framed at the level of households. To relate household and indivudal level variables, our group plans to structure a dataframe such that each row represents a house (identified by house id) and each column is a feature variable we consider to be significant for predicting the poverty level (i.e. classifying the y column).\n",
        "\n",
        "The column/feature variables will be constructed from the following:\n",
        " - existing variables from the original data frame that characterize the household level.\n",
        "  - ex: we may decide to include the variable \"area1\" from the original dataframe, which equals 1 if the house is located in an urban zone, and 0 otherwise. This should also compliment the variable \"area2\" (which indicates if the house is located in a rural area), so we would only need to include one and not the other in our new dataframe.  \n",
        " - a manipulation of household level variables that simplifies or combines multiple features given in the original data frame\n",
        "  - ex. transforming numerical varibales from the original dataframe into categorical variables or indicators varibales based on ranges in the new dataframe\n",
        "  - ex. we can perform calculations on multiple household level features from the original dataframe in order to draw new relationship features in the constructed data frame. (some specifics of this explained below in Yueyue's section)\n",
        " - An aggregation or manipulation of the individual level features given in the original dataframe; then, the feature/column variable in the new dataframe will represent characteristics of the individuals within that household\n",
        "  - ex. we can determine which individuals reside in which houses by mapping the individual ids to the household ids. If there are 4 adults living in a house, each with their own education level, and we wish to create a feature variable \"average_education\", we can determine a way to average, aggregate, take the max, etc. of all 4 individual education levels in order to relate it to a single measure that can represent the household. In this way, we are relating individual features from the original data frame into a constructed variable in the new dataframe which can represent the single row/household."
      ],
      "metadata": {
        "id": "PoT-CLL2sv1J"
      }
    },
    {
      "cell_type": "markdown",
      "source": [
        "### 5.) Feature Engineering and Categorization Plan"
      ],
      "metadata": {
        "id": "E7HePdM0917H"
      }
    },
    {
      "cell_type": "markdown",
      "source": [
        "The current dataset comprises 141 variables, with a significant portion of them exhibiting high levels of complementarity or explanatory power towards one another. This characteristic enables the features to be grouped into a smaller set of strong descriptive forms, which can facilitate more effective machine learning model training and interpretation of the results.\n",
        "\n"
      ],
      "metadata": {
        "id": "Nixkxx3N9iTg"
      }
    },
    {
      "cell_type": "markdown",
      "source": [
        "#### **Introduction**\n",
        "\n",
        "Poverty is multidimensional by nature. Households who are categorized as poor, often experience simultaneous and interrelated deprivations along several aspects of life, such as income, health, education, housing and access to basic services and amenities. These dimensions of deprivation are interconnected and mutually reinforcing - resulting in an emergent vicious cycle of poverty. For example, an individual that has poor health, might find it hard to achieve their desired educational outcomes, thus restricting job opportunities. This in turn exacerbates their health problems and perpetuates the vicious cycle of poverty.\n",
        "\n",
        "The Multidimensional Poverty Index (MPI) is a measure which captures the percentage of households that are deprived along 1 monetary dimension and 3 broad non-monetary dimensions:\n",
        "\n",
        "1.   Monetary Poverty - As is the case with Targets 1 and 2. Often defined using the food PLI and non-food PLI, derived using the Cost of Basic Needs approach.\n",
        "2.   Health - Child mortality, Nutrition, Life expectancy\n",
        "3.   Education - Years of schooling, School attendance\n",
        "4.   Standard of Living - Housing, Access to drinking water, sanitation, electricity\n",
        "\n",
        "And of late, some more developed countries have begun incorporating more dimensions (such as quality of work, safety, etc.) as part of the MPI.\n",
        "\n",
        "Monetary deprivation reflects the idea that households are unable to meet the basic need of sustanence, while non-monetary deprivations reflect the lived experiences of people under poverty. For example, a household that is squatting - could be living in a delipidated house, with little access to basic sanitation, electricity and at the same time is exposed to the elements.\n",
        "\n",
        "#### **Identifying Features**\n",
        "\n",
        "As these dimensions of poverty is often used in the literature surrounding poverty, our group aims to develop a machine learning model that can accurately classify households into poverty levels based on five major poverty indicators: food, housing, education, basic amenities, and hardship. To achieve this goal, we plan to group and categorize existing features and socioeconomic measures that correspond to these indicators.\n",
        "\n",
        "#### *Housing*\n",
        "\n",
        "Housing outcomes are grouped into three categories: overcrowding, rent-burden, and asset ownership.\n",
        "\n",
        "Overcrowding is a major indicator that can be derived from variables such as hacdor, roms, hacapo, r4t3, tamhog, tamviv, hhsize, bedrooms, overcrowding, and SQBovercrowding. By grouping these variables, we will be able to better analyze their impact on poverty classification.\n",
        "\n",
        "To further refine our model, we will introduce a new binary feature called rent-burdened. This feature is calculated by dividing the monthly rent payment (v2a1) by the estimated total income, which is determined by multiplying the common work days with the daily income below the poverty line.\n",
        ">For households with null values in the v2a1 column, we will check the variables tipoviv1 and tipoviv2 to determine whether they own and fully paid their house or are paying in installments. This additional feature will provide us with a more accurate picture of each household's financial situation.\n",
        "\n",
        "We will also perform feature engineering on asset ownership, which will be estimated by summing the known assets in the dataset for each household and then normalizing the assets to ensure proper classification. Assets available in the dataset include refrigerators, tablets, houses, computers, notebooks, and mobile phones. By examining the ownership of these assets, we can gain insight into each household's economic status.\n",
        "\n",
        "#### *Food*\n",
        "\n",
        "For food accessibility, we will use the feature energcocinar1 to determine whether a household has no main source of energy used for cooking (no kitchen). This feature will help us determine the level of food security in each household and its potential impact on poverty.\n",
        "\n",
        "#### *Education*\n",
        "\n",
        "Education-related features refer to escolari (years of schooling), rez_esc (years behind in school), edjefe (years of education of male head of household), edjefa (years of education of female head of household), meaneduc (average years of education for adults), and instlevel1 through instlevel9 (categorical features indicating education level).\n",
        "\n",
        "We will aggregate individual level features to the Household level representing the household educational outcome for that single feature. Educational features will allow us to analyze the impact of education on poverty classification.\n",
        "\n",
        "#### *Basic Amenities*\n",
        "\n",
        "Finally, we will consider basic amenities features, including binary variables for water provision (abastaguadentro, abastaguafuera, abastaguano), electricity (public, planpri, noelec, coopele), toilet (sanitario1 through 6), bathroom (v14a), and food (energcocinar1). By examining these basic amenities, we can gain insight into each household's living conditions and their potential impact on poverty.\n",
        "\n",
        "#### *Index Creation*\n",
        "\n",
        "Finally, we will first create the hardship index, which will be calculated using the features above: crowded housing (more than one person per room), education status, and dependency ratio. This new feature is a strong poverty indicators that will help us in the classification process.\n",
        "\n",
        "By carefully selecting and grouping these features, we believe that our machine learning model will be able to accurately classify households into poverty levels based on the five major poverty indicators. The combination of these features will provide a comprehensive picture of each household's economic status and help us develop effective strategies to address poverty.\n",
        "\n"
      ],
      "metadata": {
        "id": "Be4eG_Jc_m9N"
      }
    },
    {
      "cell_type": "markdown",
      "source": [
        "### Exploratory Analysis of More Variables"
      ],
      "metadata": {
        "id": "U4bVRso9ZR-2"
      }
    },
    {
      "cell_type": "markdown",
      "source": [
        "In this section we explore different features we were curious about, and whether they show a relationship with the target counts/outcomes."
      ],
      "metadata": {
        "id": "pstPvQa-qfPt"
      }
    },
    {
      "cell_type": "code",
      "source": [
        "#Histogram of target for houses made of zinc\n",
        "df_zinc = df_train.loc[(df_train.loc[:, \"techozinc\"] == 1) & (df_train.loc[:, \"paredzinc\"] == 1), \"Target\"].to_frame()\n",
        "plt.hist(df_zinc['Target'])\n",
        "plt.xlabel('Target Value')\n",
        "plt.xticks(np.arange(1,5,1))\n",
        "plt.ylabel('Count for Zinc Households')\n",
        "plt.title('Histogram of Target Variable for Houses Made of Zinc')\n",
        "plt.show()"
      ],
      "metadata": {
        "id": "CVVbm82BpuWh",
        "colab": {
          "base_uri": "https://localhost:8080/",
          "height": 472
        },
        "outputId": "96d3565f-788d-4e49-e11e-f8dc38daa961"
      },
      "execution_count": null,
      "outputs": [
        {
          "output_type": "display_data",
          "data": {
            "text/plain": [
              "<Figure size 640x480 with 1 Axes>"
            ],
            "image/png": "[encoded data removed]"
          },
          "metadata": {}
        }
      ]
    },
    {
      "cell_type": "code",
      "source": [
        "#Histogram of target for houses NOT made of zinc\n",
        "df_notzinc = df_train.loc[(df_train.loc[:, \"techozinc\"] == 0) & (df_train.loc[:, \"paredzinc\"] == 0), \"Target\"].to_frame()\n",
        "plt.hist(df_notzinc['Target'])\n",
        "plt.xlabel('Target Value')\n",
        "plt.xticks(np.arange(1,5,1))\n",
        "plt.ylabel('Count for non-Zinc Households')\n",
        "plt.title('Histogram of Target Variable for Houses NOT Made of Zinc')\n",
        "plt.show()"
      ],
      "metadata": {
        "colab": {
          "base_uri": "https://localhost:8080/",
          "height": 472
        },
        "id": "nWHNyXG1zQ5D",
        "outputId": "2747ae6c-f25b-4d93-e41f-09f6393d0b4b"
      },
      "execution_count": null,
      "outputs": [
        {
          "output_type": "display_data",
          "data": {
            "text/plain": [
              "<Figure size 640x480 with 1 Axes>"
            ],
            "image/png": "[encoded data removed]"
          },
          "metadata": {}
        }
      ]
    },
    {
      "cell_type": "code",
      "source": [
        "#Histogram of target for houses whose floor is made of natural materials\n",
        "df_natural_floor = df_train.loc[(df_train.loc[:, \"pisonatur\"] == 1), \"Target\"].to_frame()\n",
        "plt.hist(df_natural_floor['Target'])\n",
        "plt.xlabel('Target Value')\n",
        "plt.xticks(np.arange(1,3,1))\n",
        "plt.ylabel('Count for Natural Floor Households')\n",
        "plt.title('Histogram of Target Variable for Houses Which Have Natural Floors')\n",
        "plt.show()\n",
        "\n",
        "#notice that there are VERY few observations for this... probably will not include"
      ],
      "metadata": {
        "colab": {
          "base_uri": "https://localhost:8080/",
          "height": 472
        },
        "id": "Gcb5274o5Jd-",
        "outputId": "785c85aa-3fba-4847-fc6f-f3d0e8451296"
      },
      "execution_count": null,
      "outputs": [
        {
          "output_type": "display_data",
          "data": {
            "text/plain": [
              "<Figure size 640x480 with 1 Axes>"
            ],
            "image/png": "[encoded data removed]"
          },
          "metadata": {}
        }
      ]
    },
    {
      "cell_type": "code",
      "source": [
        "#Histogram of target for urban area houses\n",
        "df_urban = df_train.loc[(df_train.loc[:, \"area1\"] == 1), \"Target\"].to_frame()\n",
        "plt.hist(df_urban['Target'])\n",
        "plt.xlabel('Target Value')\n",
        "plt.xticks(np.arange(1,5,1))\n",
        "plt.ylabel('Count for Urban Households')\n",
        "plt.title('Histogram of Target Variable for Urban Houses')\n",
        "plt.show()"
      ],
      "metadata": {
        "colab": {
          "base_uri": "https://localhost:8080/",
          "height": 472
        },
        "id": "df7B6_EU54Tb",
        "outputId": "517f5722-27c0-4b2c-dc25-24a331923b93"
      },
      "execution_count": null,
      "outputs": [
        {
          "output_type": "display_data",
          "data": {
            "text/plain": [
              "<Figure size 640x480 with 1 Axes>"
            ],
            "image/png": "[encoded data removed]"
          },
          "metadata": {}
        }
      ]
    },
    {
      "cell_type": "code",
      "source": [
        "#Histogram of target for rural area houses\n",
        "df_rural = df_train.loc[(df_train.loc[:, \"area2\"] == 1), \"Target\"].to_frame()\n",
        "plt.hist(df_rural['Target'])\n",
        "plt.xlabel('Target Value')\n",
        "plt.xticks(np.arange(1,5,1))\n",
        "plt.ylabel('Count for Rural Households')\n",
        "plt.title('Histogram of Target Variable for Rural Houses')\n",
        "plt.show()"
      ],
      "metadata": {
        "colab": {
          "base_uri": "https://localhost:8080/",
          "height": 472
        },
        "id": "mnC16IQ86MWU",
        "outputId": "1d1072d0-6cf0-4629-a4ce-3691dbe76f8f"
      },
      "execution_count": null,
      "outputs": [
        {
          "output_type": "display_data",
          "data": {
            "text/plain": [
              "<Figure size 640x480 with 1 Axes>"
            ],
            "image/png": "[encoded data removed]"
          },
          "metadata": {}
        }
      ]
    },
    {
      "cell_type": "markdown",
      "source": [
        "## 6.) Reflections and Thoughts\n",
        "\n",
        "In the preceeding segments, we conducted a brief literature review and explored the Kaggle dataset to see if there were any apparent differences in the summary statistics. Here are our reflections and thoughts:\n",
        "\n",
        "### i.) Target 3 is underrepresented, while Target 4 is overrepresented relative to official statistics\n",
        "\n",
        "At the moment, our thoughts are to construct and apply probabilistic weights to the training dataset so that the training dataset better represents the population from which it is drawn. Probabilistic weighting can give greater weight to Target 3, while diminishing the weight of Target 4.\n",
        "\n",
        "### ii.) We are missing close to 1,000 observations for whether a household has a monthly rent, or is owned\n",
        "\n",
        "This could affect our predictions about the burden of rent on families/individuals (or, more generally, the cost of housing based on predicted income level). We could devise a method to impute rent owing to the differing effects of owning vs. renting on poverty and vulnerability, or we could assign a value of 0 if we are able to identify that the household is squatting.\n",
        "\n",
        "We will decide on how to address this in the coming weeks of the project.\n"
      ],
      "metadata": {
        "id": "6r0vD65UFU39"
      }
    }
  ]
}